{
 "cells": [
  {
   "cell_type": "markdown",
   "id": "7812688f",
   "metadata": {},
   "source": [
    "## Сервис аренды самокатов GoFast"
   ]
  },
  {
   "cell_type": "markdown",
   "id": "f8be42e4",
   "metadata": {},
   "source": [
    "В данном нам проекты мы выполним следущие шаги: загрузим данные, выполним предобработку, исследуем данные, посчитаем выручку и проверим гипотезы."
   ]
  },
  {
   "cell_type": "markdown",
   "id": "bbef9ea4",
   "metadata": {},
   "source": [
    "Основная цель проекта: проанализировать данные сервиса аренды самокатов GoFast и проверить некоторые гипотезы, которые могут помочь бизнесу вырасти.Чтобы совершать поездки по городу, пользователи сервиса GoFast пользуются мобильным приложением.Сервисом можно пользоваться:\n",
    "без подписки:\n",
    "\n",
    "абонентская плата отсутствует;стоимость одной минуты поездки — 8 рублей; стоимость старта (начала поездки) — 50 рублей;\n",
    "\n",
    "с подпиской Ultra:\n",
    "\n",
    "абонентская плата — 199 рублей в месяц;стоимость одной минуты поездки — 6 рублей;стоимость старта — бесплатно."
   ]
  },
  {
   "cell_type": "code",
   "execution_count": 1,
   "id": "72576667",
   "metadata": {},
   "outputs": [],
   "source": [
    "import pandas as pd\n",
    "import matplotlib.pyplot as plt\n",
    "import numpy as np\n",
    "from scipy import stats as st"
   ]
  },
  {
   "cell_type": "markdown",
   "id": "29c78ed8",
   "metadata": {},
   "source": [
    "Импортируем необходимые бибилотеки"
   ]
  },
  {
   "cell_type": "markdown",
   "id": "c42cbe00",
   "metadata": {},
   "source": [
    "#### Шаг 1. Загрузка данных"
   ]
  },
  {
   "cell_type": "code",
   "execution_count": 2,
   "id": "eff9f206",
   "metadata": {},
   "outputs": [
    {
     "data": {
      "text/html": [
       "<div>\n",
       "<style scoped>\n",
       "    .dataframe tbody tr th:only-of-type {\n",
       "        vertical-align: middle;\n",
       "    }\n",
       "\n",
       "    .dataframe tbody tr th {\n",
       "        vertical-align: top;\n",
       "    }\n",
       "\n",
       "    .dataframe thead th {\n",
       "        text-align: right;\n",
       "    }\n",
       "</style>\n",
       "<table border=\"1\" class=\"dataframe\">\n",
       "  <thead>\n",
       "    <tr style=\"text-align: right;\">\n",
       "      <th></th>\n",
       "      <th>user_id</th>\n",
       "      <th>name</th>\n",
       "      <th>age</th>\n",
       "      <th>city</th>\n",
       "      <th>subscription_type</th>\n",
       "    </tr>\n",
       "  </thead>\n",
       "  <tbody>\n",
       "    <tr>\n",
       "      <th>0</th>\n",
       "      <td>1</td>\n",
       "      <td>Кира</td>\n",
       "      <td>22</td>\n",
       "      <td>Тюмень</td>\n",
       "      <td>ultra</td>\n",
       "    </tr>\n",
       "    <tr>\n",
       "      <th>1</th>\n",
       "      <td>2</td>\n",
       "      <td>Станислав</td>\n",
       "      <td>31</td>\n",
       "      <td>Омск</td>\n",
       "      <td>ultra</td>\n",
       "    </tr>\n",
       "    <tr>\n",
       "      <th>2</th>\n",
       "      <td>3</td>\n",
       "      <td>Алексей</td>\n",
       "      <td>20</td>\n",
       "      <td>Москва</td>\n",
       "      <td>ultra</td>\n",
       "    </tr>\n",
       "    <tr>\n",
       "      <th>3</th>\n",
       "      <td>4</td>\n",
       "      <td>Константин</td>\n",
       "      <td>26</td>\n",
       "      <td>Ростов-на-Дону</td>\n",
       "      <td>ultra</td>\n",
       "    </tr>\n",
       "    <tr>\n",
       "      <th>4</th>\n",
       "      <td>5</td>\n",
       "      <td>Адель</td>\n",
       "      <td>28</td>\n",
       "      <td>Омск</td>\n",
       "      <td>ultra</td>\n",
       "    </tr>\n",
       "  </tbody>\n",
       "</table>\n",
       "</div>"
      ],
      "text/plain": [
       "   user_id        name  age            city subscription_type\n",
       "0        1        Кира   22          Тюмень             ultra\n",
       "1        2   Станислав   31            Омск             ultra\n",
       "2        3     Алексей   20          Москва             ultra\n",
       "3        4  Константин   26  Ростов-на-Дону             ultra\n",
       "4        5       Адель   28            Омск             ultra"
      ]
     },
     "metadata": {},
     "output_type": "display_data"
    },
    {
     "data": {
      "text/html": [
       "<div>\n",
       "<style scoped>\n",
       "    .dataframe tbody tr th:only-of-type {\n",
       "        vertical-align: middle;\n",
       "    }\n",
       "\n",
       "    .dataframe tbody tr th {\n",
       "        vertical-align: top;\n",
       "    }\n",
       "\n",
       "    .dataframe thead th {\n",
       "        text-align: right;\n",
       "    }\n",
       "</style>\n",
       "<table border=\"1\" class=\"dataframe\">\n",
       "  <thead>\n",
       "    <tr style=\"text-align: right;\">\n",
       "      <th></th>\n",
       "      <th>user_id</th>\n",
       "      <th>distance</th>\n",
       "      <th>duration</th>\n",
       "      <th>date</th>\n",
       "    </tr>\n",
       "  </thead>\n",
       "  <tbody>\n",
       "    <tr>\n",
       "      <th>0</th>\n",
       "      <td>1</td>\n",
       "      <td>4409.919140</td>\n",
       "      <td>25.599769</td>\n",
       "      <td>2021-01-01</td>\n",
       "    </tr>\n",
       "    <tr>\n",
       "      <th>1</th>\n",
       "      <td>1</td>\n",
       "      <td>2617.592153</td>\n",
       "      <td>15.816871</td>\n",
       "      <td>2021-01-18</td>\n",
       "    </tr>\n",
       "    <tr>\n",
       "      <th>2</th>\n",
       "      <td>1</td>\n",
       "      <td>754.159807</td>\n",
       "      <td>6.232113</td>\n",
       "      <td>2021-04-20</td>\n",
       "    </tr>\n",
       "    <tr>\n",
       "      <th>3</th>\n",
       "      <td>1</td>\n",
       "      <td>2694.783254</td>\n",
       "      <td>18.511000</td>\n",
       "      <td>2021-08-11</td>\n",
       "    </tr>\n",
       "    <tr>\n",
       "      <th>4</th>\n",
       "      <td>1</td>\n",
       "      <td>4028.687306</td>\n",
       "      <td>26.265803</td>\n",
       "      <td>2021-08-28</td>\n",
       "    </tr>\n",
       "  </tbody>\n",
       "</table>\n",
       "</div>"
      ],
      "text/plain": [
       "   user_id     distance   duration        date\n",
       "0        1  4409.919140  25.599769  2021-01-01\n",
       "1        1  2617.592153  15.816871  2021-01-18\n",
       "2        1   754.159807   6.232113  2021-04-20\n",
       "3        1  2694.783254  18.511000  2021-08-11\n",
       "4        1  4028.687306  26.265803  2021-08-28"
      ]
     },
     "metadata": {},
     "output_type": "display_data"
    },
    {
     "data": {
      "text/html": [
       "<div>\n",
       "<style scoped>\n",
       "    .dataframe tbody tr th:only-of-type {\n",
       "        vertical-align: middle;\n",
       "    }\n",
       "\n",
       "    .dataframe tbody tr th {\n",
       "        vertical-align: top;\n",
       "    }\n",
       "\n",
       "    .dataframe thead th {\n",
       "        text-align: right;\n",
       "    }\n",
       "</style>\n",
       "<table border=\"1\" class=\"dataframe\">\n",
       "  <thead>\n",
       "    <tr style=\"text-align: right;\">\n",
       "      <th></th>\n",
       "      <th>subscription_type</th>\n",
       "      <th>minute_price</th>\n",
       "      <th>start_ride_price</th>\n",
       "      <th>subscription_fee</th>\n",
       "    </tr>\n",
       "  </thead>\n",
       "  <tbody>\n",
       "    <tr>\n",
       "      <th>0</th>\n",
       "      <td>free</td>\n",
       "      <td>8</td>\n",
       "      <td>50</td>\n",
       "      <td>0</td>\n",
       "    </tr>\n",
       "    <tr>\n",
       "      <th>1</th>\n",
       "      <td>ultra</td>\n",
       "      <td>6</td>\n",
       "      <td>0</td>\n",
       "      <td>199</td>\n",
       "    </tr>\n",
       "  </tbody>\n",
       "</table>\n",
       "</div>"
      ],
      "text/plain": [
       "  subscription_type  minute_price  start_ride_price  subscription_fee\n",
       "0              free             8                50                 0\n",
       "1             ultra             6                 0               199"
      ]
     },
     "metadata": {},
     "output_type": "display_data"
    }
   ],
   "source": [
    "data_users = pd.read_csv('/datasets/users_go.csv')\n",
    "data_rides = pd.read_csv('/datasets/rides_go.csv')\n",
    "data_subs = pd.read_csv('/datasets/subscriptions_go.csv')\n",
    "display(data_users.head())\n",
    "display(data_rides.head())\n",
    "display(data_subs.head())"
   ]
  },
  {
   "cell_type": "code",
   "execution_count": 3,
   "id": "be98dcc7",
   "metadata": {
    "scrolled": true
   },
   "outputs": [
    {
     "name": "stdout",
     "output_type": "stream",
     "text": [
      "<class 'pandas.core.frame.DataFrame'>\n",
      "RangeIndex: 1565 entries, 0 to 1564\n",
      "Data columns (total 5 columns):\n",
      " #   Column             Non-Null Count  Dtype \n",
      "---  ------             --------------  ----- \n",
      " 0   user_id            1565 non-null   int64 \n",
      " 1   name               1565 non-null   object\n",
      " 2   age                1565 non-null   int64 \n",
      " 3   city               1565 non-null   object\n",
      " 4   subscription_type  1565 non-null   object\n",
      "dtypes: int64(2), object(3)\n",
      "memory usage: 61.3+ KB\n",
      "<class 'pandas.core.frame.DataFrame'>\n",
      "RangeIndex: 18068 entries, 0 to 18067\n",
      "Data columns (total 4 columns):\n",
      " #   Column    Non-Null Count  Dtype  \n",
      "---  ------    --------------  -----  \n",
      " 0   user_id   18068 non-null  int64  \n",
      " 1   distance  18068 non-null  float64\n",
      " 2   duration  18068 non-null  float64\n",
      " 3   date      18068 non-null  object \n",
      "dtypes: float64(2), int64(1), object(1)\n",
      "memory usage: 564.8+ KB\n",
      "<class 'pandas.core.frame.DataFrame'>\n",
      "RangeIndex: 2 entries, 0 to 1\n",
      "Data columns (total 4 columns):\n",
      " #   Column             Non-Null Count  Dtype \n",
      "---  ------             --------------  ----- \n",
      " 0   subscription_type  2 non-null      object\n",
      " 1   minute_price       2 non-null      int64 \n",
      " 2   start_ride_price   2 non-null      int64 \n",
      " 3   subscription_fee   2 non-null      int64 \n",
      "dtypes: int64(3), object(1)\n",
      "memory usage: 192.0+ bytes\n"
     ]
    }
   ],
   "source": [
    "data_users.info()\n",
    "data_rides.info()\n",
    "data_subs.info()"
   ]
  },
  {
   "cell_type": "markdown",
   "id": "d279952c",
   "metadata": {},
   "source": [
    "Получаем общую информацию о данных. Почти все данные имеют верный тип, однако, в датафрейме data_rides, в столбце date, данные имеют тип object, что в последствии мы исправим."
   ]
  },
  {
   "cell_type": "markdown",
   "id": "e95ebca7",
   "metadata": {},
   "source": [
    "#### Шаг 2. Предобработка данных"
   ]
  },
  {
   "cell_type": "code",
   "execution_count": 4,
   "id": "af6d202c",
   "metadata": {},
   "outputs": [
    {
     "data": {
      "text/html": [
       "<div>\n",
       "<style scoped>\n",
       "    .dataframe tbody tr th:only-of-type {\n",
       "        vertical-align: middle;\n",
       "    }\n",
       "\n",
       "    .dataframe tbody tr th {\n",
       "        vertical-align: top;\n",
       "    }\n",
       "\n",
       "    .dataframe thead th {\n",
       "        text-align: right;\n",
       "    }\n",
       "</style>\n",
       "<table border=\"1\" class=\"dataframe\">\n",
       "  <thead>\n",
       "    <tr style=\"text-align: right;\">\n",
       "      <th></th>\n",
       "      <th>user_id</th>\n",
       "      <th>distance</th>\n",
       "      <th>duration</th>\n",
       "      <th>date</th>\n",
       "      <th>month</th>\n",
       "    </tr>\n",
       "  </thead>\n",
       "  <tbody>\n",
       "    <tr>\n",
       "      <th>0</th>\n",
       "      <td>1</td>\n",
       "      <td>4409.919140</td>\n",
       "      <td>25.599769</td>\n",
       "      <td>2021-01-01</td>\n",
       "      <td>1</td>\n",
       "    </tr>\n",
       "    <tr>\n",
       "      <th>1</th>\n",
       "      <td>1</td>\n",
       "      <td>2617.592153</td>\n",
       "      <td>15.816871</td>\n",
       "      <td>2021-01-18</td>\n",
       "      <td>1</td>\n",
       "    </tr>\n",
       "    <tr>\n",
       "      <th>2</th>\n",
       "      <td>1</td>\n",
       "      <td>754.159807</td>\n",
       "      <td>6.232113</td>\n",
       "      <td>2021-04-20</td>\n",
       "      <td>4</td>\n",
       "    </tr>\n",
       "    <tr>\n",
       "      <th>3</th>\n",
       "      <td>1</td>\n",
       "      <td>2694.783254</td>\n",
       "      <td>18.511000</td>\n",
       "      <td>2021-08-11</td>\n",
       "      <td>8</td>\n",
       "    </tr>\n",
       "    <tr>\n",
       "      <th>4</th>\n",
       "      <td>1</td>\n",
       "      <td>4028.687306</td>\n",
       "      <td>26.265803</td>\n",
       "      <td>2021-08-28</td>\n",
       "      <td>8</td>\n",
       "    </tr>\n",
       "  </tbody>\n",
       "</table>\n",
       "</div>"
      ],
      "text/plain": [
       "   user_id     distance   duration       date  month\n",
       "0        1  4409.919140  25.599769 2021-01-01      1\n",
       "1        1  2617.592153  15.816871 2021-01-18      1\n",
       "2        1   754.159807   6.232113 2021-04-20      4\n",
       "3        1  2694.783254  18.511000 2021-08-11      8\n",
       "4        1  4028.687306  26.265803 2021-08-28      8"
      ]
     },
     "metadata": {},
     "output_type": "display_data"
    }
   ],
   "source": [
    "data_rides['date'] = pd.to_datetime(data_rides['date'], format='%Y-%m-%d')\n",
    "data_rides['month'] = data_rides['date'].dt.month\n",
    "display(data_rides.head())"
   ]
  },
  {
   "cell_type": "markdown",
   "id": "26f78d0c",
   "metadata": {},
   "source": [
    "Меняем тип данных в датафрейме data_rides, в столбце date с object на datetime. Создаем новый столбец с обозначением месяца."
   ]
  },
  {
   "cell_type": "code",
   "execution_count": 5,
   "id": "b468455d",
   "metadata": {},
   "outputs": [
    {
     "data": {
      "text/plain": [
       "0"
      ]
     },
     "execution_count": 5,
     "metadata": {},
     "output_type": "execute_result"
    }
   ],
   "source": [
    "data_rides.duplicated().sum()"
   ]
  },
  {
   "cell_type": "code",
   "execution_count": 6,
   "id": "959413f4",
   "metadata": {
    "scrolled": true
   },
   "outputs": [
    {
     "data": {
      "text/plain": [
       "31"
      ]
     },
     "execution_count": 6,
     "metadata": {},
     "output_type": "execute_result"
    }
   ],
   "source": [
    "data_users.duplicated().sum()"
   ]
  },
  {
   "cell_type": "code",
   "execution_count": 7,
   "id": "c93391f4",
   "metadata": {},
   "outputs": [
    {
     "data": {
      "text/plain": [
       "0"
      ]
     },
     "execution_count": 7,
     "metadata": {},
     "output_type": "execute_result"
    }
   ],
   "source": [
    "data_users = data_users.drop_duplicates()\n",
    "data_users.duplicated().sum()"
   ]
  },
  {
   "cell_type": "markdown",
   "id": "f8591f64",
   "metadata": {},
   "source": [
    "Удаляем выявленные дубликаты"
   ]
  },
  {
   "cell_type": "code",
   "execution_count": 8,
   "id": "7755cb26",
   "metadata": {},
   "outputs": [
    {
     "data": {
      "text/plain": [
       "0"
      ]
     },
     "execution_count": 8,
     "metadata": {},
     "output_type": "execute_result"
    }
   ],
   "source": [
    "data_subs.duplicated().sum()"
   ]
  },
  {
   "cell_type": "markdown",
   "id": "d6bc921f",
   "metadata": {},
   "source": [
    "Считаем количество дубликатов"
   ]
  },
  {
   "cell_type": "code",
   "execution_count": 9,
   "id": "e3a4274c",
   "metadata": {},
   "outputs": [
    {
     "data": {
      "text/plain": [
       "user_id     0\n",
       "distance    0\n",
       "duration    0\n",
       "date        0\n",
       "month       0\n",
       "dtype: int64"
      ]
     },
     "execution_count": 9,
     "metadata": {},
     "output_type": "execute_result"
    }
   ],
   "source": [
    "data_rides.isna().sum()"
   ]
  },
  {
   "cell_type": "code",
   "execution_count": 10,
   "id": "1471b2fd",
   "metadata": {},
   "outputs": [
    {
     "data": {
      "text/plain": [
       "user_id              0\n",
       "name                 0\n",
       "age                  0\n",
       "city                 0\n",
       "subscription_type    0\n",
       "dtype: int64"
      ]
     },
     "execution_count": 10,
     "metadata": {},
     "output_type": "execute_result"
    }
   ],
   "source": [
    "data_users.isna().sum()"
   ]
  },
  {
   "cell_type": "code",
   "execution_count": 11,
   "id": "a43cbb8f",
   "metadata": {},
   "outputs": [
    {
     "data": {
      "text/plain": [
       "subscription_type    0\n",
       "minute_price         0\n",
       "start_ride_price     0\n",
       "subscription_fee     0\n",
       "dtype: int64"
      ]
     },
     "execution_count": 11,
     "metadata": {},
     "output_type": "execute_result"
    }
   ],
   "source": [
    "data_subs.isna().sum()"
   ]
  },
  {
   "cell_type": "markdown",
   "id": "4691265d",
   "metadata": {},
   "source": [
    "На этапе предобработки дубликаты были выявлены только в датафрейме data_users, и были устранены. Пропусков в данных обнаружено не было."
   ]
  },
  {
   "cell_type": "markdown",
   "id": "212593c7",
   "metadata": {},
   "source": [
    "#### Шаг 3. Исследовательский анализ данных"
   ]
  },
  {
   "cell_type": "code",
   "execution_count": 12,
   "id": "8a9dd754",
   "metadata": {},
   "outputs": [
    {
     "data": {
      "image/png": "[encoded data removed]",
      "text/plain": [
       "<Figure size 720x576 with 1 Axes>"
      ]
     },
     "metadata": {
      "needs_background": "light"
     },
     "output_type": "display_data"
    }
   ],
   "source": [
    "(data_users\n",
    "    .pivot_table(index='city', values='user_id', aggfunc='count')\n",
    "    .sort_values(by='user_id', ascending=False)\n",
    "    .plot.bar(figsize=(10, 8), title='Частота встречаемости городов')\n",
    ")\n",
    "plt.xlabel('')\n",
    "plt.ylabel('Количество пользователей')\n",
    "plt.show()"
   ]
  },
  {
   "cell_type": "code",
   "execution_count": 13,
   "id": "56e58d33",
   "metadata": {},
   "outputs": [
    {
     "data": {
      "text/plain": [
       "Пятигорск         219\n",
       "Екатеринбург      204\n",
       "Ростов-на-Дону    198\n",
       "Краснодар         193\n",
       "Сочи              189\n",
       "Омск              183\n",
       "Тюмень            180\n",
       "Москва            168\n",
       "Name: city, dtype: int64"
      ]
     },
     "metadata": {},
     "output_type": "display_data"
    }
   ],
   "source": [
    "display(data_users['city'].value_counts().sort_values(ascending=False))"
   ]
  },
  {
   "cell_type": "markdown",
   "id": "e2a573cb",
   "metadata": {},
   "source": [
    "Больше всего клиентов сервиса аренды самокатов GoFast находится в Пятигорске, на втором месте Екатеринбург, на третьем - Ростов-на-Дону. Москва занимает наименьшую долю охвата."
   ]
  },
  {
   "cell_type": "code",
   "execution_count": 14,
   "id": "316c58da",
   "metadata": {},
   "outputs": [
    {
     "data": {
      "text/plain": [
       "<AxesSubplot:title={'center':'Соотношение пользователей с подпиской и без подписки'}>"
      ]
     },
     "execution_count": 14,
     "metadata": {},
     "output_type": "execute_result"
    },
    {
     "data": {
      "image/png": "[encoded data removed]",
      "text/plain": [
       "<Figure size 576x576 with 1 Axes>"
      ]
     },
     "metadata": {},
     "output_type": "display_data"
    }
   ],
   "source": [
    "(data_users\n",
    "    .pivot_table(index='subscription_type', values='user_id', aggfunc='count')\n",
    "    .plot.pie(y='user_id', figsize=(8, 8), label='', autopct='%1.1f%%', title='Соотношение пользователей с подпиской и без подписки')\n",
    ")"
   ]
  },
  {
   "cell_type": "markdown",
   "id": "74953e87",
   "metadata": {},
   "source": [
    "54,4 процента пользователей используют сервис без подписки."
   ]
  },
  {
   "cell_type": "code",
   "execution_count": 15,
   "id": "dd29f03e",
   "metadata": {
    "scrolled": true
   },
   "outputs": [
    {
     "data": {
      "text/plain": [
       "Text(0, 0.5, 'Количество пользователей')"
      ]
     },
     "execution_count": 15,
     "metadata": {},
     "output_type": "execute_result"
    },
    {
     "data": {
      "image/png": "[encoded data removed]",
      "text/plain": [
       "<Figure size 720x360 with 1 Axes>"
      ]
     },
     "metadata": {
      "needs_background": "light"
     },
     "output_type": "display_data"
    }
   ],
   "source": [
    "(data_users\n",
    "    .pivot_table(index='age', values='user_id', aggfunc='count')\n",
    "    .plot(grid=True, figsize=(10, 5), linewidth=3, title='Возраст пользователей')\n",
    ")\n",
    "plt.xlabel('Возраст')\n",
    "plt.ylabel('Количество пользователей')"
   ]
  },
  {
   "cell_type": "code",
   "execution_count": 16,
   "id": "2367f33c",
   "metadata": {},
   "outputs": [
    {
     "data": {
      "text/html": [
       "<div>\n",
       "<style scoped>\n",
       "    .dataframe tbody tr th:only-of-type {\n",
       "        vertical-align: middle;\n",
       "    }\n",
       "\n",
       "    .dataframe tbody tr th {\n",
       "        vertical-align: top;\n",
       "    }\n",
       "\n",
       "    .dataframe thead th {\n",
       "        text-align: right;\n",
       "    }\n",
       "</style>\n",
       "<table border=\"1\" class=\"dataframe\">\n",
       "  <thead>\n",
       "    <tr style=\"text-align: right;\">\n",
       "      <th></th>\n",
       "      <th>user_id</th>\n",
       "      <th>age</th>\n",
       "    </tr>\n",
       "  </thead>\n",
       "  <tbody>\n",
       "    <tr>\n",
       "      <th>count</th>\n",
       "      <td>1534.000000</td>\n",
       "      <td>1534.000000</td>\n",
       "    </tr>\n",
       "    <tr>\n",
       "      <th>mean</th>\n",
       "      <td>767.500000</td>\n",
       "      <td>24.903520</td>\n",
       "    </tr>\n",
       "    <tr>\n",
       "      <th>std</th>\n",
       "      <td>442.971971</td>\n",
       "      <td>4.572367</td>\n",
       "    </tr>\n",
       "    <tr>\n",
       "      <th>min</th>\n",
       "      <td>1.000000</td>\n",
       "      <td>12.000000</td>\n",
       "    </tr>\n",
       "    <tr>\n",
       "      <th>25%</th>\n",
       "      <td>384.250000</td>\n",
       "      <td>22.000000</td>\n",
       "    </tr>\n",
       "    <tr>\n",
       "      <th>50%</th>\n",
       "      <td>767.500000</td>\n",
       "      <td>25.000000</td>\n",
       "    </tr>\n",
       "    <tr>\n",
       "      <th>75%</th>\n",
       "      <td>1150.750000</td>\n",
       "      <td>28.000000</td>\n",
       "    </tr>\n",
       "    <tr>\n",
       "      <th>max</th>\n",
       "      <td>1534.000000</td>\n",
       "      <td>43.000000</td>\n",
       "    </tr>\n",
       "  </tbody>\n",
       "</table>\n",
       "</div>"
      ],
      "text/plain": [
       "           user_id          age\n",
       "count  1534.000000  1534.000000\n",
       "mean    767.500000    24.903520\n",
       "std     442.971971     4.572367\n",
       "min       1.000000    12.000000\n",
       "25%     384.250000    22.000000\n",
       "50%     767.500000    25.000000\n",
       "75%    1150.750000    28.000000\n",
       "max    1534.000000    43.000000"
      ]
     },
     "execution_count": 16,
     "metadata": {},
     "output_type": "execute_result"
    }
   ],
   "source": [
    "data_users.describe()"
   ]
  },
  {
   "cell_type": "markdown",
   "id": "a2237a25",
   "metadata": {},
   "source": [
    "Основная масса пользователей сервиса в возрасте от 22 до 28 лет. А самому молодому зарегистрированному клиенту - 12 лет!"
   ]
  },
  {
   "cell_type": "code",
   "execution_count": 17,
   "id": "e94a2cd9",
   "metadata": {
    "scrolled": true
   },
   "outputs": [
    {
     "data": {
      "text/plain": [
       "Text(0, 0.5, 'Количество пользователей')"
      ]
     },
     "execution_count": 17,
     "metadata": {},
     "output_type": "execute_result"
    },
    {
     "data": {
      "image/png": "[encoded data removed]",
      "text/plain": [
       "<Figure size 720x360 with 1 Axes>"
      ]
     },
     "metadata": {
      "needs_background": "light"
     },
     "output_type": "display_data"
    }
   ],
   "source": [
    "data_rides['distance'].hist(bins=30, figsize=(10, 5))\n",
    "plt.title('Расстояние, которое пользователь преодолел за одну поездку')\n",
    "plt.xlabel('Метры')\n",
    "plt.ylabel('Количество пользователей')"
   ]
  },
  {
   "cell_type": "markdown",
   "id": "7dd044f7",
   "metadata": {},
   "source": [
    "Большинство пользователей сервиса совершают поездки длиной 3000 метров. Также стоит отметить, что присутствует доля небольших поездок - до 1000 метров, этот всплеск отчетливо прослеживается на графике."
   ]
  },
  {
   "cell_type": "code",
   "execution_count": 18,
   "id": "dafeba03",
   "metadata": {
    "scrolled": true
   },
   "outputs": [
    {
     "data": {
      "text/plain": [
       "Text(0, 0.5, 'Количество пользователей')"
      ]
     },
     "execution_count": 18,
     "metadata": {},
     "output_type": "execute_result"
    },
    {
     "data": {
      "image/png": "[encoded data removed]",
      "text/plain": [
       "<Figure size 720x360 with 1 Axes>"
      ]
     },
     "metadata": {
      "needs_background": "light"
     },
     "output_type": "display_data"
    }
   ],
   "source": [
    "data_rides['duration'].hist(bins=30, figsize=(10, 5))\n",
    "plt.title('Продолжительность поездки')\n",
    "plt.xlabel('Минуты')\n",
    "plt.ylabel('Количество пользователей')"
   ]
  },
  {
   "cell_type": "markdown",
   "id": "03b1b8c5",
   "metadata": {},
   "source": [
    "Основное количество поездок длятся около 15-20 минут."
   ]
  },
  {
   "cell_type": "markdown",
   "id": "4ef51331",
   "metadata": {},
   "source": [
    "#### Шаг 4. Объединение данных"
   ]
  },
  {
   "cell_type": "code",
   "execution_count": 19,
   "id": "6bf288b5",
   "metadata": {
    "scrolled": true
   },
   "outputs": [
    {
     "data": {
      "text/html": [
       "<div>\n",
       "<style scoped>\n",
       "    .dataframe tbody tr th:only-of-type {\n",
       "        vertical-align: middle;\n",
       "    }\n",
       "\n",
       "    .dataframe tbody tr th {\n",
       "        vertical-align: top;\n",
       "    }\n",
       "\n",
       "    .dataframe thead th {\n",
       "        text-align: right;\n",
       "    }\n",
       "</style>\n",
       "<table border=\"1\" class=\"dataframe\">\n",
       "  <thead>\n",
       "    <tr style=\"text-align: right;\">\n",
       "      <th></th>\n",
       "      <th>user_id</th>\n",
       "      <th>name</th>\n",
       "      <th>age</th>\n",
       "      <th>city</th>\n",
       "      <th>subscription_type</th>\n",
       "      <th>distance</th>\n",
       "      <th>duration</th>\n",
       "      <th>date</th>\n",
       "      <th>month</th>\n",
       "    </tr>\n",
       "  </thead>\n",
       "  <tbody>\n",
       "    <tr>\n",
       "      <th>0</th>\n",
       "      <td>1</td>\n",
       "      <td>Кира</td>\n",
       "      <td>22</td>\n",
       "      <td>Тюмень</td>\n",
       "      <td>ultra</td>\n",
       "      <td>4409.919140</td>\n",
       "      <td>25.599769</td>\n",
       "      <td>2021-01-01</td>\n",
       "      <td>1</td>\n",
       "    </tr>\n",
       "    <tr>\n",
       "      <th>1</th>\n",
       "      <td>1</td>\n",
       "      <td>Кира</td>\n",
       "      <td>22</td>\n",
       "      <td>Тюмень</td>\n",
       "      <td>ultra</td>\n",
       "      <td>2617.592153</td>\n",
       "      <td>15.816871</td>\n",
       "      <td>2021-01-18</td>\n",
       "      <td>1</td>\n",
       "    </tr>\n",
       "    <tr>\n",
       "      <th>2</th>\n",
       "      <td>1</td>\n",
       "      <td>Кира</td>\n",
       "      <td>22</td>\n",
       "      <td>Тюмень</td>\n",
       "      <td>ultra</td>\n",
       "      <td>754.159807</td>\n",
       "      <td>6.232113</td>\n",
       "      <td>2021-04-20</td>\n",
       "      <td>4</td>\n",
       "    </tr>\n",
       "    <tr>\n",
       "      <th>3</th>\n",
       "      <td>1</td>\n",
       "      <td>Кира</td>\n",
       "      <td>22</td>\n",
       "      <td>Тюмень</td>\n",
       "      <td>ultra</td>\n",
       "      <td>2694.783254</td>\n",
       "      <td>18.511000</td>\n",
       "      <td>2021-08-11</td>\n",
       "      <td>8</td>\n",
       "    </tr>\n",
       "    <tr>\n",
       "      <th>4</th>\n",
       "      <td>1</td>\n",
       "      <td>Кира</td>\n",
       "      <td>22</td>\n",
       "      <td>Тюмень</td>\n",
       "      <td>ultra</td>\n",
       "      <td>4028.687306</td>\n",
       "      <td>26.265803</td>\n",
       "      <td>2021-08-28</td>\n",
       "      <td>8</td>\n",
       "    </tr>\n",
       "    <tr>\n",
       "      <th>...</th>\n",
       "      <td>...</td>\n",
       "      <td>...</td>\n",
       "      <td>...</td>\n",
       "      <td>...</td>\n",
       "      <td>...</td>\n",
       "      <td>...</td>\n",
       "      <td>...</td>\n",
       "      <td>...</td>\n",
       "      <td>...</td>\n",
       "    </tr>\n",
       "    <tr>\n",
       "      <th>18063</th>\n",
       "      <td>1534</td>\n",
       "      <td>Альберт</td>\n",
       "      <td>25</td>\n",
       "      <td>Краснодар</td>\n",
       "      <td>free</td>\n",
       "      <td>3781.098080</td>\n",
       "      <td>19.822962</td>\n",
       "      <td>2021-11-04</td>\n",
       "      <td>11</td>\n",
       "    </tr>\n",
       "    <tr>\n",
       "      <th>18064</th>\n",
       "      <td>1534</td>\n",
       "      <td>Альберт</td>\n",
       "      <td>25</td>\n",
       "      <td>Краснодар</td>\n",
       "      <td>free</td>\n",
       "      <td>2840.423057</td>\n",
       "      <td>21.409799</td>\n",
       "      <td>2021-11-16</td>\n",
       "      <td>11</td>\n",
       "    </tr>\n",
       "    <tr>\n",
       "      <th>18065</th>\n",
       "      <td>1534</td>\n",
       "      <td>Альберт</td>\n",
       "      <td>25</td>\n",
       "      <td>Краснодар</td>\n",
       "      <td>free</td>\n",
       "      <td>3826.185507</td>\n",
       "      <td>18.435051</td>\n",
       "      <td>2021-11-18</td>\n",
       "      <td>11</td>\n",
       "    </tr>\n",
       "    <tr>\n",
       "      <th>18066</th>\n",
       "      <td>1534</td>\n",
       "      <td>Альберт</td>\n",
       "      <td>25</td>\n",
       "      <td>Краснодар</td>\n",
       "      <td>free</td>\n",
       "      <td>2902.308661</td>\n",
       "      <td>16.674362</td>\n",
       "      <td>2021-11-27</td>\n",
       "      <td>11</td>\n",
       "    </tr>\n",
       "    <tr>\n",
       "      <th>18067</th>\n",
       "      <td>1534</td>\n",
       "      <td>Альберт</td>\n",
       "      <td>25</td>\n",
       "      <td>Краснодар</td>\n",
       "      <td>free</td>\n",
       "      <td>2371.711192</td>\n",
       "      <td>15.893917</td>\n",
       "      <td>2021-12-29</td>\n",
       "      <td>12</td>\n",
       "    </tr>\n",
       "  </tbody>\n",
       "</table>\n",
       "<p>18068 rows × 9 columns</p>\n",
       "</div>"
      ],
      "text/plain": [
       "       user_id     name  age       city subscription_type     distance  \\\n",
       "0            1     Кира   22     Тюмень             ultra  4409.919140   \n",
       "1            1     Кира   22     Тюмень             ultra  2617.592153   \n",
       "2            1     Кира   22     Тюмень             ultra   754.159807   \n",
       "3            1     Кира   22     Тюмень             ultra  2694.783254   \n",
       "4            1     Кира   22     Тюмень             ultra  4028.687306   \n",
       "...        ...      ...  ...        ...               ...          ...   \n",
       "18063     1534  Альберт   25  Краснодар              free  3781.098080   \n",
       "18064     1534  Альберт   25  Краснодар              free  2840.423057   \n",
       "18065     1534  Альберт   25  Краснодар              free  3826.185507   \n",
       "18066     1534  Альберт   25  Краснодар              free  2902.308661   \n",
       "18067     1534  Альберт   25  Краснодар              free  2371.711192   \n",
       "\n",
       "        duration       date  month  \n",
       "0      25.599769 2021-01-01      1  \n",
       "1      15.816871 2021-01-18      1  \n",
       "2       6.232113 2021-04-20      4  \n",
       "3      18.511000 2021-08-11      8  \n",
       "4      26.265803 2021-08-28      8  \n",
       "...          ...        ...    ...  \n",
       "18063  19.822962 2021-11-04     11  \n",
       "18064  21.409799 2021-11-16     11  \n",
       "18065  18.435051 2021-11-18     11  \n",
       "18066  16.674362 2021-11-27     11  \n",
       "18067  15.893917 2021-12-29     12  \n",
       "\n",
       "[18068 rows x 9 columns]"
      ]
     },
     "metadata": {},
     "output_type": "display_data"
    }
   ],
   "source": [
    "data_1 = data_users.merge(data_rides, on='user_id', how='inner')\n",
    "display(data_1)"
   ]
  },
  {
   "cell_type": "markdown",
   "id": "3dcbadb1",
   "metadata": {},
   "source": [
    "Объединяем данные о пользователях и их поездках."
   ]
  },
  {
   "cell_type": "code",
   "execution_count": 20,
   "id": "03056b50",
   "metadata": {
    "scrolled": true
   },
   "outputs": [
    {
     "data": {
      "text/html": [
       "<div>\n",
       "<style scoped>\n",
       "    .dataframe tbody tr th:only-of-type {\n",
       "        vertical-align: middle;\n",
       "    }\n",
       "\n",
       "    .dataframe tbody tr th {\n",
       "        vertical-align: top;\n",
       "    }\n",
       "\n",
       "    .dataframe thead th {\n",
       "        text-align: right;\n",
       "    }\n",
       "</style>\n",
       "<table border=\"1\" class=\"dataframe\">\n",
       "  <thead>\n",
       "    <tr style=\"text-align: right;\">\n",
       "      <th></th>\n",
       "      <th>user_id</th>\n",
       "      <th>name</th>\n",
       "      <th>age</th>\n",
       "      <th>city</th>\n",
       "      <th>subscription_type</th>\n",
       "      <th>distance</th>\n",
       "      <th>duration</th>\n",
       "      <th>date</th>\n",
       "      <th>month</th>\n",
       "      <th>minute_price</th>\n",
       "      <th>start_ride_price</th>\n",
       "      <th>subscription_fee</th>\n",
       "    </tr>\n",
       "  </thead>\n",
       "  <tbody>\n",
       "    <tr>\n",
       "      <th>0</th>\n",
       "      <td>1</td>\n",
       "      <td>Кира</td>\n",
       "      <td>22</td>\n",
       "      <td>Тюмень</td>\n",
       "      <td>ultra</td>\n",
       "      <td>4409.919140</td>\n",
       "      <td>25.599769</td>\n",
       "      <td>2021-01-01</td>\n",
       "      <td>1</td>\n",
       "      <td>6</td>\n",
       "      <td>0</td>\n",
       "      <td>199</td>\n",
       "    </tr>\n",
       "    <tr>\n",
       "      <th>1</th>\n",
       "      <td>1</td>\n",
       "      <td>Кира</td>\n",
       "      <td>22</td>\n",
       "      <td>Тюмень</td>\n",
       "      <td>ultra</td>\n",
       "      <td>2617.592153</td>\n",
       "      <td>15.816871</td>\n",
       "      <td>2021-01-18</td>\n",
       "      <td>1</td>\n",
       "      <td>6</td>\n",
       "      <td>0</td>\n",
       "      <td>199</td>\n",
       "    </tr>\n",
       "    <tr>\n",
       "      <th>2</th>\n",
       "      <td>1</td>\n",
       "      <td>Кира</td>\n",
       "      <td>22</td>\n",
       "      <td>Тюмень</td>\n",
       "      <td>ultra</td>\n",
       "      <td>754.159807</td>\n",
       "      <td>6.232113</td>\n",
       "      <td>2021-04-20</td>\n",
       "      <td>4</td>\n",
       "      <td>6</td>\n",
       "      <td>0</td>\n",
       "      <td>199</td>\n",
       "    </tr>\n",
       "    <tr>\n",
       "      <th>3</th>\n",
       "      <td>1</td>\n",
       "      <td>Кира</td>\n",
       "      <td>22</td>\n",
       "      <td>Тюмень</td>\n",
       "      <td>ultra</td>\n",
       "      <td>2694.783254</td>\n",
       "      <td>18.511000</td>\n",
       "      <td>2021-08-11</td>\n",
       "      <td>8</td>\n",
       "      <td>6</td>\n",
       "      <td>0</td>\n",
       "      <td>199</td>\n",
       "    </tr>\n",
       "    <tr>\n",
       "      <th>4</th>\n",
       "      <td>1</td>\n",
       "      <td>Кира</td>\n",
       "      <td>22</td>\n",
       "      <td>Тюмень</td>\n",
       "      <td>ultra</td>\n",
       "      <td>4028.687306</td>\n",
       "      <td>26.265803</td>\n",
       "      <td>2021-08-28</td>\n",
       "      <td>8</td>\n",
       "      <td>6</td>\n",
       "      <td>0</td>\n",
       "      <td>199</td>\n",
       "    </tr>\n",
       "    <tr>\n",
       "      <th>...</th>\n",
       "      <td>...</td>\n",
       "      <td>...</td>\n",
       "      <td>...</td>\n",
       "      <td>...</td>\n",
       "      <td>...</td>\n",
       "      <td>...</td>\n",
       "      <td>...</td>\n",
       "      <td>...</td>\n",
       "      <td>...</td>\n",
       "      <td>...</td>\n",
       "      <td>...</td>\n",
       "      <td>...</td>\n",
       "    </tr>\n",
       "    <tr>\n",
       "      <th>18063</th>\n",
       "      <td>1534</td>\n",
       "      <td>Альберт</td>\n",
       "      <td>25</td>\n",
       "      <td>Краснодар</td>\n",
       "      <td>free</td>\n",
       "      <td>3781.098080</td>\n",
       "      <td>19.822962</td>\n",
       "      <td>2021-11-04</td>\n",
       "      <td>11</td>\n",
       "      <td>8</td>\n",
       "      <td>50</td>\n",
       "      <td>0</td>\n",
       "    </tr>\n",
       "    <tr>\n",
       "      <th>18064</th>\n",
       "      <td>1534</td>\n",
       "      <td>Альберт</td>\n",
       "      <td>25</td>\n",
       "      <td>Краснодар</td>\n",
       "      <td>free</td>\n",
       "      <td>2840.423057</td>\n",
       "      <td>21.409799</td>\n",
       "      <td>2021-11-16</td>\n",
       "      <td>11</td>\n",
       "      <td>8</td>\n",
       "      <td>50</td>\n",
       "      <td>0</td>\n",
       "    </tr>\n",
       "    <tr>\n",
       "      <th>18065</th>\n",
       "      <td>1534</td>\n",
       "      <td>Альберт</td>\n",
       "      <td>25</td>\n",
       "      <td>Краснодар</td>\n",
       "      <td>free</td>\n",
       "      <td>3826.185507</td>\n",
       "      <td>18.435051</td>\n",
       "      <td>2021-11-18</td>\n",
       "      <td>11</td>\n",
       "      <td>8</td>\n",
       "      <td>50</td>\n",
       "      <td>0</td>\n",
       "    </tr>\n",
       "    <tr>\n",
       "      <th>18066</th>\n",
       "      <td>1534</td>\n",
       "      <td>Альберт</td>\n",
       "      <td>25</td>\n",
       "      <td>Краснодар</td>\n",
       "      <td>free</td>\n",
       "      <td>2902.308661</td>\n",
       "      <td>16.674362</td>\n",
       "      <td>2021-11-27</td>\n",
       "      <td>11</td>\n",
       "      <td>8</td>\n",
       "      <td>50</td>\n",
       "      <td>0</td>\n",
       "    </tr>\n",
       "    <tr>\n",
       "      <th>18067</th>\n",
       "      <td>1534</td>\n",
       "      <td>Альберт</td>\n",
       "      <td>25</td>\n",
       "      <td>Краснодар</td>\n",
       "      <td>free</td>\n",
       "      <td>2371.711192</td>\n",
       "      <td>15.893917</td>\n",
       "      <td>2021-12-29</td>\n",
       "      <td>12</td>\n",
       "      <td>8</td>\n",
       "      <td>50</td>\n",
       "      <td>0</td>\n",
       "    </tr>\n",
       "  </tbody>\n",
       "</table>\n",
       "<p>18068 rows × 12 columns</p>\n",
       "</div>"
      ],
      "text/plain": [
       "       user_id     name  age       city subscription_type     distance  \\\n",
       "0            1     Кира   22     Тюмень             ultra  4409.919140   \n",
       "1            1     Кира   22     Тюмень             ultra  2617.592153   \n",
       "2            1     Кира   22     Тюмень             ultra   754.159807   \n",
       "3            1     Кира   22     Тюмень             ultra  2694.783254   \n",
       "4            1     Кира   22     Тюмень             ultra  4028.687306   \n",
       "...        ...      ...  ...        ...               ...          ...   \n",
       "18063     1534  Альберт   25  Краснодар              free  3781.098080   \n",
       "18064     1534  Альберт   25  Краснодар              free  2840.423057   \n",
       "18065     1534  Альберт   25  Краснодар              free  3826.185507   \n",
       "18066     1534  Альберт   25  Краснодар              free  2902.308661   \n",
       "18067     1534  Альберт   25  Краснодар              free  2371.711192   \n",
       "\n",
       "        duration       date  month  minute_price  start_ride_price  \\\n",
       "0      25.599769 2021-01-01      1             6                 0   \n",
       "1      15.816871 2021-01-18      1             6                 0   \n",
       "2       6.232113 2021-04-20      4             6                 0   \n",
       "3      18.511000 2021-08-11      8             6                 0   \n",
       "4      26.265803 2021-08-28      8             6                 0   \n",
       "...          ...        ...    ...           ...               ...   \n",
       "18063  19.822962 2021-11-04     11             8                50   \n",
       "18064  21.409799 2021-11-16     11             8                50   \n",
       "18065  18.435051 2021-11-18     11             8                50   \n",
       "18066  16.674362 2021-11-27     11             8                50   \n",
       "18067  15.893917 2021-12-29     12             8                50   \n",
       "\n",
       "       subscription_fee  \n",
       "0                   199  \n",
       "1                   199  \n",
       "2                   199  \n",
       "3                   199  \n",
       "4                   199  \n",
       "...                 ...  \n",
       "18063                 0  \n",
       "18064                 0  \n",
       "18065                 0  \n",
       "18066                 0  \n",
       "18067                 0  \n",
       "\n",
       "[18068 rows x 12 columns]"
      ]
     },
     "metadata": {},
     "output_type": "display_data"
    }
   ],
   "source": [
    "data_full = data_1.merge(data_subs, on='subscription_type', how='inner')\n",
    "display(data_full)"
   ]
  },
  {
   "cell_type": "markdown",
   "id": "34bf891a",
   "metadata": {},
   "source": [
    "Добавляем данные о подписках "
   ]
  },
  {
   "cell_type": "code",
   "execution_count": 21,
   "id": "faf36dcc",
   "metadata": {},
   "outputs": [
    {
     "name": "stdout",
     "output_type": "stream",
     "text": [
      "<class 'pandas.core.frame.DataFrame'>\n",
      "Int64Index: 18068 entries, 0 to 18067\n",
      "Data columns (total 12 columns):\n",
      " #   Column             Non-Null Count  Dtype         \n",
      "---  ------             --------------  -----         \n",
      " 0   user_id            18068 non-null  int64         \n",
      " 1   name               18068 non-null  object        \n",
      " 2   age                18068 non-null  int64         \n",
      " 3   city               18068 non-null  object        \n",
      " 4   subscription_type  18068 non-null  object        \n",
      " 5   distance           18068 non-null  float64       \n",
      " 6   duration           18068 non-null  float64       \n",
      " 7   date               18068 non-null  datetime64[ns]\n",
      " 8   month              18068 non-null  int64         \n",
      " 9   minute_price       18068 non-null  int64         \n",
      " 10  start_ride_price   18068 non-null  int64         \n",
      " 11  subscription_fee   18068 non-null  int64         \n",
      "dtypes: datetime64[ns](1), float64(2), int64(6), object(3)\n",
      "memory usage: 1.8+ MB\n"
     ]
    }
   ],
   "source": [
    "data_full.info()"
   ]
  },
  {
   "cell_type": "code",
   "execution_count": 22,
   "id": "cce54112",
   "metadata": {},
   "outputs": [
    {
     "data": {
      "text/plain": [
       "user_id              0\n",
       "name                 0\n",
       "age                  0\n",
       "city                 0\n",
       "subscription_type    0\n",
       "distance             0\n",
       "duration             0\n",
       "date                 0\n",
       "month                0\n",
       "minute_price         0\n",
       "start_ride_price     0\n",
       "subscription_fee     0\n",
       "dtype: int64"
      ]
     },
     "execution_count": 22,
     "metadata": {},
     "output_type": "execute_result"
    }
   ],
   "source": [
    "data_full.isna().sum()"
   ]
  },
  {
   "cell_type": "markdown",
   "id": "9694cd35",
   "metadata": {},
   "source": [
    "На этом этапе было объединено несколько датафреймов: data_users, data_rides, data_subs, в один - data_full. Объединение прошло корректно, данные не были потеряны."
   ]
  },
  {
   "cell_type": "code",
   "execution_count": 23,
   "id": "e01e6d76",
   "metadata": {},
   "outputs": [],
   "source": [
    "data_subs_ultra = data_full.query('subscription_type == \"ultra\"')"
   ]
  },
  {
   "cell_type": "code",
   "execution_count": 24,
   "id": "0d3df05d",
   "metadata": {},
   "outputs": [
    {
     "data": {
      "text/html": [
       "<div>\n",
       "<style scoped>\n",
       "    .dataframe tbody tr th:only-of-type {\n",
       "        vertical-align: middle;\n",
       "    }\n",
       "\n",
       "    .dataframe tbody tr th {\n",
       "        vertical-align: top;\n",
       "    }\n",
       "\n",
       "    .dataframe thead th {\n",
       "        text-align: right;\n",
       "    }\n",
       "</style>\n",
       "<table border=\"1\" class=\"dataframe\">\n",
       "  <thead>\n",
       "    <tr style=\"text-align: right;\">\n",
       "      <th></th>\n",
       "      <th>user_id</th>\n",
       "      <th>name</th>\n",
       "      <th>age</th>\n",
       "      <th>city</th>\n",
       "      <th>subscription_type</th>\n",
       "      <th>distance</th>\n",
       "      <th>duration</th>\n",
       "      <th>date</th>\n",
       "      <th>month</th>\n",
       "      <th>minute_price</th>\n",
       "      <th>start_ride_price</th>\n",
       "      <th>subscription_fee</th>\n",
       "    </tr>\n",
       "  </thead>\n",
       "  <tbody>\n",
       "    <tr>\n",
       "      <th>0</th>\n",
       "      <td>1</td>\n",
       "      <td>Кира</td>\n",
       "      <td>22</td>\n",
       "      <td>Тюмень</td>\n",
       "      <td>ultra</td>\n",
       "      <td>4409.919140</td>\n",
       "      <td>25.599769</td>\n",
       "      <td>2021-01-01</td>\n",
       "      <td>1</td>\n",
       "      <td>6</td>\n",
       "      <td>0</td>\n",
       "      <td>199</td>\n",
       "    </tr>\n",
       "    <tr>\n",
       "      <th>1</th>\n",
       "      <td>1</td>\n",
       "      <td>Кира</td>\n",
       "      <td>22</td>\n",
       "      <td>Тюмень</td>\n",
       "      <td>ultra</td>\n",
       "      <td>2617.592153</td>\n",
       "      <td>15.816871</td>\n",
       "      <td>2021-01-18</td>\n",
       "      <td>1</td>\n",
       "      <td>6</td>\n",
       "      <td>0</td>\n",
       "      <td>199</td>\n",
       "    </tr>\n",
       "    <tr>\n",
       "      <th>2</th>\n",
       "      <td>1</td>\n",
       "      <td>Кира</td>\n",
       "      <td>22</td>\n",
       "      <td>Тюмень</td>\n",
       "      <td>ultra</td>\n",
       "      <td>754.159807</td>\n",
       "      <td>6.232113</td>\n",
       "      <td>2021-04-20</td>\n",
       "      <td>4</td>\n",
       "      <td>6</td>\n",
       "      <td>0</td>\n",
       "      <td>199</td>\n",
       "    </tr>\n",
       "    <tr>\n",
       "      <th>3</th>\n",
       "      <td>1</td>\n",
       "      <td>Кира</td>\n",
       "      <td>22</td>\n",
       "      <td>Тюмень</td>\n",
       "      <td>ultra</td>\n",
       "      <td>2694.783254</td>\n",
       "      <td>18.511000</td>\n",
       "      <td>2021-08-11</td>\n",
       "      <td>8</td>\n",
       "      <td>6</td>\n",
       "      <td>0</td>\n",
       "      <td>199</td>\n",
       "    </tr>\n",
       "    <tr>\n",
       "      <th>4</th>\n",
       "      <td>1</td>\n",
       "      <td>Кира</td>\n",
       "      <td>22</td>\n",
       "      <td>Тюмень</td>\n",
       "      <td>ultra</td>\n",
       "      <td>4028.687306</td>\n",
       "      <td>26.265803</td>\n",
       "      <td>2021-08-28</td>\n",
       "      <td>8</td>\n",
       "      <td>6</td>\n",
       "      <td>0</td>\n",
       "      <td>199</td>\n",
       "    </tr>\n",
       "  </tbody>\n",
       "</table>\n",
       "</div>"
      ],
      "text/plain": [
       "   user_id  name  age    city subscription_type     distance   duration  \\\n",
       "0        1  Кира   22  Тюмень             ultra  4409.919140  25.599769   \n",
       "1        1  Кира   22  Тюмень             ultra  2617.592153  15.816871   \n",
       "2        1  Кира   22  Тюмень             ultra   754.159807   6.232113   \n",
       "3        1  Кира   22  Тюмень             ultra  2694.783254  18.511000   \n",
       "4        1  Кира   22  Тюмень             ultra  4028.687306  26.265803   \n",
       "\n",
       "        date  month  minute_price  start_ride_price  subscription_fee  \n",
       "0 2021-01-01      1             6                 0               199  \n",
       "1 2021-01-18      1             6                 0               199  \n",
       "2 2021-04-20      4             6                 0               199  \n",
       "3 2021-08-11      8             6                 0               199  \n",
       "4 2021-08-28      8             6                 0               199  "
      ]
     },
     "metadata": {},
     "output_type": "display_data"
    }
   ],
   "source": [
    "display(data_subs_ultra.head())"
   ]
  },
  {
   "cell_type": "markdown",
   "id": "69c144c7",
   "metadata": {},
   "source": [
    "Создаем отдельный датафрейм, с данными клиентов с подпиской. Изучаем превые 5 строк."
   ]
  },
  {
   "cell_type": "code",
   "execution_count": 25,
   "id": "7ae5b1da",
   "metadata": {},
   "outputs": [],
   "source": [
    "data_subs_free = data_full.query('subscription_type == \"free\"')"
   ]
  },
  {
   "cell_type": "code",
   "execution_count": 26,
   "id": "d02fbd82",
   "metadata": {},
   "outputs": [
    {
     "data": {
      "text/html": [
       "<div>\n",
       "<style scoped>\n",
       "    .dataframe tbody tr th:only-of-type {\n",
       "        vertical-align: middle;\n",
       "    }\n",
       "\n",
       "    .dataframe tbody tr th {\n",
       "        vertical-align: top;\n",
       "    }\n",
       "\n",
       "    .dataframe thead th {\n",
       "        text-align: right;\n",
       "    }\n",
       "</style>\n",
       "<table border=\"1\" class=\"dataframe\">\n",
       "  <thead>\n",
       "    <tr style=\"text-align: right;\">\n",
       "      <th></th>\n",
       "      <th>user_id</th>\n",
       "      <th>name</th>\n",
       "      <th>age</th>\n",
       "      <th>city</th>\n",
       "      <th>subscription_type</th>\n",
       "      <th>distance</th>\n",
       "      <th>duration</th>\n",
       "      <th>date</th>\n",
       "      <th>month</th>\n",
       "      <th>minute_price</th>\n",
       "      <th>start_ride_price</th>\n",
       "      <th>subscription_fee</th>\n",
       "    </tr>\n",
       "  </thead>\n",
       "  <tbody>\n",
       "    <tr>\n",
       "      <th>6500</th>\n",
       "      <td>700</td>\n",
       "      <td>Айдар</td>\n",
       "      <td>22</td>\n",
       "      <td>Омск</td>\n",
       "      <td>free</td>\n",
       "      <td>2515.690719</td>\n",
       "      <td>14.944286</td>\n",
       "      <td>2021-01-02</td>\n",
       "      <td>1</td>\n",
       "      <td>8</td>\n",
       "      <td>50</td>\n",
       "      <td>0</td>\n",
       "    </tr>\n",
       "    <tr>\n",
       "      <th>6501</th>\n",
       "      <td>700</td>\n",
       "      <td>Айдар</td>\n",
       "      <td>22</td>\n",
       "      <td>Омск</td>\n",
       "      <td>free</td>\n",
       "      <td>846.932642</td>\n",
       "      <td>16.234663</td>\n",
       "      <td>2021-02-01</td>\n",
       "      <td>2</td>\n",
       "      <td>8</td>\n",
       "      <td>50</td>\n",
       "      <td>0</td>\n",
       "    </tr>\n",
       "    <tr>\n",
       "      <th>6502</th>\n",
       "      <td>700</td>\n",
       "      <td>Айдар</td>\n",
       "      <td>22</td>\n",
       "      <td>Омск</td>\n",
       "      <td>free</td>\n",
       "      <td>4004.434142</td>\n",
       "      <td>20.016628</td>\n",
       "      <td>2021-02-04</td>\n",
       "      <td>2</td>\n",
       "      <td>8</td>\n",
       "      <td>50</td>\n",
       "      <td>0</td>\n",
       "    </tr>\n",
       "    <tr>\n",
       "      <th>6503</th>\n",
       "      <td>700</td>\n",
       "      <td>Айдар</td>\n",
       "      <td>22</td>\n",
       "      <td>Омск</td>\n",
       "      <td>free</td>\n",
       "      <td>1205.911290</td>\n",
       "      <td>9.782872</td>\n",
       "      <td>2021-02-10</td>\n",
       "      <td>2</td>\n",
       "      <td>8</td>\n",
       "      <td>50</td>\n",
       "      <td>0</td>\n",
       "    </tr>\n",
       "    <tr>\n",
       "      <th>6504</th>\n",
       "      <td>700</td>\n",
       "      <td>Айдар</td>\n",
       "      <td>22</td>\n",
       "      <td>Омск</td>\n",
       "      <td>free</td>\n",
       "      <td>3047.379435</td>\n",
       "      <td>17.427673</td>\n",
       "      <td>2021-02-14</td>\n",
       "      <td>2</td>\n",
       "      <td>8</td>\n",
       "      <td>50</td>\n",
       "      <td>0</td>\n",
       "    </tr>\n",
       "  </tbody>\n",
       "</table>\n",
       "</div>"
      ],
      "text/plain": [
       "      user_id   name  age  city subscription_type     distance   duration  \\\n",
       "6500      700  Айдар   22  Омск              free  2515.690719  14.944286   \n",
       "6501      700  Айдар   22  Омск              free   846.932642  16.234663   \n",
       "6502      700  Айдар   22  Омск              free  4004.434142  20.016628   \n",
       "6503      700  Айдар   22  Омск              free  1205.911290   9.782872   \n",
       "6504      700  Айдар   22  Омск              free  3047.379435  17.427673   \n",
       "\n",
       "           date  month  minute_price  start_ride_price  subscription_fee  \n",
       "6500 2021-01-02      1             8                50                 0  \n",
       "6501 2021-02-01      2             8                50                 0  \n",
       "6502 2021-02-04      2             8                50                 0  \n",
       "6503 2021-02-10      2             8                50                 0  \n",
       "6504 2021-02-14      2             8                50                 0  "
      ]
     },
     "metadata": {},
     "output_type": "display_data"
    }
   ],
   "source": [
    "display(data_subs_free.head())"
   ]
  },
  {
   "cell_type": "markdown",
   "id": "8abf9965",
   "metadata": {},
   "source": [
    "А также без нее."
   ]
  },
  {
   "cell_type": "code",
   "execution_count": 27,
   "id": "5ab23430",
   "metadata": {},
   "outputs": [
    {
     "data": {
      "text/html": [
       "<div>\n",
       "<style scoped>\n",
       "    .dataframe tbody tr th:only-of-type {\n",
       "        vertical-align: middle;\n",
       "    }\n",
       "\n",
       "    .dataframe tbody tr th {\n",
       "        vertical-align: top;\n",
       "    }\n",
       "\n",
       "    .dataframe thead th {\n",
       "        text-align: right;\n",
       "    }\n",
       "</style>\n",
       "<table border=\"1\" class=\"dataframe\">\n",
       "  <thead>\n",
       "    <tr style=\"text-align: right;\">\n",
       "      <th></th>\n",
       "      <th>user_id</th>\n",
       "      <th>age</th>\n",
       "      <th>distance</th>\n",
       "      <th>duration</th>\n",
       "      <th>month</th>\n",
       "      <th>minute_price</th>\n",
       "      <th>start_ride_price</th>\n",
       "      <th>subscription_fee</th>\n",
       "    </tr>\n",
       "  </thead>\n",
       "  <tbody>\n",
       "    <tr>\n",
       "      <th>count</th>\n",
       "      <td>6500.000000</td>\n",
       "      <td>6500.000000</td>\n",
       "      <td>6500.000000</td>\n",
       "      <td>6500.000000</td>\n",
       "      <td>6500.000000</td>\n",
       "      <td>6500.0</td>\n",
       "      <td>6500.0</td>\n",
       "      <td>6500.0</td>\n",
       "    </tr>\n",
       "    <tr>\n",
       "      <th>mean</th>\n",
       "      <td>348.725385</td>\n",
       "      <td>24.892615</td>\n",
       "      <td>3115.445388</td>\n",
       "      <td>18.541985</td>\n",
       "      <td>6.422308</td>\n",
       "      <td>6.0</td>\n",
       "      <td>0.0</td>\n",
       "      <td>199.0</td>\n",
       "    </tr>\n",
       "    <tr>\n",
       "      <th>std</th>\n",
       "      <td>201.099339</td>\n",
       "      <td>4.757208</td>\n",
       "      <td>836.895330</td>\n",
       "      <td>5.572048</td>\n",
       "      <td>3.414616</td>\n",
       "      <td>0.0</td>\n",
       "      <td>0.0</td>\n",
       "      <td>0.0</td>\n",
       "    </tr>\n",
       "    <tr>\n",
       "      <th>min</th>\n",
       "      <td>1.000000</td>\n",
       "      <td>12.000000</td>\n",
       "      <td>244.210438</td>\n",
       "      <td>3.760353</td>\n",
       "      <td>1.000000</td>\n",
       "      <td>6.0</td>\n",
       "      <td>0.0</td>\n",
       "      <td>199.0</td>\n",
       "    </tr>\n",
       "    <tr>\n",
       "      <th>25%</th>\n",
       "      <td>175.000000</td>\n",
       "      <td>22.000000</td>\n",
       "      <td>2785.444017</td>\n",
       "      <td>14.524654</td>\n",
       "      <td>4.000000</td>\n",
       "      <td>6.0</td>\n",
       "      <td>0.0</td>\n",
       "      <td>199.0</td>\n",
       "    </tr>\n",
       "    <tr>\n",
       "      <th>50%</th>\n",
       "      <td>351.000000</td>\n",
       "      <td>25.000000</td>\n",
       "      <td>3148.637229</td>\n",
       "      <td>18.178153</td>\n",
       "      <td>6.000000</td>\n",
       "      <td>6.0</td>\n",
       "      <td>0.0</td>\n",
       "      <td>199.0</td>\n",
       "    </tr>\n",
       "    <tr>\n",
       "      <th>75%</th>\n",
       "      <td>525.000000</td>\n",
       "      <td>28.000000</td>\n",
       "      <td>3560.574425</td>\n",
       "      <td>21.884129</td>\n",
       "      <td>9.000000</td>\n",
       "      <td>6.0</td>\n",
       "      <td>0.0</td>\n",
       "      <td>199.0</td>\n",
       "    </tr>\n",
       "    <tr>\n",
       "      <th>max</th>\n",
       "      <td>699.000000</td>\n",
       "      <td>38.000000</td>\n",
       "      <td>5699.769662</td>\n",
       "      <td>40.823963</td>\n",
       "      <td>12.000000</td>\n",
       "      <td>6.0</td>\n",
       "      <td>0.0</td>\n",
       "      <td>199.0</td>\n",
       "    </tr>\n",
       "  </tbody>\n",
       "</table>\n",
       "</div>"
      ],
      "text/plain": [
       "           user_id          age     distance     duration        month  \\\n",
       "count  6500.000000  6500.000000  6500.000000  6500.000000  6500.000000   \n",
       "mean    348.725385    24.892615  3115.445388    18.541985     6.422308   \n",
       "std     201.099339     4.757208   836.895330     5.572048     3.414616   \n",
       "min       1.000000    12.000000   244.210438     3.760353     1.000000   \n",
       "25%     175.000000    22.000000  2785.444017    14.524654     4.000000   \n",
       "50%     351.000000    25.000000  3148.637229    18.178153     6.000000   \n",
       "75%     525.000000    28.000000  3560.574425    21.884129     9.000000   \n",
       "max     699.000000    38.000000  5699.769662    40.823963    12.000000   \n",
       "\n",
       "       minute_price  start_ride_price  subscription_fee  \n",
       "count        6500.0            6500.0            6500.0  \n",
       "mean            6.0               0.0             199.0  \n",
       "std             0.0               0.0               0.0  \n",
       "min             6.0               0.0             199.0  \n",
       "25%             6.0               0.0             199.0  \n",
       "50%             6.0               0.0             199.0  \n",
       "75%             6.0               0.0             199.0  \n",
       "max             6.0               0.0             199.0  "
      ]
     },
     "execution_count": 27,
     "metadata": {},
     "output_type": "execute_result"
    }
   ],
   "source": [
    "data_subs_ultra.describe()"
   ]
  },
  {
   "cell_type": "code",
   "execution_count": 28,
   "id": "da5ac614",
   "metadata": {},
   "outputs": [
    {
     "data": {
      "text/plain": [
       "Text(0, 0.5, 'Количество пользователей')"
      ]
     },
     "execution_count": 28,
     "metadata": {},
     "output_type": "execute_result"
    },
    {
     "data": {
      "image/png": "[encoded data removed]",
      "text/plain": [
       "<Figure size 720x360 with 1 Axes>"
      ]
     },
     "metadata": {
      "needs_background": "light"
     },
     "output_type": "display_data"
    }
   ],
   "source": [
    "data_subs_ultra['distance'].hist(bins=80, figsize=(10, 5))\n",
    "plt.title('Расстояние, которое пользователь с подпиской преодолел за одну поездку')\n",
    "plt.xlabel('Метры')\n",
    "plt.ylabel('Количество пользователей')"
   ]
  },
  {
   "cell_type": "markdown",
   "id": "1b0b82c9",
   "metadata": {},
   "source": [
    "С подпиской расстояние, преодолеваемое пользователем – 3000 метров."
   ]
  },
  {
   "cell_type": "code",
   "execution_count": 29,
   "id": "54d8e1ed",
   "metadata": {},
   "outputs": [
    {
     "data": {
      "text/html": [
       "<div>\n",
       "<style scoped>\n",
       "    .dataframe tbody tr th:only-of-type {\n",
       "        vertical-align: middle;\n",
       "    }\n",
       "\n",
       "    .dataframe tbody tr th {\n",
       "        vertical-align: top;\n",
       "    }\n",
       "\n",
       "    .dataframe thead th {\n",
       "        text-align: right;\n",
       "    }\n",
       "</style>\n",
       "<table border=\"1\" class=\"dataframe\">\n",
       "  <thead>\n",
       "    <tr style=\"text-align: right;\">\n",
       "      <th></th>\n",
       "      <th>user_id</th>\n",
       "      <th>age</th>\n",
       "      <th>distance</th>\n",
       "      <th>duration</th>\n",
       "      <th>month</th>\n",
       "      <th>minute_price</th>\n",
       "      <th>start_ride_price</th>\n",
       "      <th>subscription_fee</th>\n",
       "    </tr>\n",
       "  </thead>\n",
       "  <tbody>\n",
       "    <tr>\n",
       "      <th>count</th>\n",
       "      <td>11568.000000</td>\n",
       "      <td>11568.000000</td>\n",
       "      <td>11568.000000</td>\n",
       "      <td>11568.000000</td>\n",
       "      <td>11568.000000</td>\n",
       "      <td>11568.0</td>\n",
       "      <td>11568.0</td>\n",
       "      <td>11568.0</td>\n",
       "    </tr>\n",
       "    <tr>\n",
       "      <th>mean</th>\n",
       "      <td>1120.527230</td>\n",
       "      <td>24.893326</td>\n",
       "      <td>3045.495282</td>\n",
       "      <td>17.390909</td>\n",
       "      <td>6.522994</td>\n",
       "      <td>8.0</td>\n",
       "      <td>50.0</td>\n",
       "      <td>0.0</td>\n",
       "    </tr>\n",
       "    <tr>\n",
       "      <th>std</th>\n",
       "      <td>241.165628</td>\n",
       "      <td>4.481100</td>\n",
       "      <td>1246.173806</td>\n",
       "      <td>6.326803</td>\n",
       "      <td>3.449770</td>\n",
       "      <td>0.0</td>\n",
       "      <td>0.0</td>\n",
       "      <td>0.0</td>\n",
       "    </tr>\n",
       "    <tr>\n",
       "      <th>min</th>\n",
       "      <td>700.000000</td>\n",
       "      <td>12.000000</td>\n",
       "      <td>0.855683</td>\n",
       "      <td>0.500000</td>\n",
       "      <td>1.000000</td>\n",
       "      <td>8.0</td>\n",
       "      <td>50.0</td>\n",
       "      <td>0.0</td>\n",
       "    </tr>\n",
       "    <tr>\n",
       "      <th>25%</th>\n",
       "      <td>915.000000</td>\n",
       "      <td>22.000000</td>\n",
       "      <td>2366.562689</td>\n",
       "      <td>12.958437</td>\n",
       "      <td>4.000000</td>\n",
       "      <td>8.0</td>\n",
       "      <td>50.0</td>\n",
       "      <td>0.0</td>\n",
       "    </tr>\n",
       "    <tr>\n",
       "      <th>50%</th>\n",
       "      <td>1123.000000</td>\n",
       "      <td>25.000000</td>\n",
       "      <td>3114.648465</td>\n",
       "      <td>17.326890</td>\n",
       "      <td>7.000000</td>\n",
       "      <td>8.0</td>\n",
       "      <td>50.0</td>\n",
       "      <td>0.0</td>\n",
       "    </tr>\n",
       "    <tr>\n",
       "      <th>75%</th>\n",
       "      <td>1328.000000</td>\n",
       "      <td>28.000000</td>\n",
       "      <td>3905.697894</td>\n",
       "      <td>21.594071</td>\n",
       "      <td>9.000000</td>\n",
       "      <td>8.0</td>\n",
       "      <td>50.0</td>\n",
       "      <td>0.0</td>\n",
       "    </tr>\n",
       "    <tr>\n",
       "      <th>max</th>\n",
       "      <td>1534.000000</td>\n",
       "      <td>43.000000</td>\n",
       "      <td>7211.007745</td>\n",
       "      <td>34.948498</td>\n",
       "      <td>12.000000</td>\n",
       "      <td>8.0</td>\n",
       "      <td>50.0</td>\n",
       "      <td>0.0</td>\n",
       "    </tr>\n",
       "  </tbody>\n",
       "</table>\n",
       "</div>"
      ],
      "text/plain": [
       "            user_id           age      distance      duration         month  \\\n",
       "count  11568.000000  11568.000000  11568.000000  11568.000000  11568.000000   \n",
       "mean    1120.527230     24.893326   3045.495282     17.390909      6.522994   \n",
       "std      241.165628      4.481100   1246.173806      6.326803      3.449770   \n",
       "min      700.000000     12.000000      0.855683      0.500000      1.000000   \n",
       "25%      915.000000     22.000000   2366.562689     12.958437      4.000000   \n",
       "50%     1123.000000     25.000000   3114.648465     17.326890      7.000000   \n",
       "75%     1328.000000     28.000000   3905.697894     21.594071      9.000000   \n",
       "max     1534.000000     43.000000   7211.007745     34.948498     12.000000   \n",
       "\n",
       "       minute_price  start_ride_price  subscription_fee  \n",
       "count       11568.0           11568.0           11568.0  \n",
       "mean            8.0              50.0               0.0  \n",
       "std             0.0               0.0               0.0  \n",
       "min             8.0              50.0               0.0  \n",
       "25%             8.0              50.0               0.0  \n",
       "50%             8.0              50.0               0.0  \n",
       "75%             8.0              50.0               0.0  \n",
       "max             8.0              50.0               0.0  "
      ]
     },
     "execution_count": 29,
     "metadata": {},
     "output_type": "execute_result"
    }
   ],
   "source": [
    "data_subs_free.describe()"
   ]
  },
  {
   "cell_type": "code",
   "execution_count": 30,
   "id": "89db1c60",
   "metadata": {},
   "outputs": [
    {
     "data": {
      "text/plain": [
       "Text(0, 0.5, 'Количество пользователей')"
      ]
     },
     "execution_count": 30,
     "metadata": {},
     "output_type": "execute_result"
    },
    {
     "data": {
      "image/png": "[encoded data removed]",
      "text/plain": [
       "<Figure size 720x360 with 1 Axes>"
      ]
     },
     "metadata": {
      "needs_background": "light"
     },
     "output_type": "display_data"
    }
   ],
   "source": [
    "data_subs_free['distance'].hist(bins=80, figsize=(10, 5))\n",
    "plt.title('Расстояние, которое пользователь без подписки преодолел за одну поездку')\n",
    "plt.xlabel('Метры')\n",
    "plt.ylabel('Количество пользователей')"
   ]
  },
  {
   "cell_type": "markdown",
   "id": "6d691f77",
   "metadata": {},
   "source": [
    "Расстояние, преодолевамое пользователями без подписки имеет больший размах – от 2400 до 3900 метров"
   ]
  },
  {
   "cell_type": "code",
   "execution_count": 31,
   "id": "ffa5fcfe",
   "metadata": {
    "scrolled": true
   },
   "outputs": [
    {
     "data": {
      "text/plain": [
       "Text(0, 0.5, 'Количество пользователей')"
      ]
     },
     "execution_count": 31,
     "metadata": {},
     "output_type": "execute_result"
    },
    {
     "data": {
      "image/png": "[encoded data removed]",
      "text/plain": [
       "<Figure size 720x360 with 1 Axes>"
      ]
     },
     "metadata": {
      "needs_background": "light"
     },
     "output_type": "display_data"
    }
   ],
   "source": [
    "data_subs_ultra['duration'].hist(bins=70, figsize=(10, 5))\n",
    "plt.title('Продолжительность поездки пользователей с подпиской')\n",
    "plt.xlabel('Минуты')\n",
    "plt.ylabel('Количество пользователей')"
   ]
  },
  {
   "cell_type": "markdown",
   "id": "10e85a2d",
   "metadata": {},
   "source": [
    "Продолжительность поездки у пользователей с подпиской от 13 до 22 минут."
   ]
  },
  {
   "cell_type": "code",
   "execution_count": 32,
   "id": "ae2529bf",
   "metadata": {
    "scrolled": true
   },
   "outputs": [
    {
     "data": {
      "text/plain": [
       "Text(0, 0.5, 'Количество пользователей')"
      ]
     },
     "execution_count": 32,
     "metadata": {},
     "output_type": "execute_result"
    },
    {
     "data": {
      "image/png": "[encoded data removed]",
      "text/plain": [
       "<Figure size 720x360 with 1 Axes>"
      ]
     },
     "metadata": {
      "needs_background": "light"
     },
     "output_type": "display_data"
    }
   ],
   "source": [
    "data_subs_free['duration'].hist(bins=80, figsize=(10, 5))\n",
    "plt.title('Продолжительность поездки пользователей без подписки')\n",
    "plt.xlabel('Минуты')\n",
    "plt.ylabel('Количество пользователей')"
   ]
  },
  {
   "cell_type": "markdown",
   "id": "70c56440",
   "metadata": {},
   "source": [
    "Основаня масса пользователей без полпиской совершает поездки длительностью от 15 до 22 минут."
   ]
  },
  {
   "cell_type": "markdown",
   "id": "47b24271",
   "metadata": {},
   "source": [
    "Хотелось бы немного обобщить полученную информацию:\n",
    "* У пользователей без подписки чаще бывают поездки длиной до 1000 метров.\n",
    "* Средняя продолжительность поездки у пользователей с подпиской и без примерно одинакова, но, у пользователей без нее встречается бум коротких поездок на графике продоложительности поездки."
   ]
  },
  {
   "cell_type": "markdown",
   "id": "402d620f",
   "metadata": {},
   "source": [
    "#### Шаг 5. Подсчёт выручки"
   ]
  },
  {
   "cell_type": "code",
   "execution_count": 33,
   "id": "a043b5b6",
   "metadata": {},
   "outputs": [],
   "source": [
    "data_full['duration'] = np.ceil(data_full['duration'])"
   ]
  },
  {
   "cell_type": "markdown",
   "id": "58bb8812",
   "metadata": {},
   "source": [
    "Округляем продолжительность поездки"
   ]
  },
  {
   "cell_type": "code",
   "execution_count": 34,
   "id": "ce03f7ef",
   "metadata": {},
   "outputs": [
    {
     "data": {
      "text/html": [
       "<div>\n",
       "<style scoped>\n",
       "    .dataframe tbody tr th:only-of-type {\n",
       "        vertical-align: middle;\n",
       "    }\n",
       "\n",
       "    .dataframe tbody tr th {\n",
       "        vertical-align: top;\n",
       "    }\n",
       "\n",
       "    .dataframe thead th {\n",
       "        text-align: right;\n",
       "    }\n",
       "</style>\n",
       "<table border=\"1\" class=\"dataframe\">\n",
       "  <thead>\n",
       "    <tr style=\"text-align: right;\">\n",
       "      <th></th>\n",
       "      <th></th>\n",
       "      <th>total_distance</th>\n",
       "      <th>total_duration</th>\n",
       "      <th>quantity</th>\n",
       "      <th>subscription_type</th>\n",
       "    </tr>\n",
       "    <tr>\n",
       "      <th>user_id</th>\n",
       "      <th>month</th>\n",
       "      <th></th>\n",
       "      <th></th>\n",
       "      <th></th>\n",
       "      <th></th>\n",
       "    </tr>\n",
       "  </thead>\n",
       "  <tbody>\n",
       "    <tr>\n",
       "      <th rowspan=\"5\" valign=\"top\">1</th>\n",
       "      <th>1</th>\n",
       "      <td>7027.511294</td>\n",
       "      <td>42.0</td>\n",
       "      <td>2</td>\n",
       "      <td>ultra</td>\n",
       "    </tr>\n",
       "    <tr>\n",
       "      <th>4</th>\n",
       "      <td>754.159807</td>\n",
       "      <td>7.0</td>\n",
       "      <td>1</td>\n",
       "      <td>ultra</td>\n",
       "    </tr>\n",
       "    <tr>\n",
       "      <th>8</th>\n",
       "      <td>6723.470560</td>\n",
       "      <td>46.0</td>\n",
       "      <td>2</td>\n",
       "      <td>ultra</td>\n",
       "    </tr>\n",
       "    <tr>\n",
       "      <th>10</th>\n",
       "      <td>5809.911100</td>\n",
       "      <td>32.0</td>\n",
       "      <td>2</td>\n",
       "      <td>ultra</td>\n",
       "    </tr>\n",
       "    <tr>\n",
       "      <th>11</th>\n",
       "      <td>7003.499363</td>\n",
       "      <td>56.0</td>\n",
       "      <td>3</td>\n",
       "      <td>ultra</td>\n",
       "    </tr>\n",
       "  </tbody>\n",
       "</table>\n",
       "</div>"
      ],
      "text/plain": [
       "               total_distance  total_duration  quantity subscription_type\n",
       "user_id month                                                            \n",
       "1       1         7027.511294            42.0         2             ultra\n",
       "        4          754.159807             7.0         1             ultra\n",
       "        8         6723.470560            46.0         2             ultra\n",
       "        10        5809.911100            32.0         2             ultra\n",
       "        11        7003.499363            56.0         3             ultra"
      ]
     },
     "metadata": {},
     "output_type": "display_data"
    }
   ],
   "source": [
    "data_unload = data_full.pivot_table(index=['user_id', 'month'], values=['distance', 'name', 'duration', 'subscription_type'], aggfunc={'distance': 'sum', 'name': 'count', 'duration': 'sum', 'subscription_type': 'min'})\n",
    "data_unload.columns = ['total_distance', 'total_duration', 'quantity', 'subscription_type']\n",
    "display(data_unload.head())"
   ]
  },
  {
   "cell_type": "markdown",
   "id": "980802a2",
   "metadata": {},
   "source": [
    "Создаем сводную таблицу и переименовываем столбцы\n",
    "\n",
    "Далее посчитаем помесячную выручку: Помесячная выручка считается по формуле: стоимость старта поездки × количество поездок + стоимость одной минуты поездки × общая продолжительность всех поездок в минутах + стоимость подписки."
   ]
  },
  {
   "cell_type": "code",
   "execution_count": 35,
   "id": "ac406d86",
   "metadata": {},
   "outputs": [],
   "source": [
    "data_unload.loc[data_unload['subscription_type'] == 'ultra', \"income\"] = (6 * data_unload['total_duration']) + 199"
   ]
  },
  {
   "cell_type": "markdown",
   "id": "538559d4",
   "metadata": {},
   "source": [
    "Считаем, какую выручку принес каждый пользователь с подпиской"
   ]
  },
  {
   "cell_type": "code",
   "execution_count": 36,
   "id": "4d93134f",
   "metadata": {},
   "outputs": [],
   "source": [
    "data_unload.loc[data_unload['subscription_type'] == 'free', \"income\"] = (50 * data_unload['quantity']) + (8 * data_unload['total_duration'])"
   ]
  },
  {
   "cell_type": "markdown",
   "id": "4cd3074a",
   "metadata": {},
   "source": [
    "А также, какую выручку принес каждый пользователь без подписки"
   ]
  },
  {
   "cell_type": "code",
   "execution_count": 37,
   "id": "8dcde3e6",
   "metadata": {},
   "outputs": [
    {
     "data": {
      "text/html": [
       "<div>\n",
       "<style scoped>\n",
       "    .dataframe tbody tr th:only-of-type {\n",
       "        vertical-align: middle;\n",
       "    }\n",
       "\n",
       "    .dataframe tbody tr th {\n",
       "        vertical-align: top;\n",
       "    }\n",
       "\n",
       "    .dataframe thead th {\n",
       "        text-align: right;\n",
       "    }\n",
       "</style>\n",
       "<table border=\"1\" class=\"dataframe\">\n",
       "  <thead>\n",
       "    <tr style=\"text-align: right;\">\n",
       "      <th></th>\n",
       "      <th></th>\n",
       "      <th>total_distance</th>\n",
       "      <th>total_duration</th>\n",
       "      <th>quantity</th>\n",
       "      <th>subscription_type</th>\n",
       "      <th>income</th>\n",
       "    </tr>\n",
       "    <tr>\n",
       "      <th>user_id</th>\n",
       "      <th>month</th>\n",
       "      <th></th>\n",
       "      <th></th>\n",
       "      <th></th>\n",
       "      <th></th>\n",
       "      <th></th>\n",
       "    </tr>\n",
       "  </thead>\n",
       "  <tbody>\n",
       "    <tr>\n",
       "      <th rowspan=\"5\" valign=\"top\">1</th>\n",
       "      <th>1</th>\n",
       "      <td>7027.511294</td>\n",
       "      <td>42.0</td>\n",
       "      <td>2</td>\n",
       "      <td>ultra</td>\n",
       "      <td>451.0</td>\n",
       "    </tr>\n",
       "    <tr>\n",
       "      <th>4</th>\n",
       "      <td>754.159807</td>\n",
       "      <td>7.0</td>\n",
       "      <td>1</td>\n",
       "      <td>ultra</td>\n",
       "      <td>241.0</td>\n",
       "    </tr>\n",
       "    <tr>\n",
       "      <th>8</th>\n",
       "      <td>6723.470560</td>\n",
       "      <td>46.0</td>\n",
       "      <td>2</td>\n",
       "      <td>ultra</td>\n",
       "      <td>475.0</td>\n",
       "    </tr>\n",
       "    <tr>\n",
       "      <th>10</th>\n",
       "      <td>5809.911100</td>\n",
       "      <td>32.0</td>\n",
       "      <td>2</td>\n",
       "      <td>ultra</td>\n",
       "      <td>391.0</td>\n",
       "    </tr>\n",
       "    <tr>\n",
       "      <th>11</th>\n",
       "      <td>7003.499363</td>\n",
       "      <td>56.0</td>\n",
       "      <td>3</td>\n",
       "      <td>ultra</td>\n",
       "      <td>535.0</td>\n",
       "    </tr>\n",
       "  </tbody>\n",
       "</table>\n",
       "</div>"
      ],
      "text/plain": [
       "               total_distance  total_duration  quantity subscription_type  \\\n",
       "user_id month                                                               \n",
       "1       1         7027.511294            42.0         2             ultra   \n",
       "        4          754.159807             7.0         1             ultra   \n",
       "        8         6723.470560            46.0         2             ultra   \n",
       "        10        5809.911100            32.0         2             ultra   \n",
       "        11        7003.499363            56.0         3             ultra   \n",
       "\n",
       "               income  \n",
       "user_id month          \n",
       "1       1       451.0  \n",
       "        4       241.0  \n",
       "        8       475.0  \n",
       "        10      391.0  \n",
       "        11      535.0  "
      ]
     },
     "metadata": {},
     "output_type": "display_data"
    }
   ],
   "source": [
    "display(data_unload.head())"
   ]
  },
  {
   "cell_type": "markdown",
   "id": "bd71325f",
   "metadata": {},
   "source": [
    "Выгрузка корректно посчитана по заданной формуле."
   ]
  },
  {
   "cell_type": "markdown",
   "id": "41545ac0",
   "metadata": {},
   "source": [
    "#### Шаг 6. Проверка гипотез"
   ]
  },
  {
   "cell_type": "markdown",
   "id": "d0fa3a16",
   "metadata": {},
   "source": [
    "Нулевая гипотеза - потраченное время пользователей с подпиской равно потраченному времени пользователей без подписки.\n",
    "Альтернативная гипотеза - потраченное время пользователей с подпиской больше чем, у пользователей без подписки"
   ]
  },
  {
   "cell_type": "code",
   "execution_count": 38,
   "id": "4bd611f2",
   "metadata": {
    "scrolled": true
   },
   "outputs": [
    {
     "name": "stdout",
     "output_type": "stream",
     "text": [
      "p-значение: 1.2804098316645618e-34\n",
      "Отвергаем нулевую гипотезу.\n"
     ]
    }
   ],
   "source": [
    "alpha = 0.05\n",
    " \n",
    "results = st.ttest_ind(data_subs_ultra['duration'], data_subs_free['duration'], alternative = 'greater')\n",
    "print('p-значение:', results.pvalue)\n",
    "if results.pvalue < alpha:\n",
    "    print('Отвергаем нулевую гипотезу.')\n",
    "else:\n",
    "    print('Не можем отвергнуть нулевую гипотезу.')"
   ]
  },
  {
   "cell_type": "code",
   "execution_count": 39,
   "id": "d2e254ff",
   "metadata": {},
   "outputs": [
    {
     "name": "stdout",
     "output_type": "stream",
     "text": [
      "Среднее время поездки пользователей без подписки, мин: 17.89\n"
     ]
    }
   ],
   "source": [
    "print('Среднее время поездки пользователей без подписки, мин:', data_full['duration'].loc[data_full['subscription_type'] == 'free'].mean().round(2))"
   ]
  },
  {
   "cell_type": "code",
   "execution_count": 40,
   "id": "c865f39e",
   "metadata": {},
   "outputs": [
    {
     "name": "stdout",
     "output_type": "stream",
     "text": [
      "Среднее время поездки пользователей с подпиской, мин: 19.04\n"
     ]
    }
   ],
   "source": [
    "print('Среднее время поездки пользователей с подпиской, мин:', data_full['duration'].loc[data_full['subscription_type'] == 'ultra'].mean().round(2))"
   ]
  },
  {
   "cell_type": "markdown",
   "id": "f0008845",
   "metadata": {},
   "source": [
    "Нулевая гипотеза - потраченное время пользователей с подпиской равно потраченному времени пользователей без подписки - отвергнута, есть основания утверждать, что среднее время поездки пользователей с подпиской больше, чем у пользователелей без подписки."
   ]
  },
  {
   "cell_type": "markdown",
   "id": "367bfdd3",
   "metadata": {},
   "source": [
    "Нулевая гипотеза - среднее расстояние, которое проезжают пользователи с подпиской за одну поездку равняется\n",
    "3130 метрам.\n",
    "Альтернативная гипотеза - среднее расстояние, которое преодолевают пользователи с подпиской за одну поездку более 3130 метров."
   ]
  },
  {
   "cell_type": "code",
   "execution_count": 41,
   "id": "0f321c38",
   "metadata": {},
   "outputs": [
    {
     "name": "stdout",
     "output_type": "stream",
     "text": [
      "p-значение: 0.9195368847849785\n",
      "Не отвергаем нулевую гипотезу\n"
     ]
    }
   ],
   "source": [
    "optimal = 3130\n",
    "alpha = 0.05\n",
    "\n",
    "results = st.ttest_1samp(\n",
    "    data_subs_ultra['distance'], \n",
    "    optimal,\n",
    "      alternative='greater')\n",
    "\n",
    "print('p-значение:', results.pvalue)\n",
    "\n",
    "if (results.pvalue < alpha):\n",
    "    print('Отвергаем нулевую гипотезу')\n",
    "else:\n",
    "    print('Не отвергаем нулевую гипотезу')"
   ]
  },
  {
   "cell_type": "code",
   "execution_count": 42,
   "id": "91d4d8c5",
   "metadata": {
    "scrolled": true
   },
   "outputs": [
    {
     "name": "stdout",
     "output_type": "stream",
     "text": [
      "Средняя продолжительность поездки пользователей с подпиской, м: 3115.0\n"
     ]
    }
   ],
   "source": [
    "print('Средняя продолжительность поездки пользователей с подпиской, м:', data_subs_ultra['distance'].mean().round(0))"
   ]
  },
  {
   "cell_type": "markdown",
   "id": "b180e90c",
   "metadata": {},
   "source": [
    "Самокаты в сервисе GoFast изнашиваются пользователями с подпиской, не превышая оптимального значения в 3130 метров."
   ]
  },
  {
   "cell_type": "markdown",
   "id": "b55bfba7",
   "metadata": {},
   "source": [
    "Нулевая гипотеза - средняя выручка от поездок с подпиской и без неё равна.\n",
    "Альтернативная гипотеза - Средняя выручка от пользователей с использованием подписки выше, чем выручка от пользователей без подписки."
   ]
  },
  {
   "cell_type": "code",
   "execution_count": 43,
   "id": "2b666968",
   "metadata": {
    "scrolled": true
   },
   "outputs": [
    {
     "name": "stdout",
     "output_type": "stream",
     "text": [
      "p-значение: 8.874140893976874e-40\n",
      "Отвергаем нулевую гипотезу\n"
     ]
    }
   ],
   "source": [
    "alpha = 0.05\n",
    "\n",
    "results = st.ttest_ind(\n",
    "    data_unload['income'].loc[data_unload['subscription_type'] == 'ultra'],\n",
    "    data_unload['income'].loc[data_unload['subscription_type'] == 'free'],\n",
    "    equal_var=False,\n",
    "    alternative='greater'\n",
    ")\n",
    "\n",
    "print('p-значение:', results.pvalue)\n",
    "\n",
    "if results.pvalue < alpha:\n",
    "    print('Отвергаем нулевую гипотезу')\n",
    "else:\n",
    "    print('Не отвергаем нулевую гипотезу')"
   ]
  },
  {
   "cell_type": "code",
   "execution_count": 44,
   "id": "8f1f6eb2",
   "metadata": {},
   "outputs": [
    {
     "data": {
      "text/plain": [
       "362.79"
      ]
     },
     "metadata": {},
     "output_type": "display_data"
    }
   ],
   "source": [
    "display(data_unload['income'].loc[data_unload['subscription_type'] == 'ultra'].mean().round(2))"
   ]
  },
  {
   "cell_type": "code",
   "execution_count": 45,
   "id": "6741dcfb",
   "metadata": {},
   "outputs": [
    {
     "data": {
      "text/plain": [
       "328.64"
      ]
     },
     "metadata": {},
     "output_type": "display_data"
    }
   ],
   "source": [
    "display(data_unload['income'].loc[data_unload['subscription_type'] == 'free'].mean().round(2))"
   ]
  },
  {
   "cell_type": "markdown",
   "id": "cb124ceb",
   "metadata": {},
   "source": [
    "Вывод: средняя выручка от пользователей с подпиской выше, чем от пользователей без подписки на 34,15 руб - нулевая гипотеза была отвергнута."
   ]
  },
  {
   "cell_type": "markdown",
   "id": "56ace582",
   "metadata": {},
   "source": [
    "6.4 Если списки уникальных пользователей в них совпадают, то выборки зависимы и для проверки гипотезы потребуется тест st.ttest_rel(before, after, alternative='less')В ином случае, выборки не могут быть зависимы и для проверки гипотезы потребуется тест: st.ttest_ind(before, after, equal_var=False, alternative='less'). Где, equal_var=False, т.к. выборки не равны, а alternative='less', т.к. основная гипотеза отвергается, если изначально обращений было меньше, чем после обновлений сервиса."
   ]
  },
  {
   "cell_type": "markdown",
   "id": "e37c22dd",
   "metadata": {},
   "source": [
    "Общий вывод.\n",
    "По результатам проделанной работы можно сделать вывод, что исходные данные были без пропусков, с минимальным количеством дубликатов, что доказывает высокую точность исследования.\n",
    "\n",
    "Исследования показали, что клиенты сервиса аренды самокатов GoFast пропорциально распределны в охватываемых сервисом городах. Основная масса пользователей сервиса от 20 до 30 лет. Большинство клиентов используют сервис без подписки. Средний возраст пользователей с подпиской и без примерно одинаковый - около 25 лет. Расстояние, которые преодолевают пользователи с подпиской и без составляет около 3000 метров, а продолжительность поездки - от 15 до 22 минут.\n",
    "\n",
    "На основании гипотез были сделаны следующие выводы:\n",
    "1. Среднее время поездки пользователей с подпиской больше, чем у пользователелей без подписки\n",
    "2. Среднее расстояние, которое проезжают пользователи с подпиской за одну поездку, не превышает 3130 метров\n",
    "3. Средняя выручка от пользователей с подпиской выше, чем от пользователей без подписки на 34,15 руб.\n",
    "\n",
    "В итоге, пользователи с подпиской приносят сервису больше выручки, так как длительность их поездки больше, а также средняя выручка от таких клиентов выше."
   ]
  }
 ],
 "metadata": {
  "ExecuteTimeLog": [
   {
    "duration": 48,
    "start_time": "2024-04-02T18:03:47.626Z"
   },
   {
    "duration": 428,
    "start_time": "2024-04-02T18:04:00.069Z"
   },
   {
    "duration": 208,
    "start_time": "2024-04-02T18:04:00.499Z"
   },
   {
    "duration": 70,
    "start_time": "2024-04-02T18:04:15.327Z"
   },
   {
    "duration": 92,
    "start_time": "2024-04-02T18:04:35.880Z"
   },
   {
    "duration": 3,
    "start_time": "2024-04-02T18:05:15.879Z"
   },
   {
    "duration": 101,
    "start_time": "2024-04-02T18:05:15.887Z"
   },
   {
    "duration": 14,
    "start_time": "2024-04-02T18:09:41.949Z"
   },
   {
    "duration": 22,
    "start_time": "2024-04-02T18:10:14.259Z"
   },
   {
    "duration": 3,
    "start_time": "2024-04-02T18:20:40.035Z"
   },
   {
    "duration": 106,
    "start_time": "2024-04-02T18:20:40.039Z"
   },
   {
    "duration": 27,
    "start_time": "2024-04-02T18:20:40.147Z"
   },
   {
    "duration": 32,
    "start_time": "2024-04-02T18:20:40.177Z"
   },
   {
    "duration": 2,
    "start_time": "2024-04-02T18:22:36.034Z"
   },
   {
    "duration": 94,
    "start_time": "2024-04-02T18:22:36.038Z"
   },
   {
    "duration": 22,
    "start_time": "2024-04-02T18:22:36.133Z"
   },
   {
    "duration": 1007,
    "start_time": "2024-04-02T18:22:36.156Z"
   },
   {
    "duration": 3,
    "start_time": "2024-04-02T18:23:02.656Z"
   },
   {
    "duration": 94,
    "start_time": "2024-04-02T18:23:02.661Z"
   },
   {
    "duration": 28,
    "start_time": "2024-04-02T18:23:02.757Z"
   },
   {
    "duration": 19,
    "start_time": "2024-04-02T18:23:02.788Z"
   },
   {
    "duration": 2,
    "start_time": "2024-04-02T18:25:00.744Z"
   },
   {
    "duration": 179,
    "start_time": "2024-04-02T18:25:00.748Z"
   },
   {
    "duration": 24,
    "start_time": "2024-04-02T18:25:00.928Z"
   },
   {
    "duration": 111,
    "start_time": "2024-04-02T18:25:00.953Z"
   },
   {
    "duration": 89,
    "start_time": "2024-04-02T18:25:01.067Z"
   },
   {
    "duration": 16,
    "start_time": "2024-04-02T18:25:57.868Z"
   },
   {
    "duration": 3,
    "start_time": "2024-04-02T18:26:04.725Z"
   },
   {
    "duration": 97,
    "start_time": "2024-04-02T18:26:04.730Z"
   },
   {
    "duration": 23,
    "start_time": "2024-04-02T18:26:04.828Z"
   },
   {
    "duration": 15,
    "start_time": "2024-04-02T18:26:04.853Z"
   },
   {
    "duration": 13,
    "start_time": "2024-04-02T18:26:04.872Z"
   },
   {
    "duration": 9,
    "start_time": "2024-04-02T18:26:04.887Z"
   },
   {
    "duration": 3,
    "start_time": "2024-04-02T18:29:46.605Z"
   },
   {
    "duration": 103,
    "start_time": "2024-04-02T18:29:46.610Z"
   },
   {
    "duration": 22,
    "start_time": "2024-04-02T18:29:46.715Z"
   },
   {
    "duration": 21,
    "start_time": "2024-04-02T18:29:46.738Z"
   },
   {
    "duration": 17,
    "start_time": "2024-04-02T18:29:46.760Z"
   },
   {
    "duration": 11,
    "start_time": "2024-04-02T18:29:46.780Z"
   },
   {
    "duration": 4,
    "start_time": "2024-04-02T18:29:46.792Z"
   },
   {
    "duration": 7,
    "start_time": "2024-04-02T18:29:46.797Z"
   },
   {
    "duration": 14,
    "start_time": "2024-04-02T18:29:46.805Z"
   },
   {
    "duration": 35,
    "start_time": "2024-04-02T18:29:46.820Z"
   },
   {
    "duration": 3,
    "start_time": "2024-04-02T18:37:12.836Z"
   },
   {
    "duration": 90,
    "start_time": "2024-04-02T18:37:12.841Z"
   },
   {
    "duration": 22,
    "start_time": "2024-04-02T18:37:12.932Z"
   },
   {
    "duration": 15,
    "start_time": "2024-04-02T18:37:12.955Z"
   },
   {
    "duration": 10,
    "start_time": "2024-04-02T18:37:12.973Z"
   },
   {
    "duration": 6,
    "start_time": "2024-04-02T18:37:12.984Z"
   },
   {
    "duration": 5,
    "start_time": "2024-04-02T18:37:12.992Z"
   },
   {
    "duration": 6,
    "start_time": "2024-04-02T18:37:12.999Z"
   },
   {
    "duration": 6,
    "start_time": "2024-04-02T18:37:13.007Z"
   },
   {
    "duration": 6,
    "start_time": "2024-04-02T18:37:13.015Z"
   },
   {
    "duration": 56,
    "start_time": "2024-04-02T18:37:13.023Z"
   },
   {
    "duration": 2,
    "start_time": "2024-04-02T18:37:59.987Z"
   },
   {
    "duration": 156,
    "start_time": "2024-04-02T18:37:59.992Z"
   },
   {
    "duration": 33,
    "start_time": "2024-04-02T18:38:00.150Z"
   },
   {
    "duration": 29,
    "start_time": "2024-04-02T18:38:00.186Z"
   },
   {
    "duration": 35,
    "start_time": "2024-04-02T18:38:00.217Z"
   },
   {
    "duration": 61,
    "start_time": "2024-04-02T18:38:00.255Z"
   },
   {
    "duration": 60,
    "start_time": "2024-04-02T18:38:00.318Z"
   },
   {
    "duration": 56,
    "start_time": "2024-04-02T18:38:00.381Z"
   },
   {
    "duration": 55,
    "start_time": "2024-04-02T18:38:00.439Z"
   },
   {
    "duration": 45,
    "start_time": "2024-04-02T18:38:00.496Z"
   },
   {
    "duration": 87,
    "start_time": "2024-04-02T18:38:00.542Z"
   },
   {
    "duration": 4,
    "start_time": "2024-04-02T18:38:21.167Z"
   },
   {
    "duration": 83,
    "start_time": "2024-04-02T18:38:21.175Z"
   },
   {
    "duration": 36,
    "start_time": "2024-04-02T18:38:21.259Z"
   },
   {
    "duration": 14,
    "start_time": "2024-04-02T18:38:21.296Z"
   },
   {
    "duration": 13,
    "start_time": "2024-04-02T18:38:21.312Z"
   },
   {
    "duration": 6,
    "start_time": "2024-04-02T18:38:21.326Z"
   },
   {
    "duration": 5,
    "start_time": "2024-04-02T18:38:21.333Z"
   },
   {
    "duration": 11,
    "start_time": "2024-04-02T18:38:21.366Z"
   },
   {
    "duration": 10,
    "start_time": "2024-04-02T18:38:21.380Z"
   },
   {
    "duration": 6,
    "start_time": "2024-04-02T18:38:21.392Z"
   },
   {
    "duration": 11,
    "start_time": "2024-04-02T18:38:21.399Z"
   },
   {
    "duration": 660,
    "start_time": "2024-04-02T18:41:04.438Z"
   },
   {
    "duration": 4,
    "start_time": "2024-04-02T18:42:27.675Z"
   },
   {
    "duration": 100,
    "start_time": "2024-04-02T18:42:27.682Z"
   },
   {
    "duration": 29,
    "start_time": "2024-04-02T18:42:27.785Z"
   },
   {
    "duration": 17,
    "start_time": "2024-04-02T18:42:27.816Z"
   },
   {
    "duration": 31,
    "start_time": "2024-04-02T18:42:27.836Z"
   },
   {
    "duration": 10,
    "start_time": "2024-04-02T18:42:27.870Z"
   },
   {
    "duration": 13,
    "start_time": "2024-04-02T18:42:27.882Z"
   },
   {
    "duration": 15,
    "start_time": "2024-04-02T18:42:27.896Z"
   },
   {
    "duration": 7,
    "start_time": "2024-04-02T18:42:27.913Z"
   },
   {
    "duration": 9,
    "start_time": "2024-04-02T18:42:27.922Z"
   },
   {
    "duration": 1044,
    "start_time": "2024-04-02T18:42:27.966Z"
   },
   {
    "duration": 3,
    "start_time": "2024-04-02T18:45:33.992Z"
   },
   {
    "duration": 128,
    "start_time": "2024-04-02T18:45:33.997Z"
   },
   {
    "duration": 22,
    "start_time": "2024-04-02T18:45:34.126Z"
   },
   {
    "duration": 26,
    "start_time": "2024-04-02T18:45:34.150Z"
   },
   {
    "duration": 16,
    "start_time": "2024-04-02T18:45:34.178Z"
   },
   {
    "duration": 13,
    "start_time": "2024-04-02T18:45:34.195Z"
   },
   {
    "duration": 27,
    "start_time": "2024-04-02T18:45:34.209Z"
   },
   {
    "duration": 46,
    "start_time": "2024-04-02T18:45:34.237Z"
   },
   {
    "duration": 14,
    "start_time": "2024-04-02T18:45:34.286Z"
   },
   {
    "duration": 15,
    "start_time": "2024-04-02T18:45:34.302Z"
   },
   {
    "duration": 300,
    "start_time": "2024-04-02T18:45:34.318Z"
   },
   {
    "duration": 3,
    "start_time": "2024-04-02T18:56:38.789Z"
   },
   {
    "duration": 90,
    "start_time": "2024-04-02T18:56:38.807Z"
   },
   {
    "duration": 21,
    "start_time": "2024-04-02T18:56:38.898Z"
   },
   {
    "duration": 15,
    "start_time": "2024-04-02T18:56:38.921Z"
   },
   {
    "duration": 14,
    "start_time": "2024-04-02T18:56:38.937Z"
   },
   {
    "duration": 12,
    "start_time": "2024-04-02T18:56:38.966Z"
   },
   {
    "duration": 13,
    "start_time": "2024-04-02T18:56:38.980Z"
   },
   {
    "duration": 10,
    "start_time": "2024-04-02T18:56:38.995Z"
   },
   {
    "duration": 29,
    "start_time": "2024-04-02T18:56:39.006Z"
   },
   {
    "duration": 10,
    "start_time": "2024-04-02T18:56:39.036Z"
   },
   {
    "duration": 274,
    "start_time": "2024-04-02T18:56:39.048Z"
   },
   {
    "duration": 226,
    "start_time": "2024-04-02T18:56:39.323Z"
   },
   {
    "duration": 46,
    "start_time": "2024-04-02T19:00:56.828Z"
   },
   {
    "duration": 3,
    "start_time": "2024-04-02T19:02:43.168Z"
   },
   {
    "duration": 100,
    "start_time": "2024-04-02T19:02:43.172Z"
   },
   {
    "duration": 25,
    "start_time": "2024-04-02T19:02:43.274Z"
   },
   {
    "duration": 21,
    "start_time": "2024-04-02T19:02:43.301Z"
   },
   {
    "duration": 8,
    "start_time": "2024-04-02T19:02:43.323Z"
   },
   {
    "duration": 34,
    "start_time": "2024-04-02T19:02:43.333Z"
   },
   {
    "duration": 6,
    "start_time": "2024-04-02T19:02:43.368Z"
   },
   {
    "duration": 9,
    "start_time": "2024-04-02T19:02:43.375Z"
   },
   {
    "duration": 8,
    "start_time": "2024-04-02T19:02:43.386Z"
   },
   {
    "duration": 9,
    "start_time": "2024-04-02T19:02:43.396Z"
   },
   {
    "duration": 265,
    "start_time": "2024-04-02T19:02:43.406Z"
   },
   {
    "duration": 148,
    "start_time": "2024-04-02T19:02:43.673Z"
   },
   {
    "duration": 49,
    "start_time": "2024-04-02T19:02:43.823Z"
   },
   {
    "duration": 3,
    "start_time": "2024-04-02T19:02:58.282Z"
   },
   {
    "duration": 85,
    "start_time": "2024-04-02T19:02:58.287Z"
   },
   {
    "duration": 21,
    "start_time": "2024-04-02T19:02:58.373Z"
   },
   {
    "duration": 14,
    "start_time": "2024-04-02T19:02:58.396Z"
   },
   {
    "duration": 7,
    "start_time": "2024-04-02T19:02:58.411Z"
   },
   {
    "duration": 11,
    "start_time": "2024-04-02T19:02:58.419Z"
   },
   {
    "duration": 9,
    "start_time": "2024-04-02T19:02:58.431Z"
   },
   {
    "duration": 6,
    "start_time": "2024-04-02T19:02:58.466Z"
   },
   {
    "duration": 10,
    "start_time": "2024-04-02T19:02:58.474Z"
   },
   {
    "duration": 15,
    "start_time": "2024-04-02T19:02:58.486Z"
   },
   {
    "duration": 249,
    "start_time": "2024-04-02T19:02:58.503Z"
   },
   {
    "duration": 142,
    "start_time": "2024-04-02T19:02:58.753Z"
   },
   {
    "duration": 977,
    "start_time": "2024-04-02T19:02:58.896Z"
   },
   {
    "duration": 3,
    "start_time": "2024-04-02T19:03:30.684Z"
   },
   {
    "duration": 239,
    "start_time": "2024-04-02T19:03:30.689Z"
   },
   {
    "duration": 28,
    "start_time": "2024-04-02T19:03:30.930Z"
   },
   {
    "duration": 80,
    "start_time": "2024-04-02T19:03:30.960Z"
   },
   {
    "duration": 66,
    "start_time": "2024-04-02T19:03:31.042Z"
   },
   {
    "duration": 30,
    "start_time": "2024-04-02T19:03:31.109Z"
   },
   {
    "duration": 58,
    "start_time": "2024-04-02T19:03:31.141Z"
   },
   {
    "duration": 80,
    "start_time": "2024-04-02T19:03:31.200Z"
   },
   {
    "duration": 70,
    "start_time": "2024-04-02T19:03:31.282Z"
   },
   {
    "duration": 65,
    "start_time": "2024-04-02T19:03:31.355Z"
   },
   {
    "duration": 297,
    "start_time": "2024-04-02T19:03:31.422Z"
   },
   {
    "duration": 169,
    "start_time": "2024-04-02T19:03:31.721Z"
   },
   {
    "duration": 949,
    "start_time": "2024-04-02T19:03:31.892Z"
   },
   {
    "duration": 3,
    "start_time": "2024-04-02T19:04:09.518Z"
   },
   {
    "duration": 83,
    "start_time": "2024-04-02T19:04:09.522Z"
   },
   {
    "duration": 21,
    "start_time": "2024-04-02T19:04:09.606Z"
   },
   {
    "duration": 14,
    "start_time": "2024-04-02T19:04:09.629Z"
   },
   {
    "duration": 7,
    "start_time": "2024-04-02T19:04:09.645Z"
   },
   {
    "duration": 5,
    "start_time": "2024-04-02T19:04:09.666Z"
   },
   {
    "duration": 5,
    "start_time": "2024-04-02T19:04:09.672Z"
   },
   {
    "duration": 17,
    "start_time": "2024-04-02T19:04:09.678Z"
   },
   {
    "duration": 9,
    "start_time": "2024-04-02T19:04:09.697Z"
   },
   {
    "duration": 12,
    "start_time": "2024-04-02T19:04:09.707Z"
   },
   {
    "duration": 246,
    "start_time": "2024-04-02T19:04:09.721Z"
   },
   {
    "duration": 150,
    "start_time": "2024-04-02T19:04:09.969Z"
   },
   {
    "duration": 992,
    "start_time": "2024-04-02T19:04:10.120Z"
   },
   {
    "duration": 2,
    "start_time": "2024-04-02T19:08:09.016Z"
   },
   {
    "duration": 86,
    "start_time": "2024-04-02T19:08:09.020Z"
   },
   {
    "duration": 21,
    "start_time": "2024-04-02T19:08:09.108Z"
   },
   {
    "duration": 16,
    "start_time": "2024-04-02T19:08:09.131Z"
   },
   {
    "duration": 7,
    "start_time": "2024-04-02T19:08:09.149Z"
   },
   {
    "duration": 11,
    "start_time": "2024-04-02T19:08:09.157Z"
   },
   {
    "duration": 10,
    "start_time": "2024-04-02T19:08:09.170Z"
   },
   {
    "duration": 9,
    "start_time": "2024-04-02T19:08:09.182Z"
   },
   {
    "duration": 13,
    "start_time": "2024-04-02T19:08:09.193Z"
   },
   {
    "duration": 11,
    "start_time": "2024-04-02T19:08:09.207Z"
   },
   {
    "duration": 239,
    "start_time": "2024-04-02T19:08:09.220Z"
   },
   {
    "duration": 144,
    "start_time": "2024-04-02T19:08:09.461Z"
   },
   {
    "duration": 12,
    "start_time": "2024-04-02T19:08:09.607Z"
   },
   {
    "duration": 2,
    "start_time": "2024-04-02T19:10:24.264Z"
   },
   {
    "duration": 96,
    "start_time": "2024-04-02T19:10:24.268Z"
   },
   {
    "duration": 22,
    "start_time": "2024-04-02T19:10:24.365Z"
   },
   {
    "duration": 17,
    "start_time": "2024-04-02T19:10:24.389Z"
   },
   {
    "duration": 8,
    "start_time": "2024-04-02T19:10:24.407Z"
   },
   {
    "duration": 8,
    "start_time": "2024-04-02T19:10:24.416Z"
   },
   {
    "duration": 10,
    "start_time": "2024-04-02T19:10:24.425Z"
   },
   {
    "duration": 29,
    "start_time": "2024-04-02T19:10:24.437Z"
   },
   {
    "duration": 6,
    "start_time": "2024-04-02T19:10:24.468Z"
   },
   {
    "duration": 16,
    "start_time": "2024-04-02T19:10:24.476Z"
   },
   {
    "duration": 337,
    "start_time": "2024-04-02T19:10:24.493Z"
   },
   {
    "duration": 152,
    "start_time": "2024-04-02T19:10:24.832Z"
   },
   {
    "duration": 195,
    "start_time": "2024-04-02T19:10:24.986Z"
   },
   {
    "duration": 3,
    "start_time": "2024-04-02T19:10:47.400Z"
   },
   {
    "duration": 94,
    "start_time": "2024-04-02T19:10:47.404Z"
   },
   {
    "duration": 20,
    "start_time": "2024-04-02T19:10:47.500Z"
   },
   {
    "duration": 18,
    "start_time": "2024-04-02T19:10:47.522Z"
   },
   {
    "duration": 17,
    "start_time": "2024-04-02T19:10:47.542Z"
   },
   {
    "duration": 20,
    "start_time": "2024-04-02T19:10:47.561Z"
   },
   {
    "duration": 8,
    "start_time": "2024-04-02T19:10:47.583Z"
   },
   {
    "duration": 17,
    "start_time": "2024-04-02T19:10:47.593Z"
   },
   {
    "duration": 19,
    "start_time": "2024-04-02T19:10:47.612Z"
   },
   {
    "duration": 21,
    "start_time": "2024-04-02T19:10:47.633Z"
   },
   {
    "duration": 248,
    "start_time": "2024-04-02T19:10:47.655Z"
   },
   {
    "duration": 147,
    "start_time": "2024-04-02T19:10:47.905Z"
   },
   {
    "duration": 1015,
    "start_time": "2024-04-02T19:10:48.054Z"
   },
   {
    "duration": 150,
    "start_time": "2024-04-02T19:11:14.847Z"
   },
   {
    "duration": 3,
    "start_time": "2024-04-02T19:20:46.489Z"
   },
   {
    "duration": 97,
    "start_time": "2024-04-02T19:20:46.494Z"
   },
   {
    "duration": 22,
    "start_time": "2024-04-02T19:20:46.592Z"
   },
   {
    "duration": 13,
    "start_time": "2024-04-02T19:20:46.616Z"
   },
   {
    "duration": 9,
    "start_time": "2024-04-02T19:20:46.631Z"
   },
   {
    "duration": 17,
    "start_time": "2024-04-02T19:20:46.641Z"
   },
   {
    "duration": 4,
    "start_time": "2024-04-02T19:20:46.665Z"
   },
   {
    "duration": 13,
    "start_time": "2024-04-02T19:20:46.671Z"
   },
   {
    "duration": 9,
    "start_time": "2024-04-02T19:20:46.686Z"
   },
   {
    "duration": 27,
    "start_time": "2024-04-02T19:20:46.697Z"
   },
   {
    "duration": 250,
    "start_time": "2024-04-02T19:20:46.726Z"
   },
   {
    "duration": 142,
    "start_time": "2024-04-02T19:20:46.978Z"
   },
   {
    "duration": 163,
    "start_time": "2024-04-02T19:20:47.122Z"
   },
   {
    "duration": 3,
    "start_time": "2024-04-02T19:22:53.191Z"
   },
   {
    "duration": 110,
    "start_time": "2024-04-02T19:22:53.196Z"
   },
   {
    "duration": 20,
    "start_time": "2024-04-02T19:22:53.308Z"
   },
   {
    "duration": 14,
    "start_time": "2024-04-02T19:22:53.330Z"
   },
   {
    "duration": 7,
    "start_time": "2024-04-02T19:22:53.346Z"
   },
   {
    "duration": 12,
    "start_time": "2024-04-02T19:22:53.354Z"
   },
   {
    "duration": 8,
    "start_time": "2024-04-02T19:22:53.367Z"
   },
   {
    "duration": 10,
    "start_time": "2024-04-02T19:22:53.376Z"
   },
   {
    "duration": 14,
    "start_time": "2024-04-02T19:22:53.388Z"
   },
   {
    "duration": 5,
    "start_time": "2024-04-02T19:22:53.404Z"
   },
   {
    "duration": 252,
    "start_time": "2024-04-02T19:22:53.411Z"
   },
   {
    "duration": 148,
    "start_time": "2024-04-02T19:22:53.666Z"
   },
   {
    "duration": 251,
    "start_time": "2024-04-02T19:22:53.816Z"
   },
   {
    "duration": 3,
    "start_time": "2024-04-02T19:23:35.989Z"
   },
   {
    "duration": 89,
    "start_time": "2024-04-02T19:23:35.994Z"
   },
   {
    "duration": 23,
    "start_time": "2024-04-02T19:23:36.085Z"
   },
   {
    "duration": 15,
    "start_time": "2024-04-02T19:23:36.110Z"
   },
   {
    "duration": 8,
    "start_time": "2024-04-02T19:23:36.127Z"
   },
   {
    "duration": 34,
    "start_time": "2024-04-02T19:23:36.137Z"
   },
   {
    "duration": 13,
    "start_time": "2024-04-02T19:23:36.172Z"
   },
   {
    "duration": 11,
    "start_time": "2024-04-02T19:23:36.186Z"
   },
   {
    "duration": 7,
    "start_time": "2024-04-02T19:23:36.199Z"
   },
   {
    "duration": 9,
    "start_time": "2024-04-02T19:23:36.207Z"
   },
   {
    "duration": 245,
    "start_time": "2024-04-02T19:23:36.218Z"
   },
   {
    "duration": 142,
    "start_time": "2024-04-02T19:23:36.465Z"
   },
   {
    "duration": 175,
    "start_time": "2024-04-02T19:23:36.608Z"
   },
   {
    "duration": 53,
    "start_time": "2024-04-06T07:26:17.759Z"
   },
   {
    "duration": 430,
    "start_time": "2024-04-06T07:26:52.177Z"
   },
   {
    "duration": 330,
    "start_time": "2024-04-06T07:26:52.609Z"
   },
   {
    "duration": 27,
    "start_time": "2024-04-06T07:26:52.941Z"
   },
   {
    "duration": 19,
    "start_time": "2024-04-06T07:26:52.969Z"
   },
   {
    "duration": 8,
    "start_time": "2024-04-06T07:26:52.990Z"
   },
   {
    "duration": 5,
    "start_time": "2024-04-06T07:26:53.000Z"
   },
   {
    "duration": 14,
    "start_time": "2024-04-06T07:26:53.007Z"
   },
   {
    "duration": 6,
    "start_time": "2024-04-06T07:26:53.022Z"
   },
   {
    "duration": 6,
    "start_time": "2024-04-06T07:26:53.030Z"
   },
   {
    "duration": 40,
    "start_time": "2024-04-06T07:26:53.037Z"
   },
   {
    "duration": 707,
    "start_time": "2024-04-06T07:26:53.079Z"
   },
   {
    "duration": 161,
    "start_time": "2024-04-06T07:26:53.788Z"
   },
   {
    "duration": 192,
    "start_time": "2024-04-06T07:26:53.950Z"
   },
   {
    "duration": 28,
    "start_time": "2024-04-06T07:26:54.145Z"
   },
   {
    "duration": 2,
    "start_time": "2024-04-06T07:27:35.229Z"
   },
   {
    "duration": 85,
    "start_time": "2024-04-06T07:27:35.233Z"
   },
   {
    "duration": 24,
    "start_time": "2024-04-06T07:27:35.320Z"
   },
   {
    "duration": 16,
    "start_time": "2024-04-06T07:27:35.346Z"
   },
   {
    "duration": 9,
    "start_time": "2024-04-06T07:27:35.372Z"
   },
   {
    "duration": 20,
    "start_time": "2024-04-06T07:27:35.382Z"
   },
   {
    "duration": 18,
    "start_time": "2024-04-06T07:27:35.403Z"
   },
   {
    "duration": 7,
    "start_time": "2024-04-06T07:27:35.422Z"
   },
   {
    "duration": 6,
    "start_time": "2024-04-06T07:27:35.431Z"
   },
   {
    "duration": 9,
    "start_time": "2024-04-06T07:27:35.439Z"
   },
   {
    "duration": 268,
    "start_time": "2024-04-06T07:27:35.449Z"
   },
   {
    "duration": 218,
    "start_time": "2024-04-06T07:27:35.718Z"
   },
   {
    "duration": 197,
    "start_time": "2024-04-06T07:27:35.938Z"
   },
   {
    "duration": 16,
    "start_time": "2024-04-06T07:27:36.137Z"
   },
   {
    "duration": 3,
    "start_time": "2024-04-06T07:36:21.741Z"
   },
   {
    "duration": 94,
    "start_time": "2024-04-06T07:36:21.746Z"
   },
   {
    "duration": 27,
    "start_time": "2024-04-06T07:36:21.842Z"
   },
   {
    "duration": 19,
    "start_time": "2024-04-06T07:36:21.871Z"
   },
   {
    "duration": 8,
    "start_time": "2024-04-06T07:36:21.893Z"
   },
   {
    "duration": 5,
    "start_time": "2024-04-06T07:36:21.903Z"
   },
   {
    "duration": 9,
    "start_time": "2024-04-06T07:36:21.909Z"
   },
   {
    "duration": 10,
    "start_time": "2024-04-06T07:36:21.920Z"
   },
   {
    "duration": 21,
    "start_time": "2024-04-06T07:36:21.932Z"
   },
   {
    "duration": 23,
    "start_time": "2024-04-06T07:36:21.954Z"
   },
   {
    "duration": 12,
    "start_time": "2024-04-06T07:36:21.979Z"
   },
   {
    "duration": 272,
    "start_time": "2024-04-06T07:36:21.992Z"
   },
   {
    "duration": 162,
    "start_time": "2024-04-06T07:36:22.265Z"
   },
   {
    "duration": 196,
    "start_time": "2024-04-06T07:36:22.430Z"
   },
   {
    "duration": 15,
    "start_time": "2024-04-06T07:36:22.628Z"
   },
   {
    "duration": 3,
    "start_time": "2024-04-06T07:37:10.461Z"
   },
   {
    "duration": 87,
    "start_time": "2024-04-06T07:37:10.465Z"
   },
   {
    "duration": 24,
    "start_time": "2024-04-06T07:37:10.553Z"
   },
   {
    "duration": 16,
    "start_time": "2024-04-06T07:37:10.578Z"
   },
   {
    "duration": 7,
    "start_time": "2024-04-06T07:37:10.596Z"
   },
   {
    "duration": 9,
    "start_time": "2024-04-06T07:37:10.605Z"
   },
   {
    "duration": 7,
    "start_time": "2024-04-06T07:37:10.616Z"
   },
   {
    "duration": 4,
    "start_time": "2024-04-06T07:37:10.625Z"
   },
   {
    "duration": 7,
    "start_time": "2024-04-06T07:37:10.631Z"
   },
   {
    "duration": 38,
    "start_time": "2024-04-06T07:37:10.639Z"
   },
   {
    "duration": 18,
    "start_time": "2024-04-06T07:37:10.678Z"
   },
   {
    "duration": 265,
    "start_time": "2024-04-06T07:37:10.698Z"
   },
   {
    "duration": 160,
    "start_time": "2024-04-06T07:37:10.965Z"
   },
   {
    "duration": 186,
    "start_time": "2024-04-06T07:37:11.127Z"
   },
   {
    "duration": 15,
    "start_time": "2024-04-06T07:37:11.315Z"
   },
   {
    "duration": 3,
    "start_time": "2024-04-06T07:38:29.251Z"
   },
   {
    "duration": 93,
    "start_time": "2024-04-06T07:38:29.256Z"
   },
   {
    "duration": 25,
    "start_time": "2024-04-06T07:38:29.350Z"
   },
   {
    "duration": 16,
    "start_time": "2024-04-06T07:38:29.377Z"
   },
   {
    "duration": 8,
    "start_time": "2024-04-06T07:38:29.395Z"
   },
   {
    "duration": 10,
    "start_time": "2024-04-06T07:38:29.404Z"
   },
   {
    "duration": 13,
    "start_time": "2024-04-06T07:38:29.416Z"
   },
   {
    "duration": 8,
    "start_time": "2024-04-06T07:38:29.432Z"
   },
   {
    "duration": 9,
    "start_time": "2024-04-06T07:38:29.442Z"
   },
   {
    "duration": 26,
    "start_time": "2024-04-06T07:38:29.472Z"
   },
   {
    "duration": 13,
    "start_time": "2024-04-06T07:38:29.499Z"
   },
   {
    "duration": 285,
    "start_time": "2024-04-06T07:38:29.513Z"
   },
   {
    "duration": 160,
    "start_time": "2024-04-06T07:38:29.800Z"
   },
   {
    "duration": 214,
    "start_time": "2024-04-06T07:38:29.962Z"
   },
   {
    "duration": 16,
    "start_time": "2024-04-06T07:38:30.179Z"
   },
   {
    "duration": 2,
    "start_time": "2024-04-06T07:39:14.742Z"
   },
   {
    "duration": 91,
    "start_time": "2024-04-06T07:39:14.746Z"
   },
   {
    "duration": 26,
    "start_time": "2024-04-06T07:39:14.839Z"
   },
   {
    "duration": 17,
    "start_time": "2024-04-06T07:39:14.867Z"
   },
   {
    "duration": 9,
    "start_time": "2024-04-06T07:39:14.887Z"
   },
   {
    "duration": 7,
    "start_time": "2024-04-06T07:39:14.898Z"
   },
   {
    "duration": 9,
    "start_time": "2024-04-06T07:39:14.906Z"
   },
   {
    "duration": 6,
    "start_time": "2024-04-06T07:39:14.917Z"
   },
   {
    "duration": 10,
    "start_time": "2024-04-06T07:39:14.925Z"
   },
   {
    "duration": 40,
    "start_time": "2024-04-06T07:39:14.937Z"
   },
   {
    "duration": 8,
    "start_time": "2024-04-06T07:39:14.979Z"
   },
   {
    "duration": 343,
    "start_time": "2024-04-06T07:39:14.988Z"
   },
   {
    "duration": 159,
    "start_time": "2024-04-06T07:39:15.333Z"
   },
   {
    "duration": 183,
    "start_time": "2024-04-06T07:39:15.495Z"
   },
   {
    "duration": 194,
    "start_time": "2024-04-06T07:39:15.681Z"
   },
   {
    "duration": 3,
    "start_time": "2024-04-06T07:39:36.401Z"
   },
   {
    "duration": 90,
    "start_time": "2024-04-06T07:39:36.405Z"
   },
   {
    "duration": 24,
    "start_time": "2024-04-06T07:39:36.497Z"
   },
   {
    "duration": 15,
    "start_time": "2024-04-06T07:39:36.523Z"
   },
   {
    "duration": 9,
    "start_time": "2024-04-06T07:39:36.540Z"
   },
   {
    "duration": 6,
    "start_time": "2024-04-06T07:39:36.573Z"
   },
   {
    "duration": 7,
    "start_time": "2024-04-06T07:39:36.581Z"
   },
   {
    "duration": 4,
    "start_time": "2024-04-06T07:39:36.589Z"
   },
   {
    "duration": 5,
    "start_time": "2024-04-06T07:39:36.595Z"
   },
   {
    "duration": 6,
    "start_time": "2024-04-06T07:39:36.601Z"
   },
   {
    "duration": 6,
    "start_time": "2024-04-06T07:39:36.608Z"
   },
   {
    "duration": 304,
    "start_time": "2024-04-06T07:39:36.615Z"
   },
   {
    "duration": 186,
    "start_time": "2024-04-06T07:39:36.921Z"
   },
   {
    "duration": 187,
    "start_time": "2024-04-06T07:39:37.110Z"
   },
   {
    "duration": 210,
    "start_time": "2024-04-06T07:39:37.298Z"
   },
   {
    "duration": 182,
    "start_time": "2024-04-06T07:40:08.931Z"
   },
   {
    "duration": 3,
    "start_time": "2024-04-06T07:41:39.721Z"
   },
   {
    "duration": 94,
    "start_time": "2024-04-06T07:41:39.726Z"
   },
   {
    "duration": 27,
    "start_time": "2024-04-06T07:41:39.822Z"
   },
   {
    "duration": 23,
    "start_time": "2024-04-06T07:41:39.851Z"
   },
   {
    "duration": 9,
    "start_time": "2024-04-06T07:41:39.876Z"
   },
   {
    "duration": 7,
    "start_time": "2024-04-06T07:41:39.887Z"
   },
   {
    "duration": 8,
    "start_time": "2024-04-06T07:41:39.896Z"
   },
   {
    "duration": 5,
    "start_time": "2024-04-06T07:41:39.906Z"
   },
   {
    "duration": 6,
    "start_time": "2024-04-06T07:41:39.995Z"
   },
   {
    "duration": 26,
    "start_time": "2024-04-06T07:41:40.004Z"
   },
   {
    "duration": 23,
    "start_time": "2024-04-06T07:41:40.032Z"
   },
   {
    "duration": 283,
    "start_time": "2024-04-06T07:41:40.057Z"
   },
   {
    "duration": 163,
    "start_time": "2024-04-06T07:41:40.343Z"
   },
   {
    "duration": 266,
    "start_time": "2024-04-06T07:41:40.509Z"
   },
   {
    "duration": 223,
    "start_time": "2024-04-06T07:41:40.777Z"
   },
   {
    "duration": 2,
    "start_time": "2024-04-06T07:44:19.220Z"
   },
   {
    "duration": 85,
    "start_time": "2024-04-06T07:44:19.224Z"
   },
   {
    "duration": 24,
    "start_time": "2024-04-06T07:44:19.311Z"
   },
   {
    "duration": 15,
    "start_time": "2024-04-06T07:44:19.336Z"
   },
   {
    "duration": 21,
    "start_time": "2024-04-06T07:44:19.353Z"
   },
   {
    "duration": 6,
    "start_time": "2024-04-06T07:44:19.375Z"
   },
   {
    "duration": 8,
    "start_time": "2024-04-06T07:44:19.382Z"
   },
   {
    "duration": 9,
    "start_time": "2024-04-06T07:44:19.391Z"
   },
   {
    "duration": 8,
    "start_time": "2024-04-06T07:44:19.402Z"
   },
   {
    "duration": 15,
    "start_time": "2024-04-06T07:44:19.412Z"
   },
   {
    "duration": 5,
    "start_time": "2024-04-06T07:44:19.429Z"
   },
   {
    "duration": 290,
    "start_time": "2024-04-06T07:44:19.436Z"
   },
   {
    "duration": 160,
    "start_time": "2024-04-06T07:44:19.727Z"
   },
   {
    "duration": 200,
    "start_time": "2024-04-06T07:44:19.890Z"
   },
   {
    "duration": 228,
    "start_time": "2024-04-06T07:44:20.092Z"
   },
   {
    "duration": 215,
    "start_time": "2024-04-06T07:44:20.322Z"
   },
   {
    "duration": 3,
    "start_time": "2024-04-06T07:57:52.541Z"
   },
   {
    "duration": 92,
    "start_time": "2024-04-06T07:57:52.547Z"
   },
   {
    "duration": 26,
    "start_time": "2024-04-06T07:57:52.641Z"
   },
   {
    "duration": 21,
    "start_time": "2024-04-06T07:57:52.669Z"
   },
   {
    "duration": 9,
    "start_time": "2024-04-06T07:57:52.693Z"
   },
   {
    "duration": 18,
    "start_time": "2024-04-06T07:57:52.703Z"
   },
   {
    "duration": 7,
    "start_time": "2024-04-06T07:57:52.723Z"
   },
   {
    "duration": 9,
    "start_time": "2024-04-06T07:57:52.731Z"
   },
   {
    "duration": 6,
    "start_time": "2024-04-06T07:57:52.741Z"
   },
   {
    "duration": 6,
    "start_time": "2024-04-06T07:57:52.749Z"
   },
   {
    "duration": 7,
    "start_time": "2024-04-06T07:57:52.774Z"
   },
   {
    "duration": 284,
    "start_time": "2024-04-06T07:57:52.783Z"
   },
   {
    "duration": 172,
    "start_time": "2024-04-06T07:57:53.072Z"
   },
   {
    "duration": 191,
    "start_time": "2024-04-06T07:57:53.247Z"
   },
   {
    "duration": 236,
    "start_time": "2024-04-06T07:57:53.440Z"
   },
   {
    "duration": 222,
    "start_time": "2024-04-06T07:57:53.677Z"
   },
   {
    "duration": 11,
    "start_time": "2024-04-06T07:57:53.900Z"
   },
   {
    "duration": 14,
    "start_time": "2024-04-06T07:57:58.090Z"
   },
   {
    "duration": 2,
    "start_time": "2024-04-06T07:58:12.041Z"
   },
   {
    "duration": 90,
    "start_time": "2024-04-06T07:58:12.045Z"
   },
   {
    "duration": 33,
    "start_time": "2024-04-06T07:58:12.137Z"
   },
   {
    "duration": 21,
    "start_time": "2024-04-06T07:58:12.172Z"
   },
   {
    "duration": 8,
    "start_time": "2024-04-06T07:58:12.195Z"
   },
   {
    "duration": 6,
    "start_time": "2024-04-06T07:58:12.204Z"
   },
   {
    "duration": 10,
    "start_time": "2024-04-06T07:58:12.212Z"
   },
   {
    "duration": 51,
    "start_time": "2024-04-06T07:58:12.224Z"
   },
   {
    "duration": 21,
    "start_time": "2024-04-06T07:58:12.276Z"
   },
   {
    "duration": 8,
    "start_time": "2024-04-06T07:58:12.299Z"
   },
   {
    "duration": 118,
    "start_time": "2024-04-06T07:58:12.309Z"
   },
   {
    "duration": 277,
    "start_time": "2024-04-06T07:58:12.429Z"
   },
   {
    "duration": 166,
    "start_time": "2024-04-06T07:58:12.707Z"
   },
   {
    "duration": 180,
    "start_time": "2024-04-06T07:58:12.876Z"
   },
   {
    "duration": 222,
    "start_time": "2024-04-06T07:58:13.058Z"
   },
   {
    "duration": 253,
    "start_time": "2024-04-06T07:58:13.282Z"
   },
   {
    "duration": 37,
    "start_time": "2024-04-06T07:58:13.537Z"
   },
   {
    "duration": 4,
    "start_time": "2024-04-06T08:02:41.698Z"
   },
   {
    "duration": 96,
    "start_time": "2024-04-06T08:02:41.704Z"
   },
   {
    "duration": 26,
    "start_time": "2024-04-06T08:02:41.802Z"
   },
   {
    "duration": 17,
    "start_time": "2024-04-06T08:02:41.829Z"
   },
   {
    "duration": 28,
    "start_time": "2024-04-06T08:02:41.848Z"
   },
   {
    "duration": 6,
    "start_time": "2024-04-06T08:02:41.878Z"
   },
   {
    "duration": 8,
    "start_time": "2024-04-06T08:02:41.886Z"
   },
   {
    "duration": 4,
    "start_time": "2024-04-06T08:02:41.896Z"
   },
   {
    "duration": 7,
    "start_time": "2024-04-06T08:02:41.902Z"
   },
   {
    "duration": 6,
    "start_time": "2024-04-06T08:02:41.911Z"
   },
   {
    "duration": 19,
    "start_time": "2024-04-06T08:02:41.918Z"
   },
   {
    "duration": 305,
    "start_time": "2024-04-06T08:02:41.939Z"
   },
   {
    "duration": 163,
    "start_time": "2024-04-06T08:02:42.246Z"
   },
   {
    "duration": 190,
    "start_time": "2024-04-06T08:02:42.411Z"
   },
   {
    "duration": 221,
    "start_time": "2024-04-06T08:02:42.603Z"
   },
   {
    "duration": 235,
    "start_time": "2024-04-06T08:02:42.825Z"
   },
   {
    "duration": 58,
    "start_time": "2024-04-06T08:02:43.062Z"
   },
   {
    "duration": 3,
    "start_time": "2024-04-06T08:03:20.119Z"
   },
   {
    "duration": 90,
    "start_time": "2024-04-06T08:03:20.124Z"
   },
   {
    "duration": 24,
    "start_time": "2024-04-06T08:03:20.215Z"
   },
   {
    "duration": 16,
    "start_time": "2024-04-06T08:03:20.241Z"
   },
   {
    "duration": 16,
    "start_time": "2024-04-06T08:03:20.259Z"
   },
   {
    "duration": 16,
    "start_time": "2024-04-06T08:03:20.277Z"
   },
   {
    "duration": 36,
    "start_time": "2024-04-06T08:03:20.295Z"
   },
   {
    "duration": 16,
    "start_time": "2024-04-06T08:03:20.333Z"
   },
   {
    "duration": 8,
    "start_time": "2024-04-06T08:03:20.352Z"
   },
   {
    "duration": 10,
    "start_time": "2024-04-06T08:03:20.362Z"
   },
   {
    "duration": 13,
    "start_time": "2024-04-06T08:03:20.374Z"
   },
   {
    "duration": 267,
    "start_time": "2024-04-06T08:03:20.389Z"
   },
   {
    "duration": 165,
    "start_time": "2024-04-06T08:03:20.658Z"
   },
   {
    "duration": 202,
    "start_time": "2024-04-06T08:03:20.825Z"
   },
   {
    "duration": 221,
    "start_time": "2024-04-06T08:03:21.029Z"
   },
   {
    "duration": 232,
    "start_time": "2024-04-06T08:03:21.251Z"
   },
   {
    "duration": 24,
    "start_time": "2024-04-06T08:03:21.484Z"
   },
   {
    "duration": 24,
    "start_time": "2024-04-06T08:03:21.510Z"
   },
   {
    "duration": 3,
    "start_time": "2024-04-06T08:04:34.469Z"
   },
   {
    "duration": 91,
    "start_time": "2024-04-06T08:04:34.474Z"
   },
   {
    "duration": 26,
    "start_time": "2024-04-06T08:04:34.566Z"
   },
   {
    "duration": 16,
    "start_time": "2024-04-06T08:04:34.593Z"
   },
   {
    "duration": 8,
    "start_time": "2024-04-06T08:04:34.611Z"
   },
   {
    "duration": 6,
    "start_time": "2024-04-06T08:04:34.621Z"
   },
   {
    "duration": 16,
    "start_time": "2024-04-06T08:04:34.628Z"
   },
   {
    "duration": 29,
    "start_time": "2024-04-06T08:04:34.645Z"
   },
   {
    "duration": 7,
    "start_time": "2024-04-06T08:04:34.675Z"
   },
   {
    "duration": 5,
    "start_time": "2024-04-06T08:04:34.684Z"
   },
   {
    "duration": 153,
    "start_time": "2024-04-06T08:04:34.691Z"
   },
   {
    "duration": 284,
    "start_time": "2024-04-06T08:04:34.845Z"
   },
   {
    "duration": 166,
    "start_time": "2024-04-06T08:04:35.130Z"
   },
   {
    "duration": 191,
    "start_time": "2024-04-06T08:04:35.300Z"
   },
   {
    "duration": 215,
    "start_time": "2024-04-06T08:04:35.493Z"
   },
   {
    "duration": 219,
    "start_time": "2024-04-06T08:04:35.710Z"
   },
   {
    "duration": 24,
    "start_time": "2024-04-06T08:04:35.931Z"
   },
   {
    "duration": 38,
    "start_time": "2024-04-06T08:04:35.957Z"
   },
   {
    "duration": 3,
    "start_time": "2024-04-06T08:04:43.317Z"
   },
   {
    "duration": 92,
    "start_time": "2024-04-06T08:04:43.322Z"
   },
   {
    "duration": 27,
    "start_time": "2024-04-06T08:04:43.415Z"
   },
   {
    "duration": 17,
    "start_time": "2024-04-06T08:04:43.443Z"
   },
   {
    "duration": 16,
    "start_time": "2024-04-06T08:04:43.462Z"
   },
   {
    "duration": 15,
    "start_time": "2024-04-06T08:04:43.480Z"
   },
   {
    "duration": 9,
    "start_time": "2024-04-06T08:04:43.497Z"
   },
   {
    "duration": 6,
    "start_time": "2024-04-06T08:04:43.508Z"
   },
   {
    "duration": 12,
    "start_time": "2024-04-06T08:04:43.516Z"
   },
   {
    "duration": 21,
    "start_time": "2024-04-06T08:04:43.530Z"
   },
   {
    "duration": 21,
    "start_time": "2024-04-06T08:04:43.553Z"
   },
   {
    "duration": 272,
    "start_time": "2024-04-06T08:04:43.575Z"
   },
   {
    "duration": 164,
    "start_time": "2024-04-06T08:04:43.848Z"
   },
   {
    "duration": 198,
    "start_time": "2024-04-06T08:04:44.016Z"
   },
   {
    "duration": 225,
    "start_time": "2024-04-06T08:04:44.216Z"
   },
   {
    "duration": 232,
    "start_time": "2024-04-06T08:04:44.443Z"
   },
   {
    "duration": 30,
    "start_time": "2024-04-06T08:04:44.677Z"
   },
   {
    "duration": 25,
    "start_time": "2024-04-06T08:04:44.709Z"
   },
   {
    "duration": 40,
    "start_time": "2024-04-06T08:04:44.736Z"
   },
   {
    "duration": 2,
    "start_time": "2024-04-06T08:07:30.619Z"
   },
   {
    "duration": 140,
    "start_time": "2024-04-06T08:07:30.623Z"
   },
   {
    "duration": 25,
    "start_time": "2024-04-06T08:07:30.765Z"
   },
   {
    "duration": 65,
    "start_time": "2024-04-06T08:07:30.792Z"
   },
   {
    "duration": 53,
    "start_time": "2024-04-06T08:07:30.860Z"
   },
   {
    "duration": 60,
    "start_time": "2024-04-06T08:07:30.915Z"
   },
   {
    "duration": 52,
    "start_time": "2024-04-06T08:07:30.976Z"
   },
   {
    "duration": 72,
    "start_time": "2024-04-06T08:07:31.030Z"
   },
   {
    "duration": 59,
    "start_time": "2024-04-06T08:07:31.104Z"
   },
   {
    "duration": 33,
    "start_time": "2024-04-06T08:07:31.165Z"
   },
   {
    "duration": 48,
    "start_time": "2024-04-06T08:07:31.199Z"
   },
   {
    "duration": 318,
    "start_time": "2024-04-06T08:07:31.249Z"
   },
   {
    "duration": 156,
    "start_time": "2024-04-06T08:07:31.573Z"
   },
   {
    "duration": 199,
    "start_time": "2024-04-06T08:07:31.732Z"
   },
   {
    "duration": 228,
    "start_time": "2024-04-06T08:07:31.932Z"
   },
   {
    "duration": 220,
    "start_time": "2024-04-06T08:07:32.162Z"
   },
   {
    "duration": 25,
    "start_time": "2024-04-06T08:07:32.384Z"
   },
   {
    "duration": 25,
    "start_time": "2024-04-06T08:07:32.411Z"
   },
   {
    "duration": 43,
    "start_time": "2024-04-06T08:07:32.438Z"
   },
   {
    "duration": 73,
    "start_time": "2024-04-06T08:07:32.483Z"
   },
   {
    "duration": 0,
    "start_time": "2024-04-06T08:07:32.558Z"
   },
   {
    "duration": 3,
    "start_time": "2024-04-06T08:08:25.134Z"
   },
   {
    "duration": 88,
    "start_time": "2024-04-06T08:08:25.138Z"
   },
   {
    "duration": 25,
    "start_time": "2024-04-06T08:08:25.228Z"
   },
   {
    "duration": 21,
    "start_time": "2024-04-06T08:08:25.256Z"
   },
   {
    "duration": 9,
    "start_time": "2024-04-06T08:08:25.278Z"
   },
   {
    "duration": 7,
    "start_time": "2024-04-06T08:08:25.290Z"
   },
   {
    "duration": 13,
    "start_time": "2024-04-06T08:08:25.298Z"
   },
   {
    "duration": 7,
    "start_time": "2024-04-06T08:08:25.313Z"
   },
   {
    "duration": 8,
    "start_time": "2024-04-06T08:08:25.322Z"
   },
   {
    "duration": 44,
    "start_time": "2024-04-06T08:08:25.333Z"
   },
   {
    "duration": 7,
    "start_time": "2024-04-06T08:08:25.379Z"
   },
   {
    "duration": 296,
    "start_time": "2024-04-06T08:08:25.387Z"
   },
   {
    "duration": 165,
    "start_time": "2024-04-06T08:08:25.684Z"
   },
   {
    "duration": 189,
    "start_time": "2024-04-06T08:08:25.851Z"
   },
   {
    "duration": 368,
    "start_time": "2024-04-06T08:08:26.042Z"
   },
   {
    "duration": 229,
    "start_time": "2024-04-06T08:08:26.412Z"
   },
   {
    "duration": 33,
    "start_time": "2024-04-06T08:08:26.642Z"
   },
   {
    "duration": 25,
    "start_time": "2024-04-06T08:08:26.677Z"
   },
   {
    "duration": 10,
    "start_time": "2024-04-06T08:08:26.703Z"
   },
   {
    "duration": 10,
    "start_time": "2024-04-06T08:08:26.714Z"
   },
   {
    "duration": 7,
    "start_time": "2024-04-06T08:08:26.726Z"
   },
   {
    "duration": 2,
    "start_time": "2024-04-06T08:14:38.692Z"
   },
   {
    "duration": 90,
    "start_time": "2024-04-06T08:14:38.697Z"
   },
   {
    "duration": 25,
    "start_time": "2024-04-06T08:14:38.789Z"
   },
   {
    "duration": 17,
    "start_time": "2024-04-06T08:14:38.816Z"
   },
   {
    "duration": 11,
    "start_time": "2024-04-06T08:14:38.835Z"
   },
   {
    "duration": 8,
    "start_time": "2024-04-06T08:14:38.874Z"
   },
   {
    "duration": 22,
    "start_time": "2024-04-06T08:14:38.884Z"
   },
   {
    "duration": 6,
    "start_time": "2024-04-06T08:14:38.907Z"
   },
   {
    "duration": 7,
    "start_time": "2024-04-06T08:14:38.916Z"
   },
   {
    "duration": 7,
    "start_time": "2024-04-06T08:14:38.925Z"
   },
   {
    "duration": 7,
    "start_time": "2024-04-06T08:14:38.933Z"
   },
   {
    "duration": 275,
    "start_time": "2024-04-06T08:14:38.974Z"
   },
   {
    "duration": 170,
    "start_time": "2024-04-06T08:14:39.251Z"
   },
   {
    "duration": 195,
    "start_time": "2024-04-06T08:14:39.423Z"
   },
   {
    "duration": 234,
    "start_time": "2024-04-06T08:14:39.621Z"
   },
   {
    "duration": 237,
    "start_time": "2024-04-06T08:14:39.857Z"
   },
   {
    "duration": 26,
    "start_time": "2024-04-06T08:14:40.096Z"
   },
   {
    "duration": 27,
    "start_time": "2024-04-06T08:14:40.123Z"
   },
   {
    "duration": 27,
    "start_time": "2024-04-06T08:14:40.152Z"
   },
   {
    "duration": 9,
    "start_time": "2024-04-06T08:14:40.181Z"
   },
   {
    "duration": 13,
    "start_time": "2024-04-06T08:14:40.192Z"
   },
   {
    "duration": 231,
    "start_time": "2024-04-06T08:14:40.206Z"
   },
   {
    "duration": 3,
    "start_time": "2024-04-06T08:15:51.796Z"
   },
   {
    "duration": 92,
    "start_time": "2024-04-06T08:15:51.801Z"
   },
   {
    "duration": 26,
    "start_time": "2024-04-06T08:15:51.894Z"
   },
   {
    "duration": 18,
    "start_time": "2024-04-06T08:15:51.921Z"
   },
   {
    "duration": 34,
    "start_time": "2024-04-06T08:15:51.942Z"
   },
   {
    "duration": 6,
    "start_time": "2024-04-06T08:15:51.978Z"
   },
   {
    "duration": 18,
    "start_time": "2024-04-06T08:15:51.985Z"
   },
   {
    "duration": 5,
    "start_time": "2024-04-06T08:15:52.005Z"
   },
   {
    "duration": 14,
    "start_time": "2024-04-06T08:15:52.011Z"
   },
   {
    "duration": 44,
    "start_time": "2024-04-06T08:15:52.027Z"
   },
   {
    "duration": 54,
    "start_time": "2024-04-06T08:15:52.073Z"
   },
   {
    "duration": 286,
    "start_time": "2024-04-06T08:15:52.129Z"
   },
   {
    "duration": 165,
    "start_time": "2024-04-06T08:15:52.417Z"
   },
   {
    "duration": 190,
    "start_time": "2024-04-06T08:15:52.586Z"
   },
   {
    "duration": 228,
    "start_time": "2024-04-06T08:15:52.777Z"
   },
   {
    "duration": 227,
    "start_time": "2024-04-06T08:15:53.007Z"
   },
   {
    "duration": 25,
    "start_time": "2024-04-06T08:15:53.236Z"
   },
   {
    "duration": 32,
    "start_time": "2024-04-06T08:15:53.262Z"
   },
   {
    "duration": 9,
    "start_time": "2024-04-06T08:15:53.296Z"
   },
   {
    "duration": 8,
    "start_time": "2024-04-06T08:15:53.307Z"
   },
   {
    "duration": 6,
    "start_time": "2024-04-06T08:15:53.317Z"
   },
   {
    "duration": 277,
    "start_time": "2024-04-06T08:15:53.325Z"
   },
   {
    "duration": 3,
    "start_time": "2024-04-06T08:16:03.180Z"
   },
   {
    "duration": 107,
    "start_time": "2024-04-06T08:16:03.185Z"
   },
   {
    "duration": 24,
    "start_time": "2024-04-06T08:16:03.293Z"
   },
   {
    "duration": 16,
    "start_time": "2024-04-06T08:16:03.318Z"
   },
   {
    "duration": 8,
    "start_time": "2024-04-06T08:16:03.336Z"
   },
   {
    "duration": 30,
    "start_time": "2024-04-06T08:16:03.346Z"
   },
   {
    "duration": 8,
    "start_time": "2024-04-06T08:16:03.377Z"
   },
   {
    "duration": 15,
    "start_time": "2024-04-06T08:16:03.386Z"
   },
   {
    "duration": 10,
    "start_time": "2024-04-06T08:16:03.403Z"
   },
   {
    "duration": 8,
    "start_time": "2024-04-06T08:16:03.414Z"
   },
   {
    "duration": 12,
    "start_time": "2024-04-06T08:16:03.423Z"
   },
   {
    "duration": 307,
    "start_time": "2024-04-06T08:16:03.438Z"
   },
   {
    "duration": 216,
    "start_time": "2024-04-06T08:16:03.747Z"
   },
   {
    "duration": 212,
    "start_time": "2024-04-06T08:16:03.972Z"
   },
   {
    "duration": 219,
    "start_time": "2024-04-06T08:16:04.186Z"
   },
   {
    "duration": 219,
    "start_time": "2024-04-06T08:16:04.406Z"
   },
   {
    "duration": 25,
    "start_time": "2024-04-06T08:16:04.627Z"
   },
   {
    "duration": 39,
    "start_time": "2024-04-06T08:16:04.654Z"
   },
   {
    "duration": 8,
    "start_time": "2024-04-06T08:16:04.695Z"
   },
   {
    "duration": 8,
    "start_time": "2024-04-06T08:16:04.705Z"
   },
   {
    "duration": 9,
    "start_time": "2024-04-06T08:16:04.714Z"
   },
   {
    "duration": 498,
    "start_time": "2024-04-06T08:16:04.724Z"
   },
   {
    "duration": 3,
    "start_time": "2024-04-06T08:17:56.039Z"
   },
   {
    "duration": 97,
    "start_time": "2024-04-06T08:17:56.043Z"
   },
   {
    "duration": 23,
    "start_time": "2024-04-06T08:17:56.142Z"
   },
   {
    "duration": 15,
    "start_time": "2024-04-06T08:17:56.167Z"
   },
   {
    "duration": 8,
    "start_time": "2024-04-06T08:17:56.184Z"
   },
   {
    "duration": 9,
    "start_time": "2024-04-06T08:17:56.194Z"
   },
   {
    "duration": 8,
    "start_time": "2024-04-06T08:17:56.205Z"
   },
   {
    "duration": 5,
    "start_time": "2024-04-06T08:17:56.215Z"
   },
   {
    "duration": 7,
    "start_time": "2024-04-06T08:17:56.221Z"
   },
   {
    "duration": 6,
    "start_time": "2024-04-06T08:17:56.230Z"
   },
   {
    "duration": 37,
    "start_time": "2024-04-06T08:17:56.237Z"
   },
   {
    "duration": 283,
    "start_time": "2024-04-06T08:17:56.276Z"
   },
   {
    "duration": 170,
    "start_time": "2024-04-06T08:17:56.561Z"
   },
   {
    "duration": 205,
    "start_time": "2024-04-06T08:17:56.734Z"
   },
   {
    "duration": 261,
    "start_time": "2024-04-06T08:17:56.941Z"
   },
   {
    "duration": 225,
    "start_time": "2024-04-06T08:17:57.203Z"
   },
   {
    "duration": 26,
    "start_time": "2024-04-06T08:17:57.429Z"
   },
   {
    "duration": 38,
    "start_time": "2024-04-06T08:17:57.457Z"
   },
   {
    "duration": 9,
    "start_time": "2024-04-06T08:17:57.496Z"
   },
   {
    "duration": 11,
    "start_time": "2024-04-06T08:17:57.507Z"
   },
   {
    "duration": 7,
    "start_time": "2024-04-06T08:17:57.519Z"
   },
   {
    "duration": 296,
    "start_time": "2024-04-06T08:17:57.527Z"
   },
   {
    "duration": 8,
    "start_time": "2024-04-06T08:17:57.825Z"
   },
   {
    "duration": 2,
    "start_time": "2024-04-06T08:18:18.540Z"
   },
   {
    "duration": 94,
    "start_time": "2024-04-06T08:18:18.544Z"
   },
   {
    "duration": 27,
    "start_time": "2024-04-06T08:18:18.639Z"
   },
   {
    "duration": 17,
    "start_time": "2024-04-06T08:18:18.668Z"
   },
   {
    "duration": 9,
    "start_time": "2024-04-06T08:18:18.688Z"
   },
   {
    "duration": 6,
    "start_time": "2024-04-06T08:18:18.698Z"
   },
   {
    "duration": 8,
    "start_time": "2024-04-06T08:18:18.705Z"
   },
   {
    "duration": 5,
    "start_time": "2024-04-06T08:18:19.340Z"
   },
   {
    "duration": 7,
    "start_time": "2024-04-06T08:18:19.346Z"
   },
   {
    "duration": 6,
    "start_time": "2024-04-06T08:18:19.355Z"
   },
   {
    "duration": 6,
    "start_time": "2024-04-06T08:18:19.404Z"
   },
   {
    "duration": 265,
    "start_time": "2024-04-06T08:18:19.412Z"
   },
   {
    "duration": 168,
    "start_time": "2024-04-06T08:18:19.679Z"
   },
   {
    "duration": 199,
    "start_time": "2024-04-06T08:18:19.849Z"
   },
   {
    "duration": 251,
    "start_time": "2024-04-06T08:18:20.050Z"
   },
   {
    "duration": 272,
    "start_time": "2024-04-06T08:18:20.303Z"
   },
   {
    "duration": 25,
    "start_time": "2024-04-06T08:18:20.577Z"
   },
   {
    "duration": 24,
    "start_time": "2024-04-06T08:18:20.604Z"
   },
   {
    "duration": 20,
    "start_time": "2024-04-06T08:18:20.629Z"
   },
   {
    "duration": 33,
    "start_time": "2024-04-06T08:18:20.650Z"
   },
   {
    "duration": 18,
    "start_time": "2024-04-06T08:18:20.684Z"
   },
   {
    "duration": 294,
    "start_time": "2024-04-06T08:18:20.704Z"
   },
   {
    "duration": 307,
    "start_time": "2024-04-06T08:18:21.000Z"
   },
   {
    "duration": 3,
    "start_time": "2024-04-06T08:36:20.564Z"
   },
   {
    "duration": 104,
    "start_time": "2024-04-06T08:36:20.569Z"
   },
   {
    "duration": 23,
    "start_time": "2024-04-06T08:36:20.675Z"
   },
   {
    "duration": 15,
    "start_time": "2024-04-06T08:36:20.700Z"
   },
   {
    "duration": 8,
    "start_time": "2024-04-06T08:36:20.718Z"
   },
   {
    "duration": 7,
    "start_time": "2024-04-06T08:36:20.727Z"
   },
   {
    "duration": 41,
    "start_time": "2024-04-06T08:36:20.735Z"
   },
   {
    "duration": 7,
    "start_time": "2024-04-06T08:36:20.778Z"
   },
   {
    "duration": 6,
    "start_time": "2024-04-06T08:36:20.787Z"
   },
   {
    "duration": 20,
    "start_time": "2024-04-06T08:36:20.795Z"
   },
   {
    "duration": 16,
    "start_time": "2024-04-06T08:36:20.816Z"
   },
   {
    "duration": 275,
    "start_time": "2024-04-06T08:36:20.834Z"
   },
   {
    "duration": 162,
    "start_time": "2024-04-06T08:36:21.111Z"
   },
   {
    "duration": 193,
    "start_time": "2024-04-06T08:36:21.275Z"
   },
   {
    "duration": 222,
    "start_time": "2024-04-06T08:36:21.472Z"
   },
   {
    "duration": 218,
    "start_time": "2024-04-06T08:36:21.695Z"
   },
   {
    "duration": 24,
    "start_time": "2024-04-06T08:36:21.915Z"
   },
   {
    "duration": 41,
    "start_time": "2024-04-06T08:36:21.940Z"
   },
   {
    "duration": 9,
    "start_time": "2024-04-06T08:36:21.982Z"
   },
   {
    "duration": 25,
    "start_time": "2024-04-06T08:36:21.993Z"
   },
   {
    "duration": 25,
    "start_time": "2024-04-06T08:36:22.020Z"
   },
   {
    "duration": 539,
    "start_time": "2024-04-06T08:36:22.047Z"
   },
   {
    "duration": 294,
    "start_time": "2024-04-06T08:36:22.589Z"
   },
   {
    "duration": 259,
    "start_time": "2024-04-06T08:36:22.885Z"
   },
   {
    "duration": 3,
    "start_time": "2024-04-06T08:36:55.431Z"
   },
   {
    "duration": 101,
    "start_time": "2024-04-06T08:36:55.436Z"
   },
   {
    "duration": 25,
    "start_time": "2024-04-06T08:36:55.538Z"
   },
   {
    "duration": 16,
    "start_time": "2024-04-06T08:36:55.564Z"
   },
   {
    "duration": 9,
    "start_time": "2024-04-06T08:36:55.583Z"
   },
   {
    "duration": 7,
    "start_time": "2024-04-06T08:36:55.593Z"
   },
   {
    "duration": 16,
    "start_time": "2024-04-06T08:36:55.602Z"
   },
   {
    "duration": 11,
    "start_time": "2024-04-06T08:36:55.620Z"
   },
   {
    "duration": 24,
    "start_time": "2024-04-06T08:36:55.633Z"
   },
   {
    "duration": 18,
    "start_time": "2024-04-06T08:36:55.659Z"
   },
   {
    "duration": 7,
    "start_time": "2024-04-06T08:36:55.679Z"
   },
   {
    "duration": 275,
    "start_time": "2024-04-06T08:36:55.688Z"
   },
   {
    "duration": 164,
    "start_time": "2024-04-06T08:36:55.972Z"
   },
   {
    "duration": 202,
    "start_time": "2024-04-06T08:36:56.140Z"
   },
   {
    "duration": 234,
    "start_time": "2024-04-06T08:36:56.344Z"
   },
   {
    "duration": 230,
    "start_time": "2024-04-06T08:36:56.579Z"
   },
   {
    "duration": 23,
    "start_time": "2024-04-06T08:36:56.811Z"
   },
   {
    "duration": 42,
    "start_time": "2024-04-06T08:36:56.836Z"
   },
   {
    "duration": 9,
    "start_time": "2024-04-06T08:36:56.880Z"
   },
   {
    "duration": 8,
    "start_time": "2024-04-06T08:36:56.891Z"
   },
   {
    "duration": 25,
    "start_time": "2024-04-06T08:36:56.900Z"
   },
   {
    "duration": 293,
    "start_time": "2024-04-06T08:36:56.927Z"
   },
   {
    "duration": 286,
    "start_time": "2024-04-06T08:36:57.221Z"
   },
   {
    "duration": 318,
    "start_time": "2024-04-06T08:36:57.509Z"
   },
   {
    "duration": 4,
    "start_time": "2024-04-06T08:37:08.457Z"
   },
   {
    "duration": 88,
    "start_time": "2024-04-06T08:37:08.463Z"
   },
   {
    "duration": 26,
    "start_time": "2024-04-06T08:37:08.553Z"
   },
   {
    "duration": 19,
    "start_time": "2024-04-06T08:37:08.580Z"
   },
   {
    "duration": 11,
    "start_time": "2024-04-06T08:37:08.602Z"
   },
   {
    "duration": 10,
    "start_time": "2024-04-06T08:37:08.615Z"
   },
   {
    "duration": 9,
    "start_time": "2024-04-06T08:37:08.628Z"
   },
   {
    "duration": 5,
    "start_time": "2024-04-06T08:37:08.639Z"
   },
   {
    "duration": 6,
    "start_time": "2024-04-06T08:37:08.674Z"
   },
   {
    "duration": 10,
    "start_time": "2024-04-06T08:37:08.681Z"
   },
   {
    "duration": 9,
    "start_time": "2024-04-06T08:37:08.692Z"
   },
   {
    "duration": 296,
    "start_time": "2024-04-06T08:37:08.703Z"
   },
   {
    "duration": 169,
    "start_time": "2024-04-06T08:37:09.001Z"
   },
   {
    "duration": 189,
    "start_time": "2024-04-06T08:37:09.172Z"
   },
   {
    "duration": 225,
    "start_time": "2024-04-06T08:37:09.363Z"
   },
   {
    "duration": 233,
    "start_time": "2024-04-06T08:37:09.590Z"
   },
   {
    "duration": 25,
    "start_time": "2024-04-06T08:37:09.824Z"
   },
   {
    "duration": 41,
    "start_time": "2024-04-06T08:37:09.851Z"
   },
   {
    "duration": 10,
    "start_time": "2024-04-06T08:37:09.894Z"
   },
   {
    "duration": 11,
    "start_time": "2024-04-06T08:37:09.906Z"
   },
   {
    "duration": 22,
    "start_time": "2024-04-06T08:37:09.919Z"
   },
   {
    "duration": 301,
    "start_time": "2024-04-06T08:37:09.943Z"
   },
   {
    "duration": 303,
    "start_time": "2024-04-06T08:37:10.245Z"
   },
   {
    "duration": 261,
    "start_time": "2024-04-06T08:37:10.550Z"
   },
   {
    "duration": 3,
    "start_time": "2024-04-06T08:40:21.336Z"
   },
   {
    "duration": 88,
    "start_time": "2024-04-06T08:40:21.341Z"
   },
   {
    "duration": 25,
    "start_time": "2024-04-06T08:40:21.430Z"
   },
   {
    "duration": 35,
    "start_time": "2024-04-06T08:40:21.456Z"
   },
   {
    "duration": 23,
    "start_time": "2024-04-06T08:40:21.493Z"
   },
   {
    "duration": 7,
    "start_time": "2024-04-06T08:40:21.517Z"
   },
   {
    "duration": 10,
    "start_time": "2024-04-06T08:40:21.525Z"
   },
   {
    "duration": 7,
    "start_time": "2024-04-06T08:40:21.537Z"
   },
   {
    "duration": 8,
    "start_time": "2024-04-06T08:40:21.546Z"
   },
   {
    "duration": 351,
    "start_time": "2024-04-06T08:40:21.556Z"
   },
   {
    "duration": 24,
    "start_time": "2024-04-06T08:40:21.909Z"
   },
   {
    "duration": 328,
    "start_time": "2024-04-06T08:40:21.935Z"
   },
   {
    "duration": 189,
    "start_time": "2024-04-06T08:40:22.264Z"
   },
   {
    "duration": 212,
    "start_time": "2024-04-06T08:40:22.456Z"
   },
   {
    "duration": 243,
    "start_time": "2024-04-06T08:40:22.673Z"
   },
   {
    "duration": 227,
    "start_time": "2024-04-06T08:40:22.918Z"
   },
   {
    "duration": 29,
    "start_time": "2024-04-06T08:40:23.146Z"
   },
   {
    "duration": 24,
    "start_time": "2024-04-06T08:40:23.176Z"
   },
   {
    "duration": 10,
    "start_time": "2024-04-06T08:40:23.202Z"
   },
   {
    "duration": 22,
    "start_time": "2024-04-06T08:40:23.213Z"
   },
   {
    "duration": 33,
    "start_time": "2024-04-06T08:40:23.237Z"
   },
   {
    "duration": 290,
    "start_time": "2024-04-06T08:40:23.272Z"
   },
   {
    "duration": 304,
    "start_time": "2024-04-06T08:40:23.564Z"
   },
   {
    "duration": 300,
    "start_time": "2024-04-06T08:40:23.875Z"
   },
   {
    "duration": 288,
    "start_time": "2024-04-06T08:40:24.179Z"
   },
   {
    "duration": 642,
    "start_time": "2024-04-06T13:19:23.844Z"
   },
   {
    "duration": 88,
    "start_time": "2024-04-06T13:19:24.488Z"
   },
   {
    "duration": 28,
    "start_time": "2024-04-06T13:19:24.580Z"
   },
   {
    "duration": 15,
    "start_time": "2024-04-06T13:19:24.609Z"
   },
   {
    "duration": 13,
    "start_time": "2024-04-06T13:19:24.626Z"
   },
   {
    "duration": 14,
    "start_time": "2024-04-06T13:19:24.640Z"
   },
   {
    "duration": 8,
    "start_time": "2024-04-06T13:19:24.656Z"
   },
   {
    "duration": 8,
    "start_time": "2024-04-06T13:19:24.665Z"
   },
   {
    "duration": 10,
    "start_time": "2024-04-06T13:19:24.691Z"
   },
   {
    "duration": 8,
    "start_time": "2024-04-06T13:19:24.705Z"
   },
   {
    "duration": 53,
    "start_time": "2024-04-06T13:19:24.714Z"
   },
   {
    "duration": 319,
    "start_time": "2024-04-06T13:19:24.768Z"
   },
   {
    "duration": 159,
    "start_time": "2024-04-06T13:19:25.098Z"
   },
   {
    "duration": 190,
    "start_time": "2024-04-06T13:19:25.258Z"
   },
   {
    "duration": 231,
    "start_time": "2024-04-06T13:19:25.450Z"
   },
   {
    "duration": 278,
    "start_time": "2024-04-06T13:19:25.683Z"
   },
   {
    "duration": 42,
    "start_time": "2024-04-06T13:19:25.963Z"
   },
   {
    "duration": 27,
    "start_time": "2024-04-06T13:19:26.010Z"
   },
   {
    "duration": 11,
    "start_time": "2024-04-06T13:19:26.038Z"
   },
   {
    "duration": 9,
    "start_time": "2024-04-06T13:19:26.051Z"
   },
   {
    "duration": 13,
    "start_time": "2024-04-06T13:19:26.062Z"
   },
   {
    "duration": 282,
    "start_time": "2024-04-06T13:19:26.093Z"
   },
   {
    "duration": 299,
    "start_time": "2024-04-06T13:19:26.377Z"
   },
   {
    "duration": 261,
    "start_time": "2024-04-06T13:19:26.678Z"
   },
   {
    "duration": 274,
    "start_time": "2024-04-06T13:19:26.941Z"
   },
   {
    "duration": 681,
    "start_time": "2024-04-06T13:35:54.387Z"
   },
   {
    "duration": 85,
    "start_time": "2024-04-06T13:35:55.070Z"
   },
   {
    "duration": 24,
    "start_time": "2024-04-06T13:35:55.157Z"
   },
   {
    "duration": 16,
    "start_time": "2024-04-06T13:35:55.183Z"
   },
   {
    "duration": 9,
    "start_time": "2024-04-06T13:35:55.202Z"
   },
   {
    "duration": 6,
    "start_time": "2024-04-06T13:35:55.213Z"
   },
   {
    "duration": 22,
    "start_time": "2024-04-06T13:35:55.221Z"
   },
   {
    "duration": 10,
    "start_time": "2024-04-06T13:35:55.245Z"
   },
   {
    "duration": 16,
    "start_time": "2024-04-06T13:35:55.257Z"
   },
   {
    "duration": 7,
    "start_time": "2024-04-06T13:35:55.275Z"
   },
   {
    "duration": 12,
    "start_time": "2024-04-06T13:35:55.283Z"
   },
   {
    "duration": 300,
    "start_time": "2024-04-06T13:35:55.297Z"
   },
   {
    "duration": 157,
    "start_time": "2024-04-06T13:35:55.598Z"
   },
   {
    "duration": 182,
    "start_time": "2024-04-06T13:35:55.758Z"
   },
   {
    "duration": 221,
    "start_time": "2024-04-06T13:35:55.942Z"
   },
   {
    "duration": 262,
    "start_time": "2024-04-06T13:35:56.165Z"
   },
   {
    "duration": 22,
    "start_time": "2024-04-06T13:35:56.428Z"
   },
   {
    "duration": 23,
    "start_time": "2024-04-06T13:35:56.452Z"
   },
   {
    "duration": 21,
    "start_time": "2024-04-06T13:35:56.476Z"
   },
   {
    "duration": 28,
    "start_time": "2024-04-06T13:35:56.499Z"
   },
   {
    "duration": 7,
    "start_time": "2024-04-06T13:35:56.528Z"
   },
   {
    "duration": 257,
    "start_time": "2024-04-06T13:35:56.537Z"
   },
   {
    "duration": 282,
    "start_time": "2024-04-06T13:35:56.796Z"
   },
   {
    "duration": 252,
    "start_time": "2024-04-06T13:35:57.080Z"
   },
   {
    "duration": 264,
    "start_time": "2024-04-06T13:35:57.334Z"
   },
   {
    "duration": 45,
    "start_time": "2024-04-07T15:02:02.315Z"
   },
   {
    "duration": 1279,
    "start_time": "2024-04-07T15:02:07.535Z"
   },
   {
    "duration": 228,
    "start_time": "2024-04-07T15:02:08.815Z"
   },
   {
    "duration": 26,
    "start_time": "2024-04-07T15:02:09.045Z"
   },
   {
    "duration": 14,
    "start_time": "2024-04-07T15:02:09.073Z"
   },
   {
    "duration": 10,
    "start_time": "2024-04-07T15:02:09.089Z"
   },
   {
    "duration": 7,
    "start_time": "2024-04-07T15:02:09.100Z"
   },
   {
    "duration": 8,
    "start_time": "2024-04-07T15:02:09.108Z"
   },
   {
    "duration": 7,
    "start_time": "2024-04-07T15:02:09.117Z"
   },
   {
    "duration": 10,
    "start_time": "2024-04-07T15:02:09.145Z"
   },
   {
    "duration": 7,
    "start_time": "2024-04-07T15:02:09.156Z"
   },
   {
    "duration": 8,
    "start_time": "2024-04-07T15:02:09.165Z"
   },
   {
    "duration": 194,
    "start_time": "2024-04-07T15:02:09.175Z"
   },
   {
    "duration": 163,
    "start_time": "2024-04-07T15:02:09.371Z"
   },
   {
    "duration": 162,
    "start_time": "2024-04-07T15:02:09.536Z"
   },
   {
    "duration": 198,
    "start_time": "2024-04-07T15:02:09.700Z"
   },
   {
    "duration": 178,
    "start_time": "2024-04-07T15:02:09.900Z"
   },
   {
    "duration": 21,
    "start_time": "2024-04-07T15:02:10.080Z"
   },
   {
    "duration": 22,
    "start_time": "2024-04-07T15:02:10.103Z"
   },
   {
    "duration": 26,
    "start_time": "2024-04-07T15:02:10.127Z"
   },
   {
    "duration": 9,
    "start_time": "2024-04-07T15:02:10.154Z"
   },
   {
    "duration": 8,
    "start_time": "2024-04-07T15:02:10.164Z"
   },
   {
    "duration": 240,
    "start_time": "2024-04-07T15:02:10.174Z"
   },
   {
    "duration": 252,
    "start_time": "2024-04-07T15:02:10.416Z"
   },
   {
    "duration": 260,
    "start_time": "2024-04-07T15:02:10.669Z"
   },
   {
    "duration": 228,
    "start_time": "2024-04-07T15:02:10.930Z"
   },
   {
    "duration": 3,
    "start_time": "2024-04-07T15:03:02.756Z"
   },
   {
    "duration": 103,
    "start_time": "2024-04-07T15:03:02.761Z"
   },
   {
    "duration": 20,
    "start_time": "2024-04-07T15:03:02.865Z"
   },
   {
    "duration": 13,
    "start_time": "2024-04-07T15:03:02.888Z"
   },
   {
    "duration": 9,
    "start_time": "2024-04-07T15:03:02.902Z"
   },
   {
    "duration": 12,
    "start_time": "2024-04-07T15:03:02.912Z"
   },
   {
    "duration": 20,
    "start_time": "2024-04-07T15:03:02.926Z"
   },
   {
    "duration": 13,
    "start_time": "2024-04-07T15:03:02.947Z"
   },
   {
    "duration": 9,
    "start_time": "2024-04-07T15:03:02.962Z"
   },
   {
    "duration": 49,
    "start_time": "2024-04-07T15:03:02.972Z"
   },
   {
    "duration": 39,
    "start_time": "2024-04-07T15:03:03.024Z"
   },
   {
    "duration": 77,
    "start_time": "2024-04-07T15:03:03.064Z"
   },
   {
    "duration": 0,
    "start_time": "2024-04-07T15:03:03.142Z"
   },
   {
    "duration": 0,
    "start_time": "2024-04-07T15:03:03.143Z"
   },
   {
    "duration": 0,
    "start_time": "2024-04-07T15:03:03.144Z"
   },
   {
    "duration": 0,
    "start_time": "2024-04-07T15:03:03.145Z"
   },
   {
    "duration": 0,
    "start_time": "2024-04-07T15:03:03.146Z"
   },
   {
    "duration": 0,
    "start_time": "2024-04-07T15:03:03.148Z"
   },
   {
    "duration": 0,
    "start_time": "2024-04-07T15:03:03.149Z"
   },
   {
    "duration": 0,
    "start_time": "2024-04-07T15:03:03.149Z"
   },
   {
    "duration": 0,
    "start_time": "2024-04-07T15:03:03.150Z"
   },
   {
    "duration": 0,
    "start_time": "2024-04-07T15:03:03.151Z"
   },
   {
    "duration": 0,
    "start_time": "2024-04-07T15:03:03.152Z"
   },
   {
    "duration": 0,
    "start_time": "2024-04-07T15:03:03.153Z"
   },
   {
    "duration": 0,
    "start_time": "2024-04-07T15:03:03.154Z"
   },
   {
    "duration": 2,
    "start_time": "2024-04-07T15:03:35.879Z"
   },
   {
    "duration": 85,
    "start_time": "2024-04-07T15:03:35.883Z"
   },
   {
    "duration": 20,
    "start_time": "2024-04-07T15:03:35.970Z"
   },
   {
    "duration": 12,
    "start_time": "2024-04-07T15:03:35.992Z"
   },
   {
    "duration": 6,
    "start_time": "2024-04-07T15:03:36.006Z"
   },
   {
    "duration": 6,
    "start_time": "2024-04-07T15:03:36.014Z"
   },
   {
    "duration": 27,
    "start_time": "2024-04-07T15:03:36.021Z"
   },
   {
    "duration": 5,
    "start_time": "2024-04-07T15:03:36.049Z"
   },
   {
    "duration": 13,
    "start_time": "2024-04-07T15:03:36.055Z"
   },
   {
    "duration": 6,
    "start_time": "2024-04-07T15:03:36.071Z"
   },
   {
    "duration": 7,
    "start_time": "2024-04-07T15:03:36.078Z"
   },
   {
    "duration": 161,
    "start_time": "2024-04-07T15:03:36.086Z"
   },
   {
    "duration": 131,
    "start_time": "2024-04-07T15:03:36.248Z"
   },
   {
    "duration": 153,
    "start_time": "2024-04-07T15:03:36.380Z"
   },
   {
    "duration": 182,
    "start_time": "2024-04-07T15:03:36.534Z"
   },
   {
    "duration": 174,
    "start_time": "2024-04-07T15:03:36.717Z"
   },
   {
    "duration": 20,
    "start_time": "2024-04-07T15:03:36.892Z"
   },
   {
    "duration": 33,
    "start_time": "2024-04-07T15:03:36.913Z"
   },
   {
    "duration": 8,
    "start_time": "2024-04-07T15:03:36.947Z"
   },
   {
    "duration": 6,
    "start_time": "2024-04-07T15:03:36.956Z"
   },
   {
    "duration": 5,
    "start_time": "2024-04-07T15:03:36.964Z"
   },
   {
    "duration": 260,
    "start_time": "2024-04-07T15:03:36.970Z"
   },
   {
    "duration": 313,
    "start_time": "2024-04-07T15:03:37.233Z"
   },
   {
    "duration": 225,
    "start_time": "2024-04-07T15:03:37.548Z"
   },
   {
    "duration": 233,
    "start_time": "2024-04-07T15:03:37.775Z"
   },
   {
    "duration": 148,
    "start_time": "2024-04-07T15:03:52.017Z"
   },
   {
    "duration": 3,
    "start_time": "2024-04-07T15:04:19.223Z"
   },
   {
    "duration": 84,
    "start_time": "2024-04-07T15:04:19.227Z"
   },
   {
    "duration": 21,
    "start_time": "2024-04-07T15:04:19.312Z"
   },
   {
    "duration": 14,
    "start_time": "2024-04-07T15:04:19.334Z"
   },
   {
    "duration": 13,
    "start_time": "2024-04-07T15:04:19.349Z"
   },
   {
    "duration": 5,
    "start_time": "2024-04-07T15:04:19.363Z"
   },
   {
    "duration": 7,
    "start_time": "2024-04-07T15:04:19.369Z"
   },
   {
    "duration": 4,
    "start_time": "2024-04-07T15:04:19.377Z"
   },
   {
    "duration": 6,
    "start_time": "2024-04-07T15:04:19.383Z"
   },
   {
    "duration": 5,
    "start_time": "2024-04-07T15:04:19.390Z"
   },
   {
    "duration": 7,
    "start_time": "2024-04-07T15:04:19.397Z"
   },
   {
    "duration": 197,
    "start_time": "2024-04-07T15:04:19.405Z"
   },
   {
    "duration": 136,
    "start_time": "2024-04-07T15:04:19.603Z"
   },
   {
    "duration": 162,
    "start_time": "2024-04-07T15:04:19.741Z"
   },
   {
    "duration": 187,
    "start_time": "2024-04-07T15:04:19.905Z"
   },
   {
    "duration": 183,
    "start_time": "2024-04-07T15:04:20.094Z"
   },
   {
    "duration": 22,
    "start_time": "2024-04-07T15:04:20.278Z"
   },
   {
    "duration": 20,
    "start_time": "2024-04-07T15:04:20.302Z"
   },
   {
    "duration": 26,
    "start_time": "2024-04-07T15:04:20.323Z"
   },
   {
    "duration": 19,
    "start_time": "2024-04-07T15:04:20.350Z"
   },
   {
    "duration": 7,
    "start_time": "2024-04-07T15:04:20.370Z"
   },
   {
    "duration": 302,
    "start_time": "2024-04-07T15:04:20.379Z"
   },
   {
    "duration": 232,
    "start_time": "2024-04-07T15:04:20.683Z"
   },
   {
    "duration": 210,
    "start_time": "2024-04-07T15:04:20.917Z"
   },
   {
    "duration": 228,
    "start_time": "2024-04-07T15:04:21.129Z"
   },
   {
    "duration": 2,
    "start_time": "2024-04-07T15:05:16.489Z"
   },
   {
    "duration": 81,
    "start_time": "2024-04-07T15:05:16.493Z"
   },
   {
    "duration": 20,
    "start_time": "2024-04-07T15:05:16.576Z"
   },
   {
    "duration": 17,
    "start_time": "2024-04-07T15:05:16.597Z"
   },
   {
    "duration": 14,
    "start_time": "2024-04-07T15:05:16.616Z"
   },
   {
    "duration": 9,
    "start_time": "2024-04-07T15:05:16.631Z"
   },
   {
    "duration": 8,
    "start_time": "2024-04-07T15:05:16.641Z"
   },
   {
    "duration": 21,
    "start_time": "2024-04-07T15:05:16.650Z"
   },
   {
    "duration": 16,
    "start_time": "2024-04-07T15:05:16.673Z"
   },
   {
    "duration": 12,
    "start_time": "2024-04-07T15:05:16.690Z"
   },
   {
    "duration": 5,
    "start_time": "2024-04-07T15:05:16.703Z"
   },
   {
    "duration": 155,
    "start_time": "2024-04-07T15:05:16.710Z"
   },
   {
    "duration": 136,
    "start_time": "2024-04-07T15:05:16.866Z"
   },
   {
    "duration": 156,
    "start_time": "2024-04-07T15:05:17.004Z"
   },
   {
    "duration": 191,
    "start_time": "2024-04-07T15:05:17.162Z"
   },
   {
    "duration": 199,
    "start_time": "2024-04-07T15:05:17.355Z"
   },
   {
    "duration": 20,
    "start_time": "2024-04-07T15:05:17.556Z"
   },
   {
    "duration": 21,
    "start_time": "2024-04-07T15:05:17.577Z"
   },
   {
    "duration": 8,
    "start_time": "2024-04-07T15:05:17.600Z"
   },
   {
    "duration": 7,
    "start_time": "2024-04-07T15:05:17.609Z"
   },
   {
    "duration": 7,
    "start_time": "2024-04-07T15:05:17.644Z"
   },
   {
    "duration": 355,
    "start_time": "2024-04-07T15:05:17.652Z"
   },
   {
    "duration": 241,
    "start_time": "2024-04-07T15:05:18.008Z"
   },
   {
    "duration": 210,
    "start_time": "2024-04-07T15:05:18.252Z"
   },
   {
    "duration": 222,
    "start_time": "2024-04-07T15:05:18.463Z"
   },
   {
    "duration": 2,
    "start_time": "2024-04-07T15:05:40.142Z"
   },
   {
    "duration": 89,
    "start_time": "2024-04-07T15:05:40.146Z"
   },
   {
    "duration": 20,
    "start_time": "2024-04-07T15:05:40.236Z"
   },
   {
    "duration": 13,
    "start_time": "2024-04-07T15:05:40.257Z"
   },
   {
    "duration": 6,
    "start_time": "2024-04-07T15:05:40.272Z"
   },
   {
    "duration": 4,
    "start_time": "2024-04-07T15:05:40.280Z"
   },
   {
    "duration": 6,
    "start_time": "2024-04-07T15:05:40.286Z"
   },
   {
    "duration": 4,
    "start_time": "2024-04-07T15:05:40.293Z"
   },
   {
    "duration": 11,
    "start_time": "2024-04-07T15:05:40.298Z"
   },
   {
    "duration": 35,
    "start_time": "2024-04-07T15:05:40.310Z"
   },
   {
    "duration": 5,
    "start_time": "2024-04-07T15:05:40.346Z"
   },
   {
    "duration": 157,
    "start_time": "2024-04-07T15:05:40.352Z"
   },
   {
    "duration": 131,
    "start_time": "2024-04-07T15:05:40.510Z"
   },
   {
    "duration": 174,
    "start_time": "2024-04-07T15:05:40.646Z"
   },
   {
    "duration": 187,
    "start_time": "2024-04-07T15:05:40.821Z"
   },
   {
    "duration": 177,
    "start_time": "2024-04-07T15:05:41.010Z"
   },
   {
    "duration": 20,
    "start_time": "2024-04-07T15:05:41.188Z"
   },
   {
    "duration": 19,
    "start_time": "2024-04-07T15:05:41.209Z"
   },
   {
    "duration": 19,
    "start_time": "2024-04-07T15:05:41.229Z"
   },
   {
    "duration": 6,
    "start_time": "2024-04-07T15:05:41.250Z"
   },
   {
    "duration": 7,
    "start_time": "2024-04-07T15:05:41.258Z"
   },
   {
    "duration": 231,
    "start_time": "2024-04-07T15:05:41.266Z"
   },
   {
    "duration": 225,
    "start_time": "2024-04-07T15:05:41.498Z"
   },
   {
    "duration": 355,
    "start_time": "2024-04-07T15:05:41.724Z"
   },
   {
    "duration": 240,
    "start_time": "2024-04-07T15:05:42.081Z"
   },
   {
    "duration": 3,
    "start_time": "2024-04-07T15:05:53.408Z"
   },
   {
    "duration": 111,
    "start_time": "2024-04-07T15:05:53.413Z"
   },
   {
    "duration": 23,
    "start_time": "2024-04-07T15:05:53.525Z"
   },
   {
    "duration": 15,
    "start_time": "2024-04-07T15:05:53.550Z"
   },
   {
    "duration": 8,
    "start_time": "2024-04-07T15:05:53.568Z"
   },
   {
    "duration": 6,
    "start_time": "2024-04-07T15:05:53.578Z"
   },
   {
    "duration": 10,
    "start_time": "2024-04-07T15:05:53.585Z"
   },
   {
    "duration": 5,
    "start_time": "2024-04-07T15:05:53.597Z"
   },
   {
    "duration": 43,
    "start_time": "2024-04-07T15:05:53.603Z"
   },
   {
    "duration": 5,
    "start_time": "2024-04-07T15:05:53.648Z"
   },
   {
    "duration": 8,
    "start_time": "2024-04-07T15:05:53.654Z"
   },
   {
    "duration": 182,
    "start_time": "2024-04-07T15:05:53.663Z"
   },
   {
    "duration": 150,
    "start_time": "2024-04-07T15:05:53.846Z"
   },
   {
    "duration": 181,
    "start_time": "2024-04-07T15:05:53.999Z"
   },
   {
    "duration": 189,
    "start_time": "2024-04-07T15:05:54.181Z"
   },
   {
    "duration": 188,
    "start_time": "2024-04-07T15:05:54.372Z"
   },
   {
    "duration": 20,
    "start_time": "2024-04-07T15:05:54.562Z"
   },
   {
    "duration": 20,
    "start_time": "2024-04-07T15:05:54.583Z"
   },
   {
    "duration": 8,
    "start_time": "2024-04-07T15:05:54.604Z"
   },
   {
    "duration": 7,
    "start_time": "2024-04-07T15:05:54.613Z"
   },
   {
    "duration": 6,
    "start_time": "2024-04-07T15:05:54.645Z"
   },
   {
    "duration": 234,
    "start_time": "2024-04-07T15:05:54.652Z"
   },
   {
    "duration": 238,
    "start_time": "2024-04-07T15:05:54.887Z"
   },
   {
    "duration": 240,
    "start_time": "2024-04-07T15:05:55.127Z"
   },
   {
    "duration": 237,
    "start_time": "2024-04-07T15:05:55.368Z"
   },
   {
    "duration": 2,
    "start_time": "2024-04-07T15:09:45.275Z"
   },
   {
    "duration": 111,
    "start_time": "2024-04-07T15:09:45.279Z"
   },
   {
    "duration": 21,
    "start_time": "2024-04-07T15:09:45.392Z"
   },
   {
    "duration": 45,
    "start_time": "2024-04-07T15:09:45.415Z"
   },
   {
    "duration": 70,
    "start_time": "2024-04-07T15:09:45.461Z"
   },
   {
    "duration": 58,
    "start_time": "2024-04-07T15:09:45.532Z"
   },
   {
    "duration": 50,
    "start_time": "2024-04-07T15:09:45.592Z"
   },
   {
    "duration": 25,
    "start_time": "2024-04-07T15:09:45.643Z"
   },
   {
    "duration": 38,
    "start_time": "2024-04-07T15:09:45.669Z"
   },
   {
    "duration": 13,
    "start_time": "2024-04-07T15:09:45.709Z"
   },
   {
    "duration": 30,
    "start_time": "2024-04-07T15:09:45.723Z"
   },
   {
    "duration": 177,
    "start_time": "2024-04-07T15:09:45.754Z"
   },
   {
    "duration": 228,
    "start_time": "2024-04-07T15:09:45.933Z"
   },
   {
    "duration": 0,
    "start_time": "2024-04-07T15:09:46.162Z"
   },
   {
    "duration": 0,
    "start_time": "2024-04-07T15:09:46.163Z"
   },
   {
    "duration": 0,
    "start_time": "2024-04-07T15:09:46.164Z"
   },
   {
    "duration": 0,
    "start_time": "2024-04-07T15:09:46.165Z"
   },
   {
    "duration": 0,
    "start_time": "2024-04-07T15:09:46.166Z"
   },
   {
    "duration": 0,
    "start_time": "2024-04-07T15:09:46.167Z"
   },
   {
    "duration": 0,
    "start_time": "2024-04-07T15:09:46.167Z"
   },
   {
    "duration": 0,
    "start_time": "2024-04-07T15:09:46.168Z"
   },
   {
    "duration": 0,
    "start_time": "2024-04-07T15:09:46.169Z"
   },
   {
    "duration": 0,
    "start_time": "2024-04-07T15:09:46.170Z"
   },
   {
    "duration": 0,
    "start_time": "2024-04-07T15:09:46.171Z"
   },
   {
    "duration": 0,
    "start_time": "2024-04-07T15:09:46.172Z"
   },
   {
    "duration": 210,
    "start_time": "2024-04-07T15:10:02.174Z"
   },
   {
    "duration": 3,
    "start_time": "2024-04-07T15:10:05.915Z"
   },
   {
    "duration": 100,
    "start_time": "2024-04-07T15:10:05.920Z"
   },
   {
    "duration": 23,
    "start_time": "2024-04-07T15:10:06.021Z"
   },
   {
    "duration": 23,
    "start_time": "2024-04-07T15:10:06.045Z"
   },
   {
    "duration": 8,
    "start_time": "2024-04-07T15:10:06.071Z"
   },
   {
    "duration": 6,
    "start_time": "2024-04-07T15:10:06.080Z"
   },
   {
    "duration": 13,
    "start_time": "2024-04-07T15:10:06.087Z"
   },
   {
    "duration": 5,
    "start_time": "2024-04-07T15:10:06.102Z"
   },
   {
    "duration": 6,
    "start_time": "2024-04-07T15:10:06.109Z"
   },
   {
    "duration": 32,
    "start_time": "2024-04-07T15:10:06.117Z"
   },
   {
    "duration": 10,
    "start_time": "2024-04-07T15:10:06.150Z"
   },
   {
    "duration": 351,
    "start_time": "2024-04-07T15:10:06.162Z"
   },
   {
    "duration": 222,
    "start_time": "2024-04-07T15:10:06.515Z"
   },
   {
    "duration": 0,
    "start_time": "2024-04-07T15:10:06.745Z"
   },
   {
    "duration": 0,
    "start_time": "2024-04-07T15:10:06.746Z"
   },
   {
    "duration": 0,
    "start_time": "2024-04-07T15:10:06.747Z"
   },
   {
    "duration": 0,
    "start_time": "2024-04-07T15:10:06.748Z"
   },
   {
    "duration": 0,
    "start_time": "2024-04-07T15:10:06.749Z"
   },
   {
    "duration": 0,
    "start_time": "2024-04-07T15:10:06.750Z"
   },
   {
    "duration": 0,
    "start_time": "2024-04-07T15:10:06.750Z"
   },
   {
    "duration": 0,
    "start_time": "2024-04-07T15:10:06.751Z"
   },
   {
    "duration": 0,
    "start_time": "2024-04-07T15:10:06.752Z"
   },
   {
    "duration": 0,
    "start_time": "2024-04-07T15:10:06.753Z"
   },
   {
    "duration": 0,
    "start_time": "2024-04-07T15:10:06.754Z"
   },
   {
    "duration": 0,
    "start_time": "2024-04-07T15:10:06.754Z"
   },
   {
    "duration": 4,
    "start_time": "2024-04-07T15:10:41.960Z"
   },
   {
    "duration": 90,
    "start_time": "2024-04-07T15:10:41.966Z"
   },
   {
    "duration": 23,
    "start_time": "2024-04-07T15:10:42.057Z"
   },
   {
    "duration": 15,
    "start_time": "2024-04-07T15:10:42.081Z"
   },
   {
    "duration": 7,
    "start_time": "2024-04-07T15:10:42.098Z"
   },
   {
    "duration": 10,
    "start_time": "2024-04-07T15:10:42.106Z"
   },
   {
    "duration": 34,
    "start_time": "2024-04-07T15:10:42.117Z"
   },
   {
    "duration": 10,
    "start_time": "2024-04-07T15:10:42.152Z"
   },
   {
    "duration": 16,
    "start_time": "2024-04-07T15:10:42.163Z"
   },
   {
    "duration": 7,
    "start_time": "2024-04-07T15:10:42.180Z"
   },
   {
    "duration": 13,
    "start_time": "2024-04-07T15:10:42.188Z"
   },
   {
    "duration": 167,
    "start_time": "2024-04-07T15:10:42.203Z"
   },
   {
    "duration": 139,
    "start_time": "2024-04-07T15:10:42.372Z"
   },
   {
    "duration": 153,
    "start_time": "2024-04-07T15:10:42.513Z"
   },
   {
    "duration": 173,
    "start_time": "2024-04-07T15:10:42.667Z"
   },
   {
    "duration": 177,
    "start_time": "2024-04-07T15:10:42.844Z"
   },
   {
    "duration": 28,
    "start_time": "2024-04-07T15:10:43.023Z"
   },
   {
    "duration": 21,
    "start_time": "2024-04-07T15:10:43.053Z"
   },
   {
    "duration": 9,
    "start_time": "2024-04-07T15:10:43.075Z"
   },
   {
    "duration": 8,
    "start_time": "2024-04-07T15:10:43.085Z"
   },
   {
    "duration": 5,
    "start_time": "2024-04-07T15:10:43.094Z"
   },
   {
    "duration": 250,
    "start_time": "2024-04-07T15:10:43.101Z"
   },
   {
    "duration": 262,
    "start_time": "2024-04-07T15:10:43.353Z"
   },
   {
    "duration": 209,
    "start_time": "2024-04-07T15:10:43.616Z"
   },
   {
    "duration": 222,
    "start_time": "2024-04-07T15:10:43.826Z"
   },
   {
    "duration": 139,
    "start_time": "2024-04-07T15:11:34.717Z"
   },
   {
    "duration": 133,
    "start_time": "2024-04-07T15:11:43.834Z"
   },
   {
    "duration": 18,
    "start_time": "2024-04-07T15:13:01.506Z"
   },
   {
    "duration": 13,
    "start_time": "2024-04-07T15:18:11.750Z"
   },
   {
    "duration": 11,
    "start_time": "2024-04-07T15:21:42.250Z"
   },
   {
    "duration": 3,
    "start_time": "2024-04-07T15:22:36.990Z"
   },
   {
    "duration": 98,
    "start_time": "2024-04-07T15:22:36.994Z"
   },
   {
    "duration": 23,
    "start_time": "2024-04-07T15:22:37.093Z"
   },
   {
    "duration": 27,
    "start_time": "2024-04-07T15:22:37.118Z"
   },
   {
    "duration": 9,
    "start_time": "2024-04-07T15:22:37.147Z"
   },
   {
    "duration": 22,
    "start_time": "2024-04-07T15:22:37.159Z"
   },
   {
    "duration": 17,
    "start_time": "2024-04-07T15:22:37.183Z"
   },
   {
    "duration": 5,
    "start_time": "2024-04-07T15:22:37.201Z"
   },
   {
    "duration": 20,
    "start_time": "2024-04-07T15:22:37.207Z"
   },
   {
    "duration": 16,
    "start_time": "2024-04-07T15:22:37.229Z"
   },
   {
    "duration": 12,
    "start_time": "2024-04-07T15:22:37.247Z"
   },
   {
    "duration": 168,
    "start_time": "2024-04-07T15:22:37.261Z"
   },
   {
    "duration": 166,
    "start_time": "2024-04-07T15:22:37.431Z"
   },
   {
    "duration": 186,
    "start_time": "2024-04-07T15:22:37.600Z"
   },
   {
    "duration": 14,
    "start_time": "2024-04-07T15:22:37.787Z"
   },
   {
    "duration": 188,
    "start_time": "2024-04-07T15:22:37.802Z"
   },
   {
    "duration": 189,
    "start_time": "2024-04-07T15:22:37.991Z"
   },
   {
    "duration": 21,
    "start_time": "2024-04-07T15:22:38.182Z"
   },
   {
    "duration": 42,
    "start_time": "2024-04-07T15:22:38.205Z"
   },
   {
    "duration": 13,
    "start_time": "2024-04-07T15:22:38.248Z"
   },
   {
    "duration": 12,
    "start_time": "2024-04-07T15:22:38.262Z"
   },
   {
    "duration": 11,
    "start_time": "2024-04-07T15:22:38.275Z"
   },
   {
    "duration": 11,
    "start_time": "2024-04-07T15:22:38.287Z"
   },
   {
    "duration": 21,
    "start_time": "2024-04-07T15:22:38.299Z"
   },
   {
    "duration": 26,
    "start_time": "2024-04-07T15:22:38.321Z"
   },
   {
    "duration": 232,
    "start_time": "2024-04-07T15:22:38.348Z"
   },
   {
    "duration": 453,
    "start_time": "2024-04-07T15:22:38.582Z"
   },
   {
    "duration": 210,
    "start_time": "2024-04-07T15:22:39.036Z"
   },
   {
    "duration": 227,
    "start_time": "2024-04-07T15:22:39.248Z"
   },
   {
    "duration": 28,
    "start_time": "2024-04-07T15:25:55.649Z"
   },
   {
    "duration": 29,
    "start_time": "2024-04-07T15:28:25.726Z"
   },
   {
    "duration": 2,
    "start_time": "2024-04-07T15:35:45.720Z"
   },
   {
    "duration": 87,
    "start_time": "2024-04-07T15:35:45.724Z"
   },
   {
    "duration": 20,
    "start_time": "2024-04-07T15:35:45.813Z"
   },
   {
    "duration": 28,
    "start_time": "2024-04-07T15:35:45.834Z"
   },
   {
    "duration": 6,
    "start_time": "2024-04-07T15:35:45.864Z"
   },
   {
    "duration": 22,
    "start_time": "2024-04-07T15:35:45.871Z"
   },
   {
    "duration": 12,
    "start_time": "2024-04-07T15:35:45.895Z"
   },
   {
    "duration": 4,
    "start_time": "2024-04-07T15:35:45.908Z"
   },
   {
    "duration": 6,
    "start_time": "2024-04-07T15:35:45.914Z"
   },
   {
    "duration": 8,
    "start_time": "2024-04-07T15:35:45.921Z"
   },
   {
    "duration": 7,
    "start_time": "2024-04-07T15:35:45.931Z"
   },
   {
    "duration": 158,
    "start_time": "2024-04-07T15:35:45.939Z"
   },
   {
    "duration": 135,
    "start_time": "2024-04-07T15:35:46.099Z"
   },
   {
    "duration": 156,
    "start_time": "2024-04-07T15:35:46.244Z"
   },
   {
    "duration": 13,
    "start_time": "2024-04-07T15:35:46.402Z"
   },
   {
    "duration": 204,
    "start_time": "2024-04-07T15:35:46.416Z"
   },
   {
    "duration": 179,
    "start_time": "2024-04-07T15:35:46.622Z"
   },
   {
    "duration": 21,
    "start_time": "2024-04-07T15:35:46.802Z"
   },
   {
    "duration": 36,
    "start_time": "2024-04-07T15:35:46.825Z"
   },
   {
    "duration": 12,
    "start_time": "2024-04-07T15:35:46.863Z"
   },
   {
    "duration": 6,
    "start_time": "2024-04-07T15:35:46.877Z"
   },
   {
    "duration": 46,
    "start_time": "2024-04-07T15:35:46.885Z"
   },
   {
    "duration": 11,
    "start_time": "2024-04-07T15:35:46.933Z"
   },
   {
    "duration": 6,
    "start_time": "2024-04-07T15:35:46.946Z"
   },
   {
    "duration": 13,
    "start_time": "2024-04-07T15:35:46.954Z"
   },
   {
    "duration": 28,
    "start_time": "2024-04-07T15:35:46.968Z"
   },
   {
    "duration": 239,
    "start_time": "2024-04-07T15:35:46.997Z"
   },
   {
    "duration": 35,
    "start_time": "2024-04-07T15:35:47.237Z"
   },
   {
    "duration": 244,
    "start_time": "2024-04-07T15:35:47.274Z"
   },
   {
    "duration": 231,
    "start_time": "2024-04-07T15:35:47.520Z"
   },
   {
    "duration": 247,
    "start_time": "2024-04-07T15:35:47.752Z"
   },
   {
    "duration": 2,
    "start_time": "2024-04-07T15:40:28.670Z"
   },
   {
    "duration": 90,
    "start_time": "2024-04-07T15:40:28.674Z"
   },
   {
    "duration": 21,
    "start_time": "2024-04-07T15:40:28.765Z"
   },
   {
    "duration": 14,
    "start_time": "2024-04-07T15:40:28.788Z"
   },
   {
    "duration": 7,
    "start_time": "2024-04-07T15:40:28.804Z"
   },
   {
    "duration": 33,
    "start_time": "2024-04-07T15:40:28.812Z"
   },
   {
    "duration": 7,
    "start_time": "2024-04-07T15:40:28.847Z"
   },
   {
    "duration": 4,
    "start_time": "2024-04-07T15:40:28.856Z"
   },
   {
    "duration": 10,
    "start_time": "2024-04-07T15:40:28.862Z"
   },
   {
    "duration": 6,
    "start_time": "2024-04-07T15:40:28.873Z"
   },
   {
    "duration": 13,
    "start_time": "2024-04-07T15:40:28.880Z"
   },
   {
    "duration": 179,
    "start_time": "2024-04-07T15:40:28.894Z"
   },
   {
    "duration": 139,
    "start_time": "2024-04-07T15:40:29.074Z"
   },
   {
    "duration": 163,
    "start_time": "2024-04-07T15:40:29.214Z"
   },
   {
    "duration": 14,
    "start_time": "2024-04-07T15:40:29.379Z"
   },
   {
    "duration": 208,
    "start_time": "2024-04-07T15:40:29.395Z"
   },
   {
    "duration": 177,
    "start_time": "2024-04-07T15:40:29.604Z"
   },
   {
    "duration": 20,
    "start_time": "2024-04-07T15:40:29.783Z"
   },
   {
    "duration": 20,
    "start_time": "2024-04-07T15:40:29.804Z"
   },
   {
    "duration": 30,
    "start_time": "2024-04-07T15:40:29.826Z"
   },
   {
    "duration": 8,
    "start_time": "2024-04-07T15:40:29.857Z"
   },
   {
    "duration": 7,
    "start_time": "2024-04-07T15:40:29.866Z"
   },
   {
    "duration": 11,
    "start_time": "2024-04-07T15:40:29.874Z"
   },
   {
    "duration": 6,
    "start_time": "2024-04-07T15:40:29.887Z"
   },
   {
    "duration": 11,
    "start_time": "2024-04-07T15:40:29.894Z"
   },
   {
    "duration": 62,
    "start_time": "2024-04-07T15:40:29.906Z"
   },
   {
    "duration": 247,
    "start_time": "2024-04-07T15:40:29.969Z"
   },
   {
    "duration": 37,
    "start_time": "2024-04-07T15:40:30.217Z"
   },
   {
    "duration": 357,
    "start_time": "2024-04-07T15:40:30.255Z"
   },
   {
    "duration": 507,
    "start_time": "2024-04-07T15:40:30.613Z"
   },
   {
    "duration": 233,
    "start_time": "2024-04-07T15:40:31.122Z"
   },
   {
    "duration": 3,
    "start_time": "2024-04-07T15:40:31.357Z"
   },
   {
    "duration": 859,
    "start_time": "2024-04-07T15:40:31.362Z"
   },
   {
    "duration": 23,
    "start_time": "2024-04-07T15:40:32.222Z"
   },
   {
    "duration": 13,
    "start_time": "2024-04-07T15:40:32.246Z"
   },
   {
    "duration": 9,
    "start_time": "2024-04-07T15:40:32.261Z"
   },
   {
    "duration": 10,
    "start_time": "2024-04-07T15:41:31.960Z"
   },
   {
    "duration": 3,
    "start_time": "2024-04-07T15:43:00.311Z"
   },
   {
    "duration": 113,
    "start_time": "2024-04-07T15:43:00.316Z"
   },
   {
    "duration": 20,
    "start_time": "2024-04-07T15:43:00.430Z"
   },
   {
    "duration": 44,
    "start_time": "2024-04-07T15:43:00.452Z"
   },
   {
    "duration": 65,
    "start_time": "2024-04-07T15:43:00.497Z"
   },
   {
    "duration": 55,
    "start_time": "2024-04-07T15:43:00.563Z"
   },
   {
    "duration": 75,
    "start_time": "2024-04-07T15:43:00.619Z"
   },
   {
    "duration": 42,
    "start_time": "2024-04-07T15:43:00.696Z"
   },
   {
    "duration": 71,
    "start_time": "2024-04-07T15:43:00.739Z"
   },
   {
    "duration": 34,
    "start_time": "2024-04-07T15:43:00.812Z"
   },
   {
    "duration": 42,
    "start_time": "2024-04-07T15:43:00.847Z"
   },
   {
    "duration": 222,
    "start_time": "2024-04-07T15:43:00.890Z"
   },
   {
    "duration": 160,
    "start_time": "2024-04-07T15:43:01.113Z"
   },
   {
    "duration": 159,
    "start_time": "2024-04-07T15:43:01.275Z"
   },
   {
    "duration": 21,
    "start_time": "2024-04-07T15:43:01.436Z"
   },
   {
    "duration": 227,
    "start_time": "2024-04-07T15:43:01.459Z"
   },
   {
    "duration": 189,
    "start_time": "2024-04-07T15:43:01.688Z"
   },
   {
    "duration": 19,
    "start_time": "2024-04-07T15:43:01.879Z"
   },
   {
    "duration": 58,
    "start_time": "2024-04-07T15:43:01.899Z"
   },
   {
    "duration": 24,
    "start_time": "2024-04-07T15:43:01.959Z"
   },
   {
    "duration": 45,
    "start_time": "2024-04-07T15:43:01.985Z"
   },
   {
    "duration": 30,
    "start_time": "2024-04-07T15:43:02.032Z"
   },
   {
    "duration": 71,
    "start_time": "2024-04-07T15:43:02.063Z"
   },
   {
    "duration": 33,
    "start_time": "2024-04-07T15:43:02.135Z"
   },
   {
    "duration": 25,
    "start_time": "2024-04-07T15:43:02.170Z"
   },
   {
    "duration": 63,
    "start_time": "2024-04-07T15:43:02.197Z"
   },
   {
    "duration": 239,
    "start_time": "2024-04-07T15:43:02.262Z"
   },
   {
    "duration": 28,
    "start_time": "2024-04-07T15:43:02.504Z"
   },
   {
    "duration": 270,
    "start_time": "2024-04-07T15:43:02.534Z"
   },
   {
    "duration": 215,
    "start_time": "2024-04-07T15:43:02.806Z"
   },
   {
    "duration": 225,
    "start_time": "2024-04-07T15:43:03.023Z"
   },
   {
    "duration": 4,
    "start_time": "2024-04-07T15:43:03.249Z"
   },
   {
    "duration": 834,
    "start_time": "2024-04-07T15:43:03.254Z"
   },
   {
    "duration": 13,
    "start_time": "2024-04-07T15:43:04.090Z"
   },
   {
    "duration": 13,
    "start_time": "2024-04-07T15:43:04.104Z"
   },
   {
    "duration": 11,
    "start_time": "2024-04-07T15:43:04.118Z"
   },
   {
    "duration": 6,
    "start_time": "2024-04-07T15:43:04.145Z"
   },
   {
    "duration": 6,
    "start_time": "2024-04-07T15:43:04.152Z"
   },
   {
    "duration": 3,
    "start_time": "2024-04-07T15:43:06.261Z"
   },
   {
    "duration": 102,
    "start_time": "2024-04-07T15:43:06.265Z"
   },
   {
    "duration": 33,
    "start_time": "2024-04-07T15:43:06.368Z"
   },
   {
    "duration": 13,
    "start_time": "2024-04-07T15:43:06.403Z"
   },
   {
    "duration": 30,
    "start_time": "2024-04-07T15:43:06.418Z"
   },
   {
    "duration": 7,
    "start_time": "2024-04-07T15:43:06.450Z"
   },
   {
    "duration": 9,
    "start_time": "2024-04-07T15:43:06.459Z"
   },
   {
    "duration": 5,
    "start_time": "2024-04-07T15:43:06.470Z"
   },
   {
    "duration": 6,
    "start_time": "2024-04-07T15:43:06.477Z"
   },
   {
    "duration": 13,
    "start_time": "2024-04-07T15:43:06.484Z"
   },
   {
    "duration": 6,
    "start_time": "2024-04-07T15:43:06.499Z"
   },
   {
    "duration": 200,
    "start_time": "2024-04-07T15:43:06.506Z"
   },
   {
    "duration": 142,
    "start_time": "2024-04-07T15:43:06.708Z"
   },
   {
    "duration": 161,
    "start_time": "2024-04-07T15:43:06.852Z"
   },
   {
    "duration": 13,
    "start_time": "2024-04-07T15:43:07.014Z"
   },
   {
    "duration": 205,
    "start_time": "2024-04-07T15:43:07.028Z"
   },
   {
    "duration": 223,
    "start_time": "2024-04-07T15:43:07.235Z"
   },
   {
    "duration": 29,
    "start_time": "2024-04-07T15:43:07.460Z"
   },
   {
    "duration": 20,
    "start_time": "2024-04-07T15:43:07.490Z"
   },
   {
    "duration": 13,
    "start_time": "2024-04-07T15:43:07.511Z"
   },
   {
    "duration": 21,
    "start_time": "2024-04-07T15:43:07.525Z"
   },
   {
    "duration": 7,
    "start_time": "2024-04-07T15:43:07.547Z"
   },
   {
    "duration": 11,
    "start_time": "2024-04-07T15:43:07.556Z"
   },
   {
    "duration": 12,
    "start_time": "2024-04-07T15:43:07.570Z"
   },
   {
    "duration": 25,
    "start_time": "2024-04-07T15:43:07.583Z"
   },
   {
    "duration": 49,
    "start_time": "2024-04-07T15:43:07.609Z"
   },
   {
    "duration": 241,
    "start_time": "2024-04-07T15:43:07.660Z"
   },
   {
    "duration": 28,
    "start_time": "2024-04-07T15:43:07.902Z"
   },
   {
    "duration": 249,
    "start_time": "2024-04-07T15:43:07.931Z"
   },
   {
    "duration": 556,
    "start_time": "2024-04-07T15:43:08.181Z"
   },
   {
    "duration": 224,
    "start_time": "2024-04-07T15:43:08.738Z"
   },
   {
    "duration": 3,
    "start_time": "2024-04-07T15:43:08.964Z"
   },
   {
    "duration": 754,
    "start_time": "2024-04-07T15:43:08.968Z"
   },
   {
    "duration": 23,
    "start_time": "2024-04-07T15:43:09.723Z"
   },
   {
    "duration": 12,
    "start_time": "2024-04-07T15:43:09.747Z"
   },
   {
    "duration": 9,
    "start_time": "2024-04-07T15:43:09.760Z"
   },
   {
    "duration": 12,
    "start_time": "2024-04-07T15:43:09.771Z"
   },
   {
    "duration": 8,
    "start_time": "2024-04-07T15:43:09.784Z"
   },
   {
    "duration": 9,
    "start_time": "2024-04-07T15:43:09.793Z"
   },
   {
    "duration": 3,
    "start_time": "2024-04-07T15:45:05.688Z"
   },
   {
    "duration": 85,
    "start_time": "2024-04-07T15:45:05.692Z"
   },
   {
    "duration": 21,
    "start_time": "2024-04-07T15:45:05.779Z"
   },
   {
    "duration": 14,
    "start_time": "2024-04-07T15:45:05.802Z"
   },
   {
    "duration": 6,
    "start_time": "2024-04-07T15:45:05.819Z"
   },
   {
    "duration": 22,
    "start_time": "2024-04-07T15:45:05.826Z"
   },
   {
    "duration": 12,
    "start_time": "2024-04-07T15:45:05.850Z"
   },
   {
    "duration": 5,
    "start_time": "2024-04-07T15:45:05.863Z"
   },
   {
    "duration": 16,
    "start_time": "2024-04-07T15:45:05.870Z"
   },
   {
    "duration": 6,
    "start_time": "2024-04-07T15:45:05.887Z"
   },
   {
    "duration": 7,
    "start_time": "2024-04-07T15:45:05.894Z"
   },
   {
    "duration": 168,
    "start_time": "2024-04-07T15:45:05.903Z"
   },
   {
    "duration": 148,
    "start_time": "2024-04-07T15:45:06.073Z"
   },
   {
    "duration": 159,
    "start_time": "2024-04-07T15:45:06.224Z"
   },
   {
    "duration": 13,
    "start_time": "2024-04-07T15:45:06.385Z"
   },
   {
    "duration": 193,
    "start_time": "2024-04-07T15:45:06.400Z"
   },
   {
    "duration": 178,
    "start_time": "2024-04-07T15:45:06.595Z"
   },
   {
    "duration": 20,
    "start_time": "2024-04-07T15:45:06.775Z"
   },
   {
    "duration": 20,
    "start_time": "2024-04-07T15:45:06.796Z"
   },
   {
    "duration": 31,
    "start_time": "2024-04-07T15:45:06.817Z"
   },
   {
    "duration": 7,
    "start_time": "2024-04-07T15:45:06.850Z"
   },
   {
    "duration": 6,
    "start_time": "2024-04-07T15:45:06.859Z"
   },
   {
    "duration": 10,
    "start_time": "2024-04-07T15:45:06.866Z"
   },
   {
    "duration": 6,
    "start_time": "2024-04-07T15:45:06.877Z"
   },
   {
    "duration": 11,
    "start_time": "2024-04-07T15:45:06.884Z"
   },
   {
    "duration": 51,
    "start_time": "2024-04-07T15:45:06.896Z"
   },
   {
    "duration": 221,
    "start_time": "2024-04-07T15:45:06.948Z"
   },
   {
    "duration": 29,
    "start_time": "2024-04-07T15:45:07.171Z"
   },
   {
    "duration": 251,
    "start_time": "2024-04-07T15:45:07.201Z"
   },
   {
    "duration": 243,
    "start_time": "2024-04-07T15:45:07.453Z"
   },
   {
    "duration": 231,
    "start_time": "2024-04-07T15:45:07.697Z"
   },
   {
    "duration": 3,
    "start_time": "2024-04-07T15:45:07.929Z"
   },
   {
    "duration": 779,
    "start_time": "2024-04-07T15:45:07.934Z"
   },
   {
    "duration": 12,
    "start_time": "2024-04-07T15:45:08.714Z"
   },
   {
    "duration": 24,
    "start_time": "2024-04-07T15:45:08.727Z"
   },
   {
    "duration": 9,
    "start_time": "2024-04-07T15:45:08.753Z"
   },
   {
    "duration": 6,
    "start_time": "2024-04-07T15:45:08.764Z"
   },
   {
    "duration": 12,
    "start_time": "2024-04-07T15:45:08.771Z"
   },
   {
    "duration": 6,
    "start_time": "2024-04-07T15:45:08.785Z"
   },
   {
    "duration": 8,
    "start_time": "2024-04-07T15:45:08.792Z"
   },
   {
    "duration": 3,
    "start_time": "2024-04-07T15:46:38.247Z"
   },
   {
    "duration": 87,
    "start_time": "2024-04-07T15:46:38.252Z"
   },
   {
    "duration": 22,
    "start_time": "2024-04-07T15:46:38.340Z"
   },
   {
    "duration": 13,
    "start_time": "2024-04-07T15:46:38.363Z"
   },
   {
    "duration": 6,
    "start_time": "2024-04-07T15:46:38.378Z"
   },
   {
    "duration": 4,
    "start_time": "2024-04-07T15:46:38.386Z"
   },
   {
    "duration": 7,
    "start_time": "2024-04-07T15:46:38.391Z"
   },
   {
    "duration": 3,
    "start_time": "2024-04-07T15:46:38.399Z"
   },
   {
    "duration": 4,
    "start_time": "2024-04-07T15:46:38.404Z"
   },
   {
    "duration": 38,
    "start_time": "2024-04-07T15:46:38.410Z"
   },
   {
    "duration": 21,
    "start_time": "2024-04-07T15:46:38.449Z"
   },
   {
    "duration": 154,
    "start_time": "2024-04-07T15:46:38.472Z"
   },
   {
    "duration": 135,
    "start_time": "2024-04-07T15:46:38.627Z"
   },
   {
    "duration": 161,
    "start_time": "2024-04-07T15:46:38.765Z"
   },
   {
    "duration": 22,
    "start_time": "2024-04-07T15:46:38.927Z"
   },
   {
    "duration": 194,
    "start_time": "2024-04-07T15:46:38.951Z"
   },
   {
    "duration": 179,
    "start_time": "2024-04-07T15:46:39.146Z"
   },
   {
    "duration": 26,
    "start_time": "2024-04-07T15:46:39.327Z"
   },
   {
    "duration": 19,
    "start_time": "2024-04-07T15:46:39.355Z"
   },
   {
    "duration": 12,
    "start_time": "2024-04-07T15:46:39.376Z"
   },
   {
    "duration": 8,
    "start_time": "2024-04-07T15:46:39.389Z"
   },
   {
    "duration": 6,
    "start_time": "2024-04-07T15:46:39.399Z"
   },
   {
    "duration": 39,
    "start_time": "2024-04-07T15:46:39.407Z"
   },
   {
    "duration": 7,
    "start_time": "2024-04-07T15:46:39.447Z"
   },
   {
    "duration": 14,
    "start_time": "2024-04-07T15:46:39.456Z"
   },
   {
    "duration": 26,
    "start_time": "2024-04-07T15:46:39.472Z"
   },
   {
    "duration": 237,
    "start_time": "2024-04-07T15:46:39.499Z"
   },
   {
    "duration": 28,
    "start_time": "2024-04-07T15:46:39.744Z"
   },
   {
    "duration": 228,
    "start_time": "2024-04-07T15:46:39.773Z"
   },
   {
    "duration": 211,
    "start_time": "2024-04-07T15:46:40.002Z"
   },
   {
    "duration": 224,
    "start_time": "2024-04-07T15:46:40.214Z"
   },
   {
    "duration": 3,
    "start_time": "2024-04-07T15:46:40.444Z"
   },
   {
    "duration": 798,
    "start_time": "2024-04-07T15:46:40.448Z"
   },
   {
    "duration": 11,
    "start_time": "2024-04-07T15:46:41.248Z"
   },
   {
    "duration": 12,
    "start_time": "2024-04-07T15:46:41.260Z"
   },
   {
    "duration": 8,
    "start_time": "2024-04-07T15:46:41.274Z"
   },
   {
    "duration": 9,
    "start_time": "2024-04-07T15:46:41.283Z"
   },
   {
    "duration": 4,
    "start_time": "2024-04-07T15:46:41.294Z"
   },
   {
    "duration": 8,
    "start_time": "2024-04-07T15:46:41.299Z"
   },
   {
    "duration": 5,
    "start_time": "2024-04-07T15:46:41.308Z"
   },
   {
    "duration": 4,
    "start_time": "2024-04-07T15:46:41.349Z"
   },
   {
    "duration": 3,
    "start_time": "2024-04-07T15:49:48.800Z"
   },
   {
    "duration": 95,
    "start_time": "2024-04-07T15:49:48.805Z"
   },
   {
    "duration": 20,
    "start_time": "2024-04-07T15:49:48.902Z"
   },
   {
    "duration": 14,
    "start_time": "2024-04-07T15:49:48.924Z"
   },
   {
    "duration": 10,
    "start_time": "2024-04-07T15:49:48.940Z"
   },
   {
    "duration": 7,
    "start_time": "2024-04-07T15:49:48.952Z"
   },
   {
    "duration": 6,
    "start_time": "2024-04-07T15:49:48.960Z"
   },
   {
    "duration": 4,
    "start_time": "2024-04-07T15:49:48.967Z"
   },
   {
    "duration": 5,
    "start_time": "2024-04-07T15:49:48.972Z"
   },
   {
    "duration": 15,
    "start_time": "2024-04-07T15:49:48.978Z"
   },
   {
    "duration": 5,
    "start_time": "2024-04-07T15:49:48.994Z"
   },
   {
    "duration": 184,
    "start_time": "2024-04-07T15:49:49.000Z"
   },
   {
    "duration": 140,
    "start_time": "2024-04-07T15:49:49.186Z"
   },
   {
    "duration": 161,
    "start_time": "2024-04-07T15:49:49.329Z"
   },
   {
    "duration": 22,
    "start_time": "2024-04-07T15:49:49.491Z"
   },
   {
    "duration": 565,
    "start_time": "2024-04-07T15:49:49.515Z"
   },
   {
    "duration": 179,
    "start_time": "2024-04-07T15:49:50.081Z"
   },
   {
    "duration": 20,
    "start_time": "2024-04-07T15:49:50.261Z"
   },
   {
    "duration": 19,
    "start_time": "2024-04-07T15:49:50.283Z"
   },
   {
    "duration": 15,
    "start_time": "2024-04-07T15:49:50.303Z"
   },
   {
    "duration": 28,
    "start_time": "2024-04-07T15:49:50.320Z"
   },
   {
    "duration": 19,
    "start_time": "2024-04-07T15:49:50.349Z"
   },
   {
    "duration": 32,
    "start_time": "2024-04-07T15:49:50.369Z"
   },
   {
    "duration": 19,
    "start_time": "2024-04-07T15:49:50.402Z"
   },
   {
    "duration": 28,
    "start_time": "2024-04-07T15:49:50.422Z"
   },
   {
    "duration": 50,
    "start_time": "2024-04-07T15:49:50.451Z"
   },
   {
    "duration": 234,
    "start_time": "2024-04-07T15:49:50.503Z"
   },
   {
    "duration": 32,
    "start_time": "2024-04-07T15:49:50.739Z"
   },
   {
    "duration": 239,
    "start_time": "2024-04-07T15:49:50.772Z"
   },
   {
    "duration": 207,
    "start_time": "2024-04-07T15:49:51.013Z"
   },
   {
    "duration": 225,
    "start_time": "2024-04-07T15:49:51.221Z"
   },
   {
    "duration": 4,
    "start_time": "2024-04-07T15:49:51.448Z"
   },
   {
    "duration": 827,
    "start_time": "2024-04-07T15:49:51.453Z"
   },
   {
    "duration": 12,
    "start_time": "2024-04-07T15:49:52.281Z"
   },
   {
    "duration": 18,
    "start_time": "2024-04-07T15:49:52.295Z"
   },
   {
    "duration": 28,
    "start_time": "2024-04-07T15:49:52.314Z"
   },
   {
    "duration": 11,
    "start_time": "2024-04-07T15:49:52.343Z"
   },
   {
    "duration": 17,
    "start_time": "2024-04-07T15:49:52.356Z"
   },
   {
    "duration": 7,
    "start_time": "2024-04-07T15:49:52.374Z"
   },
   {
    "duration": 17,
    "start_time": "2024-04-07T15:49:52.383Z"
   },
   {
    "duration": 17,
    "start_time": "2024-04-07T15:49:52.404Z"
   },
   {
    "duration": 34,
    "start_time": "2024-04-07T15:49:52.423Z"
   },
   {
    "duration": 20,
    "start_time": "2024-04-07T15:49:52.458Z"
   },
   {
    "duration": 1245,
    "start_time": "2024-04-07T17:04:14.442Z"
   },
   {
    "duration": 224,
    "start_time": "2024-04-07T17:04:15.689Z"
   },
   {
    "duration": 24,
    "start_time": "2024-04-07T17:04:15.914Z"
   },
   {
    "duration": 14,
    "start_time": "2024-04-07T17:04:15.940Z"
   },
   {
    "duration": 8,
    "start_time": "2024-04-07T17:04:15.955Z"
   },
   {
    "duration": 5,
    "start_time": "2024-04-07T17:04:15.964Z"
   },
   {
    "duration": 13,
    "start_time": "2024-04-07T17:04:15.970Z"
   },
   {
    "duration": 7,
    "start_time": "2024-04-07T17:04:15.984Z"
   },
   {
    "duration": 6,
    "start_time": "2024-04-07T17:04:16.018Z"
   },
   {
    "duration": 9,
    "start_time": "2024-04-07T17:04:16.027Z"
   },
   {
    "duration": 6,
    "start_time": "2024-04-07T17:04:16.037Z"
   },
   {
    "duration": 196,
    "start_time": "2024-04-07T17:04:16.045Z"
   },
   {
    "duration": 153,
    "start_time": "2024-04-07T17:04:16.243Z"
   },
   {
    "duration": 152,
    "start_time": "2024-04-07T17:04:16.397Z"
   },
   {
    "duration": 13,
    "start_time": "2024-04-07T17:04:16.550Z"
   },
   {
    "duration": 198,
    "start_time": "2024-04-07T17:04:16.564Z"
   },
   {
    "duration": 211,
    "start_time": "2024-04-07T17:04:16.764Z"
   },
   {
    "duration": 25,
    "start_time": "2024-04-07T17:04:16.977Z"
   },
   {
    "duration": 36,
    "start_time": "2024-04-07T17:04:17.004Z"
   },
   {
    "duration": 13,
    "start_time": "2024-04-07T17:04:17.041Z"
   },
   {
    "duration": 8,
    "start_time": "2024-04-07T17:04:17.055Z"
   },
   {
    "duration": 7,
    "start_time": "2024-04-07T17:04:17.065Z"
   },
   {
    "duration": 10,
    "start_time": "2024-04-07T17:04:17.074Z"
   },
   {
    "duration": 36,
    "start_time": "2024-04-07T17:04:17.086Z"
   },
   {
    "duration": 11,
    "start_time": "2024-04-07T17:04:17.124Z"
   },
   {
    "duration": 28,
    "start_time": "2024-04-07T17:04:17.137Z"
   },
   {
    "duration": 262,
    "start_time": "2024-04-07T17:04:17.167Z"
   },
   {
    "duration": 31,
    "start_time": "2024-04-07T17:04:17.432Z"
   },
   {
    "duration": 263,
    "start_time": "2024-04-07T17:04:17.464Z"
   },
   {
    "duration": 290,
    "start_time": "2024-04-07T17:04:17.729Z"
   },
   {
    "duration": 247,
    "start_time": "2024-04-07T17:04:18.020Z"
   },
   {
    "duration": 4,
    "start_time": "2024-04-07T17:04:18.268Z"
   },
   {
    "duration": 838,
    "start_time": "2024-04-07T17:04:18.274Z"
   },
   {
    "duration": 13,
    "start_time": "2024-04-07T17:04:19.114Z"
   },
   {
    "duration": 30,
    "start_time": "2024-04-07T17:04:19.129Z"
   },
   {
    "duration": 14,
    "start_time": "2024-04-07T17:04:19.161Z"
   },
   {
    "duration": 20,
    "start_time": "2024-04-07T17:04:19.176Z"
   },
   {
    "duration": 39,
    "start_time": "2024-04-07T17:04:19.198Z"
   },
   {
    "duration": 32,
    "start_time": "2024-04-07T17:04:19.239Z"
   },
   {
    "duration": 26,
    "start_time": "2024-04-07T17:04:19.272Z"
   },
   {
    "duration": 11,
    "start_time": "2024-04-07T17:04:19.300Z"
   },
   {
    "duration": 15,
    "start_time": "2024-04-07T17:04:19.312Z"
   },
   {
    "duration": 22,
    "start_time": "2024-04-07T17:04:19.329Z"
   },
   {
    "duration": 13,
    "start_time": "2024-04-07T19:50:57.721Z"
   },
   {
    "duration": 1099,
    "start_time": "2024-04-07T19:59:41.360Z"
   },
   {
    "duration": 83,
    "start_time": "2024-04-07T19:59:42.461Z"
   },
   {
    "duration": 23,
    "start_time": "2024-04-07T19:59:42.546Z"
   },
   {
    "duration": 15,
    "start_time": "2024-04-07T19:59:42.571Z"
   },
   {
    "duration": 7,
    "start_time": "2024-04-07T19:59:42.588Z"
   },
   {
    "duration": 21,
    "start_time": "2024-04-07T19:59:42.597Z"
   },
   {
    "duration": 9,
    "start_time": "2024-04-07T19:59:42.620Z"
   },
   {
    "duration": 4,
    "start_time": "2024-04-07T19:59:42.630Z"
   },
   {
    "duration": 5,
    "start_time": "2024-04-07T19:59:42.636Z"
   },
   {
    "duration": 5,
    "start_time": "2024-04-07T19:59:42.644Z"
   },
   {
    "duration": 6,
    "start_time": "2024-04-07T19:59:42.650Z"
   },
   {
    "duration": 229,
    "start_time": "2024-04-07T19:59:42.657Z"
   },
   {
    "duration": 161,
    "start_time": "2024-04-07T19:59:42.887Z"
   },
   {
    "duration": 175,
    "start_time": "2024-04-07T19:59:43.050Z"
   },
   {
    "duration": 15,
    "start_time": "2024-04-07T19:59:43.226Z"
   },
   {
    "duration": 244,
    "start_time": "2024-04-07T19:59:43.243Z"
   },
   {
    "duration": 212,
    "start_time": "2024-04-07T19:59:43.489Z"
   },
   {
    "duration": 33,
    "start_time": "2024-04-07T19:59:43.702Z"
   },
   {
    "duration": 26,
    "start_time": "2024-04-07T19:59:43.737Z"
   },
   {
    "duration": 17,
    "start_time": "2024-04-07T19:59:43.764Z"
   },
   {
    "duration": 37,
    "start_time": "2024-04-07T19:59:43.783Z"
   },
   {
    "duration": 9,
    "start_time": "2024-04-07T19:59:43.821Z"
   },
   {
    "duration": 10,
    "start_time": "2024-04-07T19:59:43.831Z"
   },
   {
    "duration": 5,
    "start_time": "2024-04-07T19:59:43.843Z"
   },
   {
    "duration": 12,
    "start_time": "2024-04-07T19:59:43.850Z"
   },
   {
    "duration": 64,
    "start_time": "2024-04-07T19:59:43.863Z"
   },
   {
    "duration": 245,
    "start_time": "2024-04-07T19:59:43.928Z"
   },
   {
    "duration": 48,
    "start_time": "2024-04-07T19:59:44.176Z"
   },
   {
    "duration": 278,
    "start_time": "2024-04-07T19:59:44.225Z"
   },
   {
    "duration": 339,
    "start_time": "2024-04-07T19:59:44.504Z"
   },
   {
    "duration": 256,
    "start_time": "2024-04-07T19:59:44.845Z"
   },
   {
    "duration": 3,
    "start_time": "2024-04-07T19:59:45.103Z"
   },
   {
    "duration": 837,
    "start_time": "2024-04-07T19:59:45.108Z"
   },
   {
    "duration": 13,
    "start_time": "2024-04-07T19:59:45.947Z"
   },
   {
    "duration": 15,
    "start_time": "2024-04-07T19:59:45.961Z"
   },
   {
    "duration": 15,
    "start_time": "2024-04-07T19:59:45.977Z"
   },
   {
    "duration": 26,
    "start_time": "2024-04-07T19:59:45.994Z"
   },
   {
    "duration": 6,
    "start_time": "2024-04-07T19:59:46.022Z"
   },
   {
    "duration": 5,
    "start_time": "2024-04-07T19:59:46.030Z"
   },
   {
    "duration": 6,
    "start_time": "2024-04-07T19:59:46.037Z"
   },
   {
    "duration": 6,
    "start_time": "2024-04-07T19:59:46.045Z"
   },
   {
    "duration": 7,
    "start_time": "2024-04-07T19:59:46.053Z"
   },
   {
    "duration": 6,
    "start_time": "2024-04-07T19:59:46.062Z"
   },
   {
    "duration": 49,
    "start_time": "2024-04-08T06:27:56.209Z"
   },
   {
    "duration": 1321,
    "start_time": "2024-04-08T06:28:00.112Z"
   },
   {
    "duration": 227,
    "start_time": "2024-04-08T06:28:01.435Z"
   },
   {
    "duration": 23,
    "start_time": "2024-04-08T06:28:01.663Z"
   },
   {
    "duration": 102,
    "start_time": "2024-04-08T06:28:01.688Z"
   },
   {
    "duration": 40,
    "start_time": "2024-04-08T06:28:01.793Z"
   },
   {
    "duration": 14,
    "start_time": "2024-04-08T06:28:01.834Z"
   },
   {
    "duration": 14,
    "start_time": "2024-04-08T06:28:01.850Z"
   },
   {
    "duration": 15,
    "start_time": "2024-04-08T06:28:01.866Z"
   },
   {
    "duration": 27,
    "start_time": "2024-04-08T06:28:01.883Z"
   },
   {
    "duration": 30,
    "start_time": "2024-04-08T06:28:01.911Z"
   },
   {
    "duration": 18,
    "start_time": "2024-04-08T06:28:01.943Z"
   },
   {
    "duration": 228,
    "start_time": "2024-04-08T06:28:01.963Z"
   },
   {
    "duration": 12,
    "start_time": "2024-04-08T06:28:02.193Z"
   },
   {
    "duration": 169,
    "start_time": "2024-04-08T06:28:02.208Z"
   },
   {
    "duration": 215,
    "start_time": "2024-04-08T06:28:02.382Z"
   },
   {
    "duration": 17,
    "start_time": "2024-04-08T06:28:02.599Z"
   },
   {
    "duration": 225,
    "start_time": "2024-04-08T06:28:02.617Z"
   },
   {
    "duration": 214,
    "start_time": "2024-04-08T06:28:02.843Z"
   },
   {
    "duration": 36,
    "start_time": "2024-04-08T06:28:03.058Z"
   },
   {
    "duration": 27,
    "start_time": "2024-04-08T06:28:03.096Z"
   },
   {
    "duration": 14,
    "start_time": "2024-04-08T06:28:03.124Z"
   },
   {
    "duration": 18,
    "start_time": "2024-04-08T06:28:03.140Z"
   },
   {
    "duration": 25,
    "start_time": "2024-04-08T06:28:03.160Z"
   },
   {
    "duration": 31,
    "start_time": "2024-04-08T06:28:03.187Z"
   },
   {
    "duration": 23,
    "start_time": "2024-04-08T06:28:03.219Z"
   },
   {
    "duration": 23,
    "start_time": "2024-04-08T06:28:03.243Z"
   },
   {
    "duration": 55,
    "start_time": "2024-04-08T06:28:03.267Z"
   },
   {
    "duration": 270,
    "start_time": "2024-04-08T06:28:03.323Z"
   },
   {
    "duration": 38,
    "start_time": "2024-04-08T06:28:03.595Z"
   },
   {
    "duration": 282,
    "start_time": "2024-04-08T06:28:03.636Z"
   },
   {
    "duration": 318,
    "start_time": "2024-04-08T06:28:03.920Z"
   },
   {
    "duration": 266,
    "start_time": "2024-04-08T06:28:04.239Z"
   },
   {
    "duration": 3,
    "start_time": "2024-04-08T06:28:04.507Z"
   },
   {
    "duration": 949,
    "start_time": "2024-04-08T06:28:04.512Z"
   },
   {
    "duration": 20,
    "start_time": "2024-04-08T06:28:05.462Z"
   },
   {
    "duration": 14,
    "start_time": "2024-04-08T06:28:05.484Z"
   },
   {
    "duration": 10,
    "start_time": "2024-04-08T06:28:05.500Z"
   },
   {
    "duration": 13,
    "start_time": "2024-04-08T06:28:05.512Z"
   },
   {
    "duration": 7,
    "start_time": "2024-04-08T06:28:05.526Z"
   },
   {
    "duration": 6,
    "start_time": "2024-04-08T06:28:05.534Z"
   },
   {
    "duration": 5,
    "start_time": "2024-04-08T06:28:05.544Z"
   },
   {
    "duration": 4,
    "start_time": "2024-04-08T06:28:05.582Z"
   },
   {
    "duration": 7,
    "start_time": "2024-04-08T06:28:05.588Z"
   },
   {
    "duration": 7,
    "start_time": "2024-04-08T06:28:05.597Z"
   },
   {
    "duration": 3,
    "start_time": "2024-04-08T06:28:37.252Z"
   },
   {
    "duration": 94,
    "start_time": "2024-04-08T06:28:37.257Z"
   },
   {
    "duration": 24,
    "start_time": "2024-04-08T06:28:37.353Z"
   },
   {
    "duration": 16,
    "start_time": "2024-04-08T06:28:37.379Z"
   },
   {
    "duration": 10,
    "start_time": "2024-04-08T06:28:37.397Z"
   },
   {
    "duration": 6,
    "start_time": "2024-04-08T06:28:37.409Z"
   },
   {
    "duration": 8,
    "start_time": "2024-04-08T06:28:37.417Z"
   },
   {
    "duration": 5,
    "start_time": "2024-04-08T06:28:37.426Z"
   },
   {
    "duration": 14,
    "start_time": "2024-04-08T06:28:37.432Z"
   },
   {
    "duration": 37,
    "start_time": "2024-04-08T06:28:37.448Z"
   },
   {
    "duration": 8,
    "start_time": "2024-04-08T06:28:37.486Z"
   },
   {
    "duration": 199,
    "start_time": "2024-04-08T06:28:37.496Z"
   },
   {
    "duration": 6,
    "start_time": "2024-04-08T06:28:37.696Z"
   },
   {
    "duration": 173,
    "start_time": "2024-04-08T06:28:37.705Z"
   },
   {
    "duration": 192,
    "start_time": "2024-04-08T06:28:37.881Z"
   },
   {
    "duration": 17,
    "start_time": "2024-04-08T06:28:38.075Z"
   },
   {
    "duration": 221,
    "start_time": "2024-04-08T06:28:38.094Z"
   },
   {
    "duration": 319,
    "start_time": "2024-04-08T06:28:38.317Z"
   },
   {
    "duration": 31,
    "start_time": "2024-04-08T06:28:38.637Z"
   },
   {
    "duration": 38,
    "start_time": "2024-04-08T06:28:38.670Z"
   },
   {
    "duration": 15,
    "start_time": "2024-04-08T06:28:38.710Z"
   },
   {
    "duration": 10,
    "start_time": "2024-04-08T06:28:38.727Z"
   },
   {
    "duration": 18,
    "start_time": "2024-04-08T06:28:38.739Z"
   },
   {
    "duration": 31,
    "start_time": "2024-04-08T06:28:38.759Z"
   },
   {
    "duration": 11,
    "start_time": "2024-04-08T06:28:38.792Z"
   },
   {
    "duration": 15,
    "start_time": "2024-04-08T06:28:38.805Z"
   },
   {
    "duration": 33,
    "start_time": "2024-04-08T06:28:38.822Z"
   },
   {
    "duration": 296,
    "start_time": "2024-04-08T06:28:38.857Z"
   },
   {
    "duration": 44,
    "start_time": "2024-04-08T06:28:39.155Z"
   },
   {
    "duration": 287,
    "start_time": "2024-04-08T06:28:39.201Z"
   },
   {
    "duration": 276,
    "start_time": "2024-04-08T06:28:39.490Z"
   },
   {
    "duration": 288,
    "start_time": "2024-04-08T06:28:39.768Z"
   },
   {
    "duration": 3,
    "start_time": "2024-04-08T06:28:40.058Z"
   },
   {
    "duration": 879,
    "start_time": "2024-04-08T06:28:40.063Z"
   },
   {
    "duration": 14,
    "start_time": "2024-04-08T06:28:40.943Z"
   },
   {
    "duration": 137,
    "start_time": "2024-04-08T06:28:40.958Z"
   },
   {
    "duration": 11,
    "start_time": "2024-04-08T06:28:41.096Z"
   },
   {
    "duration": 14,
    "start_time": "2024-04-08T06:28:41.108Z"
   },
   {
    "duration": 5,
    "start_time": "2024-04-08T06:28:41.125Z"
   },
   {
    "duration": 15,
    "start_time": "2024-04-08T06:28:41.132Z"
   },
   {
    "duration": 5,
    "start_time": "2024-04-08T06:28:41.151Z"
   },
   {
    "duration": 24,
    "start_time": "2024-04-08T06:28:41.158Z"
   },
   {
    "duration": 7,
    "start_time": "2024-04-08T06:28:41.184Z"
   },
   {
    "duration": 24,
    "start_time": "2024-04-08T06:28:41.193Z"
   },
   {
    "duration": 3,
    "start_time": "2024-04-08T06:31:37.413Z"
   },
   {
    "duration": 85,
    "start_time": "2024-04-08T06:31:37.418Z"
   },
   {
    "duration": 24,
    "start_time": "2024-04-08T06:31:37.505Z"
   },
   {
    "duration": 16,
    "start_time": "2024-04-08T06:31:37.531Z"
   },
   {
    "duration": 9,
    "start_time": "2024-04-08T06:31:37.549Z"
   },
   {
    "duration": 26,
    "start_time": "2024-04-08T06:31:37.560Z"
   },
   {
    "duration": 22,
    "start_time": "2024-04-08T06:31:37.587Z"
   },
   {
    "duration": 5,
    "start_time": "2024-04-08T06:31:37.610Z"
   },
   {
    "duration": 11,
    "start_time": "2024-04-08T06:31:37.617Z"
   },
   {
    "duration": 6,
    "start_time": "2024-04-08T06:31:37.630Z"
   },
   {
    "duration": 6,
    "start_time": "2024-04-08T06:31:37.637Z"
   },
   {
    "duration": 219,
    "start_time": "2024-04-08T06:31:37.644Z"
   },
   {
    "duration": 6,
    "start_time": "2024-04-08T06:31:37.865Z"
   },
   {
    "duration": 174,
    "start_time": "2024-04-08T06:31:37.884Z"
   },
   {
    "duration": 189,
    "start_time": "2024-04-08T06:31:38.060Z"
   },
   {
    "duration": 14,
    "start_time": "2024-04-08T06:31:38.251Z"
   },
   {
    "duration": 229,
    "start_time": "2024-04-08T06:31:38.267Z"
   },
   {
    "duration": 219,
    "start_time": "2024-04-08T06:31:38.497Z"
   },
   {
    "duration": 24,
    "start_time": "2024-04-08T06:31:38.718Z"
   },
   {
    "duration": 24,
    "start_time": "2024-04-08T06:31:38.743Z"
   },
   {
    "duration": 14,
    "start_time": "2024-04-08T06:31:38.782Z"
   },
   {
    "duration": 10,
    "start_time": "2024-04-08T06:31:38.797Z"
   },
   {
    "duration": 9,
    "start_time": "2024-04-08T06:31:38.808Z"
   },
   {
    "duration": 11,
    "start_time": "2024-04-08T06:31:38.819Z"
   },
   {
    "duration": 6,
    "start_time": "2024-04-08T06:31:38.832Z"
   },
   {
    "duration": 49,
    "start_time": "2024-04-08T06:31:38.840Z"
   },
   {
    "duration": 53,
    "start_time": "2024-04-08T06:31:38.890Z"
   },
   {
    "duration": 277,
    "start_time": "2024-04-08T06:31:38.945Z"
   },
   {
    "duration": 33,
    "start_time": "2024-04-08T06:31:39.224Z"
   },
   {
    "duration": 301,
    "start_time": "2024-04-08T06:31:39.258Z"
   },
   {
    "duration": 246,
    "start_time": "2024-04-08T06:31:39.560Z"
   },
   {
    "duration": 395,
    "start_time": "2024-04-08T06:31:39.808Z"
   },
   {
    "duration": 4,
    "start_time": "2024-04-08T06:31:40.204Z"
   },
   {
    "duration": 881,
    "start_time": "2024-04-08T06:31:40.209Z"
   },
   {
    "duration": 13,
    "start_time": "2024-04-08T06:31:41.092Z"
   },
   {
    "duration": 15,
    "start_time": "2024-04-08T06:31:41.107Z"
   },
   {
    "duration": 10,
    "start_time": "2024-04-08T06:31:41.124Z"
   },
   {
    "duration": 7,
    "start_time": "2024-04-08T06:31:41.136Z"
   },
   {
    "duration": 7,
    "start_time": "2024-04-08T06:31:41.144Z"
   },
   {
    "duration": 6,
    "start_time": "2024-04-08T06:31:41.181Z"
   },
   {
    "duration": 65,
    "start_time": "2024-04-08T06:31:41.191Z"
   },
   {
    "duration": 0,
    "start_time": "2024-04-08T06:31:41.258Z"
   },
   {
    "duration": 0,
    "start_time": "2024-04-08T06:31:41.259Z"
   },
   {
    "duration": 0,
    "start_time": "2024-04-08T06:31:41.260Z"
   },
   {
    "duration": 3,
    "start_time": "2024-04-08T06:32:02.792Z"
   },
   {
    "duration": 92,
    "start_time": "2024-04-08T06:32:02.797Z"
   },
   {
    "duration": 25,
    "start_time": "2024-04-08T06:32:02.891Z"
   },
   {
    "duration": 15,
    "start_time": "2024-04-08T06:32:02.918Z"
   },
   {
    "duration": 8,
    "start_time": "2024-04-08T06:32:02.935Z"
   },
   {
    "duration": 5,
    "start_time": "2024-04-08T06:32:02.945Z"
   },
   {
    "duration": 8,
    "start_time": "2024-04-08T06:32:02.982Z"
   },
   {
    "duration": 18,
    "start_time": "2024-04-08T06:32:02.992Z"
   },
   {
    "duration": 9,
    "start_time": "2024-04-08T06:32:03.012Z"
   },
   {
    "duration": 6,
    "start_time": "2024-04-08T06:32:03.022Z"
   },
   {
    "duration": 6,
    "start_time": "2024-04-08T06:32:03.029Z"
   },
   {
    "duration": 212,
    "start_time": "2024-04-08T06:32:03.036Z"
   },
   {
    "duration": 6,
    "start_time": "2024-04-08T06:32:03.249Z"
   },
   {
    "duration": 170,
    "start_time": "2024-04-08T06:32:03.258Z"
   },
   {
    "duration": 180,
    "start_time": "2024-04-08T06:32:03.429Z"
   },
   {
    "duration": 14,
    "start_time": "2024-04-08T06:32:03.611Z"
   },
   {
    "duration": 223,
    "start_time": "2024-04-08T06:32:03.627Z"
   },
   {
    "duration": 219,
    "start_time": "2024-04-08T06:32:03.852Z"
   },
   {
    "duration": 36,
    "start_time": "2024-04-08T06:32:04.073Z"
   },
   {
    "duration": 26,
    "start_time": "2024-04-08T06:32:04.111Z"
   },
   {
    "duration": 14,
    "start_time": "2024-04-08T06:32:04.138Z"
   },
   {
    "duration": 34,
    "start_time": "2024-04-08T06:32:04.153Z"
   },
   {
    "duration": 9,
    "start_time": "2024-04-08T06:32:04.190Z"
   },
   {
    "duration": 20,
    "start_time": "2024-04-08T06:32:04.201Z"
   },
   {
    "duration": 12,
    "start_time": "2024-04-08T06:32:04.223Z"
   },
   {
    "duration": 15,
    "start_time": "2024-04-08T06:32:04.237Z"
   },
   {
    "duration": 54,
    "start_time": "2024-04-08T06:32:04.253Z"
   },
   {
    "duration": 275,
    "start_time": "2024-04-08T06:32:04.309Z"
   },
   {
    "duration": 32,
    "start_time": "2024-04-08T06:32:04.585Z"
   },
   {
    "duration": 283,
    "start_time": "2024-04-08T06:32:04.619Z"
   },
   {
    "duration": 251,
    "start_time": "2024-04-08T06:32:04.903Z"
   },
   {
    "duration": 417,
    "start_time": "2024-04-08T06:32:05.156Z"
   },
   {
    "duration": 7,
    "start_time": "2024-04-08T06:32:05.575Z"
   },
   {
    "duration": 920,
    "start_time": "2024-04-08T06:32:05.584Z"
   },
   {
    "duration": 15,
    "start_time": "2024-04-08T06:32:06.506Z"
   },
   {
    "duration": 20,
    "start_time": "2024-04-08T06:32:06.523Z"
   },
   {
    "duration": 11,
    "start_time": "2024-04-08T06:32:06.545Z"
   },
   {
    "duration": 6,
    "start_time": "2024-04-08T06:32:06.582Z"
   },
   {
    "duration": 19,
    "start_time": "2024-04-08T06:32:06.590Z"
   },
   {
    "duration": 13,
    "start_time": "2024-04-08T06:32:06.611Z"
   },
   {
    "duration": 15,
    "start_time": "2024-04-08T06:32:06.628Z"
   },
   {
    "duration": 13,
    "start_time": "2024-04-08T06:32:06.645Z"
   },
   {
    "duration": 11,
    "start_time": "2024-04-08T06:32:06.660Z"
   },
   {
    "duration": 10,
    "start_time": "2024-04-08T06:32:06.672Z"
   },
   {
    "duration": 3,
    "start_time": "2024-04-08T06:37:12.318Z"
   },
   {
    "duration": 87,
    "start_time": "2024-04-08T06:37:12.323Z"
   },
   {
    "duration": 24,
    "start_time": "2024-04-08T06:37:12.411Z"
   },
   {
    "duration": 15,
    "start_time": "2024-04-08T06:37:12.437Z"
   },
   {
    "duration": 9,
    "start_time": "2024-04-08T06:37:12.455Z"
   },
   {
    "duration": 5,
    "start_time": "2024-04-08T06:37:12.483Z"
   },
   {
    "duration": 11,
    "start_time": "2024-04-08T06:37:12.489Z"
   },
   {
    "duration": 7,
    "start_time": "2024-04-08T06:37:12.502Z"
   },
   {
    "duration": 17,
    "start_time": "2024-04-08T06:37:12.511Z"
   },
   {
    "duration": 8,
    "start_time": "2024-04-08T06:37:12.530Z"
   },
   {
    "duration": 7,
    "start_time": "2024-04-08T06:37:12.540Z"
   },
   {
    "duration": 226,
    "start_time": "2024-04-08T06:37:12.548Z"
   },
   {
    "duration": 6,
    "start_time": "2024-04-08T06:37:12.782Z"
   },
   {
    "duration": 170,
    "start_time": "2024-04-08T06:37:12.793Z"
   },
   {
    "duration": 230,
    "start_time": "2024-04-08T06:37:12.965Z"
   },
   {
    "duration": 19,
    "start_time": "2024-04-08T06:37:13.197Z"
   },
   {
    "duration": 221,
    "start_time": "2024-04-08T06:37:13.218Z"
   },
   {
    "duration": 211,
    "start_time": "2024-04-08T06:37:13.441Z"
   },
   {
    "duration": 30,
    "start_time": "2024-04-08T06:37:13.654Z"
   },
   {
    "duration": 23,
    "start_time": "2024-04-08T06:37:13.686Z"
   },
   {
    "duration": 14,
    "start_time": "2024-04-08T06:37:13.711Z"
   },
   {
    "duration": 9,
    "start_time": "2024-04-08T06:37:13.727Z"
   },
   {
    "duration": 7,
    "start_time": "2024-04-08T06:37:13.738Z"
   },
   {
    "duration": 43,
    "start_time": "2024-04-08T06:37:13.747Z"
   },
   {
    "duration": 8,
    "start_time": "2024-04-08T06:37:13.792Z"
   },
   {
    "duration": 12,
    "start_time": "2024-04-08T06:37:13.801Z"
   },
   {
    "duration": 32,
    "start_time": "2024-04-08T06:37:13.815Z"
   },
   {
    "duration": 285,
    "start_time": "2024-04-08T06:37:13.848Z"
   },
   {
    "duration": 32,
    "start_time": "2024-04-08T06:37:14.135Z"
   },
   {
    "duration": 293,
    "start_time": "2024-04-08T06:37:14.169Z"
   },
   {
    "duration": 269,
    "start_time": "2024-04-08T06:37:14.463Z"
   },
   {
    "duration": 265,
    "start_time": "2024-04-08T06:37:14.734Z"
   },
   {
    "duration": 4,
    "start_time": "2024-04-08T06:37:15.000Z"
   },
   {
    "duration": 935,
    "start_time": "2024-04-08T06:37:15.006Z"
   },
   {
    "duration": 210,
    "start_time": "2024-04-08T06:37:15.944Z"
   },
   {
    "duration": 29,
    "start_time": "2024-04-08T06:37:16.156Z"
   },
   {
    "duration": 11,
    "start_time": "2024-04-08T06:37:16.187Z"
   },
   {
    "duration": 6,
    "start_time": "2024-04-08T06:37:16.200Z"
   },
   {
    "duration": 9,
    "start_time": "2024-04-08T06:37:16.207Z"
   },
   {
    "duration": 6,
    "start_time": "2024-04-08T06:37:16.218Z"
   },
   {
    "duration": 6,
    "start_time": "2024-04-08T06:37:16.227Z"
   },
   {
    "duration": 9,
    "start_time": "2024-04-08T06:37:16.235Z"
   },
   {
    "duration": 38,
    "start_time": "2024-04-08T06:37:16.246Z"
   },
   {
    "duration": 13,
    "start_time": "2024-04-08T06:37:16.286Z"
   },
   {
    "duration": 3,
    "start_time": "2024-04-08T06:47:49.734Z"
   },
   {
    "duration": 86,
    "start_time": "2024-04-08T06:47:49.738Z"
   },
   {
    "duration": 42,
    "start_time": "2024-04-08T06:47:49.826Z"
   },
   {
    "duration": 22,
    "start_time": "2024-04-08T06:47:49.871Z"
   },
   {
    "duration": 7,
    "start_time": "2024-04-08T06:47:49.895Z"
   },
   {
    "duration": 6,
    "start_time": "2024-04-08T06:47:49.904Z"
   },
   {
    "duration": 8,
    "start_time": "2024-04-08T06:47:49.912Z"
   },
   {
    "duration": 10,
    "start_time": "2024-04-08T06:47:49.921Z"
   },
   {
    "duration": 7,
    "start_time": "2024-04-08T06:47:49.934Z"
   },
   {
    "duration": 43,
    "start_time": "2024-04-08T06:47:49.943Z"
   },
   {
    "duration": 8,
    "start_time": "2024-04-08T06:47:49.988Z"
   },
   {
    "duration": 203,
    "start_time": "2024-04-08T06:47:49.997Z"
   },
   {
    "duration": 6,
    "start_time": "2024-04-08T06:47:50.202Z"
   },
   {
    "duration": 177,
    "start_time": "2024-04-08T06:47:50.210Z"
   },
   {
    "duration": 198,
    "start_time": "2024-04-08T06:47:50.389Z"
   },
   {
    "duration": 15,
    "start_time": "2024-04-08T06:47:50.589Z"
   },
   {
    "duration": 227,
    "start_time": "2024-04-08T06:47:50.606Z"
   },
   {
    "duration": 226,
    "start_time": "2024-04-08T06:47:50.835Z"
   },
   {
    "duration": 35,
    "start_time": "2024-04-08T06:47:51.063Z"
   },
   {
    "duration": 24,
    "start_time": "2024-04-08T06:47:51.100Z"
   },
   {
    "duration": 15,
    "start_time": "2024-04-08T06:47:51.126Z"
   },
   {
    "duration": 10,
    "start_time": "2024-04-08T06:47:51.143Z"
   },
   {
    "duration": 35,
    "start_time": "2024-04-08T06:47:51.155Z"
   },
   {
    "duration": 12,
    "start_time": "2024-04-08T06:47:51.194Z"
   },
   {
    "duration": 11,
    "start_time": "2024-04-08T06:47:51.208Z"
   },
   {
    "duration": 12,
    "start_time": "2024-04-08T06:47:51.221Z"
   },
   {
    "duration": 60,
    "start_time": "2024-04-08T06:47:51.235Z"
   },
   {
    "duration": 274,
    "start_time": "2024-04-08T06:47:51.297Z"
   },
   {
    "duration": 39,
    "start_time": "2024-04-08T06:47:51.572Z"
   },
   {
    "duration": 294,
    "start_time": "2024-04-08T06:47:51.613Z"
   },
   {
    "duration": 283,
    "start_time": "2024-04-08T06:47:51.908Z"
   },
   {
    "duration": 265,
    "start_time": "2024-04-08T06:47:52.192Z"
   },
   {
    "duration": 3,
    "start_time": "2024-04-08T06:47:52.459Z"
   },
   {
    "duration": 940,
    "start_time": "2024-04-08T06:47:52.464Z"
   },
   {
    "duration": 14,
    "start_time": "2024-04-08T06:47:53.406Z"
   },
   {
    "duration": 15,
    "start_time": "2024-04-08T06:47:53.421Z"
   },
   {
    "duration": 14,
    "start_time": "2024-04-08T06:47:53.437Z"
   },
   {
    "duration": 8,
    "start_time": "2024-04-08T06:47:53.453Z"
   },
   {
    "duration": 7,
    "start_time": "2024-04-08T06:47:53.463Z"
   },
   {
    "duration": 11,
    "start_time": "2024-04-08T06:47:53.472Z"
   },
   {
    "duration": 6,
    "start_time": "2024-04-08T06:47:53.485Z"
   },
   {
    "duration": 4,
    "start_time": "2024-04-08T06:47:53.492Z"
   },
   {
    "duration": 10,
    "start_time": "2024-04-08T06:47:53.497Z"
   },
   {
    "duration": 13,
    "start_time": "2024-04-08T06:47:53.509Z"
   },
   {
    "duration": 6,
    "start_time": "2024-04-08T06:47:53.523Z"
   },
   {
    "duration": 3,
    "start_time": "2024-04-08T06:50:47.326Z"
   },
   {
    "duration": 93,
    "start_time": "2024-04-08T06:50:47.331Z"
   },
   {
    "duration": 24,
    "start_time": "2024-04-08T06:50:47.426Z"
   },
   {
    "duration": 16,
    "start_time": "2024-04-08T06:50:47.452Z"
   },
   {
    "duration": 9,
    "start_time": "2024-04-08T06:50:47.481Z"
   },
   {
    "duration": 6,
    "start_time": "2024-04-08T06:50:47.492Z"
   },
   {
    "duration": 9,
    "start_time": "2024-04-08T06:50:47.499Z"
   },
   {
    "duration": 6,
    "start_time": "2024-04-08T06:50:47.510Z"
   },
   {
    "duration": 9,
    "start_time": "2024-04-08T06:50:47.518Z"
   },
   {
    "duration": 9,
    "start_time": "2024-04-08T06:50:47.529Z"
   },
   {
    "duration": 44,
    "start_time": "2024-04-08T06:50:47.539Z"
   },
   {
    "duration": 203,
    "start_time": "2024-04-08T06:50:47.585Z"
   },
   {
    "duration": 6,
    "start_time": "2024-04-08T06:50:47.790Z"
   },
   {
    "duration": 183,
    "start_time": "2024-04-08T06:50:47.799Z"
   },
   {
    "duration": 202,
    "start_time": "2024-04-08T06:50:47.984Z"
   },
   {
    "duration": 15,
    "start_time": "2024-04-08T06:50:48.188Z"
   },
   {
    "duration": 226,
    "start_time": "2024-04-08T06:50:48.204Z"
   },
   {
    "duration": 440,
    "start_time": "2024-04-08T06:50:48.432Z"
   },
   {
    "duration": 31,
    "start_time": "2024-04-08T06:50:48.873Z"
   },
   {
    "duration": 25,
    "start_time": "2024-04-08T06:50:48.906Z"
   },
   {
    "duration": 15,
    "start_time": "2024-04-08T06:50:48.932Z"
   },
   {
    "duration": 35,
    "start_time": "2024-04-08T06:50:48.948Z"
   },
   {
    "duration": 8,
    "start_time": "2024-04-08T06:50:48.985Z"
   },
   {
    "duration": 13,
    "start_time": "2024-04-08T06:50:48.994Z"
   },
   {
    "duration": 10,
    "start_time": "2024-04-08T06:50:49.008Z"
   },
   {
    "duration": 12,
    "start_time": "2024-04-08T06:50:49.020Z"
   },
   {
    "duration": 60,
    "start_time": "2024-04-08T06:50:49.034Z"
   },
   {
    "duration": 291,
    "start_time": "2024-04-08T06:50:49.096Z"
   },
   {
    "duration": 34,
    "start_time": "2024-04-08T06:50:49.389Z"
   },
   {
    "duration": 306,
    "start_time": "2024-04-08T06:50:49.424Z"
   },
   {
    "duration": 273,
    "start_time": "2024-04-08T06:50:49.732Z"
   },
   {
    "duration": 278,
    "start_time": "2024-04-08T06:50:50.006Z"
   },
   {
    "duration": 3,
    "start_time": "2024-04-08T06:50:50.286Z"
   },
   {
    "duration": 885,
    "start_time": "2024-04-08T06:50:50.291Z"
   },
   {
    "duration": 16,
    "start_time": "2024-04-08T06:50:51.178Z"
   },
   {
    "duration": 14,
    "start_time": "2024-04-08T06:50:51.196Z"
   },
   {
    "duration": 23,
    "start_time": "2024-04-08T06:50:51.212Z"
   },
   {
    "duration": 6,
    "start_time": "2024-04-08T06:50:51.236Z"
   },
   {
    "duration": 6,
    "start_time": "2024-04-08T06:50:51.244Z"
   },
   {
    "duration": 8,
    "start_time": "2024-04-08T06:50:51.251Z"
   },
   {
    "duration": 5,
    "start_time": "2024-04-08T06:50:51.282Z"
   },
   {
    "duration": 4,
    "start_time": "2024-04-08T06:50:51.289Z"
   },
   {
    "duration": 27,
    "start_time": "2024-04-08T06:50:51.295Z"
   },
   {
    "duration": 7,
    "start_time": "2024-04-08T06:50:51.323Z"
   },
   {
    "duration": 14,
    "start_time": "2024-04-08T06:50:51.331Z"
   },
   {
    "duration": 4,
    "start_time": "2024-04-08T06:51:09.969Z"
   },
   {
    "duration": 101,
    "start_time": "2024-04-08T06:51:09.975Z"
   },
   {
    "duration": 25,
    "start_time": "2024-04-08T06:51:10.078Z"
   },
   {
    "duration": 16,
    "start_time": "2024-04-08T06:51:10.105Z"
   },
   {
    "duration": 9,
    "start_time": "2024-04-08T06:51:10.123Z"
   },
   {
    "duration": 6,
    "start_time": "2024-04-08T06:51:10.133Z"
   },
   {
    "duration": 44,
    "start_time": "2024-04-08T06:51:10.141Z"
   },
   {
    "duration": 6,
    "start_time": "2024-04-08T06:51:10.188Z"
   },
   {
    "duration": 18,
    "start_time": "2024-04-08T06:51:10.196Z"
   },
   {
    "duration": 30,
    "start_time": "2024-04-08T06:51:10.216Z"
   },
   {
    "duration": 23,
    "start_time": "2024-04-08T06:51:10.248Z"
   },
   {
    "duration": 199,
    "start_time": "2024-04-08T06:51:10.273Z"
   },
   {
    "duration": 6,
    "start_time": "2024-04-08T06:51:10.474Z"
   },
   {
    "duration": 162,
    "start_time": "2024-04-08T06:51:10.484Z"
   },
   {
    "duration": 188,
    "start_time": "2024-04-08T06:51:10.647Z"
   },
   {
    "duration": 15,
    "start_time": "2024-04-08T06:51:10.836Z"
   },
   {
    "duration": 235,
    "start_time": "2024-04-08T06:51:10.853Z"
   },
   {
    "duration": 221,
    "start_time": "2024-04-08T06:51:11.090Z"
   },
   {
    "duration": 24,
    "start_time": "2024-04-08T06:51:11.313Z"
   },
   {
    "duration": 45,
    "start_time": "2024-04-08T06:51:11.338Z"
   },
   {
    "duration": 17,
    "start_time": "2024-04-08T06:51:11.385Z"
   },
   {
    "duration": 10,
    "start_time": "2024-04-08T06:51:11.403Z"
   },
   {
    "duration": 7,
    "start_time": "2024-04-08T06:51:11.415Z"
   },
   {
    "duration": 12,
    "start_time": "2024-04-08T06:51:11.424Z"
   },
   {
    "duration": 46,
    "start_time": "2024-04-08T06:51:11.438Z"
   },
   {
    "duration": 13,
    "start_time": "2024-04-08T06:51:11.486Z"
   },
   {
    "duration": 33,
    "start_time": "2024-04-08T06:51:11.501Z"
   },
   {
    "duration": 289,
    "start_time": "2024-04-08T06:51:11.535Z"
   },
   {
    "duration": 34,
    "start_time": "2024-04-08T06:51:11.826Z"
   },
   {
    "duration": 289,
    "start_time": "2024-04-08T06:51:11.861Z"
   },
   {
    "duration": 494,
    "start_time": "2024-04-08T06:51:12.151Z"
   },
   {
    "duration": 285,
    "start_time": "2024-04-08T06:51:12.647Z"
   },
   {
    "duration": 4,
    "start_time": "2024-04-08T06:51:12.933Z"
   },
   {
    "duration": 861,
    "start_time": "2024-04-08T06:51:12.938Z"
   },
   {
    "duration": 13,
    "start_time": "2024-04-08T06:51:13.801Z"
   },
   {
    "duration": 15,
    "start_time": "2024-04-08T06:51:13.816Z"
   },
   {
    "duration": 10,
    "start_time": "2024-04-08T06:51:13.833Z"
   },
   {
    "duration": 6,
    "start_time": "2024-04-08T06:51:13.845Z"
   },
   {
    "duration": 32,
    "start_time": "2024-04-08T06:51:13.852Z"
   },
   {
    "duration": 9,
    "start_time": "2024-04-08T06:51:13.886Z"
   },
   {
    "duration": 8,
    "start_time": "2024-04-08T06:51:13.899Z"
   },
   {
    "duration": 3,
    "start_time": "2024-04-08T06:51:13.909Z"
   },
   {
    "duration": 7,
    "start_time": "2024-04-08T06:51:13.914Z"
   },
   {
    "duration": 7,
    "start_time": "2024-04-08T06:51:13.923Z"
   },
   {
    "duration": 7,
    "start_time": "2024-04-08T06:51:13.932Z"
   },
   {
    "duration": 3,
    "start_time": "2024-04-08T06:53:10.734Z"
   },
   {
    "duration": 84,
    "start_time": "2024-04-08T06:53:10.739Z"
   },
   {
    "duration": 25,
    "start_time": "2024-04-08T06:53:10.825Z"
   },
   {
    "duration": 31,
    "start_time": "2024-04-08T06:53:10.852Z"
   },
   {
    "duration": 8,
    "start_time": "2024-04-08T06:53:10.885Z"
   },
   {
    "duration": 6,
    "start_time": "2024-04-08T06:53:10.894Z"
   },
   {
    "duration": 11,
    "start_time": "2024-04-08T06:53:10.902Z"
   },
   {
    "duration": 5,
    "start_time": "2024-04-08T06:53:10.914Z"
   },
   {
    "duration": 6,
    "start_time": "2024-04-08T06:53:10.922Z"
   },
   {
    "duration": 8,
    "start_time": "2024-04-08T06:53:10.929Z"
   },
   {
    "duration": 6,
    "start_time": "2024-04-08T06:53:10.938Z"
   },
   {
    "duration": 234,
    "start_time": "2024-04-08T06:53:10.946Z"
   },
   {
    "duration": 6,
    "start_time": "2024-04-08T06:53:11.182Z"
   },
   {
    "duration": 157,
    "start_time": "2024-04-08T06:53:11.189Z"
   },
   {
    "duration": 187,
    "start_time": "2024-04-08T06:53:11.348Z"
   },
   {
    "duration": 15,
    "start_time": "2024-04-08T06:53:11.537Z"
   },
   {
    "duration": 217,
    "start_time": "2024-04-08T06:53:11.553Z"
   },
   {
    "duration": 245,
    "start_time": "2024-04-08T06:53:11.782Z"
   },
   {
    "duration": 23,
    "start_time": "2024-04-08T06:53:12.028Z"
   },
   {
    "duration": 35,
    "start_time": "2024-04-08T06:53:12.053Z"
   },
   {
    "duration": 20,
    "start_time": "2024-04-08T06:53:12.090Z"
   },
   {
    "duration": 13,
    "start_time": "2024-04-08T06:53:12.112Z"
   },
   {
    "duration": 9,
    "start_time": "2024-04-08T06:53:12.127Z"
   },
   {
    "duration": 12,
    "start_time": "2024-04-08T06:53:12.139Z"
   },
   {
    "duration": 7,
    "start_time": "2024-04-08T06:53:12.183Z"
   },
   {
    "duration": 21,
    "start_time": "2024-04-08T06:53:12.191Z"
   },
   {
    "duration": 39,
    "start_time": "2024-04-08T06:53:12.214Z"
   },
   {
    "duration": 274,
    "start_time": "2024-04-08T06:53:12.256Z"
   },
   {
    "duration": 34,
    "start_time": "2024-04-08T06:53:12.532Z"
   },
   {
    "duration": 288,
    "start_time": "2024-04-08T06:53:12.568Z"
   },
   {
    "duration": 251,
    "start_time": "2024-04-08T06:53:12.857Z"
   },
   {
    "duration": 283,
    "start_time": "2024-04-08T06:53:13.110Z"
   },
   {
    "duration": 4,
    "start_time": "2024-04-08T06:53:13.394Z"
   },
   {
    "duration": 902,
    "start_time": "2024-04-08T06:53:13.399Z"
   },
   {
    "duration": 14,
    "start_time": "2024-04-08T06:53:14.303Z"
   },
   {
    "duration": 14,
    "start_time": "2024-04-08T06:53:14.318Z"
   },
   {
    "duration": 10,
    "start_time": "2024-04-08T06:53:14.334Z"
   },
   {
    "duration": 19,
    "start_time": "2024-04-08T06:53:14.345Z"
   },
   {
    "duration": 21,
    "start_time": "2024-04-08T06:53:14.366Z"
   },
   {
    "duration": 17,
    "start_time": "2024-04-08T06:53:14.389Z"
   },
   {
    "duration": 7,
    "start_time": "2024-04-08T06:53:14.408Z"
   },
   {
    "duration": 4,
    "start_time": "2024-04-08T06:53:14.417Z"
   },
   {
    "duration": 9,
    "start_time": "2024-04-08T06:53:14.422Z"
   },
   {
    "duration": 5,
    "start_time": "2024-04-08T06:53:14.433Z"
   },
   {
    "duration": 6,
    "start_time": "2024-04-08T06:53:14.439Z"
   },
   {
    "duration": 3,
    "start_time": "2024-04-08T06:55:19.465Z"
   },
   {
    "duration": 87,
    "start_time": "2024-04-08T06:55:19.470Z"
   },
   {
    "duration": 24,
    "start_time": "2024-04-08T06:55:19.558Z"
   },
   {
    "duration": 21,
    "start_time": "2024-04-08T06:55:19.583Z"
   },
   {
    "duration": 8,
    "start_time": "2024-04-08T06:55:19.606Z"
   },
   {
    "duration": 5,
    "start_time": "2024-04-08T06:55:19.616Z"
   },
   {
    "duration": 7,
    "start_time": "2024-04-08T06:55:19.623Z"
   },
   {
    "duration": 5,
    "start_time": "2024-04-08T06:55:19.632Z"
   },
   {
    "duration": 6,
    "start_time": "2024-04-08T06:55:19.638Z"
   },
   {
    "duration": 8,
    "start_time": "2024-04-08T06:55:19.682Z"
   },
   {
    "duration": 6,
    "start_time": "2024-04-08T06:55:19.691Z"
   },
   {
    "duration": 223,
    "start_time": "2024-04-08T06:55:19.698Z"
   },
   {
    "duration": 7,
    "start_time": "2024-04-08T06:55:19.923Z"
   },
   {
    "duration": 191,
    "start_time": "2024-04-08T06:55:19.935Z"
   },
   {
    "duration": 202,
    "start_time": "2024-04-08T06:55:20.128Z"
   },
   {
    "duration": 15,
    "start_time": "2024-04-08T06:55:20.332Z"
   },
   {
    "duration": 234,
    "start_time": "2024-04-08T06:55:20.348Z"
   },
   {
    "duration": 211,
    "start_time": "2024-04-08T06:55:20.584Z"
   },
   {
    "duration": 23,
    "start_time": "2024-04-08T06:55:20.797Z"
   },
   {
    "duration": 23,
    "start_time": "2024-04-08T06:55:20.821Z"
   },
   {
    "duration": 36,
    "start_time": "2024-04-08T06:55:20.846Z"
   },
   {
    "duration": 10,
    "start_time": "2024-04-08T06:55:20.883Z"
   },
   {
    "duration": 8,
    "start_time": "2024-04-08T06:55:20.894Z"
   },
   {
    "duration": 31,
    "start_time": "2024-04-08T06:55:20.904Z"
   },
   {
    "duration": 7,
    "start_time": "2024-04-08T06:55:20.937Z"
   },
   {
    "duration": 11,
    "start_time": "2024-04-08T06:55:20.946Z"
   },
   {
    "duration": 44,
    "start_time": "2024-04-08T06:55:20.959Z"
   },
   {
    "duration": 254,
    "start_time": "2024-04-08T06:55:21.004Z"
   },
   {
    "duration": 42,
    "start_time": "2024-04-08T06:55:21.260Z"
   },
   {
    "duration": 575,
    "start_time": "2024-04-08T06:55:21.304Z"
   },
   {
    "duration": 266,
    "start_time": "2024-04-08T06:55:21.882Z"
   },
   {
    "duration": 259,
    "start_time": "2024-04-08T06:55:22.150Z"
   },
   {
    "duration": 4,
    "start_time": "2024-04-08T06:55:22.411Z"
   },
   {
    "duration": 925,
    "start_time": "2024-04-08T06:55:22.417Z"
   },
   {
    "duration": 14,
    "start_time": "2024-04-08T06:55:23.344Z"
   },
   {
    "duration": 34,
    "start_time": "2024-04-08T06:55:23.360Z"
   },
   {
    "duration": 19,
    "start_time": "2024-04-08T06:55:23.396Z"
   },
   {
    "duration": 7,
    "start_time": "2024-04-08T06:55:23.417Z"
   },
   {
    "duration": 6,
    "start_time": "2024-04-08T06:55:23.426Z"
   },
   {
    "duration": 6,
    "start_time": "2024-04-08T06:55:23.433Z"
   },
   {
    "duration": 5,
    "start_time": "2024-04-08T06:55:23.443Z"
   },
   {
    "duration": 4,
    "start_time": "2024-04-08T06:55:23.482Z"
   },
   {
    "duration": 7,
    "start_time": "2024-04-08T06:55:23.488Z"
   },
   {
    "duration": 9,
    "start_time": "2024-04-08T06:55:23.496Z"
   },
   {
    "duration": 6,
    "start_time": "2024-04-08T06:55:23.507Z"
   },
   {
    "duration": 1372,
    "start_time": "2024-04-08T09:14:22.109Z"
   },
   {
    "duration": 228,
    "start_time": "2024-04-08T09:14:23.486Z"
   },
   {
    "duration": 27,
    "start_time": "2024-04-08T09:14:23.716Z"
   },
   {
    "duration": 17,
    "start_time": "2024-04-08T09:14:23.746Z"
   },
   {
    "duration": 19,
    "start_time": "2024-04-08T09:14:23.765Z"
   },
   {
    "duration": 5,
    "start_time": "2024-04-08T09:14:23.786Z"
   },
   {
    "duration": 21,
    "start_time": "2024-04-08T09:14:23.793Z"
   },
   {
    "duration": 17,
    "start_time": "2024-04-08T09:14:23.815Z"
   },
   {
    "duration": 19,
    "start_time": "2024-04-08T09:14:23.834Z"
   },
   {
    "duration": 11,
    "start_time": "2024-04-08T09:14:23.856Z"
   },
   {
    "duration": 17,
    "start_time": "2024-04-08T09:14:23.869Z"
   },
   {
    "duration": 221,
    "start_time": "2024-04-08T09:14:23.888Z"
   },
   {
    "duration": 7,
    "start_time": "2024-04-08T09:14:24.110Z"
   },
   {
    "duration": 177,
    "start_time": "2024-04-08T09:14:24.118Z"
   },
   {
    "duration": 195,
    "start_time": "2024-04-08T09:14:24.297Z"
   },
   {
    "duration": 16,
    "start_time": "2024-04-08T09:14:24.493Z"
   },
   {
    "duration": 230,
    "start_time": "2024-04-08T09:14:24.510Z"
   },
   {
    "duration": 224,
    "start_time": "2024-04-08T09:14:24.742Z"
   },
   {
    "duration": 29,
    "start_time": "2024-04-08T09:14:24.967Z"
   },
   {
    "duration": 26,
    "start_time": "2024-04-08T09:14:24.998Z"
   },
   {
    "duration": 18,
    "start_time": "2024-04-08T09:14:25.026Z"
   },
   {
    "duration": 42,
    "start_time": "2024-04-08T09:14:25.046Z"
   },
   {
    "duration": 16,
    "start_time": "2024-04-08T09:14:25.089Z"
   },
   {
    "duration": 21,
    "start_time": "2024-04-08T09:14:25.107Z"
   },
   {
    "duration": 30,
    "start_time": "2024-04-08T09:14:25.129Z"
   },
   {
    "duration": 26,
    "start_time": "2024-04-08T09:14:25.161Z"
   },
   {
    "duration": 32,
    "start_time": "2024-04-08T09:14:25.189Z"
   },
   {
    "duration": 283,
    "start_time": "2024-04-08T09:14:25.225Z"
   },
   {
    "duration": 33,
    "start_time": "2024-04-08T09:14:25.510Z"
   },
   {
    "duration": 298,
    "start_time": "2024-04-08T09:14:25.545Z"
   },
   {
    "duration": 337,
    "start_time": "2024-04-08T09:14:25.845Z"
   },
   {
    "duration": 281,
    "start_time": "2024-04-08T09:14:26.183Z"
   },
   {
    "duration": 3,
    "start_time": "2024-04-08T09:14:26.466Z"
   },
   {
    "duration": 885,
    "start_time": "2024-04-08T09:14:26.471Z"
   },
   {
    "duration": 31,
    "start_time": "2024-04-08T09:14:27.357Z"
   },
   {
    "duration": 16,
    "start_time": "2024-04-08T09:14:27.390Z"
   },
   {
    "duration": 10,
    "start_time": "2024-04-08T09:14:27.407Z"
   },
   {
    "duration": 5,
    "start_time": "2024-04-08T09:14:27.419Z"
   },
   {
    "duration": 5,
    "start_time": "2024-04-08T09:14:27.426Z"
   },
   {
    "duration": 7,
    "start_time": "2024-04-08T09:14:27.433Z"
   },
   {
    "duration": 6,
    "start_time": "2024-04-08T09:14:27.442Z"
   },
   {
    "duration": 5,
    "start_time": "2024-04-08T09:14:27.481Z"
   },
   {
    "duration": 8,
    "start_time": "2024-04-08T09:14:27.487Z"
   },
   {
    "duration": 6,
    "start_time": "2024-04-08T09:14:27.497Z"
   },
   {
    "duration": 6,
    "start_time": "2024-04-08T09:14:27.504Z"
   },
   {
    "duration": 10,
    "start_time": "2024-04-08T10:15:38.869Z"
   },
   {
    "duration": 1175,
    "start_time": "2024-04-08T10:19:03.276Z"
   },
   {
    "duration": 88,
    "start_time": "2024-04-08T10:19:04.452Z"
   },
   {
    "duration": 25,
    "start_time": "2024-04-08T10:19:04.541Z"
   },
   {
    "duration": 15,
    "start_time": "2024-04-08T10:19:04.568Z"
   },
   {
    "duration": 9,
    "start_time": "2024-04-08T10:19:04.585Z"
   },
   {
    "duration": 14,
    "start_time": "2024-04-08T10:19:04.596Z"
   },
   {
    "duration": 8,
    "start_time": "2024-04-08T10:19:04.612Z"
   },
   {
    "duration": 17,
    "start_time": "2024-04-08T10:19:04.621Z"
   },
   {
    "duration": 9,
    "start_time": "2024-04-08T10:19:04.640Z"
   },
   {
    "duration": 6,
    "start_time": "2024-04-08T10:19:04.652Z"
   },
   {
    "duration": 27,
    "start_time": "2024-04-08T10:19:04.659Z"
   },
   {
    "duration": 239,
    "start_time": "2024-04-08T10:19:04.688Z"
   },
   {
    "duration": 8,
    "start_time": "2024-04-08T10:19:04.929Z"
   },
   {
    "duration": 184,
    "start_time": "2024-04-08T10:19:04.938Z"
   },
   {
    "duration": 207,
    "start_time": "2024-04-08T10:19:05.124Z"
   },
   {
    "duration": 20,
    "start_time": "2024-04-08T10:19:05.333Z"
   },
   {
    "duration": 255,
    "start_time": "2024-04-08T10:19:05.355Z"
   },
   {
    "duration": 222,
    "start_time": "2024-04-08T10:19:05.612Z"
   },
   {
    "duration": 25,
    "start_time": "2024-04-08T10:19:05.836Z"
   },
   {
    "duration": 42,
    "start_time": "2024-04-08T10:19:05.862Z"
   },
   {
    "duration": 14,
    "start_time": "2024-04-08T10:19:05.905Z"
   },
   {
    "duration": 29,
    "start_time": "2024-04-08T10:19:05.920Z"
   },
   {
    "duration": 11,
    "start_time": "2024-04-08T10:19:05.951Z"
   },
   {
    "duration": 26,
    "start_time": "2024-04-08T10:19:05.964Z"
   },
   {
    "duration": 15,
    "start_time": "2024-04-08T10:19:05.992Z"
   },
   {
    "duration": 31,
    "start_time": "2024-04-08T10:19:06.008Z"
   },
   {
    "duration": 47,
    "start_time": "2024-04-08T10:19:06.041Z"
   },
   {
    "duration": 277,
    "start_time": "2024-04-08T10:19:06.093Z"
   },
   {
    "duration": 53,
    "start_time": "2024-04-08T10:19:06.372Z"
   },
   {
    "duration": 300,
    "start_time": "2024-04-08T10:19:06.428Z"
   },
   {
    "duration": 352,
    "start_time": "2024-04-08T10:19:06.730Z"
   },
   {
    "duration": 280,
    "start_time": "2024-04-08T10:19:07.084Z"
   },
   {
    "duration": 16,
    "start_time": "2024-04-08T10:19:07.366Z"
   },
   {
    "duration": 876,
    "start_time": "2024-04-08T10:19:07.384Z"
   },
   {
    "duration": 28,
    "start_time": "2024-04-08T10:19:08.262Z"
   },
   {
    "duration": 14,
    "start_time": "2024-04-08T10:19:08.292Z"
   },
   {
    "duration": 10,
    "start_time": "2024-04-08T10:19:08.307Z"
   },
   {
    "duration": 22,
    "start_time": "2024-04-08T10:19:08.318Z"
   },
   {
    "duration": 9,
    "start_time": "2024-04-08T10:19:08.341Z"
   },
   {
    "duration": 6,
    "start_time": "2024-04-08T10:19:08.352Z"
   },
   {
    "duration": 7,
    "start_time": "2024-04-08T10:19:08.360Z"
   },
   {
    "duration": 4,
    "start_time": "2024-04-08T10:19:08.382Z"
   },
   {
    "duration": 10,
    "start_time": "2024-04-08T10:19:08.387Z"
   },
   {
    "duration": 19,
    "start_time": "2024-04-08T10:19:08.399Z"
   },
   {
    "duration": 14,
    "start_time": "2024-04-08T10:19:08.421Z"
   },
   {
    "duration": 1259,
    "start_time": "2024-04-08T18:52:21.991Z"
   },
   {
    "duration": 302,
    "start_time": "2024-04-08T18:52:23.253Z"
   },
   {
    "duration": 25,
    "start_time": "2024-04-08T18:52:23.556Z"
   },
   {
    "duration": 15,
    "start_time": "2024-04-08T18:52:23.582Z"
   },
   {
    "duration": 9,
    "start_time": "2024-04-08T18:52:23.599Z"
   },
   {
    "duration": 5,
    "start_time": "2024-04-08T18:52:23.609Z"
   },
   {
    "duration": 12,
    "start_time": "2024-04-08T18:52:23.615Z"
   },
   {
    "duration": 14,
    "start_time": "2024-04-08T18:52:23.629Z"
   },
   {
    "duration": 36,
    "start_time": "2024-04-08T18:52:23.644Z"
   },
   {
    "duration": 5,
    "start_time": "2024-04-08T18:52:23.681Z"
   },
   {
    "duration": 18,
    "start_time": "2024-04-08T18:52:23.688Z"
   },
   {
    "duration": 227,
    "start_time": "2024-04-08T18:52:23.707Z"
   },
   {
    "duration": 6,
    "start_time": "2024-04-08T18:52:23.935Z"
   },
   {
    "duration": 158,
    "start_time": "2024-04-08T18:52:23.944Z"
   },
   {
    "duration": 190,
    "start_time": "2024-04-08T18:52:24.104Z"
   },
   {
    "duration": 14,
    "start_time": "2024-04-08T18:52:24.295Z"
   },
   {
    "duration": 210,
    "start_time": "2024-04-08T18:52:24.311Z"
   },
   {
    "duration": 204,
    "start_time": "2024-04-08T18:52:24.523Z"
   },
   {
    "duration": 21,
    "start_time": "2024-04-08T18:52:24.729Z"
   },
   {
    "duration": 38,
    "start_time": "2024-04-08T18:52:24.752Z"
   },
   {
    "duration": 14,
    "start_time": "2024-04-08T18:52:24.791Z"
   },
   {
    "duration": 11,
    "start_time": "2024-04-08T18:52:24.807Z"
   },
   {
    "duration": 9,
    "start_time": "2024-04-08T18:52:24.820Z"
   },
   {
    "duration": 11,
    "start_time": "2024-04-08T18:52:24.830Z"
   },
   {
    "duration": 6,
    "start_time": "2024-04-08T18:52:24.869Z"
   },
   {
    "duration": 14,
    "start_time": "2024-04-08T18:52:24.876Z"
   },
   {
    "duration": 34,
    "start_time": "2024-04-08T18:52:24.891Z"
   },
   {
    "duration": 251,
    "start_time": "2024-04-08T18:52:24.927Z"
   },
   {
    "duration": 34,
    "start_time": "2024-04-08T18:52:25.179Z"
   },
   {
    "duration": 274,
    "start_time": "2024-04-08T18:52:25.215Z"
   },
   {
    "duration": 302,
    "start_time": "2024-04-08T18:52:25.491Z"
   },
   {
    "duration": 247,
    "start_time": "2024-04-08T18:52:25.795Z"
   },
   {
    "duration": 4,
    "start_time": "2024-04-08T18:52:26.044Z"
   },
   {
    "duration": 841,
    "start_time": "2024-04-08T18:52:26.050Z"
   },
   {
    "duration": 12,
    "start_time": "2024-04-08T18:52:26.892Z"
   },
   {
    "duration": 21,
    "start_time": "2024-04-08T18:52:26.905Z"
   },
   {
    "duration": 9,
    "start_time": "2024-04-08T18:52:26.928Z"
   },
   {
    "duration": 5,
    "start_time": "2024-04-08T18:52:26.938Z"
   },
   {
    "duration": 15,
    "start_time": "2024-04-08T18:52:26.944Z"
   },
   {
    "duration": 24,
    "start_time": "2024-04-08T18:52:26.960Z"
   },
   {
    "duration": 4,
    "start_time": "2024-04-08T18:52:26.988Z"
   },
   {
    "duration": 7,
    "start_time": "2024-04-08T18:52:26.993Z"
   },
   {
    "duration": 8,
    "start_time": "2024-04-08T18:52:27.001Z"
   },
   {
    "duration": 6,
    "start_time": "2024-04-08T18:52:27.010Z"
   },
   {
    "duration": 5,
    "start_time": "2024-04-08T18:52:27.018Z"
   },
   {
    "duration": 2,
    "start_time": "2024-04-08T18:52:44.246Z"
   },
   {
    "duration": 85,
    "start_time": "2024-04-08T18:52:44.250Z"
   },
   {
    "duration": 23,
    "start_time": "2024-04-08T18:52:44.337Z"
   },
   {
    "duration": 15,
    "start_time": "2024-04-08T18:52:44.361Z"
   },
   {
    "duration": 8,
    "start_time": "2024-04-08T18:52:44.378Z"
   },
   {
    "duration": 5,
    "start_time": "2024-04-08T18:52:44.388Z"
   },
   {
    "duration": 7,
    "start_time": "2024-04-08T18:52:44.395Z"
   },
   {
    "duration": 5,
    "start_time": "2024-04-08T18:52:44.404Z"
   },
   {
    "duration": 6,
    "start_time": "2024-04-08T18:52:44.410Z"
   },
   {
    "duration": 5,
    "start_time": "2024-04-08T18:52:44.418Z"
   },
   {
    "duration": 48,
    "start_time": "2024-04-08T18:52:44.425Z"
   },
   {
    "duration": 196,
    "start_time": "2024-04-08T18:52:44.475Z"
   },
   {
    "duration": 6,
    "start_time": "2024-04-08T18:52:44.673Z"
   },
   {
    "duration": 169,
    "start_time": "2024-04-08T18:52:44.682Z"
   },
   {
    "duration": 179,
    "start_time": "2024-04-08T18:52:44.853Z"
   },
   {
    "duration": 15,
    "start_time": "2024-04-08T18:52:45.033Z"
   },
   {
    "duration": 334,
    "start_time": "2024-04-08T18:52:45.050Z"
   },
   {
    "duration": 211,
    "start_time": "2024-04-08T18:52:45.386Z"
   },
   {
    "duration": 27,
    "start_time": "2024-04-08T18:52:45.598Z"
   },
   {
    "duration": 42,
    "start_time": "2024-04-08T18:52:45.627Z"
   },
   {
    "duration": 15,
    "start_time": "2024-04-08T18:52:45.671Z"
   },
   {
    "duration": 10,
    "start_time": "2024-04-08T18:52:45.688Z"
   },
   {
    "duration": 12,
    "start_time": "2024-04-08T18:52:45.699Z"
   },
   {
    "duration": 11,
    "start_time": "2024-04-08T18:52:45.713Z"
   },
   {
    "duration": 7,
    "start_time": "2024-04-08T18:52:45.726Z"
   },
   {
    "duration": 44,
    "start_time": "2024-04-08T18:52:45.735Z"
   },
   {
    "duration": 31,
    "start_time": "2024-04-08T18:52:45.781Z"
   },
   {
    "duration": 264,
    "start_time": "2024-04-08T18:52:45.814Z"
   },
   {
    "duration": 32,
    "start_time": "2024-04-08T18:52:46.080Z"
   },
   {
    "duration": 292,
    "start_time": "2024-04-08T18:52:46.114Z"
   },
   {
    "duration": 257,
    "start_time": "2024-04-08T18:52:46.408Z"
   },
   {
    "duration": 253,
    "start_time": "2024-04-08T18:52:46.667Z"
   },
   {
    "duration": 4,
    "start_time": "2024-04-08T18:52:46.921Z"
   },
   {
    "duration": 832,
    "start_time": "2024-04-08T18:52:46.926Z"
   },
   {
    "duration": 110,
    "start_time": "2024-04-08T18:52:47.760Z"
   },
   {
    "duration": 15,
    "start_time": "2024-04-08T18:52:47.872Z"
   },
   {
    "duration": 11,
    "start_time": "2024-04-08T18:52:47.888Z"
   },
   {
    "duration": 10,
    "start_time": "2024-04-08T18:52:47.900Z"
   },
   {
    "duration": 6,
    "start_time": "2024-04-08T18:52:47.912Z"
   },
   {
    "duration": 5,
    "start_time": "2024-04-08T18:52:47.920Z"
   },
   {
    "duration": 5,
    "start_time": "2024-04-08T18:52:47.929Z"
   },
   {
    "duration": 37,
    "start_time": "2024-04-08T18:52:47.935Z"
   },
   {
    "duration": 10,
    "start_time": "2024-04-08T18:52:47.973Z"
   },
   {
    "duration": 6,
    "start_time": "2024-04-08T18:52:47.984Z"
   },
   {
    "duration": 6,
    "start_time": "2024-04-08T18:52:47.992Z"
   },
   {
    "duration": 2,
    "start_time": "2024-04-08T18:53:24.669Z"
   },
   {
    "duration": 82,
    "start_time": "2024-04-08T18:53:24.673Z"
   },
   {
    "duration": 23,
    "start_time": "2024-04-08T18:53:24.757Z"
   },
   {
    "duration": 21,
    "start_time": "2024-04-08T18:53:24.782Z"
   },
   {
    "duration": 7,
    "start_time": "2024-04-08T18:53:24.806Z"
   },
   {
    "duration": 9,
    "start_time": "2024-04-08T18:53:24.814Z"
   },
   {
    "duration": 7,
    "start_time": "2024-04-08T18:53:24.824Z"
   },
   {
    "duration": 4,
    "start_time": "2024-04-08T18:53:24.832Z"
   },
   {
    "duration": 9,
    "start_time": "2024-04-08T18:53:24.837Z"
   },
   {
    "duration": 6,
    "start_time": "2024-04-08T18:53:24.869Z"
   },
   {
    "duration": 6,
    "start_time": "2024-04-08T18:53:24.876Z"
   },
   {
    "duration": 193,
    "start_time": "2024-04-08T18:53:24.884Z"
   },
   {
    "duration": 6,
    "start_time": "2024-04-08T18:53:25.079Z"
   },
   {
    "duration": 175,
    "start_time": "2024-04-08T18:53:25.088Z"
   },
   {
    "duration": 176,
    "start_time": "2024-04-08T18:53:25.269Z"
   },
   {
    "duration": 24,
    "start_time": "2024-04-08T18:53:25.446Z"
   },
   {
    "duration": 208,
    "start_time": "2024-04-08T18:53:25.472Z"
   },
   {
    "duration": 210,
    "start_time": "2024-04-08T18:53:25.682Z"
   },
   {
    "duration": 22,
    "start_time": "2024-04-08T18:53:25.893Z"
   },
   {
    "duration": 21,
    "start_time": "2024-04-08T18:53:25.917Z"
   },
   {
    "duration": 31,
    "start_time": "2024-04-08T18:53:25.939Z"
   },
   {
    "duration": 10,
    "start_time": "2024-04-08T18:53:25.971Z"
   },
   {
    "duration": 15,
    "start_time": "2024-04-08T18:53:25.982Z"
   },
   {
    "duration": 22,
    "start_time": "2024-04-08T18:53:25.998Z"
   },
   {
    "duration": 9,
    "start_time": "2024-04-08T18:53:26.021Z"
   },
   {
    "duration": 13,
    "start_time": "2024-04-08T18:53:26.031Z"
   },
   {
    "duration": 41,
    "start_time": "2024-04-08T18:53:26.045Z"
   },
   {
    "duration": 274,
    "start_time": "2024-04-08T18:53:26.088Z"
   },
   {
    "duration": 33,
    "start_time": "2024-04-08T18:53:26.364Z"
   },
   {
    "duration": 274,
    "start_time": "2024-04-08T18:53:26.399Z"
   },
   {
    "duration": 346,
    "start_time": "2024-04-08T18:53:26.675Z"
   },
   {
    "duration": 247,
    "start_time": "2024-04-08T18:53:27.024Z"
   },
   {
    "duration": 4,
    "start_time": "2024-04-08T18:53:27.273Z"
   },
   {
    "duration": 881,
    "start_time": "2024-04-08T18:53:27.278Z"
   },
   {
    "duration": 18,
    "start_time": "2024-04-08T18:53:28.161Z"
   },
   {
    "duration": 14,
    "start_time": "2024-04-08T18:53:28.181Z"
   },
   {
    "duration": 10,
    "start_time": "2024-04-08T18:53:28.197Z"
   },
   {
    "duration": 10,
    "start_time": "2024-04-08T18:53:28.208Z"
   },
   {
    "duration": 12,
    "start_time": "2024-04-08T18:53:28.220Z"
   },
   {
    "duration": 8,
    "start_time": "2024-04-08T18:53:28.233Z"
   },
   {
    "duration": 29,
    "start_time": "2024-04-08T18:53:28.245Z"
   },
   {
    "duration": 5,
    "start_time": "2024-04-08T18:53:28.276Z"
   },
   {
    "duration": 7,
    "start_time": "2024-04-08T18:53:28.283Z"
   },
   {
    "duration": 32,
    "start_time": "2024-04-08T18:53:28.291Z"
   },
   {
    "duration": 8,
    "start_time": "2024-04-08T18:53:28.324Z"
   },
   {
    "duration": 1076,
    "start_time": "2024-04-08T22:58:32.086Z"
   },
   {
    "duration": 216,
    "start_time": "2024-04-08T22:58:33.165Z"
   },
   {
    "duration": 22,
    "start_time": "2024-04-08T22:58:33.385Z"
   },
   {
    "duration": 14,
    "start_time": "2024-04-08T22:58:33.409Z"
   },
   {
    "duration": 8,
    "start_time": "2024-04-08T22:58:33.424Z"
   },
   {
    "duration": 14,
    "start_time": "2024-04-08T22:58:33.434Z"
   },
   {
    "duration": 33,
    "start_time": "2024-04-08T22:58:33.449Z"
   },
   {
    "duration": 4,
    "start_time": "2024-04-08T22:58:33.484Z"
   },
   {
    "duration": 9,
    "start_time": "2024-04-08T22:58:33.491Z"
   },
   {
    "duration": 10,
    "start_time": "2024-04-08T22:58:33.501Z"
   },
   {
    "duration": 5,
    "start_time": "2024-04-08T22:58:33.513Z"
   },
   {
    "duration": 230,
    "start_time": "2024-04-08T22:58:33.519Z"
   },
   {
    "duration": 6,
    "start_time": "2024-04-08T22:58:33.750Z"
   },
   {
    "duration": 152,
    "start_time": "2024-04-08T22:58:33.757Z"
   },
   {
    "duration": 188,
    "start_time": "2024-04-08T22:58:33.911Z"
   },
   {
    "duration": 14,
    "start_time": "2024-04-08T22:58:34.101Z"
   },
   {
    "duration": 211,
    "start_time": "2024-04-08T22:58:34.117Z"
   },
   {
    "duration": 205,
    "start_time": "2024-04-08T22:58:34.329Z"
   },
   {
    "duration": 22,
    "start_time": "2024-04-08T22:58:34.536Z"
   },
   {
    "duration": 39,
    "start_time": "2024-04-08T22:58:34.559Z"
   },
   {
    "duration": 13,
    "start_time": "2024-04-08T22:58:34.600Z"
   },
   {
    "duration": 27,
    "start_time": "2024-04-08T22:58:34.614Z"
   },
   {
    "duration": 39,
    "start_time": "2024-04-08T22:58:34.643Z"
   },
   {
    "duration": 15,
    "start_time": "2024-04-08T22:58:34.683Z"
   },
   {
    "duration": 22,
    "start_time": "2024-04-08T22:58:34.699Z"
   },
   {
    "duration": 17,
    "start_time": "2024-04-08T22:58:34.722Z"
   },
   {
    "duration": 43,
    "start_time": "2024-04-08T22:58:34.743Z"
   },
   {
    "duration": 248,
    "start_time": "2024-04-08T22:58:34.788Z"
   },
   {
    "duration": 30,
    "start_time": "2024-04-08T22:58:35.038Z"
   },
   {
    "duration": 276,
    "start_time": "2024-04-08T22:58:35.069Z"
   },
   {
    "duration": 311,
    "start_time": "2024-04-08T22:58:35.346Z"
   },
   {
    "duration": 263,
    "start_time": "2024-04-08T22:58:35.658Z"
   },
   {
    "duration": 3,
    "start_time": "2024-04-08T22:58:35.923Z"
   },
   {
    "duration": 818,
    "start_time": "2024-04-08T22:58:35.928Z"
   },
   {
    "duration": 12,
    "start_time": "2024-04-08T22:58:36.748Z"
   },
   {
    "duration": 28,
    "start_time": "2024-04-08T22:58:36.762Z"
   },
   {
    "duration": 9,
    "start_time": "2024-04-08T22:58:36.792Z"
   },
   {
    "duration": 5,
    "start_time": "2024-04-08T22:58:36.803Z"
   },
   {
    "duration": 6,
    "start_time": "2024-04-08T22:58:36.809Z"
   },
   {
    "duration": 6,
    "start_time": "2024-04-08T22:58:36.816Z"
   },
   {
    "duration": 15,
    "start_time": "2024-04-08T22:58:36.823Z"
   },
   {
    "duration": 14,
    "start_time": "2024-04-08T22:58:36.840Z"
   },
   {
    "duration": 27,
    "start_time": "2024-04-08T22:58:36.856Z"
   },
   {
    "duration": 6,
    "start_time": "2024-04-08T22:58:36.884Z"
   },
   {
    "duration": 11,
    "start_time": "2024-04-08T22:58:36.892Z"
   },
   {
    "duration": 8,
    "start_time": "2024-04-08T23:01:00.974Z"
   },
   {
    "duration": 1086,
    "start_time": "2024-04-08T23:02:15.242Z"
   },
   {
    "duration": 83,
    "start_time": "2024-04-08T23:02:16.329Z"
   },
   {
    "duration": 23,
    "start_time": "2024-04-08T23:02:16.413Z"
   },
   {
    "duration": 14,
    "start_time": "2024-04-08T23:02:16.438Z"
   },
   {
    "duration": 7,
    "start_time": "2024-04-08T23:02:16.453Z"
   },
   {
    "duration": 20,
    "start_time": "2024-04-08T23:02:16.462Z"
   },
   {
    "duration": 7,
    "start_time": "2024-04-08T23:02:16.484Z"
   },
   {
    "duration": 6,
    "start_time": "2024-04-08T23:02:16.493Z"
   },
   {
    "duration": 6,
    "start_time": "2024-04-08T23:02:16.500Z"
   },
   {
    "duration": 15,
    "start_time": "2024-04-08T23:02:16.509Z"
   },
   {
    "duration": 6,
    "start_time": "2024-04-08T23:02:16.526Z"
   },
   {
    "duration": 204,
    "start_time": "2024-04-08T23:02:16.533Z"
   },
   {
    "duration": 7,
    "start_time": "2024-04-08T23:02:16.739Z"
   },
   {
    "duration": 162,
    "start_time": "2024-04-08T23:02:16.747Z"
   },
   {
    "duration": 176,
    "start_time": "2024-04-08T23:02:16.911Z"
   },
   {
    "duration": 15,
    "start_time": "2024-04-08T23:02:17.089Z"
   },
   {
    "duration": 219,
    "start_time": "2024-04-08T23:02:17.105Z"
   },
   {
    "duration": 199,
    "start_time": "2024-04-08T23:02:17.326Z"
   },
   {
    "duration": 21,
    "start_time": "2024-04-08T23:02:17.527Z"
   },
   {
    "duration": 33,
    "start_time": "2024-04-08T23:02:17.550Z"
   },
   {
    "duration": 14,
    "start_time": "2024-04-08T23:02:17.584Z"
   },
   {
    "duration": 9,
    "start_time": "2024-04-08T23:02:17.600Z"
   },
   {
    "duration": 9,
    "start_time": "2024-04-08T23:02:17.610Z"
   },
   {
    "duration": 11,
    "start_time": "2024-04-08T23:02:17.620Z"
   },
   {
    "duration": 18,
    "start_time": "2024-04-08T23:02:17.633Z"
   },
   {
    "duration": 37,
    "start_time": "2024-04-08T23:02:17.652Z"
   },
   {
    "duration": 30,
    "start_time": "2024-04-08T23:02:17.691Z"
   },
   {
    "duration": 260,
    "start_time": "2024-04-08T23:02:17.724Z"
   },
   {
    "duration": 31,
    "start_time": "2024-04-08T23:02:17.986Z"
   },
   {
    "duration": 282,
    "start_time": "2024-04-08T23:02:18.019Z"
   },
   {
    "duration": 329,
    "start_time": "2024-04-08T23:02:18.302Z"
   },
   {
    "duration": 251,
    "start_time": "2024-04-08T23:02:18.632Z"
   },
   {
    "duration": 3,
    "start_time": "2024-04-08T23:02:18.885Z"
   },
   {
    "duration": 782,
    "start_time": "2024-04-08T23:02:18.889Z"
   },
   {
    "duration": 18,
    "start_time": "2024-04-08T23:02:19.673Z"
   },
   {
    "duration": 15,
    "start_time": "2024-04-08T23:02:19.692Z"
   },
   {
    "duration": 9,
    "start_time": "2024-04-08T23:02:19.709Z"
   },
   {
    "duration": 20,
    "start_time": "2024-04-08T23:02:19.720Z"
   },
   {
    "duration": 7,
    "start_time": "2024-04-08T23:02:19.742Z"
   },
   {
    "duration": 16,
    "start_time": "2024-04-08T23:02:19.750Z"
   },
   {
    "duration": 15,
    "start_time": "2024-04-08T23:02:19.768Z"
   },
   {
    "duration": 6,
    "start_time": "2024-04-08T23:02:19.784Z"
   },
   {
    "duration": 8,
    "start_time": "2024-04-08T23:02:19.792Z"
   },
   {
    "duration": 6,
    "start_time": "2024-04-08T23:02:19.801Z"
   },
   {
    "duration": 10,
    "start_time": "2024-04-08T23:02:19.809Z"
   }
  ],
  "kernelspec": {
   "display_name": "Python [conda env:base] *",
   "language": "python",
   "name": "conda-base-py"
  },
  "language_info": {
   "codemirror_mode": {
    "name": "ipython",
    "version": 3
   },
   "file_extension": ".py",
   "mimetype": "text/x-python",
   "name": "python",
   "nbconvert_exporter": "python",
   "pygments_lexer": "ipython3",
   "version": "3.11.5"
  },
  "toc": {
   "base_numbering": 1,
   "nav_menu": {},
   "number_sections": true,
   "sideBar": true,
   "skip_h1_title": true,
   "title_cell": "Table of Contents",
   "title_sidebar": "Contents",
   "toc_cell": false,
   "toc_position": {},
   "toc_section_display": true,
   "toc_window_display": false
  }
 },
 "nbformat": 4,
 "nbformat_minor": 5
}
