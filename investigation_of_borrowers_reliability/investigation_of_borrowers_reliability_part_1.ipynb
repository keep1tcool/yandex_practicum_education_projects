{
 "cells": [
  {
   "cell_type": "markdown",
   "id": "4f11de00",
   "metadata": {
    "deletable": false,
    "editable": false,
    "id": "4f11de00"
   },
   "source": [
    "# Исследование надежности заемщиков"
   ]
  },
  {
   "cell_type": "markdown",
   "id": "f09d6878",
   "metadata": {
    "deletable": false,
    "editable": false,
    "id": "f09d6878"
   },
   "source": [
    "Это первая часть проекта, она будет проверена автоматически. Вторую часть проверит ревьюер. "
   ]
  },
  {
   "cell_type": "markdown",
   "id": "516620ee",
   "metadata": {
    "deletable": false,
    "editable": false,
    "id": "516620ee"
   },
   "source": [
    "## Откройте таблицу и изучите общую информацию о данных"
   ]
  },
  {
   "cell_type": "markdown",
   "id": "76a8a9ce",
   "metadata": {
    "deletable": false,
    "editable": false,
    "id": "76a8a9ce",
    "tags": [
     "start_task"
    ]
   },
   "source": [
    "**Задание 1. Импортируйте библиотеку pandas. Считайте данные из csv-файла в датафрейм и сохраните в переменную `data`. Путь к файлу:**\n",
    "\n",
    "`/datasets/data.csv`"
   ]
  },
  {
   "cell_type": "code",
   "execution_count": 1,
   "id": "fab207d0",
   "metadata": {
    "id": "fab207d0"
   },
   "outputs": [],
   "source": [
    "# импортируйте библиотеку pandas\n",
    "import pandas as pd"
   ]
  },
  {
   "cell_type": "code",
   "execution_count": 2,
   "id": "6c82b607",
   "metadata": {
    "id": "6c82b607"
   },
   "outputs": [],
   "source": [
    "# прочитайте csv-файл\n",
    "data = pd.read_csv('/datasets/data.csv')"
   ]
  },
  {
   "cell_type": "markdown",
   "id": "08bbb5b3",
   "metadata": {
    "deletable": false,
    "editable": false,
    "id": "08bbb5b3",
    "tags": [
     "start_task"
    ]
   },
   "source": [
    "**Задание 2. Выведите первые 20 строчек датафрейма `data` на экран.**"
   ]
  },
  {
   "cell_type": "code",
   "execution_count": 3,
   "id": "4ff33b36",
   "metadata": {
    "id": "4ff33b36"
   },
   "outputs": [
    {
     "name": "stdout",
     "output_type": "stream",
     "text": [
      "    children  days_employed  dob_years            education  education_id  \\\n",
      "0          1   -8437.673028         42               высшее             0   \n",
      "1          1   -4024.803754         36              среднее             1   \n",
      "2          0   -5623.422610         33              Среднее             1   \n",
      "3          3   -4124.747207         32              среднее             1   \n",
      "4          0  340266.072047         53              среднее             1   \n",
      "5          0    -926.185831         27               высшее             0   \n",
      "6          0   -2879.202052         43               высшее             0   \n",
      "7          0    -152.779569         50              СРЕДНЕЕ             1   \n",
      "8          2   -6929.865299         35               ВЫСШЕЕ             0   \n",
      "9          0   -2188.756445         41              среднее             1   \n",
      "10         2   -4171.483647         36               высшее             0   \n",
      "11         0    -792.701887         40              среднее             1   \n",
      "12         0            NaN         65              среднее             1   \n",
      "13         0   -1846.641941         54  неоконченное высшее             2   \n",
      "14         0   -1844.956182         56               высшее             0   \n",
      "15         1    -972.364419         26              среднее             1   \n",
      "16         0   -1719.934226         35              среднее             1   \n",
      "17         0   -2369.999720         33               высшее             0   \n",
      "18         0  400281.136913         53              среднее             1   \n",
      "19         0  -10038.818549         48              СРЕДНЕЕ             1   \n",
      "\n",
      "       family_status  family_status_id gender income_type  debt  \\\n",
      "0    женат / замужем                 0      F   сотрудник     0   \n",
      "1    женат / замужем                 0      F   сотрудник     0   \n",
      "2    женат / замужем                 0      M   сотрудник     0   \n",
      "3    женат / замужем                 0      M   сотрудник     0   \n",
      "4   гражданский брак                 1      F   пенсионер     0   \n",
      "5   гражданский брак                 1      M   компаньон     0   \n",
      "6    женат / замужем                 0      F   компаньон     0   \n",
      "7    женат / замужем                 0      M   сотрудник     0   \n",
      "8   гражданский брак                 1      F   сотрудник     0   \n",
      "9    женат / замужем                 0      M   сотрудник     0   \n",
      "10   женат / замужем                 0      M   компаньон     0   \n",
      "11   женат / замужем                 0      F   сотрудник     0   \n",
      "12  гражданский брак                 1      M   пенсионер     0   \n",
      "13   женат / замужем                 0      F   сотрудник     0   \n",
      "14  гражданский брак                 1      F   компаньон     1   \n",
      "15   женат / замужем                 0      F   сотрудник     0   \n",
      "16   женат / замужем                 0      F   сотрудник     0   \n",
      "17  гражданский брак                 1      M   сотрудник     0   \n",
      "18    вдовец / вдова                 2      F   пенсионер     0   \n",
      "19         в разводе                 3      F   сотрудник     0   \n",
      "\n",
      "     total_income                                 purpose  \n",
      "0   253875.639453                           покупка жилья  \n",
      "1   112080.014102                 приобретение автомобиля  \n",
      "2   145885.952297                           покупка жилья  \n",
      "3   267628.550329              дополнительное образование  \n",
      "4   158616.077870                         сыграть свадьбу  \n",
      "5   255763.565419                           покупка жилья  \n",
      "6   240525.971920                       операции с жильем  \n",
      "7   135823.934197                             образование  \n",
      "8    95856.832424                   на проведение свадьбы  \n",
      "9   144425.938277                 покупка жилья для семьи  \n",
      "10  113943.491460                    покупка недвижимости  \n",
      "11   77069.234271       покупка коммерческой недвижимости  \n",
      "12            NaN                         сыграть свадьбу  \n",
      "13  130458.228857                 приобретение автомобиля  \n",
      "14  165127.911772              покупка жилой недвижимости  \n",
      "15  116820.904450  строительство собственной недвижимости  \n",
      "16  289202.704229                            недвижимость  \n",
      "17   90410.586745              строительство недвижимости  \n",
      "18   56823.777243      на покупку подержанного автомобиля  \n",
      "19  242831.107982            на покупку своего автомобиля  \n"
     ]
    }
   ],
   "source": [
    "# ваш код здесь\n",
    "print(data.head(20))"
   ]
  },
  {
   "cell_type": "markdown",
   "id": "c8f382ae",
   "metadata": {
    "deletable": false,
    "editable": false,
    "id": "c8f382ae",
    "tags": [
     "start_task"
    ]
   },
   "source": [
    "**Задание 3. Выведите основную информацию о датафрейме с помощью метода `info()`.**"
   ]
  },
  {
   "cell_type": "code",
   "execution_count": 4,
   "id": "e1ed9908",
   "metadata": {
    "id": "e1ed9908"
   },
   "outputs": [
    {
     "name": "stdout",
     "output_type": "stream",
     "text": [
      "<class 'pandas.core.frame.DataFrame'>\n",
      "RangeIndex: 21525 entries, 0 to 21524\n",
      "Data columns (total 12 columns):\n",
      " #   Column            Non-Null Count  Dtype  \n",
      "---  ------            --------------  -----  \n",
      " 0   children          21525 non-null  int64  \n",
      " 1   days_employed     19351 non-null  float64\n",
      " 2   dob_years         21525 non-null  int64  \n",
      " 3   education         21525 non-null  object \n",
      " 4   education_id      21525 non-null  int64  \n",
      " 5   family_status     21525 non-null  object \n",
      " 6   family_status_id  21525 non-null  int64  \n",
      " 7   gender            21525 non-null  object \n",
      " 8   income_type       21525 non-null  object \n",
      " 9   debt              21525 non-null  int64  \n",
      " 10  total_income      19351 non-null  float64\n",
      " 11  purpose           21525 non-null  object \n",
      "dtypes: float64(2), int64(5), object(5)\n",
      "memory usage: 2.0+ MB\n"
     ]
    }
   ],
   "source": [
    "# ваш код здесь\n",
    "data.info()"
   ]
  },
  {
   "cell_type": "markdown",
   "id": "f969a1cd",
   "metadata": {
    "deletable": false,
    "editable": false,
    "id": "f969a1cd"
   },
   "source": [
    "## Предобработка данных"
   ]
  },
  {
   "cell_type": "markdown",
   "id": "7283e864",
   "metadata": {
    "deletable": false,
    "editable": false,
    "id": "7283e864"
   },
   "source": [
    "### Удаление пропусков"
   ]
  },
  {
   "cell_type": "markdown",
   "id": "c9a0745e",
   "metadata": {
    "deletable": false,
    "editable": false,
    "id": "c9a0745e",
    "tags": [
     "start_task"
    ]
   },
   "source": [
    "**Задание 4. Выведите количество пропущенных значений для каждого столбца. Используйте комбинацию двух методов.**"
   ]
  },
  {
   "cell_type": "code",
   "execution_count": 5,
   "id": "b7a096e1",
   "metadata": {
    "id": "b7a096e1"
   },
   "outputs": [
    {
     "data": {
      "text/plain": [
       "children               0\n",
       "days_employed       2174\n",
       "dob_years              0\n",
       "education              0\n",
       "education_id           0\n",
       "family_status          0\n",
       "family_status_id       0\n",
       "gender                 0\n",
       "income_type            0\n",
       "debt                   0\n",
       "total_income        2174\n",
       "purpose                0\n",
       "dtype: int64"
      ]
     },
     "execution_count": 5,
     "metadata": {},
     "output_type": "execute_result"
    }
   ],
   "source": [
    "# ваш код здесь\n",
    "data.isna().sum()"
   ]
  },
  {
   "cell_type": "markdown",
   "id": "c2578616",
   "metadata": {
    "deletable": false,
    "editable": false,
    "id": "c2578616",
    "tags": [
     "start_task"
    ]
   },
   "source": [
    "**Задание 5. В двух столбцах есть пропущенные значения. Один из них — `days_employed`. Пропуски в этом столбце вы обработаете на следующем этапе. Другой столбец с пропущенными значениями — `total_income` — хранит данные о доходах. На сумму дохода сильнее всего влияет тип занятости, поэтому заполнить пропуски в этом столбце нужно медианным значением по каждому типу из столбца `income_type`. Например, у человека с типом занятости `сотрудник` пропуск в столбце `total_income` должен быть заполнен медианным доходом среди всех записей с тем же типом.**"
   ]
  },
  {
   "cell_type": "code",
   "execution_count": 6,
   "id": "e8afc4bc",
   "metadata": {
    "id": "e8afc4bc"
   },
   "outputs": [],
   "source": [
    "# ваш код здесь\n",
    "for d in data['income_type'].unique():\n",
    "    data.loc[(data['income_type'] == d) & (data['total_income'].isna()), 'total_income'] = \\\n",
    "    data.loc[(data['income_type'] == d), 'total_income'].median()"
   ]
  },
  {
   "cell_type": "markdown",
   "id": "ae986d46",
   "metadata": {
    "deletable": false,
    "editable": false,
    "id": "ae986d46"
   },
   "source": [
    "### Обработка аномальных значений"
   ]
  },
  {
   "cell_type": "markdown",
   "id": "b049cbae",
   "metadata": {
    "deletable": false,
    "editable": false,
    "id": "b049cbae",
    "tags": [
     "start_task"
    ]
   },
   "source": [
    "**Задание 6. В данных могут встречаться артефакты (аномалии) — значения, которые не отражают действительность и появились по какой-то ошибке. Таким артефактом будет отрицательное количество дней трудового стажа в столбце `days_employed`. Для реальных данных это нормально. Обработайте значения в этом столбце: замените все отрицательные значения положительными с помощью метода `abs()`.**"
   ]
  },
  {
   "cell_type": "code",
   "execution_count": 7,
   "id": "187779b0",
   "metadata": {
    "id": "187779b0"
   },
   "outputs": [],
   "source": [
    "# ваш код здесь\n",
    "data['days_employed'] = data['days_employed'].abs()"
   ]
  },
  {
   "cell_type": "markdown",
   "id": "a13054c2",
   "metadata": {
    "deletable": false,
    "editable": false,
    "id": "a13054c2",
    "tags": [
     "start_task"
    ]
   },
   "source": [
    "**Задание 7. Для каждого типа занятости выведите медианное значение трудового стажа `days_employed` в днях.**"
   ]
  },
  {
   "cell_type": "code",
   "execution_count": 8,
   "id": "f3f5810c",
   "metadata": {
    "id": "f3f5810c"
   },
   "outputs": [
    {
     "data": {
      "text/plain": [
       "income_type\n",
       "безработный        366413.652744\n",
       "в декрете            3296.759962\n",
       "госслужащий          2689.368353\n",
       "компаньон            1547.382223\n",
       "пенсионер          365213.306266\n",
       "предприниматель       520.848083\n",
       "сотрудник            1574.202821\n",
       "студент               578.751554\n",
       "Name: days_employed, dtype: float64"
      ]
     },
     "execution_count": 8,
     "metadata": {},
     "output_type": "execute_result"
    }
   ],
   "source": [
    "# ваш код здесь\n",
    "data.groupby('income_type')['days_employed'].agg('median')"
   ]
  },
  {
   "cell_type": "markdown",
   "id": "dbc3168c",
   "metadata": {
    "deletable": false,
    "editable": false,
    "id": "dbc3168c"
   },
   "source": [
    "У двух типов (безработные и пенсионеры) получатся аномально большие значения. Исправить такие значения сложно, поэтому оставьте их как есть."
   ]
  },
  {
   "cell_type": "markdown",
   "id": "ff4378c2",
   "metadata": {
    "deletable": false,
    "editable": false,
    "id": "ff4378c2",
    "tags": [
     "start_task"
    ]
   },
   "source": [
    "**Задание 8. Выведите перечень уникальных значений столбца `children`.**"
   ]
  },
  {
   "cell_type": "code",
   "execution_count": 9,
   "id": "9bd0c232",
   "metadata": {
    "id": "9bd0c232"
   },
   "outputs": [
    {
     "data": {
      "text/plain": [
       "array([ 1,  0,  3,  2, -1,  4, 20,  5])"
      ]
     },
     "execution_count": 9,
     "metadata": {},
     "output_type": "execute_result"
    }
   ],
   "source": [
    "# ваш код здесь\n",
    "data['children'].unique()"
   ]
  },
  {
   "cell_type": "markdown",
   "id": "8e911990",
   "metadata": {
    "deletable": false,
    "editable": false,
    "id": "8e911990",
    "tags": [
     "start_task"
    ]
   },
   "source": [
    "**Задание 9. В столбце `children` есть два аномальных значения. Удалите строки, в которых встречаются такие аномальные значения из датафрейма `data`.**"
   ]
  },
  {
   "cell_type": "code",
   "execution_count": 10,
   "id": "6d5ba289",
   "metadata": {
    "id": "6d5ba289"
   },
   "outputs": [],
   "source": [
    "# ваш код здесь\n",
    "data = data[(data['children'] != -1) & (data['children'] != 20)]"
   ]
  },
  {
   "cell_type": "markdown",
   "id": "18d77455",
   "metadata": {
    "deletable": false,
    "editable": false,
    "id": "18d77455",
    "tags": [
     "start_task"
    ]
   },
   "source": [
    "**Задание 10. Ещё раз выведите перечень уникальных значений столбца `children`, чтобы убедиться, что артефакты удалены.**"
   ]
  },
  {
   "cell_type": "code",
   "execution_count": 11,
   "id": "2c5fa92c",
   "metadata": {
    "id": "2c5fa92c"
   },
   "outputs": [
    {
     "data": {
      "text/plain": [
       "array([1, 0, 3, 2, 4, 5])"
      ]
     },
     "execution_count": 11,
     "metadata": {},
     "output_type": "execute_result"
    }
   ],
   "source": [
    "# ваш код здесь\n",
    "data['children'].unique()"
   ]
  },
  {
   "cell_type": "markdown",
   "id": "0ec07dee",
   "metadata": {
    "deletable": false,
    "editable": false,
    "id": "0ec07dee"
   },
   "source": [
    "### Удаление пропусков (продолжение)"
   ]
  },
  {
   "cell_type": "markdown",
   "id": "0fc3ae3f",
   "metadata": {
    "deletable": false,
    "editable": false,
    "id": "0fc3ae3f",
    "tags": [
     "start_task"
    ]
   },
   "source": [
    "**Задание 11. Заполните пропуски в столбце `days_employed` медианными значениями по каждому типу занятости `income_type`.**"
   ]
  },
  {
   "cell_type": "code",
   "execution_count": 12,
   "id": "e2aea7ac",
   "metadata": {
    "id": "e2aea7ac"
   },
   "outputs": [],
   "source": [
    "# ваш код здесь\n",
    "for d in data['income_type'].unique():\n",
    "    data.loc[(data['income_type'] == d) & (data['days_employed'].isna()), 'days_employed'] = \\\n",
    "    data.loc[(data['income_type'] == d), 'days_employed'].median()"
   ]
  },
  {
   "cell_type": "markdown",
   "id": "97b0b795",
   "metadata": {
    "deletable": false,
    "editable": false,
    "id": "97b0b795",
    "tags": [
     "start_task"
    ]
   },
   "source": [
    "**Задание 12. Убедитесь, что все пропуски заполнены. Проверьте себя и ещё раз выведите количество пропущенных значений для каждого столбца с помощью двух методов.**"
   ]
  },
  {
   "cell_type": "code",
   "execution_count": 13,
   "id": "79632a21",
   "metadata": {
    "id": "79632a21"
   },
   "outputs": [
    {
     "data": {
      "text/plain": [
       "children            0\n",
       "days_employed       0\n",
       "dob_years           0\n",
       "education           0\n",
       "education_id        0\n",
       "family_status       0\n",
       "family_status_id    0\n",
       "gender              0\n",
       "income_type         0\n",
       "debt                0\n",
       "total_income        0\n",
       "purpose             0\n",
       "dtype: int64"
      ]
     },
     "execution_count": 13,
     "metadata": {},
     "output_type": "execute_result"
    }
   ],
   "source": [
    "# ваш код здесь\n",
    "data.isna().sum()"
   ]
  },
  {
   "cell_type": "markdown",
   "id": "bd4aeb20",
   "metadata": {
    "deletable": false,
    "editable": false,
    "id": "bd4aeb20"
   },
   "source": [
    "### Изменение типов данных"
   ]
  },
  {
   "cell_type": "markdown",
   "id": "963bfa58",
   "metadata": {
    "deletable": false,
    "editable": false,
    "id": "963bfa58",
    "tags": [
     "start_task"
    ]
   },
   "source": [
    "**Задание 13. Замените вещественный тип данных в столбце `total_income` на целочисленный с помощью метода `astype()`.**"
   ]
  },
  {
   "cell_type": "code",
   "execution_count": 14,
   "id": "73da6ea0",
   "metadata": {
    "id": "73da6ea0"
   },
   "outputs": [],
   "source": [
    "# ваш код здесь\n",
    "data['total_income'] = data['total_income'].astype('int')"
   ]
  },
  {
   "cell_type": "markdown",
   "id": "d290239e",
   "metadata": {
    "deletable": false,
    "editable": false,
    "id": "d290239e"
   },
   "source": [
    "### Обработка дубликатов"
   ]
  },
  {
   "cell_type": "markdown",
   "id": "1b5844fd",
   "metadata": {
    "deletable": false,
    "editable": false,
    "id": "1b5844fd",
    "tags": [
     "start_task"
    ]
   },
   "source": [
    "**Задание 14. Обработайте неявные дубликаты в столбце `education`. В этом столбце есть одни и те же значения, но записанные по-разному: с использованием заглавных и строчных букв. Приведите их к нижнему регистру.**"
   ]
  },
  {
   "cell_type": "code",
   "execution_count": 15,
   "id": "3f2504b3",
   "metadata": {
    "id": "3f2504b3"
   },
   "outputs": [],
   "source": [
    "# ваш код здесь\n",
    "data['education'] = data['education'].str.lower()"
   ]
  },
  {
   "cell_type": "markdown",
   "id": "4c22acbc",
   "metadata": {
    "deletable": false,
    "editable": false,
    "id": "4c22acbc",
    "tags": [
     "start_task"
    ]
   },
   "source": [
    "**Задание 15. Выведите на экран количество строк-дубликатов в данных. Если такие строки присутствуют, удалите их.**"
   ]
  },
  {
   "cell_type": "code",
   "execution_count": 16,
   "id": "d34a4325",
   "metadata": {
    "id": "d34a4325"
   },
   "outputs": [
    {
     "data": {
      "text/plain": [
       "71"
      ]
     },
     "execution_count": 16,
     "metadata": {},
     "output_type": "execute_result"
    }
   ],
   "source": [
    "# посчитайте дубликаты\n",
    "data.duplicated().sum()"
   ]
  },
  {
   "cell_type": "code",
   "execution_count": 17,
   "id": "6e1a6499",
   "metadata": {
    "id": "6e1a6499"
   },
   "outputs": [],
   "source": [
    "# удалите дубликаты\n",
    "data = data.drop_duplicates()"
   ]
  },
  {
   "cell_type": "markdown",
   "id": "e5686ccc",
   "metadata": {
    "deletable": false,
    "editable": false,
    "id": "e5686ccc"
   },
   "source": [
    "### Категоризация данных"
   ]
  },
  {
   "cell_type": "markdown",
   "id": "636e9acd",
   "metadata": {
    "deletable": false,
    "editable": false,
    "id": "636e9acd",
    "tags": [
     "start_task"
    ]
   },
   "source": [
    "**Задание 16. На основании диапазонов, указанных ниже, создайте в датафрейме `data` столбец `total_income_category` с категориями:**\n",
    "\n",
    "- 0–30000 — `'E'`;\n",
    "- 30001–50000 — `'D'`;\n",
    "- 50001–200000 — `'C'`;\n",
    "- 200001–1000000 — `'B'`;\n",
    "- 1000001 и выше — `'A'`.\n",
    "\n",
    "\n",
    "**Например, кредитополучателю с доходом 25000 нужно назначить категорию `'E'`, а клиенту, получающему 235000, — `'B'`. Используйте собственную функцию с именем `categorize_income()` и метод `apply()`.**"
   ]
  },
  {
   "cell_type": "code",
   "execution_count": 18,
   "id": "880a77e5",
   "metadata": {
    "id": "880a77e5"
   },
   "outputs": [],
   "source": [
    "# создайте функцию categorize_income()\n",
    "def categorize_income(income):\n",
    "    if 0 <= income <= 30000:\n",
    "        return 'E'\n",
    "    elif 30001 <= income <= 50000:\n",
    "        return 'D'\n",
    "    elif 50001 <= income <= 200000:\n",
    "        return 'C'\n",
    "    elif 200001 <= income <= 1000000:\n",
    "        return 'B'\n",
    "    elif income >= 1000001:\n",
    "        return 'A'"
   ]
  },
  {
   "cell_type": "code",
   "execution_count": 19,
   "id": "6f25f161",
   "metadata": {
    "id": "6f25f161"
   },
   "outputs": [],
   "source": [
    "# примените функцию методом apply()\n",
    "data['total_income_category'] = data['total_income'].apply(categorize_income)"
   ]
  },
  {
   "cell_type": "markdown",
   "id": "3363b685",
   "metadata": {
    "deletable": false,
    "editable": false,
    "id": "3363b685",
    "tags": [
     "start_task"
    ]
   },
   "source": [
    "**Задание 17. Выведите на экран перечень уникальных целей взятия кредита из столбца `purpose`.**"
   ]
  },
  {
   "cell_type": "code",
   "execution_count": 20,
   "id": "e59f2c15",
   "metadata": {
    "id": "e59f2c15"
   },
   "outputs": [
    {
     "data": {
      "text/plain": [
       "array(['покупка жилья', 'приобретение автомобиля',\n",
       "       'дополнительное образование', 'сыграть свадьбу',\n",
       "       'операции с жильем', 'образование', 'на проведение свадьбы',\n",
       "       'покупка жилья для семьи', 'покупка недвижимости',\n",
       "       'покупка коммерческой недвижимости', 'покупка жилой недвижимости',\n",
       "       'строительство собственной недвижимости', 'недвижимость',\n",
       "       'строительство недвижимости', 'на покупку подержанного автомобиля',\n",
       "       'на покупку своего автомобиля',\n",
       "       'операции с коммерческой недвижимостью',\n",
       "       'строительство жилой недвижимости', 'жилье',\n",
       "       'операции со своей недвижимостью', 'автомобили',\n",
       "       'заняться образованием', 'сделка с подержанным автомобилем',\n",
       "       'получение образования', 'автомобиль', 'свадьба',\n",
       "       'получение дополнительного образования', 'покупка своего жилья',\n",
       "       'операции с недвижимостью', 'получение высшего образования',\n",
       "       'свой автомобиль', 'сделка с автомобилем',\n",
       "       'профильное образование', 'высшее образование',\n",
       "       'покупка жилья для сдачи', 'на покупку автомобиля', 'ремонт жилью',\n",
       "       'заняться высшим образованием'], dtype=object)"
      ]
     },
     "execution_count": 20,
     "metadata": {},
     "output_type": "execute_result"
    }
   ],
   "source": [
    "# ваш код здесь\n",
    "data['purpose'].unique()"
   ]
  },
  {
   "cell_type": "markdown",
   "id": "bb33e847",
   "metadata": {
    "deletable": false,
    "editable": false,
    "id": "bb33e847",
    "tags": [
     "start_task"
    ]
   },
   "source": [
    "**Задание 18. Создайте функцию, которая на основании данных из столбца `purpose` сформирует новый столбец `purpose_category`, в который войдут следующие категории:**\n",
    "\n",
    "- `'операции с автомобилем'`,\n",
    "- `'операции с недвижимостью'`,\n",
    "- `'проведение свадьбы'`,\n",
    "- `'получение образования'`.\n",
    "\n",
    "**Например, если в столбце `purpose` находится подстрока `'на покупку автомобиля'`, то в столбце `purpose_category` должна появиться строка `'операции с автомобилем'`.**\n",
    "\n",
    "**Используйте собственную функцию с именем `categorize_purpose()` и метод `apply()`. Изучите данные в столбце `purpose` и определите, какие подстроки помогут вам правильно определить категорию.**"
   ]
  },
  {
   "cell_type": "code",
   "execution_count": 21,
   "id": "63909b83",
   "metadata": {
    "id": "63909b83"
   },
   "outputs": [],
   "source": [
    "# создайте функцию categorize_purpose()\n",
    "def categorize_purpose(row):\n",
    "    try:\n",
    "        if 'автом' in row:\n",
    "            return 'операции с автомобилем'\n",
    "        elif 'жил' in row or 'недвиж' in row:\n",
    "            return 'операции с недвижимостью'\n",
    "        elif 'свадьб' in row:\n",
    "            return 'проведение свадьбы'\n",
    "        elif 'образов'in row:\n",
    "            return 'получение образования'\n",
    "    except:\n",
    "        return 'нет категории'"
   ]
  },
  {
   "cell_type": "code",
   "execution_count": 22,
   "id": "7cb4a81d",
   "metadata": {
    "id": "7cb4a81d"
   },
   "outputs": [],
   "source": [
    "# примените функцию методом apply()\n",
    "data['purpose_category'] = data['purpose'].apply(categorize_purpose)"
   ]
  }
 ],
 "metadata": {
  "ExecuteTimeLog": [
   {
    "duration": 391,
    "start_time": "2024-02-26T14:17:25.387Z"
   },
   {
    "duration": 300,
    "start_time": "2024-02-26T14:17:25.779Z"
   },
   {
    "duration": 3,
    "start_time": "2024-02-26T14:17:26.080Z"
   },
   {
    "duration": 72,
    "start_time": "2024-02-26T14:17:26.084Z"
   },
   {
    "duration": 24,
    "start_time": "2024-02-26T14:17:26.157Z"
   },
   {
    "duration": 33,
    "start_time": "2024-02-26T14:17:26.182Z"
   },
   {
    "duration": 36,
    "start_time": "2024-02-26T14:17:26.218Z"
   },
   {
    "duration": 9,
    "start_time": "2024-02-26T14:17:26.256Z"
   },
   {
    "duration": 29,
    "start_time": "2024-02-26T14:17:26.266Z"
   },
   {
    "duration": 27,
    "start_time": "2024-02-26T14:17:26.297Z"
   },
   {
    "duration": 10,
    "start_time": "2024-02-26T14:17:26.326Z"
   },
   {
    "duration": 13,
    "start_time": "2024-02-26T14:17:26.338Z"
   },
   {
    "duration": 39,
    "start_time": "2024-02-26T14:17:26.352Z"
   },
   {
    "duration": 43,
    "start_time": "2024-02-26T14:17:26.393Z"
   },
   {
    "duration": 14,
    "start_time": "2024-02-26T14:17:26.437Z"
   },
   {
    "duration": 14,
    "start_time": "2024-02-26T14:17:26.452Z"
   },
   {
    "duration": 83,
    "start_time": "2024-02-26T14:17:26.468Z"
   },
   {
    "duration": 37,
    "start_time": "2024-02-26T14:17:26.552Z"
   },
   {
    "duration": 24,
    "start_time": "2024-02-26T14:17:26.591Z"
   },
   {
    "duration": 38,
    "start_time": "2024-02-26T14:17:26.618Z"
   },
   {
    "duration": 33,
    "start_time": "2024-02-26T14:17:26.658Z"
   },
   {
    "duration": 54,
    "start_time": "2024-02-26T14:17:26.692Z"
   },
   {
    "duration": 2,
    "start_time": "2024-02-26T14:17:53.980Z"
   },
   {
    "duration": 76,
    "start_time": "2024-02-26T14:17:53.984Z"
   },
   {
    "duration": 9,
    "start_time": "2024-02-26T14:17:54.062Z"
   },
   {
    "duration": 6,
    "start_time": "2024-02-26T14:17:54.073Z"
   },
   {
    "duration": 7,
    "start_time": "2024-02-26T14:17:54.081Z"
   },
   {
    "duration": 6,
    "start_time": "2024-02-26T14:17:54.090Z"
   },
   {
    "duration": 7,
    "start_time": "2024-02-26T14:17:54.097Z"
   },
   {
    "duration": 4,
    "start_time": "2024-02-26T14:17:54.106Z"
   },
   {
    "duration": 6,
    "start_time": "2024-02-26T14:17:54.112Z"
   },
   {
    "duration": 6,
    "start_time": "2024-02-26T14:17:54.119Z"
   },
   {
    "duration": 5,
    "start_time": "2024-02-26T14:17:54.127Z"
   },
   {
    "duration": 5,
    "start_time": "2024-02-26T14:17:54.133Z"
   },
   {
    "duration": 6,
    "start_time": "2024-02-26T14:17:54.140Z"
   },
   {
    "duration": 18,
    "start_time": "2024-02-26T14:17:54.148Z"
   },
   {
    "duration": 6,
    "start_time": "2024-02-26T14:17:54.167Z"
   },
   {
    "duration": 8,
    "start_time": "2024-02-26T14:17:54.174Z"
   },
   {
    "duration": 5,
    "start_time": "2024-02-26T14:17:54.183Z"
   },
   {
    "duration": 6,
    "start_time": "2024-02-26T14:17:54.190Z"
   },
   {
    "duration": 5,
    "start_time": "2024-02-26T14:17:54.198Z"
   },
   {
    "duration": 7,
    "start_time": "2024-02-26T14:17:54.204Z"
   },
   {
    "duration": 7,
    "start_time": "2024-02-26T14:17:54.212Z"
   },
   {
    "duration": 5,
    "start_time": "2024-02-26T14:17:54.221Z"
   },
   {
    "duration": 3,
    "start_time": "2024-02-26T14:18:30.277Z"
   },
   {
    "duration": 130,
    "start_time": "2024-02-26T14:18:30.283Z"
   },
   {
    "duration": 28,
    "start_time": "2024-02-26T14:18:30.414Z"
   },
   {
    "duration": 120,
    "start_time": "2024-02-26T14:18:30.444Z"
   },
   {
    "duration": 44,
    "start_time": "2024-02-26T14:18:30.566Z"
   },
   {
    "duration": 66,
    "start_time": "2024-02-26T14:18:30.611Z"
   },
   {
    "duration": 98,
    "start_time": "2024-02-26T14:18:30.679Z"
   },
   {
    "duration": 124,
    "start_time": "2024-02-26T14:18:30.779Z"
   },
   {
    "duration": 36,
    "start_time": "2024-02-26T14:18:30.904Z"
   },
   {
    "duration": 45,
    "start_time": "2024-02-26T14:18:30.941Z"
   },
   {
    "duration": 39,
    "start_time": "2024-02-26T14:18:30.988Z"
   },
   {
    "duration": 40,
    "start_time": "2024-02-26T14:18:31.028Z"
   },
   {
    "duration": 62,
    "start_time": "2024-02-26T14:18:31.069Z"
   },
   {
    "duration": 54,
    "start_time": "2024-02-26T14:18:31.133Z"
   },
   {
    "duration": 39,
    "start_time": "2024-02-26T14:18:31.188Z"
   },
   {
    "duration": 46,
    "start_time": "2024-02-26T14:18:31.228Z"
   },
   {
    "duration": 76,
    "start_time": "2024-02-26T14:18:31.276Z"
   },
   {
    "duration": 33,
    "start_time": "2024-02-26T14:18:31.353Z"
   },
   {
    "duration": 73,
    "start_time": "2024-02-26T14:18:31.388Z"
   },
   {
    "duration": 26,
    "start_time": "2024-02-26T14:18:31.463Z"
   },
   {
    "duration": 28,
    "start_time": "2024-02-26T14:18:31.491Z"
   },
   {
    "duration": 29,
    "start_time": "2024-02-26T14:18:31.521Z"
   },
   {
    "duration": 2,
    "start_time": "2024-02-26T14:22:00.903Z"
   },
   {
    "duration": 241,
    "start_time": "2024-02-26T14:22:00.906Z"
   },
   {
    "duration": 7,
    "start_time": "2024-02-26T14:22:01.149Z"
   },
   {
    "duration": 62,
    "start_time": "2024-02-26T14:22:01.158Z"
   },
   {
    "duration": 36,
    "start_time": "2024-02-26T14:22:01.222Z"
   },
   {
    "duration": 25,
    "start_time": "2024-02-26T14:22:01.260Z"
   },
   {
    "duration": 36,
    "start_time": "2024-02-26T14:22:01.287Z"
   },
   {
    "duration": 46,
    "start_time": "2024-02-26T14:22:01.325Z"
   },
   {
    "duration": 51,
    "start_time": "2024-02-26T14:22:01.372Z"
   },
   {
    "duration": 52,
    "start_time": "2024-02-26T14:22:01.426Z"
   },
   {
    "duration": 30,
    "start_time": "2024-02-26T14:22:01.480Z"
   },
   {
    "duration": 40,
    "start_time": "2024-02-26T14:22:01.512Z"
   },
   {
    "duration": 42,
    "start_time": "2024-02-26T14:22:01.554Z"
   },
   {
    "duration": 28,
    "start_time": "2024-02-26T14:22:01.598Z"
   },
   {
    "duration": 27,
    "start_time": "2024-02-26T14:22:01.627Z"
   },
   {
    "duration": 50,
    "start_time": "2024-02-26T14:22:01.655Z"
   },
   {
    "duration": 40,
    "start_time": "2024-02-26T14:22:01.707Z"
   },
   {
    "duration": 27,
    "start_time": "2024-02-26T14:22:01.748Z"
   },
   {
    "duration": 20,
    "start_time": "2024-02-26T14:22:01.777Z"
   },
   {
    "duration": 20,
    "start_time": "2024-02-26T14:22:01.799Z"
   },
   {
    "duration": 13,
    "start_time": "2024-02-26T14:22:01.821Z"
   },
   {
    "duration": 38,
    "start_time": "2024-02-26T14:22:01.836Z"
   },
   {
    "duration": 3,
    "start_time": "2024-02-26T14:24:40.051Z"
   },
   {
    "duration": 85,
    "start_time": "2024-02-26T14:24:40.055Z"
   },
   {
    "duration": 7,
    "start_time": "2024-02-26T14:24:40.142Z"
   },
   {
    "duration": 43,
    "start_time": "2024-02-26T14:24:40.151Z"
   },
   {
    "duration": 9,
    "start_time": "2024-02-26T14:24:40.196Z"
   },
   {
    "duration": 19,
    "start_time": "2024-02-26T14:24:40.207Z"
   },
   {
    "duration": 7,
    "start_time": "2024-02-26T14:24:40.228Z"
   },
   {
    "duration": 11,
    "start_time": "2024-02-26T14:24:40.237Z"
   },
   {
    "duration": 7,
    "start_time": "2024-02-26T14:24:40.249Z"
   },
   {
    "duration": 9,
    "start_time": "2024-02-26T14:24:40.258Z"
   },
   {
    "duration": 8,
    "start_time": "2024-02-26T14:24:40.268Z"
   },
   {
    "duration": 12,
    "start_time": "2024-02-26T14:24:40.277Z"
   },
   {
    "duration": 6,
    "start_time": "2024-02-26T14:24:40.290Z"
   },
   {
    "duration": 5,
    "start_time": "2024-02-26T14:24:40.298Z"
   },
   {
    "duration": 8,
    "start_time": "2024-02-26T14:24:40.304Z"
   },
   {
    "duration": 8,
    "start_time": "2024-02-26T14:24:40.314Z"
   },
   {
    "duration": 29,
    "start_time": "2024-02-26T14:24:40.323Z"
   },
   {
    "duration": 18,
    "start_time": "2024-02-26T14:24:40.354Z"
   },
   {
    "duration": 33,
    "start_time": "2024-02-26T14:24:40.373Z"
   },
   {
    "duration": 9,
    "start_time": "2024-02-26T14:24:40.407Z"
   },
   {
    "duration": 13,
    "start_time": "2024-02-26T14:24:40.418Z"
   },
   {
    "duration": 19,
    "start_time": "2024-02-26T14:24:40.432Z"
   },
   {
    "duration": 3,
    "start_time": "2024-02-26T14:33:25.634Z"
   },
   {
    "duration": 80,
    "start_time": "2024-02-26T14:33:25.639Z"
   },
   {
    "duration": 7,
    "start_time": "2024-02-26T14:33:25.721Z"
   },
   {
    "duration": 19,
    "start_time": "2024-02-26T14:33:25.729Z"
   },
   {
    "duration": 15,
    "start_time": "2024-02-26T14:33:25.750Z"
   },
   {
    "duration": 410,
    "start_time": "2024-02-26T14:33:25.767Z"
   },
   {
    "duration": 3,
    "start_time": "2024-02-26T14:33:26.178Z"
   },
   {
    "duration": 18,
    "start_time": "2024-02-26T14:33:26.182Z"
   },
   {
    "duration": 12,
    "start_time": "2024-02-26T14:33:26.202Z"
   },
   {
    "duration": 17,
    "start_time": "2024-02-26T14:33:26.215Z"
   },
   {
    "duration": 46,
    "start_time": "2024-02-26T14:33:26.234Z"
   },
   {
    "duration": 18,
    "start_time": "2024-02-26T14:33:26.282Z"
   },
   {
    "duration": 8,
    "start_time": "2024-02-26T14:33:26.302Z"
   },
   {
    "duration": 11,
    "start_time": "2024-02-26T14:33:26.312Z"
   },
   {
    "duration": 13,
    "start_time": "2024-02-26T14:33:26.324Z"
   },
   {
    "duration": 8,
    "start_time": "2024-02-26T14:33:26.338Z"
   },
   {
    "duration": 16,
    "start_time": "2024-02-26T14:33:26.347Z"
   },
   {
    "duration": 15,
    "start_time": "2024-02-26T14:33:26.364Z"
   },
   {
    "duration": 7,
    "start_time": "2024-02-26T14:33:26.380Z"
   },
   {
    "duration": 23,
    "start_time": "2024-02-26T14:33:26.388Z"
   },
   {
    "duration": 30,
    "start_time": "2024-02-26T14:33:26.413Z"
   },
   {
    "duration": 10,
    "start_time": "2024-02-26T14:33:26.444Z"
   },
   {
    "duration": 3,
    "start_time": "2024-02-26T14:34:44.946Z"
   },
   {
    "duration": 77,
    "start_time": "2024-02-26T14:34:44.950Z"
   },
   {
    "duration": 8,
    "start_time": "2024-02-26T14:34:45.028Z"
   },
   {
    "duration": 71,
    "start_time": "2024-02-26T14:34:45.038Z"
   },
   {
    "duration": 19,
    "start_time": "2024-02-26T14:34:45.112Z"
   },
   {
    "duration": 381,
    "start_time": "2024-02-26T14:34:45.133Z"
   },
   {
    "duration": 2,
    "start_time": "2024-02-26T14:34:45.516Z"
   },
   {
    "duration": 48,
    "start_time": "2024-02-26T14:34:45.520Z"
   },
   {
    "duration": 78,
    "start_time": "2024-02-26T14:34:45.569Z"
   },
   {
    "duration": 35,
    "start_time": "2024-02-26T14:34:45.648Z"
   },
   {
    "duration": 70,
    "start_time": "2024-02-26T14:34:45.685Z"
   },
   {
    "duration": 52,
    "start_time": "2024-02-26T14:34:45.756Z"
   },
   {
    "duration": 46,
    "start_time": "2024-02-26T14:34:45.810Z"
   },
   {
    "duration": 47,
    "start_time": "2024-02-26T14:34:45.858Z"
   },
   {
    "duration": 59,
    "start_time": "2024-02-26T14:34:45.907Z"
   },
   {
    "duration": 29,
    "start_time": "2024-02-26T14:34:45.967Z"
   },
   {
    "duration": 40,
    "start_time": "2024-02-26T14:34:45.997Z"
   },
   {
    "duration": 21,
    "start_time": "2024-02-26T14:34:46.039Z"
   },
   {
    "duration": 14,
    "start_time": "2024-02-26T14:34:46.062Z"
   },
   {
    "duration": 7,
    "start_time": "2024-02-26T14:34:46.078Z"
   },
   {
    "duration": 7,
    "start_time": "2024-02-26T14:34:46.087Z"
   },
   {
    "duration": 7,
    "start_time": "2024-02-26T14:34:46.096Z"
   },
   {
    "duration": 3,
    "start_time": "2024-02-26T14:46:39.124Z"
   },
   {
    "duration": 89,
    "start_time": "2024-02-26T14:46:39.130Z"
   },
   {
    "duration": 8,
    "start_time": "2024-02-26T14:46:39.221Z"
   },
   {
    "duration": 52,
    "start_time": "2024-02-26T14:46:39.231Z"
   },
   {
    "duration": 38,
    "start_time": "2024-02-26T14:46:39.285Z"
   },
   {
    "duration": 93,
    "start_time": "2024-02-26T14:46:39.325Z"
   },
   {
    "duration": 0,
    "start_time": "2024-02-26T14:46:39.419Z"
   },
   {
    "duration": 0,
    "start_time": "2024-02-26T14:46:39.421Z"
   },
   {
    "duration": 0,
    "start_time": "2024-02-26T14:46:39.422Z"
   },
   {
    "duration": 0,
    "start_time": "2024-02-26T14:46:39.423Z"
   },
   {
    "duration": 0,
    "start_time": "2024-02-26T14:46:39.424Z"
   },
   {
    "duration": 0,
    "start_time": "2024-02-26T14:46:39.425Z"
   },
   {
    "duration": 0,
    "start_time": "2024-02-26T14:46:39.426Z"
   },
   {
    "duration": 0,
    "start_time": "2024-02-26T14:46:39.427Z"
   },
   {
    "duration": 0,
    "start_time": "2024-02-26T14:46:39.428Z"
   },
   {
    "duration": 0,
    "start_time": "2024-02-26T14:46:39.429Z"
   },
   {
    "duration": 0,
    "start_time": "2024-02-26T14:46:39.430Z"
   },
   {
    "duration": 0,
    "start_time": "2024-02-26T14:46:39.431Z"
   },
   {
    "duration": 0,
    "start_time": "2024-02-26T14:46:39.432Z"
   },
   {
    "duration": 0,
    "start_time": "2024-02-26T14:46:39.434Z"
   },
   {
    "duration": 0,
    "start_time": "2024-02-26T14:46:39.434Z"
   },
   {
    "duration": 0,
    "start_time": "2024-02-26T14:46:39.435Z"
   },
   {
    "duration": 2,
    "start_time": "2024-02-26T14:47:27.520Z"
   },
   {
    "duration": 96,
    "start_time": "2024-02-26T14:47:27.525Z"
   },
   {
    "duration": 9,
    "start_time": "2024-02-26T14:47:27.622Z"
   },
   {
    "duration": 29,
    "start_time": "2024-02-26T14:47:27.632Z"
   },
   {
    "duration": 14,
    "start_time": "2024-02-26T14:47:27.664Z"
   },
   {
    "duration": 65,
    "start_time": "2024-02-26T14:47:27.679Z"
   },
   {
    "duration": 0,
    "start_time": "2024-02-26T14:47:27.746Z"
   },
   {
    "duration": 0,
    "start_time": "2024-02-26T14:47:27.747Z"
   },
   {
    "duration": 0,
    "start_time": "2024-02-26T14:47:27.748Z"
   },
   {
    "duration": 0,
    "start_time": "2024-02-26T14:47:27.749Z"
   },
   {
    "duration": 0,
    "start_time": "2024-02-26T14:47:27.751Z"
   },
   {
    "duration": 0,
    "start_time": "2024-02-26T14:47:27.752Z"
   },
   {
    "duration": 0,
    "start_time": "2024-02-26T14:47:27.753Z"
   },
   {
    "duration": 0,
    "start_time": "2024-02-26T14:47:27.755Z"
   },
   {
    "duration": 0,
    "start_time": "2024-02-26T14:47:27.757Z"
   },
   {
    "duration": 0,
    "start_time": "2024-02-26T14:47:27.758Z"
   },
   {
    "duration": 0,
    "start_time": "2024-02-26T14:47:27.759Z"
   },
   {
    "duration": 0,
    "start_time": "2024-02-26T14:47:27.761Z"
   },
   {
    "duration": 0,
    "start_time": "2024-02-26T14:47:27.762Z"
   },
   {
    "duration": 0,
    "start_time": "2024-02-26T14:47:27.763Z"
   },
   {
    "duration": 0,
    "start_time": "2024-02-26T14:47:27.765Z"
   },
   {
    "duration": 0,
    "start_time": "2024-02-26T14:47:27.766Z"
   },
   {
    "duration": 2,
    "start_time": "2024-02-26T15:01:37.620Z"
   },
   {
    "duration": 128,
    "start_time": "2024-02-26T15:01:37.623Z"
   },
   {
    "duration": 8,
    "start_time": "2024-02-26T15:01:37.753Z"
   },
   {
    "duration": 42,
    "start_time": "2024-02-26T15:01:37.763Z"
   },
   {
    "duration": 27,
    "start_time": "2024-02-26T15:01:37.807Z"
   },
   {
    "duration": 55,
    "start_time": "2024-02-26T15:01:37.835Z"
   },
   {
    "duration": 2,
    "start_time": "2024-02-26T15:01:37.891Z"
   },
   {
    "duration": 35,
    "start_time": "2024-02-26T15:01:37.895Z"
   },
   {
    "duration": 23,
    "start_time": "2024-02-26T15:01:37.932Z"
   },
   {
    "duration": 39,
    "start_time": "2024-02-26T15:01:37.957Z"
   },
   {
    "duration": 28,
    "start_time": "2024-02-26T15:01:37.997Z"
   },
   {
    "duration": 34,
    "start_time": "2024-02-26T15:01:38.027Z"
   },
   {
    "duration": 25,
    "start_time": "2024-02-26T15:01:38.063Z"
   },
   {
    "duration": 35,
    "start_time": "2024-02-26T15:01:38.089Z"
   },
   {
    "duration": 14,
    "start_time": "2024-02-26T15:01:38.125Z"
   },
   {
    "duration": 30,
    "start_time": "2024-02-26T15:01:38.141Z"
   },
   {
    "duration": 38,
    "start_time": "2024-02-26T15:01:38.173Z"
   },
   {
    "duration": 27,
    "start_time": "2024-02-26T15:01:38.213Z"
   },
   {
    "duration": 41,
    "start_time": "2024-02-26T15:01:38.242Z"
   },
   {
    "duration": 26,
    "start_time": "2024-02-26T15:01:38.285Z"
   },
   {
    "duration": 30,
    "start_time": "2024-02-26T15:01:38.313Z"
   },
   {
    "duration": 63,
    "start_time": "2024-02-26T15:01:38.345Z"
   },
   {
    "duration": 2,
    "start_time": "2024-02-26T15:05:06.982Z"
   },
   {
    "duration": 100,
    "start_time": "2024-02-26T15:05:06.986Z"
   },
   {
    "duration": 7,
    "start_time": "2024-02-26T15:05:07.088Z"
   },
   {
    "duration": 27,
    "start_time": "2024-02-26T15:05:07.097Z"
   },
   {
    "duration": 41,
    "start_time": "2024-02-26T15:05:07.126Z"
   },
   {
    "duration": 53,
    "start_time": "2024-02-26T15:05:07.168Z"
   },
   {
    "duration": 2,
    "start_time": "2024-02-26T15:05:07.223Z"
   },
   {
    "duration": 28,
    "start_time": "2024-02-26T15:05:07.227Z"
   },
   {
    "duration": 30,
    "start_time": "2024-02-26T15:05:07.257Z"
   },
   {
    "duration": 30,
    "start_time": "2024-02-26T15:05:07.288Z"
   },
   {
    "duration": 41,
    "start_time": "2024-02-26T15:05:07.320Z"
   },
   {
    "duration": 9,
    "start_time": "2024-02-26T15:05:07.363Z"
   },
   {
    "duration": 27,
    "start_time": "2024-02-26T15:05:07.376Z"
   },
   {
    "duration": 38,
    "start_time": "2024-02-26T15:05:07.405Z"
   },
   {
    "duration": 30,
    "start_time": "2024-02-26T15:05:07.445Z"
   },
   {
    "duration": 26,
    "start_time": "2024-02-26T15:05:07.477Z"
   },
   {
    "duration": 19,
    "start_time": "2024-02-26T15:05:07.505Z"
   },
   {
    "duration": 51,
    "start_time": "2024-02-26T15:05:07.525Z"
   },
   {
    "duration": 34,
    "start_time": "2024-02-26T15:05:07.577Z"
   },
   {
    "duration": 27,
    "start_time": "2024-02-26T15:05:07.613Z"
   },
   {
    "duration": 20,
    "start_time": "2024-02-26T15:05:07.642Z"
   },
   {
    "duration": 26,
    "start_time": "2024-02-26T15:05:07.663Z"
   },
   {
    "duration": 3,
    "start_time": "2024-02-26T15:09:26.334Z"
   },
   {
    "duration": 98,
    "start_time": "2024-02-26T15:09:26.339Z"
   },
   {
    "duration": 9,
    "start_time": "2024-02-26T15:09:26.439Z"
   },
   {
    "duration": 30,
    "start_time": "2024-02-26T15:09:26.450Z"
   },
   {
    "duration": 14,
    "start_time": "2024-02-26T15:09:26.483Z"
   },
   {
    "duration": 47,
    "start_time": "2024-02-26T15:09:26.498Z"
   },
   {
    "duration": 3,
    "start_time": "2024-02-26T15:09:26.547Z"
   },
   {
    "duration": 14,
    "start_time": "2024-02-26T15:09:26.552Z"
   },
   {
    "duration": 24,
    "start_time": "2024-02-26T15:09:26.568Z"
   },
   {
    "duration": 6,
    "start_time": "2024-02-26T15:09:26.593Z"
   },
   {
    "duration": 9,
    "start_time": "2024-02-26T15:09:26.601Z"
   },
   {
    "duration": 7,
    "start_time": "2024-02-26T15:09:26.611Z"
   },
   {
    "duration": 4,
    "start_time": "2024-02-26T15:09:26.621Z"
   },
   {
    "duration": 22,
    "start_time": "2024-02-26T15:09:26.627Z"
   },
   {
    "duration": 9,
    "start_time": "2024-02-26T15:09:26.651Z"
   },
   {
    "duration": 6,
    "start_time": "2024-02-26T15:09:26.662Z"
   },
   {
    "duration": 10,
    "start_time": "2024-02-26T15:09:26.670Z"
   },
   {
    "duration": 11,
    "start_time": "2024-02-26T15:09:26.682Z"
   },
   {
    "duration": 6,
    "start_time": "2024-02-26T15:09:26.695Z"
   },
   {
    "duration": 10,
    "start_time": "2024-02-26T15:09:26.703Z"
   },
   {
    "duration": 14,
    "start_time": "2024-02-26T15:09:26.714Z"
   },
   {
    "duration": 7,
    "start_time": "2024-02-26T15:09:26.730Z"
   },
   {
    "duration": 3,
    "start_time": "2024-02-26T15:10:51.443Z"
   },
   {
    "duration": 90,
    "start_time": "2024-02-26T15:10:51.448Z"
   },
   {
    "duration": 8,
    "start_time": "2024-02-26T15:10:51.540Z"
   },
   {
    "duration": 23,
    "start_time": "2024-02-26T15:10:51.550Z"
   },
   {
    "duration": 20,
    "start_time": "2024-02-26T15:10:51.575Z"
   },
   {
    "duration": 39,
    "start_time": "2024-02-26T15:10:51.597Z"
   },
   {
    "duration": 4,
    "start_time": "2024-02-26T15:10:51.637Z"
   },
   {
    "duration": 89,
    "start_time": "2024-02-26T15:10:51.642Z"
   },
   {
    "duration": 0,
    "start_time": "2024-02-26T15:10:51.734Z"
   },
   {
    "duration": 0,
    "start_time": "2024-02-26T15:10:51.735Z"
   },
   {
    "duration": 0,
    "start_time": "2024-02-26T15:10:51.735Z"
   },
   {
    "duration": 0,
    "start_time": "2024-02-26T15:10:51.736Z"
   },
   {
    "duration": 0,
    "start_time": "2024-02-26T15:10:51.737Z"
   },
   {
    "duration": 0,
    "start_time": "2024-02-26T15:10:51.738Z"
   },
   {
    "duration": 0,
    "start_time": "2024-02-26T15:10:51.739Z"
   },
   {
    "duration": 0,
    "start_time": "2024-02-26T15:10:51.740Z"
   },
   {
    "duration": 0,
    "start_time": "2024-02-26T15:10:51.741Z"
   },
   {
    "duration": 0,
    "start_time": "2024-02-26T15:10:51.742Z"
   },
   {
    "duration": 0,
    "start_time": "2024-02-26T15:10:51.743Z"
   },
   {
    "duration": 0,
    "start_time": "2024-02-26T15:10:51.744Z"
   },
   {
    "duration": 0,
    "start_time": "2024-02-26T15:10:51.745Z"
   },
   {
    "duration": 0,
    "start_time": "2024-02-26T15:10:51.746Z"
   },
   {
    "duration": 3,
    "start_time": "2024-02-26T15:13:28.544Z"
   },
   {
    "duration": 86,
    "start_time": "2024-02-26T15:13:28.549Z"
   },
   {
    "duration": 8,
    "start_time": "2024-02-26T15:13:28.636Z"
   },
   {
    "duration": 19,
    "start_time": "2024-02-26T15:13:28.646Z"
   },
   {
    "duration": 16,
    "start_time": "2024-02-26T15:13:28.667Z"
   },
   {
    "duration": 47,
    "start_time": "2024-02-26T15:13:28.685Z"
   },
   {
    "duration": 4,
    "start_time": "2024-02-26T15:13:28.733Z"
   },
   {
    "duration": 32,
    "start_time": "2024-02-26T15:13:28.738Z"
   },
   {
    "duration": 0,
    "start_time": "2024-02-26T15:13:28.771Z"
   },
   {
    "duration": 0,
    "start_time": "2024-02-26T15:13:28.772Z"
   },
   {
    "duration": 0,
    "start_time": "2024-02-26T15:13:28.774Z"
   },
   {
    "duration": 0,
    "start_time": "2024-02-26T15:13:28.774Z"
   },
   {
    "duration": 0,
    "start_time": "2024-02-26T15:13:28.776Z"
   },
   {
    "duration": 0,
    "start_time": "2024-02-26T15:13:28.777Z"
   },
   {
    "duration": 0,
    "start_time": "2024-02-26T15:13:28.778Z"
   },
   {
    "duration": 0,
    "start_time": "2024-02-26T15:13:28.779Z"
   },
   {
    "duration": 0,
    "start_time": "2024-02-26T15:13:28.780Z"
   },
   {
    "duration": 0,
    "start_time": "2024-02-26T15:13:28.781Z"
   },
   {
    "duration": 0,
    "start_time": "2024-02-26T15:13:28.782Z"
   },
   {
    "duration": 0,
    "start_time": "2024-02-26T15:13:28.783Z"
   },
   {
    "duration": 0,
    "start_time": "2024-02-26T15:13:28.784Z"
   },
   {
    "duration": 1,
    "start_time": "2024-02-26T15:13:28.785Z"
   },
   {
    "duration": 2,
    "start_time": "2024-02-26T15:13:57.711Z"
   },
   {
    "duration": 109,
    "start_time": "2024-02-26T15:13:57.715Z"
   },
   {
    "duration": 8,
    "start_time": "2024-02-26T15:13:57.825Z"
   },
   {
    "duration": 19,
    "start_time": "2024-02-26T15:13:57.835Z"
   },
   {
    "duration": 28,
    "start_time": "2024-02-26T15:13:57.856Z"
   },
   {
    "duration": 34,
    "start_time": "2024-02-26T15:13:57.885Z"
   },
   {
    "duration": 4,
    "start_time": "2024-02-26T15:13:57.920Z"
   },
   {
    "duration": 21,
    "start_time": "2024-02-26T15:13:57.925Z"
   },
   {
    "duration": 0,
    "start_time": "2024-02-26T15:13:57.948Z"
   },
   {
    "duration": 0,
    "start_time": "2024-02-26T15:13:57.950Z"
   },
   {
    "duration": 0,
    "start_time": "2024-02-26T15:13:57.951Z"
   },
   {
    "duration": 0,
    "start_time": "2024-02-26T15:13:57.953Z"
   },
   {
    "duration": 0,
    "start_time": "2024-02-26T15:13:57.954Z"
   },
   {
    "duration": 0,
    "start_time": "2024-02-26T15:13:57.954Z"
   },
   {
    "duration": 0,
    "start_time": "2024-02-26T15:13:57.966Z"
   },
   {
    "duration": 0,
    "start_time": "2024-02-26T15:13:57.967Z"
   },
   {
    "duration": 0,
    "start_time": "2024-02-26T15:13:57.968Z"
   },
   {
    "duration": 0,
    "start_time": "2024-02-26T15:13:57.971Z"
   },
   {
    "duration": 0,
    "start_time": "2024-02-26T15:13:57.973Z"
   },
   {
    "duration": 0,
    "start_time": "2024-02-26T15:13:57.974Z"
   },
   {
    "duration": 0,
    "start_time": "2024-02-26T15:13:57.975Z"
   },
   {
    "duration": 0,
    "start_time": "2024-02-26T15:13:57.977Z"
   },
   {
    "duration": 2,
    "start_time": "2024-02-26T15:14:40.387Z"
   },
   {
    "duration": 81,
    "start_time": "2024-02-26T15:14:40.391Z"
   },
   {
    "duration": 8,
    "start_time": "2024-02-26T15:14:40.473Z"
   },
   {
    "duration": 21,
    "start_time": "2024-02-26T15:14:40.483Z"
   },
   {
    "duration": 10,
    "start_time": "2024-02-26T15:14:40.506Z"
   },
   {
    "duration": 47,
    "start_time": "2024-02-26T15:14:40.518Z"
   },
   {
    "duration": 3,
    "start_time": "2024-02-26T15:14:40.567Z"
   },
   {
    "duration": 28,
    "start_time": "2024-02-26T15:14:40.572Z"
   },
   {
    "duration": 0,
    "start_time": "2024-02-26T15:14:40.602Z"
   },
   {
    "duration": 0,
    "start_time": "2024-02-26T15:14:40.603Z"
   },
   {
    "duration": 0,
    "start_time": "2024-02-26T15:14:40.604Z"
   },
   {
    "duration": 0,
    "start_time": "2024-02-26T15:14:40.605Z"
   },
   {
    "duration": 0,
    "start_time": "2024-02-26T15:14:40.607Z"
   },
   {
    "duration": 0,
    "start_time": "2024-02-26T15:14:40.608Z"
   },
   {
    "duration": 0,
    "start_time": "2024-02-26T15:14:40.609Z"
   },
   {
    "duration": 0,
    "start_time": "2024-02-26T15:14:40.610Z"
   },
   {
    "duration": 0,
    "start_time": "2024-02-26T15:14:40.612Z"
   },
   {
    "duration": 0,
    "start_time": "2024-02-26T15:14:40.613Z"
   },
   {
    "duration": 1,
    "start_time": "2024-02-26T15:14:40.614Z"
   },
   {
    "duration": 0,
    "start_time": "2024-02-26T15:14:40.616Z"
   },
   {
    "duration": 0,
    "start_time": "2024-02-26T15:14:40.618Z"
   },
   {
    "duration": 0,
    "start_time": "2024-02-26T15:14:40.619Z"
   },
   {
    "duration": 3,
    "start_time": "2024-02-26T15:15:00.562Z"
   },
   {
    "duration": 165,
    "start_time": "2024-02-26T15:15:00.566Z"
   },
   {
    "duration": 8,
    "start_time": "2024-02-26T15:15:00.733Z"
   },
   {
    "duration": 86,
    "start_time": "2024-02-26T15:15:00.743Z"
   },
   {
    "duration": 82,
    "start_time": "2024-02-26T15:15:00.831Z"
   },
   {
    "duration": 94,
    "start_time": "2024-02-26T15:15:00.915Z"
   },
   {
    "duration": 40,
    "start_time": "2024-02-26T15:15:01.010Z"
   },
   {
    "duration": 60,
    "start_time": "2024-02-26T15:15:01.051Z"
   },
   {
    "duration": 40,
    "start_time": "2024-02-26T15:15:01.113Z"
   },
   {
    "duration": 111,
    "start_time": "2024-02-26T15:15:01.155Z"
   },
   {
    "duration": 123,
    "start_time": "2024-02-26T15:15:01.268Z"
   },
   {
    "duration": 105,
    "start_time": "2024-02-26T15:15:01.393Z"
   },
   {
    "duration": 69,
    "start_time": "2024-02-26T15:15:01.500Z"
   },
   {
    "duration": 81,
    "start_time": "2024-02-26T15:15:01.571Z"
   },
   {
    "duration": 61,
    "start_time": "2024-02-26T15:15:01.654Z"
   },
   {
    "duration": 40,
    "start_time": "2024-02-26T15:15:01.717Z"
   },
   {
    "duration": 58,
    "start_time": "2024-02-26T15:15:01.759Z"
   },
   {
    "duration": 205,
    "start_time": "2024-02-26T15:15:01.818Z"
   },
   {
    "duration": 115,
    "start_time": "2024-02-26T15:15:02.024Z"
   },
   {
    "duration": 67,
    "start_time": "2024-02-26T15:15:02.140Z"
   },
   {
    "duration": 48,
    "start_time": "2024-02-26T15:15:02.208Z"
   },
   {
    "duration": 41,
    "start_time": "2024-02-26T15:15:02.257Z"
   },
   {
    "duration": 3,
    "start_time": "2024-02-26T15:16:53.699Z"
   },
   {
    "duration": 108,
    "start_time": "2024-02-26T15:16:53.704Z"
   },
   {
    "duration": 8,
    "start_time": "2024-02-26T15:16:53.813Z"
   },
   {
    "duration": 39,
    "start_time": "2024-02-26T15:16:53.823Z"
   },
   {
    "duration": 33,
    "start_time": "2024-02-26T15:16:53.864Z"
   },
   {
    "duration": 51,
    "start_time": "2024-02-26T15:16:53.899Z"
   },
   {
    "duration": 4,
    "start_time": "2024-02-26T15:16:53.951Z"
   },
   {
    "duration": 33,
    "start_time": "2024-02-26T15:16:53.956Z"
   },
   {
    "duration": 18,
    "start_time": "2024-02-26T15:16:53.991Z"
   },
   {
    "duration": 24,
    "start_time": "2024-02-26T15:16:54.010Z"
   },
   {
    "duration": 29,
    "start_time": "2024-02-26T15:16:54.035Z"
   },
   {
    "duration": 32,
    "start_time": "2024-02-26T15:16:54.066Z"
   },
   {
    "duration": 28,
    "start_time": "2024-02-26T15:16:54.101Z"
   },
   {
    "duration": 32,
    "start_time": "2024-02-26T15:16:54.131Z"
   },
   {
    "duration": 34,
    "start_time": "2024-02-26T15:16:54.164Z"
   },
   {
    "duration": 28,
    "start_time": "2024-02-26T15:16:54.201Z"
   },
   {
    "duration": 27,
    "start_time": "2024-02-26T15:16:54.231Z"
   },
   {
    "duration": 23,
    "start_time": "2024-02-26T15:16:54.259Z"
   },
   {
    "duration": 29,
    "start_time": "2024-02-26T15:16:54.283Z"
   },
   {
    "duration": 31,
    "start_time": "2024-02-26T15:16:54.313Z"
   },
   {
    "duration": 31,
    "start_time": "2024-02-26T15:16:54.346Z"
   },
   {
    "duration": 20,
    "start_time": "2024-02-26T15:16:54.380Z"
   },
   {
    "duration": 2,
    "start_time": "2024-02-26T15:20:53.555Z"
   },
   {
    "duration": 78,
    "start_time": "2024-02-26T15:20:53.559Z"
   },
   {
    "duration": 8,
    "start_time": "2024-02-26T15:20:53.638Z"
   },
   {
    "duration": 26,
    "start_time": "2024-02-26T15:20:53.647Z"
   },
   {
    "duration": 11,
    "start_time": "2024-02-26T15:20:53.676Z"
   },
   {
    "duration": 41,
    "start_time": "2024-02-26T15:20:53.689Z"
   },
   {
    "duration": 4,
    "start_time": "2024-02-26T15:20:53.731Z"
   },
   {
    "duration": 29,
    "start_time": "2024-02-26T15:20:53.737Z"
   },
   {
    "duration": 9,
    "start_time": "2024-02-26T15:20:53.768Z"
   },
   {
    "duration": 76,
    "start_time": "2024-02-26T15:20:53.778Z"
   },
   {
    "duration": 32,
    "start_time": "2024-02-26T15:20:53.855Z"
   },
   {
    "duration": 5,
    "start_time": "2024-02-26T15:20:53.889Z"
   },
   {
    "duration": 14,
    "start_time": "2024-02-26T15:20:53.895Z"
   },
   {
    "duration": 7,
    "start_time": "2024-02-26T15:20:53.912Z"
   },
   {
    "duration": 4,
    "start_time": "2024-02-26T15:20:53.921Z"
   },
   {
    "duration": 5,
    "start_time": "2024-02-26T15:20:53.926Z"
   },
   {
    "duration": 4,
    "start_time": "2024-02-26T15:20:53.933Z"
   },
   {
    "duration": 6,
    "start_time": "2024-02-26T15:20:53.939Z"
   },
   {
    "duration": 5,
    "start_time": "2024-02-26T15:20:53.946Z"
   },
   {
    "duration": 6,
    "start_time": "2024-02-26T15:20:53.952Z"
   },
   {
    "duration": 10,
    "start_time": "2024-02-26T15:20:53.959Z"
   },
   {
    "duration": 5,
    "start_time": "2024-02-26T15:20:53.971Z"
   },
   {
    "duration": 2,
    "start_time": "2024-02-26T15:21:39.556Z"
   },
   {
    "duration": 92,
    "start_time": "2024-02-26T15:21:39.560Z"
   },
   {
    "duration": 8,
    "start_time": "2024-02-26T15:21:39.654Z"
   },
   {
    "duration": 19,
    "start_time": "2024-02-26T15:21:39.663Z"
   },
   {
    "duration": 26,
    "start_time": "2024-02-26T15:21:39.684Z"
   },
   {
    "duration": 51,
    "start_time": "2024-02-26T15:21:39.712Z"
   },
   {
    "duration": 3,
    "start_time": "2024-02-26T15:21:39.765Z"
   },
   {
    "duration": 25,
    "start_time": "2024-02-26T15:21:39.769Z"
   },
   {
    "duration": 4,
    "start_time": "2024-02-26T15:21:39.795Z"
   },
   {
    "duration": 15,
    "start_time": "2024-02-26T15:21:39.801Z"
   },
   {
    "duration": 12,
    "start_time": "2024-02-26T15:21:39.817Z"
   },
   {
    "duration": 0,
    "start_time": "2024-02-26T15:21:39.830Z"
   },
   {
    "duration": 0,
    "start_time": "2024-02-26T15:21:39.871Z"
   },
   {
    "duration": 0,
    "start_time": "2024-02-26T15:21:39.873Z"
   },
   {
    "duration": 0,
    "start_time": "2024-02-26T15:21:39.874Z"
   },
   {
    "duration": 0,
    "start_time": "2024-02-26T15:21:39.875Z"
   },
   {
    "duration": 0,
    "start_time": "2024-02-26T15:21:39.876Z"
   },
   {
    "duration": 0,
    "start_time": "2024-02-26T15:21:39.877Z"
   },
   {
    "duration": 0,
    "start_time": "2024-02-26T15:21:39.878Z"
   },
   {
    "duration": 0,
    "start_time": "2024-02-26T15:21:39.879Z"
   },
   {
    "duration": 0,
    "start_time": "2024-02-26T15:21:39.880Z"
   },
   {
    "duration": 0,
    "start_time": "2024-02-26T15:21:39.881Z"
   },
   {
    "duration": 9,
    "start_time": "2024-02-26T15:22:21.653Z"
   },
   {
    "duration": 3,
    "start_time": "2024-02-26T15:22:25.401Z"
   },
   {
    "duration": 94,
    "start_time": "2024-02-26T15:22:25.406Z"
   },
   {
    "duration": 8,
    "start_time": "2024-02-26T15:22:25.501Z"
   },
   {
    "duration": 16,
    "start_time": "2024-02-26T15:22:25.511Z"
   },
   {
    "duration": 11,
    "start_time": "2024-02-26T15:22:25.529Z"
   },
   {
    "duration": 47,
    "start_time": "2024-02-26T15:22:25.541Z"
   },
   {
    "duration": 3,
    "start_time": "2024-02-26T15:22:25.589Z"
   },
   {
    "duration": 18,
    "start_time": "2024-02-26T15:22:25.594Z"
   },
   {
    "duration": 4,
    "start_time": "2024-02-26T15:22:25.613Z"
   },
   {
    "duration": 8,
    "start_time": "2024-02-26T15:22:25.618Z"
   },
   {
    "duration": 16,
    "start_time": "2024-02-26T15:22:25.627Z"
   },
   {
    "duration": 0,
    "start_time": "2024-02-26T15:22:25.645Z"
   },
   {
    "duration": 0,
    "start_time": "2024-02-26T15:22:25.646Z"
   },
   {
    "duration": 0,
    "start_time": "2024-02-26T15:22:25.647Z"
   },
   {
    "duration": 0,
    "start_time": "2024-02-26T15:22:25.648Z"
   },
   {
    "duration": 0,
    "start_time": "2024-02-26T15:22:25.649Z"
   },
   {
    "duration": 0,
    "start_time": "2024-02-26T15:22:25.666Z"
   },
   {
    "duration": 0,
    "start_time": "2024-02-26T15:22:25.667Z"
   },
   {
    "duration": 0,
    "start_time": "2024-02-26T15:22:25.668Z"
   },
   {
    "duration": 0,
    "start_time": "2024-02-26T15:22:25.669Z"
   },
   {
    "duration": 0,
    "start_time": "2024-02-26T15:22:25.671Z"
   },
   {
    "duration": 0,
    "start_time": "2024-02-26T15:22:25.671Z"
   },
   {
    "duration": 2,
    "start_time": "2024-02-26T15:22:55.683Z"
   },
   {
    "duration": 104,
    "start_time": "2024-02-26T15:22:55.693Z"
   },
   {
    "duration": 8,
    "start_time": "2024-02-26T15:22:55.798Z"
   },
   {
    "duration": 54,
    "start_time": "2024-02-26T15:22:55.808Z"
   },
   {
    "duration": 25,
    "start_time": "2024-02-26T15:22:55.864Z"
   },
   {
    "duration": 88,
    "start_time": "2024-02-26T15:22:55.892Z"
   },
   {
    "duration": 3,
    "start_time": "2024-02-26T15:22:55.981Z"
   },
   {
    "duration": 24,
    "start_time": "2024-02-26T15:22:55.985Z"
   },
   {
    "duration": 28,
    "start_time": "2024-02-26T15:22:56.011Z"
   },
   {
    "duration": 29,
    "start_time": "2024-02-26T15:22:56.040Z"
   },
   {
    "duration": 40,
    "start_time": "2024-02-26T15:22:56.071Z"
   },
   {
    "duration": 24,
    "start_time": "2024-02-26T15:22:56.113Z"
   },
   {
    "duration": 34,
    "start_time": "2024-02-26T15:22:56.139Z"
   },
   {
    "duration": 33,
    "start_time": "2024-02-26T15:22:56.175Z"
   },
   {
    "duration": 26,
    "start_time": "2024-02-26T15:22:56.211Z"
   },
   {
    "duration": 32,
    "start_time": "2024-02-26T15:22:56.239Z"
   },
   {
    "duration": 35,
    "start_time": "2024-02-26T15:22:56.273Z"
   },
   {
    "duration": 55,
    "start_time": "2024-02-26T15:22:56.309Z"
   },
   {
    "duration": 31,
    "start_time": "2024-02-26T15:22:56.366Z"
   },
   {
    "duration": 29,
    "start_time": "2024-02-26T15:22:56.399Z"
   },
   {
    "duration": 30,
    "start_time": "2024-02-26T15:22:56.430Z"
   },
   {
    "duration": 27,
    "start_time": "2024-02-26T15:22:56.462Z"
   },
   {
    "duration": 3,
    "start_time": "2024-02-26T15:23:33.752Z"
   },
   {
    "duration": 110,
    "start_time": "2024-02-26T15:23:33.757Z"
   },
   {
    "duration": 8,
    "start_time": "2024-02-26T15:23:33.869Z"
   },
   {
    "duration": 74,
    "start_time": "2024-02-26T15:23:33.878Z"
   },
   {
    "duration": 11,
    "start_time": "2024-02-26T15:23:33.954Z"
   },
   {
    "duration": 80,
    "start_time": "2024-02-26T15:23:33.966Z"
   },
   {
    "duration": 9,
    "start_time": "2024-02-26T15:23:34.047Z"
   },
   {
    "duration": 24,
    "start_time": "2024-02-26T15:23:34.058Z"
   },
   {
    "duration": 36,
    "start_time": "2024-02-26T15:23:34.085Z"
   },
   {
    "duration": 37,
    "start_time": "2024-02-26T15:23:34.123Z"
   },
   {
    "duration": 54,
    "start_time": "2024-02-26T15:23:34.162Z"
   },
   {
    "duration": 26,
    "start_time": "2024-02-26T15:23:34.218Z"
   },
   {
    "duration": 31,
    "start_time": "2024-02-26T15:23:34.245Z"
   },
   {
    "duration": 15,
    "start_time": "2024-02-26T15:23:34.279Z"
   },
   {
    "duration": 55,
    "start_time": "2024-02-26T15:23:34.296Z"
   },
   {
    "duration": 29,
    "start_time": "2024-02-26T15:23:34.353Z"
   },
   {
    "duration": 12,
    "start_time": "2024-02-26T15:23:34.384Z"
   },
   {
    "duration": 5,
    "start_time": "2024-02-26T15:23:34.398Z"
   },
   {
    "duration": 14,
    "start_time": "2024-02-26T15:23:34.405Z"
   },
   {
    "duration": 7,
    "start_time": "2024-02-26T15:23:34.421Z"
   },
   {
    "duration": 14,
    "start_time": "2024-02-26T15:23:34.430Z"
   },
   {
    "duration": 12,
    "start_time": "2024-02-26T15:23:34.446Z"
   },
   {
    "duration": 2,
    "start_time": "2024-02-26T15:25:24.773Z"
   },
   {
    "duration": 88,
    "start_time": "2024-02-26T15:25:24.777Z"
   },
   {
    "duration": 9,
    "start_time": "2024-02-26T15:25:24.866Z"
   },
   {
    "duration": 17,
    "start_time": "2024-02-26T15:25:24.876Z"
   },
   {
    "duration": 10,
    "start_time": "2024-02-26T15:25:24.895Z"
   },
   {
    "duration": 45,
    "start_time": "2024-02-26T15:25:24.907Z"
   },
   {
    "duration": 13,
    "start_time": "2024-02-26T15:25:24.954Z"
   },
   {
    "duration": 12,
    "start_time": "2024-02-26T15:25:24.969Z"
   },
   {
    "duration": 5,
    "start_time": "2024-02-26T15:25:24.983Z"
   },
   {
    "duration": 7,
    "start_time": "2024-02-26T15:25:24.990Z"
   },
   {
    "duration": 6,
    "start_time": "2024-02-26T15:25:24.998Z"
   },
   {
    "duration": 37,
    "start_time": "2024-02-26T15:25:25.005Z"
   },
   {
    "duration": 23,
    "start_time": "2024-02-26T15:25:25.043Z"
   },
   {
    "duration": 5,
    "start_time": "2024-02-26T15:25:25.068Z"
   },
   {
    "duration": 6,
    "start_time": "2024-02-26T15:25:25.074Z"
   },
   {
    "duration": 5,
    "start_time": "2024-02-26T15:25:25.082Z"
   },
   {
    "duration": 12,
    "start_time": "2024-02-26T15:25:25.088Z"
   },
   {
    "duration": 7,
    "start_time": "2024-02-26T15:25:25.101Z"
   },
   {
    "duration": 5,
    "start_time": "2024-02-26T15:25:25.109Z"
   },
   {
    "duration": 10,
    "start_time": "2024-02-26T15:25:25.116Z"
   },
   {
    "duration": 5,
    "start_time": "2024-02-26T15:25:25.127Z"
   },
   {
    "duration": 4,
    "start_time": "2024-02-26T15:25:25.134Z"
   },
   {
    "duration": 2,
    "start_time": "2024-02-26T15:26:01.173Z"
   },
   {
    "duration": 148,
    "start_time": "2024-02-26T15:26:01.177Z"
   },
   {
    "duration": 8,
    "start_time": "2024-02-26T15:26:01.327Z"
   },
   {
    "duration": 56,
    "start_time": "2024-02-26T15:26:01.336Z"
   },
   {
    "duration": 60,
    "start_time": "2024-02-26T15:26:01.394Z"
   },
   {
    "duration": 89,
    "start_time": "2024-02-26T15:26:01.456Z"
   },
   {
    "duration": 46,
    "start_time": "2024-02-26T15:26:01.547Z"
   },
   {
    "duration": 50,
    "start_time": "2024-02-26T15:26:01.595Z"
   },
   {
    "duration": 29,
    "start_time": "2024-02-26T15:26:01.646Z"
   },
   {
    "duration": 32,
    "start_time": "2024-02-26T15:26:01.676Z"
   },
   {
    "duration": 20,
    "start_time": "2024-02-26T15:26:01.710Z"
   },
   {
    "duration": 71,
    "start_time": "2024-02-26T15:26:01.732Z"
   },
   {
    "duration": 12,
    "start_time": "2024-02-26T15:26:01.805Z"
   },
   {
    "duration": 28,
    "start_time": "2024-02-26T15:26:01.819Z"
   },
   {
    "duration": 54,
    "start_time": "2024-02-26T15:26:01.848Z"
   },
   {
    "duration": 55,
    "start_time": "2024-02-26T15:26:01.904Z"
   },
   {
    "duration": 35,
    "start_time": "2024-02-26T15:26:01.960Z"
   },
   {
    "duration": 35,
    "start_time": "2024-02-26T15:26:01.997Z"
   },
   {
    "duration": 29,
    "start_time": "2024-02-26T15:26:02.033Z"
   },
   {
    "duration": 29,
    "start_time": "2024-02-26T15:26:02.063Z"
   },
   {
    "duration": 28,
    "start_time": "2024-02-26T15:26:02.093Z"
   },
   {
    "duration": 77,
    "start_time": "2024-02-26T15:26:02.122Z"
   },
   {
    "duration": 2,
    "start_time": "2024-02-26T15:28:47.446Z"
   },
   {
    "duration": 97,
    "start_time": "2024-02-26T15:28:47.450Z"
   },
   {
    "duration": 9,
    "start_time": "2024-02-26T15:28:47.548Z"
   },
   {
    "duration": 51,
    "start_time": "2024-02-26T15:28:47.558Z"
   },
   {
    "duration": 11,
    "start_time": "2024-02-26T15:28:47.611Z"
   },
   {
    "duration": 40,
    "start_time": "2024-02-26T15:28:47.623Z"
   },
   {
    "duration": 3,
    "start_time": "2024-02-26T15:28:47.664Z"
   },
   {
    "duration": 12,
    "start_time": "2024-02-26T15:28:47.668Z"
   },
   {
    "duration": 6,
    "start_time": "2024-02-26T15:28:47.681Z"
   },
   {
    "duration": 16,
    "start_time": "2024-02-26T15:28:47.689Z"
   },
   {
    "duration": 5,
    "start_time": "2024-02-26T15:28:47.706Z"
   },
   {
    "duration": 37,
    "start_time": "2024-02-26T15:28:47.712Z"
   },
   {
    "duration": 21,
    "start_time": "2024-02-26T15:28:47.751Z"
   },
   {
    "duration": 12,
    "start_time": "2024-02-26T15:28:47.774Z"
   },
   {
    "duration": 0,
    "start_time": "2024-02-26T15:28:47.787Z"
   },
   {
    "duration": 0,
    "start_time": "2024-02-26T15:28:47.788Z"
   },
   {
    "duration": 0,
    "start_time": "2024-02-26T15:28:47.789Z"
   },
   {
    "duration": 0,
    "start_time": "2024-02-26T15:28:47.790Z"
   },
   {
    "duration": 0,
    "start_time": "2024-02-26T15:28:47.791Z"
   },
   {
    "duration": 0,
    "start_time": "2024-02-26T15:28:47.792Z"
   },
   {
    "duration": 0,
    "start_time": "2024-02-26T15:28:47.793Z"
   },
   {
    "duration": 0,
    "start_time": "2024-02-26T15:28:47.794Z"
   },
   {
    "duration": 3,
    "start_time": "2024-02-26T15:29:22.606Z"
   },
   {
    "duration": 102,
    "start_time": "2024-02-26T15:29:22.611Z"
   },
   {
    "duration": 8,
    "start_time": "2024-02-26T15:29:22.715Z"
   },
   {
    "duration": 42,
    "start_time": "2024-02-26T15:29:22.725Z"
   },
   {
    "duration": 39,
    "start_time": "2024-02-26T15:29:22.770Z"
   },
   {
    "duration": 62,
    "start_time": "2024-02-26T15:29:22.810Z"
   },
   {
    "duration": 4,
    "start_time": "2024-02-26T15:29:22.874Z"
   },
   {
    "duration": 21,
    "start_time": "2024-02-26T15:29:22.879Z"
   },
   {
    "duration": 28,
    "start_time": "2024-02-26T15:29:22.902Z"
   },
   {
    "duration": 25,
    "start_time": "2024-02-26T15:29:22.932Z"
   },
   {
    "duration": 46,
    "start_time": "2024-02-26T15:29:22.959Z"
   },
   {
    "duration": 80,
    "start_time": "2024-02-26T15:29:23.007Z"
   },
   {
    "duration": 10,
    "start_time": "2024-02-26T15:29:23.090Z"
   },
   {
    "duration": 42,
    "start_time": "2024-02-26T15:29:23.102Z"
   },
   {
    "duration": 0,
    "start_time": "2024-02-26T15:29:23.145Z"
   },
   {
    "duration": 0,
    "start_time": "2024-02-26T15:29:23.146Z"
   },
   {
    "duration": 0,
    "start_time": "2024-02-26T15:29:23.147Z"
   },
   {
    "duration": 0,
    "start_time": "2024-02-26T15:29:23.149Z"
   },
   {
    "duration": 0,
    "start_time": "2024-02-26T15:29:23.150Z"
   },
   {
    "duration": 0,
    "start_time": "2024-02-26T15:29:23.151Z"
   },
   {
    "duration": 0,
    "start_time": "2024-02-26T15:29:23.152Z"
   },
   {
    "duration": 0,
    "start_time": "2024-02-26T15:29:23.154Z"
   },
   {
    "duration": 3,
    "start_time": "2024-02-26T15:29:55.003Z"
   },
   {
    "duration": 110,
    "start_time": "2024-02-26T15:29:55.008Z"
   },
   {
    "duration": 9,
    "start_time": "2024-02-26T15:29:55.120Z"
   },
   {
    "duration": 36,
    "start_time": "2024-02-26T15:29:55.131Z"
   },
   {
    "duration": 16,
    "start_time": "2024-02-26T15:29:55.169Z"
   },
   {
    "duration": 50,
    "start_time": "2024-02-26T15:29:55.187Z"
   },
   {
    "duration": 3,
    "start_time": "2024-02-26T15:29:55.239Z"
   },
   {
    "duration": 10,
    "start_time": "2024-02-26T15:29:55.264Z"
   },
   {
    "duration": 17,
    "start_time": "2024-02-26T15:29:55.276Z"
   },
   {
    "duration": 19,
    "start_time": "2024-02-26T15:29:55.295Z"
   },
   {
    "duration": 7,
    "start_time": "2024-02-26T15:29:55.315Z"
   },
   {
    "duration": 51,
    "start_time": "2024-02-26T15:29:55.323Z"
   },
   {
    "duration": 15,
    "start_time": "2024-02-26T15:29:55.376Z"
   },
   {
    "duration": 19,
    "start_time": "2024-02-26T15:29:55.393Z"
   },
   {
    "duration": 4,
    "start_time": "2024-02-26T15:29:55.414Z"
   },
   {
    "duration": 5,
    "start_time": "2024-02-26T15:29:55.420Z"
   },
   {
    "duration": 6,
    "start_time": "2024-02-26T15:29:55.426Z"
   },
   {
    "duration": 6,
    "start_time": "2024-02-26T15:29:55.433Z"
   },
   {
    "duration": 6,
    "start_time": "2024-02-26T15:29:55.441Z"
   },
   {
    "duration": 21,
    "start_time": "2024-02-26T15:29:55.448Z"
   },
   {
    "duration": 33,
    "start_time": "2024-02-26T15:29:55.470Z"
   },
   {
    "duration": 9,
    "start_time": "2024-02-26T15:29:55.505Z"
   },
   {
    "duration": 3,
    "start_time": "2024-02-26T15:39:19.691Z"
   },
   {
    "duration": 105,
    "start_time": "2024-02-26T15:39:19.696Z"
   },
   {
    "duration": 8,
    "start_time": "2024-02-26T15:39:19.803Z"
   },
   {
    "duration": 19,
    "start_time": "2024-02-26T15:39:19.812Z"
   },
   {
    "duration": 10,
    "start_time": "2024-02-26T15:39:19.834Z"
   },
   {
    "duration": 56,
    "start_time": "2024-02-26T15:39:19.846Z"
   },
   {
    "duration": 5,
    "start_time": "2024-02-26T15:39:19.904Z"
   },
   {
    "duration": 10,
    "start_time": "2024-02-26T15:39:19.911Z"
   },
   {
    "duration": 9,
    "start_time": "2024-02-26T15:39:19.922Z"
   },
   {
    "duration": 12,
    "start_time": "2024-02-26T15:39:19.932Z"
   },
   {
    "duration": 29,
    "start_time": "2024-02-26T15:39:19.946Z"
   },
   {
    "duration": 38,
    "start_time": "2024-02-26T15:39:19.976Z"
   },
   {
    "duration": 10,
    "start_time": "2024-02-26T15:39:20.016Z"
   },
   {
    "duration": 10,
    "start_time": "2024-02-26T15:39:20.027Z"
   },
   {
    "duration": 14,
    "start_time": "2024-02-26T15:39:20.038Z"
   },
   {
    "duration": 20,
    "start_time": "2024-02-26T15:39:20.054Z"
   },
   {
    "duration": 28,
    "start_time": "2024-02-26T15:39:20.076Z"
   },
   {
    "duration": 16,
    "start_time": "2024-02-26T15:39:20.105Z"
   },
   {
    "duration": 6,
    "start_time": "2024-02-26T15:39:20.123Z"
   },
   {
    "duration": 38,
    "start_time": "2024-02-26T15:39:20.131Z"
   },
   {
    "duration": 21,
    "start_time": "2024-02-26T15:39:20.174Z"
   },
   {
    "duration": 9,
    "start_time": "2024-02-26T15:39:20.200Z"
   },
   {
    "duration": 5,
    "start_time": "2024-02-26T15:40:09.464Z"
   },
   {
    "duration": 101,
    "start_time": "2024-02-26T15:40:09.472Z"
   },
   {
    "duration": 9,
    "start_time": "2024-02-26T15:40:09.575Z"
   },
   {
    "duration": 52,
    "start_time": "2024-02-26T15:40:09.585Z"
   },
   {
    "duration": 24,
    "start_time": "2024-02-26T15:40:09.639Z"
   },
   {
    "duration": 66,
    "start_time": "2024-02-26T15:40:09.664Z"
   },
   {
    "duration": 3,
    "start_time": "2024-02-26T15:40:09.732Z"
   },
   {
    "duration": 50,
    "start_time": "2024-02-26T15:40:09.736Z"
   },
   {
    "duration": 20,
    "start_time": "2024-02-26T15:40:09.788Z"
   },
   {
    "duration": 20,
    "start_time": "2024-02-26T15:40:09.809Z"
   },
   {
    "duration": 51,
    "start_time": "2024-02-26T15:40:09.830Z"
   },
   {
    "duration": 50,
    "start_time": "2024-02-26T15:40:09.883Z"
   },
   {
    "duration": 11,
    "start_time": "2024-02-26T15:40:09.935Z"
   },
   {
    "duration": 21,
    "start_time": "2024-02-26T15:40:09.948Z"
   },
   {
    "duration": 48,
    "start_time": "2024-02-26T15:40:09.970Z"
   },
   {
    "duration": 75,
    "start_time": "2024-02-26T15:40:10.020Z"
   },
   {
    "duration": 37,
    "start_time": "2024-02-26T15:40:10.096Z"
   },
   {
    "duration": 47,
    "start_time": "2024-02-26T15:40:10.135Z"
   },
   {
    "duration": 47,
    "start_time": "2024-02-26T15:40:10.184Z"
   },
   {
    "duration": 53,
    "start_time": "2024-02-26T15:40:10.233Z"
   },
   {
    "duration": 46,
    "start_time": "2024-02-26T15:40:10.288Z"
   },
   {
    "duration": 41,
    "start_time": "2024-02-26T15:40:10.336Z"
   },
   {
    "duration": 3,
    "start_time": "2024-02-26T15:40:44.412Z"
   },
   {
    "duration": 101,
    "start_time": "2024-02-26T15:40:44.417Z"
   },
   {
    "duration": 8,
    "start_time": "2024-02-26T15:40:44.519Z"
   },
   {
    "duration": 19,
    "start_time": "2024-02-26T15:40:44.528Z"
   },
   {
    "duration": 23,
    "start_time": "2024-02-26T15:40:44.549Z"
   },
   {
    "duration": 43,
    "start_time": "2024-02-26T15:40:44.575Z"
   },
   {
    "duration": 3,
    "start_time": "2024-02-26T15:40:44.619Z"
   },
   {
    "duration": 11,
    "start_time": "2024-02-26T15:40:44.624Z"
   },
   {
    "duration": 5,
    "start_time": "2024-02-26T15:40:44.637Z"
   },
   {
    "duration": 34,
    "start_time": "2024-02-26T15:40:44.644Z"
   },
   {
    "duration": 14,
    "start_time": "2024-02-26T15:40:44.679Z"
   },
   {
    "duration": 41,
    "start_time": "2024-02-26T15:40:44.695Z"
   },
   {
    "duration": 12,
    "start_time": "2024-02-26T15:40:44.739Z"
   },
   {
    "duration": 26,
    "start_time": "2024-02-26T15:40:44.753Z"
   },
   {
    "duration": 10,
    "start_time": "2024-02-26T15:40:44.783Z"
   },
   {
    "duration": 22,
    "start_time": "2024-02-26T15:40:44.795Z"
   },
   {
    "duration": 29,
    "start_time": "2024-02-26T15:40:44.818Z"
   },
   {
    "duration": 2,
    "start_time": "2024-02-26T15:40:44.848Z"
   },
   {
    "duration": 8,
    "start_time": "2024-02-26T15:40:44.851Z"
   },
   {
    "duration": 15,
    "start_time": "2024-02-26T15:40:44.860Z"
   },
   {
    "duration": 19,
    "start_time": "2024-02-26T15:40:44.877Z"
   },
   {
    "duration": 10,
    "start_time": "2024-02-26T15:40:44.897Z"
   },
   {
    "duration": 3,
    "start_time": "2024-02-26T15:41:26.681Z"
   },
   {
    "duration": 106,
    "start_time": "2024-02-26T15:41:26.686Z"
   },
   {
    "duration": 8,
    "start_time": "2024-02-26T15:41:26.793Z"
   },
   {
    "duration": 34,
    "start_time": "2024-02-26T15:41:26.803Z"
   },
   {
    "duration": 12,
    "start_time": "2024-02-26T15:41:26.839Z"
   },
   {
    "duration": 58,
    "start_time": "2024-02-26T15:41:26.853Z"
   },
   {
    "duration": 4,
    "start_time": "2024-02-26T15:41:26.912Z"
   },
   {
    "duration": 19,
    "start_time": "2024-02-26T15:41:26.917Z"
   },
   {
    "duration": 26,
    "start_time": "2024-02-26T15:41:26.937Z"
   },
   {
    "duration": 24,
    "start_time": "2024-02-26T15:41:26.965Z"
   },
   {
    "duration": 17,
    "start_time": "2024-02-26T15:41:26.990Z"
   },
   {
    "duration": 38,
    "start_time": "2024-02-26T15:41:27.008Z"
   },
   {
    "duration": 12,
    "start_time": "2024-02-26T15:41:27.047Z"
   },
   {
    "duration": 23,
    "start_time": "2024-02-26T15:41:27.062Z"
   },
   {
    "duration": 27,
    "start_time": "2024-02-26T15:41:27.086Z"
   },
   {
    "duration": 45,
    "start_time": "2024-02-26T15:41:27.115Z"
   },
   {
    "duration": 22,
    "start_time": "2024-02-26T15:41:27.162Z"
   },
   {
    "duration": 9,
    "start_time": "2024-02-26T15:41:27.186Z"
   },
   {
    "duration": 23,
    "start_time": "2024-02-26T15:41:27.196Z"
   },
   {
    "duration": 14,
    "start_time": "2024-02-26T15:41:27.221Z"
   },
   {
    "duration": 21,
    "start_time": "2024-02-26T15:41:27.236Z"
   },
   {
    "duration": 19,
    "start_time": "2024-02-26T15:41:27.259Z"
   },
   {
    "duration": 2,
    "start_time": "2024-02-26T15:47:27.402Z"
   },
   {
    "duration": 82,
    "start_time": "2024-02-26T15:47:27.406Z"
   },
   {
    "duration": 9,
    "start_time": "2024-02-26T15:47:27.490Z"
   },
   {
    "duration": 31,
    "start_time": "2024-02-26T15:47:27.500Z"
   },
   {
    "duration": 10,
    "start_time": "2024-02-26T15:47:27.533Z"
   },
   {
    "duration": 41,
    "start_time": "2024-02-26T15:47:27.545Z"
   },
   {
    "duration": 3,
    "start_time": "2024-02-26T15:47:27.588Z"
   },
   {
    "duration": 15,
    "start_time": "2024-02-26T15:47:27.593Z"
   },
   {
    "duration": 4,
    "start_time": "2024-02-26T15:47:27.610Z"
   },
   {
    "duration": 16,
    "start_time": "2024-02-26T15:47:27.616Z"
   },
   {
    "duration": 4,
    "start_time": "2024-02-26T15:47:27.634Z"
   },
   {
    "duration": 47,
    "start_time": "2024-02-26T15:47:27.640Z"
   },
   {
    "duration": 10,
    "start_time": "2024-02-26T15:47:27.689Z"
   },
   {
    "duration": 8,
    "start_time": "2024-02-26T15:47:27.701Z"
   },
   {
    "duration": 18,
    "start_time": "2024-02-26T15:47:27.710Z"
   },
   {
    "duration": 29,
    "start_time": "2024-02-26T15:47:27.730Z"
   },
   {
    "duration": 23,
    "start_time": "2024-02-26T15:47:27.766Z"
   },
   {
    "duration": 3,
    "start_time": "2024-02-26T15:47:27.791Z"
   },
   {
    "duration": 17,
    "start_time": "2024-02-26T15:47:27.795Z"
   },
   {
    "duration": 6,
    "start_time": "2024-02-26T15:47:27.813Z"
   },
   {
    "duration": 6,
    "start_time": "2024-02-26T15:47:27.820Z"
   },
   {
    "duration": 9,
    "start_time": "2024-02-26T15:47:27.827Z"
   },
   {
    "duration": 3,
    "start_time": "2024-02-26T15:48:59.760Z"
   },
   {
    "duration": 89,
    "start_time": "2024-02-26T15:48:59.765Z"
   },
   {
    "duration": 7,
    "start_time": "2024-02-26T15:48:59.856Z"
   },
   {
    "duration": 34,
    "start_time": "2024-02-26T15:48:59.865Z"
   },
   {
    "duration": 10,
    "start_time": "2024-02-26T15:48:59.901Z"
   },
   {
    "duration": 48,
    "start_time": "2024-02-26T15:48:59.912Z"
   },
   {
    "duration": 3,
    "start_time": "2024-02-26T15:48:59.962Z"
   },
   {
    "duration": 12,
    "start_time": "2024-02-26T15:48:59.966Z"
   },
   {
    "duration": 5,
    "start_time": "2024-02-26T15:48:59.979Z"
   },
   {
    "duration": 18,
    "start_time": "2024-02-26T15:48:59.985Z"
   },
   {
    "duration": 36,
    "start_time": "2024-02-26T15:49:00.005Z"
   },
   {
    "duration": 83,
    "start_time": "2024-02-26T15:49:00.043Z"
   },
   {
    "duration": 11,
    "start_time": "2024-02-26T15:49:00.128Z"
   },
   {
    "duration": 35,
    "start_time": "2024-02-26T15:49:00.140Z"
   },
   {
    "duration": 44,
    "start_time": "2024-02-26T15:49:00.177Z"
   },
   {
    "duration": 63,
    "start_time": "2024-02-26T15:49:00.223Z"
   },
   {
    "duration": 30,
    "start_time": "2024-02-26T15:49:00.287Z"
   },
   {
    "duration": 29,
    "start_time": "2024-02-26T15:49:00.319Z"
   },
   {
    "duration": 50,
    "start_time": "2024-02-26T15:49:00.350Z"
   },
   {
    "duration": 0,
    "start_time": "2024-02-26T15:49:00.401Z"
   },
   {
    "duration": 0,
    "start_time": "2024-02-26T15:49:00.402Z"
   },
   {
    "duration": 0,
    "start_time": "2024-02-26T15:49:00.403Z"
   },
   {
    "duration": 3,
    "start_time": "2024-02-26T15:49:14.747Z"
   },
   {
    "duration": 79,
    "start_time": "2024-02-26T15:49:14.752Z"
   },
   {
    "duration": 8,
    "start_time": "2024-02-26T15:49:14.832Z"
   },
   {
    "duration": 24,
    "start_time": "2024-02-26T15:49:14.842Z"
   },
   {
    "duration": 16,
    "start_time": "2024-02-26T15:49:14.868Z"
   },
   {
    "duration": 43,
    "start_time": "2024-02-26T15:49:14.886Z"
   },
   {
    "duration": 3,
    "start_time": "2024-02-26T15:49:14.931Z"
   },
   {
    "duration": 15,
    "start_time": "2024-02-26T15:49:14.935Z"
   },
   {
    "duration": 16,
    "start_time": "2024-02-26T15:49:14.952Z"
   },
   {
    "duration": 7,
    "start_time": "2024-02-26T15:49:14.969Z"
   },
   {
    "duration": 9,
    "start_time": "2024-02-26T15:49:14.977Z"
   },
   {
    "duration": 104,
    "start_time": "2024-02-26T15:49:14.988Z"
   },
   {
    "duration": 109,
    "start_time": "2024-02-26T15:49:15.093Z"
   },
   {
    "duration": 14,
    "start_time": "2024-02-26T15:49:15.205Z"
   },
   {
    "duration": 21,
    "start_time": "2024-02-26T15:49:15.220Z"
   },
   {
    "duration": 42,
    "start_time": "2024-02-26T15:49:15.242Z"
   },
   {
    "duration": 33,
    "start_time": "2024-02-26T15:49:15.285Z"
   },
   {
    "duration": 42,
    "start_time": "2024-02-26T15:49:15.319Z"
   },
   {
    "duration": 93,
    "start_time": "2024-02-26T15:49:15.362Z"
   },
   {
    "duration": 23,
    "start_time": "2024-02-26T15:49:15.457Z"
   },
   {
    "duration": 28,
    "start_time": "2024-02-26T15:49:15.482Z"
   },
   {
    "duration": 31,
    "start_time": "2024-02-26T15:49:15.512Z"
   },
   {
    "duration": 3,
    "start_time": "2024-02-26T15:49:45.555Z"
   },
   {
    "duration": 139,
    "start_time": "2024-02-26T15:49:45.559Z"
   },
   {
    "duration": 7,
    "start_time": "2024-02-26T15:49:45.700Z"
   },
   {
    "duration": 30,
    "start_time": "2024-02-26T15:49:45.709Z"
   },
   {
    "duration": 21,
    "start_time": "2024-02-26T15:49:45.741Z"
   },
   {
    "duration": 60,
    "start_time": "2024-02-26T15:49:45.763Z"
   },
   {
    "duration": 3,
    "start_time": "2024-02-26T15:49:45.825Z"
   },
   {
    "duration": 25,
    "start_time": "2024-02-26T15:49:45.830Z"
   },
   {
    "duration": 12,
    "start_time": "2024-02-26T15:49:45.856Z"
   },
   {
    "duration": 27,
    "start_time": "2024-02-26T15:49:45.869Z"
   },
   {
    "duration": 16,
    "start_time": "2024-02-26T15:49:45.898Z"
   },
   {
    "duration": 50,
    "start_time": "2024-02-26T15:49:45.916Z"
   },
   {
    "duration": 10,
    "start_time": "2024-02-26T15:49:45.968Z"
   },
   {
    "duration": 29,
    "start_time": "2024-02-26T15:49:45.980Z"
   },
   {
    "duration": 52,
    "start_time": "2024-02-26T15:49:46.010Z"
   },
   {
    "duration": 49,
    "start_time": "2024-02-26T15:49:46.064Z"
   },
   {
    "duration": 24,
    "start_time": "2024-02-26T15:49:46.114Z"
   },
   {
    "duration": 23,
    "start_time": "2024-02-26T15:49:46.140Z"
   },
   {
    "duration": 41,
    "start_time": "2024-02-26T15:49:46.164Z"
   },
   {
    "duration": 11,
    "start_time": "2024-02-26T15:49:46.207Z"
   },
   {
    "duration": 14,
    "start_time": "2024-02-26T15:49:46.220Z"
   },
   {
    "duration": 21,
    "start_time": "2024-02-26T15:49:46.236Z"
   },
   {
    "duration": 3,
    "start_time": "2024-02-26T15:54:19.675Z"
   },
   {
    "duration": 87,
    "start_time": "2024-02-26T15:54:19.679Z"
   },
   {
    "duration": 11,
    "start_time": "2024-02-26T15:54:19.768Z"
   },
   {
    "duration": 21,
    "start_time": "2024-02-26T15:54:19.780Z"
   },
   {
    "duration": 25,
    "start_time": "2024-02-26T15:54:19.802Z"
   },
   {
    "duration": 37,
    "start_time": "2024-02-26T15:54:19.828Z"
   },
   {
    "duration": 4,
    "start_time": "2024-02-26T15:54:19.867Z"
   },
   {
    "duration": 28,
    "start_time": "2024-02-26T15:54:19.872Z"
   },
   {
    "duration": 11,
    "start_time": "2024-02-26T15:54:19.903Z"
   },
   {
    "duration": 22,
    "start_time": "2024-02-26T15:54:19.916Z"
   },
   {
    "duration": 38,
    "start_time": "2024-02-26T15:54:19.940Z"
   },
   {
    "duration": 61,
    "start_time": "2024-02-26T15:54:19.980Z"
   },
   {
    "duration": 9,
    "start_time": "2024-02-26T15:54:20.043Z"
   },
   {
    "duration": 26,
    "start_time": "2024-02-26T15:54:20.054Z"
   },
   {
    "duration": 22,
    "start_time": "2024-02-26T15:54:20.082Z"
   },
   {
    "duration": 30,
    "start_time": "2024-02-26T15:54:20.106Z"
   },
   {
    "duration": 37,
    "start_time": "2024-02-26T15:54:20.138Z"
   },
   {
    "duration": 12,
    "start_time": "2024-02-26T15:54:20.177Z"
   },
   {
    "duration": 26,
    "start_time": "2024-02-26T15:54:20.191Z"
   },
   {
    "duration": 11,
    "start_time": "2024-02-26T15:54:20.219Z"
   },
   {
    "duration": 21,
    "start_time": "2024-02-26T15:54:20.232Z"
   },
   {
    "duration": 32,
    "start_time": "2024-02-26T15:54:20.254Z"
   },
   {
    "duration": 3,
    "start_time": "2024-02-26T15:55:34.989Z"
   },
   {
    "duration": 100,
    "start_time": "2024-02-26T15:55:34.994Z"
   },
   {
    "duration": 8,
    "start_time": "2024-02-26T15:55:35.095Z"
   },
   {
    "duration": 37,
    "start_time": "2024-02-26T15:55:35.105Z"
   },
   {
    "duration": 23,
    "start_time": "2024-02-26T15:55:35.144Z"
   },
   {
    "duration": 68,
    "start_time": "2024-02-26T15:55:35.168Z"
   },
   {
    "duration": 3,
    "start_time": "2024-02-26T15:55:35.238Z"
   },
   {
    "duration": 35,
    "start_time": "2024-02-26T15:55:35.242Z"
   },
   {
    "duration": 18,
    "start_time": "2024-02-26T15:55:35.278Z"
   },
   {
    "duration": 19,
    "start_time": "2024-02-26T15:55:35.297Z"
   },
   {
    "duration": 20,
    "start_time": "2024-02-26T15:55:35.317Z"
   },
   {
    "duration": 41,
    "start_time": "2024-02-26T15:55:35.339Z"
   },
   {
    "duration": 10,
    "start_time": "2024-02-26T15:55:35.381Z"
   },
   {
    "duration": 18,
    "start_time": "2024-02-26T15:55:35.393Z"
   },
   {
    "duration": 26,
    "start_time": "2024-02-26T15:55:35.413Z"
   },
   {
    "duration": 30,
    "start_time": "2024-02-26T15:55:35.441Z"
   },
   {
    "duration": 23,
    "start_time": "2024-02-26T15:55:35.473Z"
   },
   {
    "duration": 3,
    "start_time": "2024-02-26T15:55:35.498Z"
   },
   {
    "duration": 30,
    "start_time": "2024-02-26T15:55:35.503Z"
   },
   {
    "duration": 19,
    "start_time": "2024-02-26T15:55:35.534Z"
   },
   {
    "duration": 4,
    "start_time": "2024-02-26T15:55:35.554Z"
   },
   {
    "duration": 21,
    "start_time": "2024-02-26T15:55:35.559Z"
   },
   {
    "duration": 3,
    "start_time": "2024-02-26T15:56:16.609Z"
   },
   {
    "duration": 82,
    "start_time": "2024-02-26T15:56:16.613Z"
   },
   {
    "duration": 8,
    "start_time": "2024-02-26T15:56:16.697Z"
   },
   {
    "duration": 20,
    "start_time": "2024-02-26T15:56:16.708Z"
   },
   {
    "duration": 10,
    "start_time": "2024-02-26T15:56:16.729Z"
   },
   {
    "duration": 64,
    "start_time": "2024-02-26T15:56:16.740Z"
   },
   {
    "duration": 3,
    "start_time": "2024-02-26T15:56:16.805Z"
   },
   {
    "duration": 20,
    "start_time": "2024-02-26T15:56:16.809Z"
   },
   {
    "duration": 9,
    "start_time": "2024-02-26T15:56:16.831Z"
   },
   {
    "duration": 8,
    "start_time": "2024-02-26T15:56:16.842Z"
   },
   {
    "duration": 10,
    "start_time": "2024-02-26T15:56:16.851Z"
   },
   {
    "duration": 43,
    "start_time": "2024-02-26T15:56:16.862Z"
   },
   {
    "duration": 9,
    "start_time": "2024-02-26T15:56:16.907Z"
   },
   {
    "duration": 25,
    "start_time": "2024-02-26T15:56:16.918Z"
   },
   {
    "duration": 39,
    "start_time": "2024-02-26T15:56:16.944Z"
   },
   {
    "duration": 28,
    "start_time": "2024-02-26T15:56:16.984Z"
   },
   {
    "duration": 16,
    "start_time": "2024-02-26T15:56:17.013Z"
   },
   {
    "duration": 6,
    "start_time": "2024-02-26T15:56:17.031Z"
   },
   {
    "duration": 16,
    "start_time": "2024-02-26T15:56:17.038Z"
   },
   {
    "duration": 5,
    "start_time": "2024-02-26T15:56:17.056Z"
   },
   {
    "duration": 6,
    "start_time": "2024-02-26T15:56:17.062Z"
   },
   {
    "duration": 19,
    "start_time": "2024-02-26T15:56:17.070Z"
   },
   {
    "duration": 3,
    "start_time": "2024-02-26T15:57:05.973Z"
   },
   {
    "duration": 116,
    "start_time": "2024-02-26T15:57:05.977Z"
   },
   {
    "duration": 8,
    "start_time": "2024-02-26T15:57:06.095Z"
   },
   {
    "duration": 36,
    "start_time": "2024-02-26T15:57:06.105Z"
   },
   {
    "duration": 41,
    "start_time": "2024-02-26T15:57:06.143Z"
   },
   {
    "duration": 66,
    "start_time": "2024-02-26T15:57:06.186Z"
   },
   {
    "duration": 3,
    "start_time": "2024-02-26T15:57:06.254Z"
   },
   {
    "duration": 33,
    "start_time": "2024-02-26T15:57:06.258Z"
   },
   {
    "duration": 32,
    "start_time": "2024-02-26T15:57:06.292Z"
   },
   {
    "duration": 9,
    "start_time": "2024-02-26T15:57:06.326Z"
   },
   {
    "duration": 23,
    "start_time": "2024-02-26T15:57:06.337Z"
   },
   {
    "duration": 55,
    "start_time": "2024-02-26T15:57:06.362Z"
   },
   {
    "duration": 10,
    "start_time": "2024-02-26T15:57:06.420Z"
   },
   {
    "duration": 14,
    "start_time": "2024-02-26T15:57:06.432Z"
   },
   {
    "duration": 18,
    "start_time": "2024-02-26T15:57:06.447Z"
   },
   {
    "duration": 39,
    "start_time": "2024-02-26T15:57:06.466Z"
   },
   {
    "duration": 18,
    "start_time": "2024-02-26T15:57:06.507Z"
   },
   {
    "duration": 4,
    "start_time": "2024-02-26T15:57:06.527Z"
   },
   {
    "duration": 24,
    "start_time": "2024-02-26T15:57:06.533Z"
   },
   {
    "duration": 18,
    "start_time": "2024-02-26T15:57:06.558Z"
   },
   {
    "duration": 40,
    "start_time": "2024-02-26T15:57:06.577Z"
   },
   {
    "duration": 36,
    "start_time": "2024-02-26T15:57:06.619Z"
   },
   {
    "duration": 449,
    "start_time": "2024-08-15T20:16:53.353Z"
   },
   {
    "duration": 324,
    "start_time": "2024-08-15T20:16:53.804Z"
   },
   {
    "duration": 12,
    "start_time": "2024-08-15T20:16:54.129Z"
   },
   {
    "duration": 28,
    "start_time": "2024-08-15T20:16:54.142Z"
   },
   {
    "duration": 17,
    "start_time": "2024-08-15T20:16:54.171Z"
   },
   {
    "duration": 39,
    "start_time": "2024-08-15T20:16:54.190Z"
   },
   {
    "duration": 3,
    "start_time": "2024-08-15T20:16:54.231Z"
   },
   {
    "duration": 10,
    "start_time": "2024-08-15T20:16:54.236Z"
   },
   {
    "duration": 5,
    "start_time": "2024-08-15T20:16:54.247Z"
   },
   {
    "duration": 15,
    "start_time": "2024-08-15T20:16:54.254Z"
   },
   {
    "duration": 14,
    "start_time": "2024-08-15T20:16:54.271Z"
   },
   {
    "duration": 47,
    "start_time": "2024-08-15T20:16:54.286Z"
   },
   {
    "duration": 10,
    "start_time": "2024-08-15T20:16:54.334Z"
   },
   {
    "duration": 5,
    "start_time": "2024-08-15T20:16:54.345Z"
   },
   {
    "duration": 80,
    "start_time": "2024-08-15T20:16:54.351Z"
   },
   {
    "duration": 31,
    "start_time": "2024-08-15T20:16:54.433Z"
   },
   {
    "duration": 18,
    "start_time": "2024-08-15T20:16:54.466Z"
   },
   {
    "duration": 3,
    "start_time": "2024-08-15T20:16:54.486Z"
   },
   {
    "duration": 34,
    "start_time": "2024-08-15T20:16:54.491Z"
   },
   {
    "duration": 30,
    "start_time": "2024-08-15T20:16:54.527Z"
   },
   {
    "duration": 17,
    "start_time": "2024-08-15T20:16:54.559Z"
   },
   {
    "duration": 14,
    "start_time": "2024-08-15T20:16:54.577Z"
   }
  ],
  "colab": {
   "provenance": []
  },
  "kernelspec": {
   "display_name": "Python 3 (ipykernel)",
   "language": "python",
   "name": "python3"
  },
  "language_info": {
   "codemirror_mode": {
    "name": "ipython",
    "version": 3
   },
   "file_extension": ".py",
   "mimetype": "text/x-python",
   "name": "python",
   "nbconvert_exporter": "python",
   "pygments_lexer": "ipython3",
   "version": "3.9.5"
  },
  "toc": {
   "base_numbering": 1,
   "nav_menu": {},
   "number_sections": true,
   "sideBar": true,
   "skip_h1_title": true,
   "title_cell": "Table of Contents",
   "title_sidebar": "Contents",
   "toc_cell": false,
   "toc_position": {},
   "toc_section_display": true,
   "toc_window_display": false
  }
 },
 "nbformat": 4,
 "nbformat_minor": 5
}
