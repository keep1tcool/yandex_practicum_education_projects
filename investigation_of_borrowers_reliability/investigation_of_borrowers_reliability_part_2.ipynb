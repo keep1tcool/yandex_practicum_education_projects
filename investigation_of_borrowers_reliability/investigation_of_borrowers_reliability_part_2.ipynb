{
 "cells": [
  {
   "cell_type": "markdown",
   "id": "386f2ae7",
   "metadata": {
    "deletable": false,
    "editable": false,
    "id": "386f2ae7"
   },
   "source": [
    "# Исследование надежности заемщиков\n"
   ]
  },
  {
   "cell_type": "markdown",
   "id": "ffe86f65",
   "metadata": {
    "deletable": false,
    "editable": false,
    "id": "ffe86f65"
   },
   "source": [
    "Во второй части проекта вы выполните шаги 3 и 4. Их вручную проверит ревьюер.\n",
    "Чтобы вам не пришлось писать код заново для шагов 1 и 2, мы добавили авторские решения в ячейки с кодом. \n",
    "\n"
   ]
  },
  {
   "cell_type": "markdown",
   "id": "26613308",
   "metadata": {
    "deletable": false,
    "editable": false,
    "id": "26613308"
   },
   "source": [
    "## Откройте таблицу и изучите общую информацию о данных"
   ]
  },
  {
   "cell_type": "markdown",
   "id": "3c9f838e",
   "metadata": {
    "deletable": false,
    "editable": false,
    "id": "3c9f838e"
   },
   "source": [
    "**Задание 1. Импортируйте библиотеку pandas. Считайте данные из csv-файла в датафрейм и сохраните в переменную `data`. Путь к файлу:**\n",
    "\n",
    "`/datasets/data.csv`"
   ]
  },
  {
   "cell_type": "code",
   "execution_count": 1,
   "id": "77a68a90",
   "metadata": {
    "deletable": false,
    "id": "77a68a90"
   },
   "outputs": [],
   "source": [
    "import pandas as pd\n",
    "\n",
    "try:\n",
    "    data = pd.read_csv('/datasets/data.csv')\n",
    "except:\n",
    "    data = pd.read_csv('https://code.s3.yandex.net/datasets/data.csv')"
   ]
  },
  {
   "cell_type": "markdown",
   "id": "45365635",
   "metadata": {
    "deletable": false,
    "editable": false,
    "id": "45365635"
   },
   "source": [
    "**Задание 2. Выведите первые 20 строчек датафрейма `data` на экран.**"
   ]
  },
  {
   "cell_type": "code",
   "execution_count": 2,
   "id": "b0451a9a",
   "metadata": {
    "deletable": false,
    "id": "b0451a9a",
    "outputId": "1a8f3ef2-d323-4ec2-ddf7-89670b5944c4"
   },
   "outputs": [
    {
     "data": {
      "text/html": [
       "<div>\n",
       "<style scoped>\n",
       "    .dataframe tbody tr th:only-of-type {\n",
       "        vertical-align: middle;\n",
       "    }\n",
       "\n",
       "    .dataframe tbody tr th {\n",
       "        vertical-align: top;\n",
       "    }\n",
       "\n",
       "    .dataframe thead th {\n",
       "        text-align: right;\n",
       "    }\n",
       "</style>\n",
       "<table border=\"1\" class=\"dataframe\">\n",
       "  <thead>\n",
       "    <tr style=\"text-align: right;\">\n",
       "      <th></th>\n",
       "      <th>children</th>\n",
       "      <th>days_employed</th>\n",
       "      <th>dob_years</th>\n",
       "      <th>education</th>\n",
       "      <th>education_id</th>\n",
       "      <th>family_status</th>\n",
       "      <th>family_status_id</th>\n",
       "      <th>gender</th>\n",
       "      <th>income_type</th>\n",
       "      <th>debt</th>\n",
       "      <th>total_income</th>\n",
       "      <th>purpose</th>\n",
       "    </tr>\n",
       "  </thead>\n",
       "  <tbody>\n",
       "    <tr>\n",
       "      <th>0</th>\n",
       "      <td>1</td>\n",
       "      <td>-8437.673028</td>\n",
       "      <td>42</td>\n",
       "      <td>высшее</td>\n",
       "      <td>0</td>\n",
       "      <td>женат / замужем</td>\n",
       "      <td>0</td>\n",
       "      <td>F</td>\n",
       "      <td>сотрудник</td>\n",
       "      <td>0</td>\n",
       "      <td>253875.639453</td>\n",
       "      <td>покупка жилья</td>\n",
       "    </tr>\n",
       "    <tr>\n",
       "      <th>1</th>\n",
       "      <td>1</td>\n",
       "      <td>-4024.803754</td>\n",
       "      <td>36</td>\n",
       "      <td>среднее</td>\n",
       "      <td>1</td>\n",
       "      <td>женат / замужем</td>\n",
       "      <td>0</td>\n",
       "      <td>F</td>\n",
       "      <td>сотрудник</td>\n",
       "      <td>0</td>\n",
       "      <td>112080.014102</td>\n",
       "      <td>приобретение автомобиля</td>\n",
       "    </tr>\n",
       "    <tr>\n",
       "      <th>2</th>\n",
       "      <td>0</td>\n",
       "      <td>-5623.422610</td>\n",
       "      <td>33</td>\n",
       "      <td>Среднее</td>\n",
       "      <td>1</td>\n",
       "      <td>женат / замужем</td>\n",
       "      <td>0</td>\n",
       "      <td>M</td>\n",
       "      <td>сотрудник</td>\n",
       "      <td>0</td>\n",
       "      <td>145885.952297</td>\n",
       "      <td>покупка жилья</td>\n",
       "    </tr>\n",
       "    <tr>\n",
       "      <th>3</th>\n",
       "      <td>3</td>\n",
       "      <td>-4124.747207</td>\n",
       "      <td>32</td>\n",
       "      <td>среднее</td>\n",
       "      <td>1</td>\n",
       "      <td>женат / замужем</td>\n",
       "      <td>0</td>\n",
       "      <td>M</td>\n",
       "      <td>сотрудник</td>\n",
       "      <td>0</td>\n",
       "      <td>267628.550329</td>\n",
       "      <td>дополнительное образование</td>\n",
       "    </tr>\n",
       "    <tr>\n",
       "      <th>4</th>\n",
       "      <td>0</td>\n",
       "      <td>340266.072047</td>\n",
       "      <td>53</td>\n",
       "      <td>среднее</td>\n",
       "      <td>1</td>\n",
       "      <td>гражданский брак</td>\n",
       "      <td>1</td>\n",
       "      <td>F</td>\n",
       "      <td>пенсионер</td>\n",
       "      <td>0</td>\n",
       "      <td>158616.077870</td>\n",
       "      <td>сыграть свадьбу</td>\n",
       "    </tr>\n",
       "    <tr>\n",
       "      <th>5</th>\n",
       "      <td>0</td>\n",
       "      <td>-926.185831</td>\n",
       "      <td>27</td>\n",
       "      <td>высшее</td>\n",
       "      <td>0</td>\n",
       "      <td>гражданский брак</td>\n",
       "      <td>1</td>\n",
       "      <td>M</td>\n",
       "      <td>компаньон</td>\n",
       "      <td>0</td>\n",
       "      <td>255763.565419</td>\n",
       "      <td>покупка жилья</td>\n",
       "    </tr>\n",
       "    <tr>\n",
       "      <th>6</th>\n",
       "      <td>0</td>\n",
       "      <td>-2879.202052</td>\n",
       "      <td>43</td>\n",
       "      <td>высшее</td>\n",
       "      <td>0</td>\n",
       "      <td>женат / замужем</td>\n",
       "      <td>0</td>\n",
       "      <td>F</td>\n",
       "      <td>компаньон</td>\n",
       "      <td>0</td>\n",
       "      <td>240525.971920</td>\n",
       "      <td>операции с жильем</td>\n",
       "    </tr>\n",
       "    <tr>\n",
       "      <th>7</th>\n",
       "      <td>0</td>\n",
       "      <td>-152.779569</td>\n",
       "      <td>50</td>\n",
       "      <td>СРЕДНЕЕ</td>\n",
       "      <td>1</td>\n",
       "      <td>женат / замужем</td>\n",
       "      <td>0</td>\n",
       "      <td>M</td>\n",
       "      <td>сотрудник</td>\n",
       "      <td>0</td>\n",
       "      <td>135823.934197</td>\n",
       "      <td>образование</td>\n",
       "    </tr>\n",
       "    <tr>\n",
       "      <th>8</th>\n",
       "      <td>2</td>\n",
       "      <td>-6929.865299</td>\n",
       "      <td>35</td>\n",
       "      <td>ВЫСШЕЕ</td>\n",
       "      <td>0</td>\n",
       "      <td>гражданский брак</td>\n",
       "      <td>1</td>\n",
       "      <td>F</td>\n",
       "      <td>сотрудник</td>\n",
       "      <td>0</td>\n",
       "      <td>95856.832424</td>\n",
       "      <td>на проведение свадьбы</td>\n",
       "    </tr>\n",
       "    <tr>\n",
       "      <th>9</th>\n",
       "      <td>0</td>\n",
       "      <td>-2188.756445</td>\n",
       "      <td>41</td>\n",
       "      <td>среднее</td>\n",
       "      <td>1</td>\n",
       "      <td>женат / замужем</td>\n",
       "      <td>0</td>\n",
       "      <td>M</td>\n",
       "      <td>сотрудник</td>\n",
       "      <td>0</td>\n",
       "      <td>144425.938277</td>\n",
       "      <td>покупка жилья для семьи</td>\n",
       "    </tr>\n",
       "    <tr>\n",
       "      <th>10</th>\n",
       "      <td>2</td>\n",
       "      <td>-4171.483647</td>\n",
       "      <td>36</td>\n",
       "      <td>высшее</td>\n",
       "      <td>0</td>\n",
       "      <td>женат / замужем</td>\n",
       "      <td>0</td>\n",
       "      <td>M</td>\n",
       "      <td>компаньон</td>\n",
       "      <td>0</td>\n",
       "      <td>113943.491460</td>\n",
       "      <td>покупка недвижимости</td>\n",
       "    </tr>\n",
       "    <tr>\n",
       "      <th>11</th>\n",
       "      <td>0</td>\n",
       "      <td>-792.701887</td>\n",
       "      <td>40</td>\n",
       "      <td>среднее</td>\n",
       "      <td>1</td>\n",
       "      <td>женат / замужем</td>\n",
       "      <td>0</td>\n",
       "      <td>F</td>\n",
       "      <td>сотрудник</td>\n",
       "      <td>0</td>\n",
       "      <td>77069.234271</td>\n",
       "      <td>покупка коммерческой недвижимости</td>\n",
       "    </tr>\n",
       "    <tr>\n",
       "      <th>12</th>\n",
       "      <td>0</td>\n",
       "      <td>NaN</td>\n",
       "      <td>65</td>\n",
       "      <td>среднее</td>\n",
       "      <td>1</td>\n",
       "      <td>гражданский брак</td>\n",
       "      <td>1</td>\n",
       "      <td>M</td>\n",
       "      <td>пенсионер</td>\n",
       "      <td>0</td>\n",
       "      <td>NaN</td>\n",
       "      <td>сыграть свадьбу</td>\n",
       "    </tr>\n",
       "    <tr>\n",
       "      <th>13</th>\n",
       "      <td>0</td>\n",
       "      <td>-1846.641941</td>\n",
       "      <td>54</td>\n",
       "      <td>неоконченное высшее</td>\n",
       "      <td>2</td>\n",
       "      <td>женат / замужем</td>\n",
       "      <td>0</td>\n",
       "      <td>F</td>\n",
       "      <td>сотрудник</td>\n",
       "      <td>0</td>\n",
       "      <td>130458.228857</td>\n",
       "      <td>приобретение автомобиля</td>\n",
       "    </tr>\n",
       "    <tr>\n",
       "      <th>14</th>\n",
       "      <td>0</td>\n",
       "      <td>-1844.956182</td>\n",
       "      <td>56</td>\n",
       "      <td>высшее</td>\n",
       "      <td>0</td>\n",
       "      <td>гражданский брак</td>\n",
       "      <td>1</td>\n",
       "      <td>F</td>\n",
       "      <td>компаньон</td>\n",
       "      <td>1</td>\n",
       "      <td>165127.911772</td>\n",
       "      <td>покупка жилой недвижимости</td>\n",
       "    </tr>\n",
       "    <tr>\n",
       "      <th>15</th>\n",
       "      <td>1</td>\n",
       "      <td>-972.364419</td>\n",
       "      <td>26</td>\n",
       "      <td>среднее</td>\n",
       "      <td>1</td>\n",
       "      <td>женат / замужем</td>\n",
       "      <td>0</td>\n",
       "      <td>F</td>\n",
       "      <td>сотрудник</td>\n",
       "      <td>0</td>\n",
       "      <td>116820.904450</td>\n",
       "      <td>строительство собственной недвижимости</td>\n",
       "    </tr>\n",
       "    <tr>\n",
       "      <th>16</th>\n",
       "      <td>0</td>\n",
       "      <td>-1719.934226</td>\n",
       "      <td>35</td>\n",
       "      <td>среднее</td>\n",
       "      <td>1</td>\n",
       "      <td>женат / замужем</td>\n",
       "      <td>0</td>\n",
       "      <td>F</td>\n",
       "      <td>сотрудник</td>\n",
       "      <td>0</td>\n",
       "      <td>289202.704229</td>\n",
       "      <td>недвижимость</td>\n",
       "    </tr>\n",
       "    <tr>\n",
       "      <th>17</th>\n",
       "      <td>0</td>\n",
       "      <td>-2369.999720</td>\n",
       "      <td>33</td>\n",
       "      <td>высшее</td>\n",
       "      <td>0</td>\n",
       "      <td>гражданский брак</td>\n",
       "      <td>1</td>\n",
       "      <td>M</td>\n",
       "      <td>сотрудник</td>\n",
       "      <td>0</td>\n",
       "      <td>90410.586745</td>\n",
       "      <td>строительство недвижимости</td>\n",
       "    </tr>\n",
       "    <tr>\n",
       "      <th>18</th>\n",
       "      <td>0</td>\n",
       "      <td>400281.136913</td>\n",
       "      <td>53</td>\n",
       "      <td>среднее</td>\n",
       "      <td>1</td>\n",
       "      <td>вдовец / вдова</td>\n",
       "      <td>2</td>\n",
       "      <td>F</td>\n",
       "      <td>пенсионер</td>\n",
       "      <td>0</td>\n",
       "      <td>56823.777243</td>\n",
       "      <td>на покупку подержанного автомобиля</td>\n",
       "    </tr>\n",
       "    <tr>\n",
       "      <th>19</th>\n",
       "      <td>0</td>\n",
       "      <td>-10038.818549</td>\n",
       "      <td>48</td>\n",
       "      <td>СРЕДНЕЕ</td>\n",
       "      <td>1</td>\n",
       "      <td>в разводе</td>\n",
       "      <td>3</td>\n",
       "      <td>F</td>\n",
       "      <td>сотрудник</td>\n",
       "      <td>0</td>\n",
       "      <td>242831.107982</td>\n",
       "      <td>на покупку своего автомобиля</td>\n",
       "    </tr>\n",
       "  </tbody>\n",
       "</table>\n",
       "</div>"
      ],
      "text/plain": [
       "    children  days_employed  dob_years            education  education_id  \\\n",
       "0          1   -8437.673028         42               высшее             0   \n",
       "1          1   -4024.803754         36              среднее             1   \n",
       "2          0   -5623.422610         33              Среднее             1   \n",
       "3          3   -4124.747207         32              среднее             1   \n",
       "4          0  340266.072047         53              среднее             1   \n",
       "5          0    -926.185831         27               высшее             0   \n",
       "6          0   -2879.202052         43               высшее             0   \n",
       "7          0    -152.779569         50              СРЕДНЕЕ             1   \n",
       "8          2   -6929.865299         35               ВЫСШЕЕ             0   \n",
       "9          0   -2188.756445         41              среднее             1   \n",
       "10         2   -4171.483647         36               высшее             0   \n",
       "11         0    -792.701887         40              среднее             1   \n",
       "12         0            NaN         65              среднее             1   \n",
       "13         0   -1846.641941         54  неоконченное высшее             2   \n",
       "14         0   -1844.956182         56               высшее             0   \n",
       "15         1    -972.364419         26              среднее             1   \n",
       "16         0   -1719.934226         35              среднее             1   \n",
       "17         0   -2369.999720         33               высшее             0   \n",
       "18         0  400281.136913         53              среднее             1   \n",
       "19         0  -10038.818549         48              СРЕДНЕЕ             1   \n",
       "\n",
       "       family_status  family_status_id gender income_type  debt  \\\n",
       "0    женат / замужем                 0      F   сотрудник     0   \n",
       "1    женат / замужем                 0      F   сотрудник     0   \n",
       "2    женат / замужем                 0      M   сотрудник     0   \n",
       "3    женат / замужем                 0      M   сотрудник     0   \n",
       "4   гражданский брак                 1      F   пенсионер     0   \n",
       "5   гражданский брак                 1      M   компаньон     0   \n",
       "6    женат / замужем                 0      F   компаньон     0   \n",
       "7    женат / замужем                 0      M   сотрудник     0   \n",
       "8   гражданский брак                 1      F   сотрудник     0   \n",
       "9    женат / замужем                 0      M   сотрудник     0   \n",
       "10   женат / замужем                 0      M   компаньон     0   \n",
       "11   женат / замужем                 0      F   сотрудник     0   \n",
       "12  гражданский брак                 1      M   пенсионер     0   \n",
       "13   женат / замужем                 0      F   сотрудник     0   \n",
       "14  гражданский брак                 1      F   компаньон     1   \n",
       "15   женат / замужем                 0      F   сотрудник     0   \n",
       "16   женат / замужем                 0      F   сотрудник     0   \n",
       "17  гражданский брак                 1      M   сотрудник     0   \n",
       "18    вдовец / вдова                 2      F   пенсионер     0   \n",
       "19         в разводе                 3      F   сотрудник     0   \n",
       "\n",
       "     total_income                                 purpose  \n",
       "0   253875.639453                           покупка жилья  \n",
       "1   112080.014102                 приобретение автомобиля  \n",
       "2   145885.952297                           покупка жилья  \n",
       "3   267628.550329              дополнительное образование  \n",
       "4   158616.077870                         сыграть свадьбу  \n",
       "5   255763.565419                           покупка жилья  \n",
       "6   240525.971920                       операции с жильем  \n",
       "7   135823.934197                             образование  \n",
       "8    95856.832424                   на проведение свадьбы  \n",
       "9   144425.938277                 покупка жилья для семьи  \n",
       "10  113943.491460                    покупка недвижимости  \n",
       "11   77069.234271       покупка коммерческой недвижимости  \n",
       "12            NaN                         сыграть свадьбу  \n",
       "13  130458.228857                 приобретение автомобиля  \n",
       "14  165127.911772              покупка жилой недвижимости  \n",
       "15  116820.904450  строительство собственной недвижимости  \n",
       "16  289202.704229                            недвижимость  \n",
       "17   90410.586745              строительство недвижимости  \n",
       "18   56823.777243      на покупку подержанного автомобиля  \n",
       "19  242831.107982            на покупку своего автомобиля  "
      ]
     },
     "execution_count": 2,
     "metadata": {},
     "output_type": "execute_result"
    }
   ],
   "source": [
    "data.head(20)"
   ]
  },
  {
   "cell_type": "markdown",
   "id": "0ed8f27f",
   "metadata": {
    "deletable": false,
    "editable": false,
    "id": "0ed8f27f"
   },
   "source": [
    "**Задание 3. Выведите основную информацию о датафрейме с помощью метода `info()`.**"
   ]
  },
  {
   "cell_type": "code",
   "execution_count": 3,
   "id": "ab3f863b",
   "metadata": {
    "deletable": false,
    "id": "ab3f863b",
    "outputId": "15376089-8dad-46c9-b520-c05248d43158"
   },
   "outputs": [
    {
     "name": "stdout",
     "output_type": "stream",
     "text": [
      "<class 'pandas.core.frame.DataFrame'>\n",
      "RangeIndex: 21525 entries, 0 to 21524\n",
      "Data columns (total 12 columns):\n",
      " #   Column            Non-Null Count  Dtype  \n",
      "---  ------            --------------  -----  \n",
      " 0   children          21525 non-null  int64  \n",
      " 1   days_employed     19351 non-null  float64\n",
      " 2   dob_years         21525 non-null  int64  \n",
      " 3   education         21525 non-null  object \n",
      " 4   education_id      21525 non-null  int64  \n",
      " 5   family_status     21525 non-null  object \n",
      " 6   family_status_id  21525 non-null  int64  \n",
      " 7   gender            21525 non-null  object \n",
      " 8   income_type       21525 non-null  object \n",
      " 9   debt              21525 non-null  int64  \n",
      " 10  total_income      19351 non-null  float64\n",
      " 11  purpose           21525 non-null  object \n",
      "dtypes: float64(2), int64(5), object(5)\n",
      "memory usage: 2.0+ MB\n"
     ]
    }
   ],
   "source": [
    "data.info()"
   ]
  },
  {
   "cell_type": "markdown",
   "id": "60e3e22d",
   "metadata": {
    "deletable": false,
    "editable": false,
    "id": "60e3e22d"
   },
   "source": [
    "## Предобработка данных"
   ]
  },
  {
   "cell_type": "markdown",
   "id": "03dc170c",
   "metadata": {
    "deletable": false,
    "editable": false,
    "id": "03dc170c"
   },
   "source": [
    "### Удаление пропусков"
   ]
  },
  {
   "cell_type": "markdown",
   "id": "a4f54eef",
   "metadata": {
    "deletable": false,
    "editable": false,
    "id": "a4f54eef"
   },
   "source": [
    "**Задание 4. Выведите количество пропущенных значений для каждого столбца. Используйте комбинацию двух методов.**"
   ]
  },
  {
   "cell_type": "code",
   "execution_count": 4,
   "id": "2dc372b2",
   "metadata": {
    "deletable": false,
    "id": "2dc372b2",
    "outputId": "81f4d817-781c-465c-ed15-91ce4446810d"
   },
   "outputs": [
    {
     "data": {
      "text/plain": [
       "children               0\n",
       "days_employed       2174\n",
       "dob_years              0\n",
       "education              0\n",
       "education_id           0\n",
       "family_status          0\n",
       "family_status_id       0\n",
       "gender                 0\n",
       "income_type            0\n",
       "debt                   0\n",
       "total_income        2174\n",
       "purpose                0\n",
       "dtype: int64"
      ]
     },
     "execution_count": 4,
     "metadata": {},
     "output_type": "execute_result"
    }
   ],
   "source": [
    "data.isna().sum()"
   ]
  },
  {
   "cell_type": "markdown",
   "id": "14f011b1",
   "metadata": {
    "deletable": false,
    "editable": false,
    "id": "14f011b1"
   },
   "source": [
    "**Задание 5. В двух столбцах есть пропущенные значения. Один из них — `days_employed`. Пропуски в этом столбце вы обработаете на следующем этапе. Другой столбец с пропущенными значениями — `total_income` — хранит данные о доходах. На сумму дохода сильнее всего влияет тип занятости, поэтому заполнить пропуски в этом столбце нужно медианным значением по каждому типу из столбца `income_type`. Например, у человека с типом занятости `сотрудник` пропуск в столбце `total_income` должен быть заполнен медианным доходом среди всех записей с тем же типом.**"
   ]
  },
  {
   "cell_type": "code",
   "execution_count": 5,
   "id": "bdabfb6e",
   "metadata": {
    "deletable": false,
    "id": "bdabfb6e"
   },
   "outputs": [],
   "source": [
    "for t in data['income_type'].unique():\n",
    "    data.loc[(data['income_type'] == t) & (data['total_income'].isna()), 'total_income'] = \\\n",
    "    data.loc[(data['income_type'] == t), 'total_income'].median()"
   ]
  },
  {
   "cell_type": "markdown",
   "id": "5be34059",
   "metadata": {
    "deletable": false,
    "editable": false,
    "id": "5be34059"
   },
   "source": [
    "### Обработка аномальных значений"
   ]
  },
  {
   "cell_type": "markdown",
   "id": "a87606cb",
   "metadata": {
    "deletable": false,
    "editable": false,
    "id": "a87606cb"
   },
   "source": [
    "**Задание 6. В данных могут встречаться артефакты (аномалии) — значения, которые не отражают действительность и появились по какой-то ошибке. таким артефактом будет отрицательное количество дней трудового стажа в столбце `days_employed`. Для реальных данных это нормально. Обработайте значения в этом столбце: замените все отрицательные значения положительными с помощью метода `abs()`.**"
   ]
  },
  {
   "cell_type": "code",
   "execution_count": 6,
   "id": "020c46cc",
   "metadata": {
    "deletable": false,
    "id": "020c46cc"
   },
   "outputs": [],
   "source": [
    "data['days_employed'] = data['days_employed'].abs()"
   ]
  },
  {
   "cell_type": "markdown",
   "id": "45538a3a",
   "metadata": {
    "deletable": false,
    "editable": false,
    "id": "45538a3a"
   },
   "source": [
    "**Задание 7. Для каждого типа занятости выведите медианное значение трудового стажа `days_employed` в днях.**"
   ]
  },
  {
   "cell_type": "code",
   "execution_count": 7,
   "id": "cd3e6328",
   "metadata": {
    "deletable": false,
    "id": "cd3e6328",
    "outputId": "801ef80e-522b-4668-f34e-565af7432bcf"
   },
   "outputs": [
    {
     "data": {
      "text/plain": [
       "income_type\n",
       "безработный        366413.652744\n",
       "в декрете            3296.759962\n",
       "госслужащий          2689.368353\n",
       "компаньон            1547.382223\n",
       "пенсионер          365213.306266\n",
       "предприниматель       520.848083\n",
       "сотрудник            1574.202821\n",
       "студент               578.751554\n",
       "Name: days_employed, dtype: float64"
      ]
     },
     "execution_count": 7,
     "metadata": {},
     "output_type": "execute_result"
    }
   ],
   "source": [
    "data.groupby('income_type')['days_employed'].agg('median')"
   ]
  },
  {
   "cell_type": "markdown",
   "id": "90c5f058",
   "metadata": {
    "deletable": false,
    "editable": false,
    "id": "90c5f058"
   },
   "source": [
    "У двух типов (безработные и пенсионеры) получатся аномально большие значения. Исправить такие значения сложно, поэтому оставьте их как есть."
   ]
  },
  {
   "cell_type": "markdown",
   "id": "9652e50d",
   "metadata": {
    "deletable": false,
    "editable": false,
    "id": "9652e50d"
   },
   "source": [
    "**Задание 8. Выведите перечень уникальных значений столбца `children`.**"
   ]
  },
  {
   "cell_type": "code",
   "execution_count": 8,
   "id": "dbb37b8e",
   "metadata": {
    "deletable": false,
    "id": "dbb37b8e",
    "outputId": "6975b15c-7f95-4697-d16d-a0c79b657b03"
   },
   "outputs": [
    {
     "data": {
      "text/plain": [
       "array([ 1,  0,  3,  2, -1,  4, 20,  5])"
      ]
     },
     "execution_count": 8,
     "metadata": {},
     "output_type": "execute_result"
    }
   ],
   "source": [
    "data['children'].unique()"
   ]
  },
  {
   "cell_type": "markdown",
   "id": "2b8b0715",
   "metadata": {
    "deletable": false,
    "editable": false,
    "id": "2b8b0715"
   },
   "source": [
    "**Задание 9. В столбце `children` есть два аномальных значения. Удалите строки, в которых встречаются такие аномальные значения из датафрейма `data`.**"
   ]
  },
  {
   "cell_type": "code",
   "execution_count": 9,
   "id": "20009df8",
   "metadata": {
    "deletable": false,
    "id": "20009df8"
   },
   "outputs": [],
   "source": [
    "data = data[(data['children'] != -1) & (data['children'] != 20)]"
   ]
  },
  {
   "cell_type": "markdown",
   "id": "8c6ac9f1",
   "metadata": {
    "deletable": false,
    "editable": false,
    "id": "8c6ac9f1"
   },
   "source": [
    "**Задание 10. Ещё раз выведите перечень уникальных значений столбца `children`, чтобы убедиться, что артефакты удалены.**"
   ]
  },
  {
   "cell_type": "code",
   "execution_count": 10,
   "id": "07337b81",
   "metadata": {
    "deletable": false,
    "id": "07337b81",
    "outputId": "b2097101-d49d-44d9-901b-32a65c9463d1"
   },
   "outputs": [
    {
     "data": {
      "text/plain": [
       "array([1, 0, 3, 2, 4, 5])"
      ]
     },
     "execution_count": 10,
     "metadata": {},
     "output_type": "execute_result"
    }
   ],
   "source": [
    "data['children'].unique()"
   ]
  },
  {
   "cell_type": "markdown",
   "id": "ee3f52d4",
   "metadata": {
    "deletable": false,
    "editable": false,
    "id": "ee3f52d4"
   },
   "source": [
    "### Удаление пропусков (продолжение)"
   ]
  },
  {
   "cell_type": "markdown",
   "id": "a700b0e4",
   "metadata": {
    "deletable": false,
    "editable": false,
    "id": "a700b0e4"
   },
   "source": [
    "**Задание 11. Заполните пропуски в столбце `days_employed` медианными значениями по каждого типа занятости `income_type`.**"
   ]
  },
  {
   "cell_type": "code",
   "execution_count": 11,
   "id": "61946b83",
   "metadata": {
    "deletable": false,
    "id": "61946b83"
   },
   "outputs": [],
   "source": [
    "for t in data['income_type'].unique():\n",
    "    data.loc[(data['income_type'] == t) & (data['days_employed'].isna()), 'days_employed'] = \\\n",
    "    data.loc[(data['income_type'] == t), 'days_employed'].median()"
   ]
  },
  {
   "cell_type": "markdown",
   "id": "550dcd9b",
   "metadata": {
    "deletable": false,
    "editable": false,
    "id": "550dcd9b"
   },
   "source": [
    "**Задание 12. Убедитесь, что все пропуски заполнены. Проверьте себя и ещё раз выведите количество пропущенных значений для каждого столбца с помощью двух методов.**"
   ]
  },
  {
   "cell_type": "code",
   "execution_count": 12,
   "id": "937c7014",
   "metadata": {
    "deletable": false,
    "id": "937c7014",
    "outputId": "8da1e4e1-358e-4e87-98c9-f261bce0a7b2"
   },
   "outputs": [
    {
     "data": {
      "text/plain": [
       "children            0\n",
       "days_employed       0\n",
       "dob_years           0\n",
       "education           0\n",
       "education_id        0\n",
       "family_status       0\n",
       "family_status_id    0\n",
       "gender              0\n",
       "income_type         0\n",
       "debt                0\n",
       "total_income        0\n",
       "purpose             0\n",
       "dtype: int64"
      ]
     },
     "execution_count": 12,
     "metadata": {},
     "output_type": "execute_result"
    }
   ],
   "source": [
    "data.isna().sum()"
   ]
  },
  {
   "cell_type": "markdown",
   "id": "d522e295",
   "metadata": {
    "deletable": false,
    "editable": false,
    "id": "d522e295"
   },
   "source": [
    "### Изменение типов данных"
   ]
  },
  {
   "cell_type": "markdown",
   "id": "c229c581",
   "metadata": {
    "deletable": false,
    "editable": false,
    "id": "c229c581"
   },
   "source": [
    "**Задание 13. Замените вещественный тип данных в столбце `total_income` на целочисленный с помощью метода `astype()`.**"
   ]
  },
  {
   "cell_type": "code",
   "execution_count": 13,
   "id": "31036462",
   "metadata": {
    "deletable": false,
    "id": "31036462"
   },
   "outputs": [],
   "source": [
    "data['total_income'] = data['total_income'].astype(int)"
   ]
  },
  {
   "cell_type": "markdown",
   "id": "b8e3d1d9",
   "metadata": {
    "deletable": false,
    "editable": false,
    "id": "b8e3d1d9"
   },
   "source": [
    "### Обработка дубликатов"
   ]
  },
  {
   "cell_type": "markdown",
   "id": "9be53c49",
   "metadata": {
    "deletable": false,
    "editable": false,
    "id": "9be53c49"
   },
   "source": [
    "**Задание 14. Обработайте неявные дубликаты в столбце `education`. В этом столбце есть одни и те же значения, но записанные по-разному: с использованием заглавных и строчных букв. Приведите их к нижнему регистру.**"
   ]
  },
  {
   "cell_type": "code",
   "execution_count": 14,
   "id": "d89e73e1",
   "metadata": {
    "deletable": false,
    "id": "d89e73e1"
   },
   "outputs": [],
   "source": [
    "data['education'] = data['education'].str.lower()"
   ]
  },
  {
   "cell_type": "markdown",
   "id": "01d4500e",
   "metadata": {
    "deletable": false,
    "editable": false,
    "id": "01d4500e"
   },
   "source": [
    "**Задание 15. Выведите на экран количество строк-дубликатов в данных. Если такие строки присутствуют, удалите их.**"
   ]
  },
  {
   "cell_type": "code",
   "execution_count": 15,
   "id": "e10efb23",
   "metadata": {
    "deletable": false,
    "id": "e10efb23",
    "outputId": "9684deba-1934-42d1-99e1-cda61740f822"
   },
   "outputs": [
    {
     "data": {
      "text/plain": [
       "71"
      ]
     },
     "execution_count": 15,
     "metadata": {},
     "output_type": "execute_result"
    }
   ],
   "source": [
    "data.duplicated().sum()"
   ]
  },
  {
   "cell_type": "code",
   "execution_count": 16,
   "id": "df853f20",
   "metadata": {
    "deletable": false,
    "id": "df853f20"
   },
   "outputs": [],
   "source": [
    "data = data.drop_duplicates()"
   ]
  },
  {
   "cell_type": "markdown",
   "id": "627be38f",
   "metadata": {
    "deletable": false,
    "editable": false,
    "id": "627be38f"
   },
   "source": [
    "### Категоризация данных"
   ]
  },
  {
   "cell_type": "markdown",
   "id": "4684c3e0",
   "metadata": {
    "deletable": false,
    "editable": false,
    "id": "4684c3e0"
   },
   "source": [
    "**Задание 16. На основании диапазонов, указанных ниже, создайте в датафрейме `data` столбец `total_income_category` с категориями:**\n",
    "\n",
    "- 0–30000 — `'E'`;\n",
    "- 30001–50000 — `'D'`;\n",
    "- 50001–200000 — `'C'`;\n",
    "- 200001–1000000 — `'B'`;\n",
    "- 1000001 и выше — `'A'`.\n",
    "\n",
    "\n",
    "**Например, кредитополучателю с доходом 25000 нужно назначить категорию `'E'`, а клиенту, получающему 235000, — `'B'`. Используйте собственную функцию с именем `categorize_income()` и метод `apply()`.**"
   ]
  },
  {
   "cell_type": "code",
   "execution_count": 17,
   "id": "78965238",
   "metadata": {
    "deletable": false,
    "id": "78965238"
   },
   "outputs": [],
   "source": [
    "def categorize_income(income):\n",
    "    try:\n",
    "        if 0 <= income <= 30000:\n",
    "            return 'E'\n",
    "        elif 30001 <= income <= 50000:\n",
    "            return 'D'\n",
    "        elif 50001 <= income <= 200000:\n",
    "            return 'C'\n",
    "        elif 200001 <= income <= 1000000:\n",
    "            return 'B'\n",
    "        elif income >= 1000001:\n",
    "            return 'A'\n",
    "    except:\n",
    "        pass"
   ]
  },
  {
   "cell_type": "code",
   "execution_count": 18,
   "id": "0980ada1",
   "metadata": {
    "deletable": false,
    "id": "0980ada1"
   },
   "outputs": [],
   "source": [
    "data['total_income_category'] = data['total_income'].apply(categorize_income)"
   ]
  },
  {
   "cell_type": "markdown",
   "id": "9917bba0",
   "metadata": {
    "deletable": false,
    "editable": false,
    "id": "9917bba0"
   },
   "source": [
    "**Задание 17. Выведите на экран перечень уникальных целей взятия кредита из столбца `purpose`.**"
   ]
  },
  {
   "cell_type": "code",
   "execution_count": 19,
   "id": "ee07b65e",
   "metadata": {
    "deletable": false,
    "id": "ee07b65e",
    "outputId": "673c12d9-7d7e-4ae0-9812-c622c89dd244"
   },
   "outputs": [
    {
     "data": {
      "text/plain": [
       "array(['покупка жилья', 'приобретение автомобиля',\n",
       "       'дополнительное образование', 'сыграть свадьбу',\n",
       "       'операции с жильем', 'образование', 'на проведение свадьбы',\n",
       "       'покупка жилья для семьи', 'покупка недвижимости',\n",
       "       'покупка коммерческой недвижимости', 'покупка жилой недвижимости',\n",
       "       'строительство собственной недвижимости', 'недвижимость',\n",
       "       'строительство недвижимости', 'на покупку подержанного автомобиля',\n",
       "       'на покупку своего автомобиля',\n",
       "       'операции с коммерческой недвижимостью',\n",
       "       'строительство жилой недвижимости', 'жилье',\n",
       "       'операции со своей недвижимостью', 'автомобили',\n",
       "       'заняться образованием', 'сделка с подержанным автомобилем',\n",
       "       'получение образования', 'автомобиль', 'свадьба',\n",
       "       'получение дополнительного образования', 'покупка своего жилья',\n",
       "       'операции с недвижимостью', 'получение высшего образования',\n",
       "       'свой автомобиль', 'сделка с автомобилем',\n",
       "       'профильное образование', 'высшее образование',\n",
       "       'покупка жилья для сдачи', 'на покупку автомобиля', 'ремонт жилью',\n",
       "       'заняться высшим образованием'], dtype=object)"
      ]
     },
     "execution_count": 19,
     "metadata": {},
     "output_type": "execute_result"
    }
   ],
   "source": [
    "data['purpose'].unique()"
   ]
  },
  {
   "cell_type": "markdown",
   "id": "52b79d56",
   "metadata": {
    "deletable": false,
    "editable": false,
    "id": "52b79d56"
   },
   "source": [
    "**Задание 18. Создайте функцию, которая на основании данных из столбца `purpose` сформирует новый столбец `purpose_category`, в который войдут следующие категории:**\n",
    "\n",
    "- `'операции с автомобилем'`,\n",
    "- `'операции с недвижимостью'`,\n",
    "- `'проведение свадьбы'`,\n",
    "- `'получение образования'`.\n",
    "\n",
    "**Например, если в столбце `purpose` находится подстрока `'на покупку автомобиля'`, то в столбце `purpose_category` должна появиться строка `'операции с автомобилем'`.**\n",
    "\n",
    "**Используйте собственную функцию с именем `categorize_purpose()` и метод `apply()`. Изучите данные в столбце `purpose` и определите, какие подстроки помогут вам правильно определить категорию.**"
   ]
  },
  {
   "cell_type": "code",
   "execution_count": 20,
   "id": "be41da5d",
   "metadata": {
    "deletable": false,
    "id": "be41da5d"
   },
   "outputs": [],
   "source": [
    "def categorize_purpose(row):\n",
    "    try:\n",
    "        if 'автом' in row:\n",
    "            return 'операции с автомобилем'\n",
    "        elif 'жил' in row or 'недвиж' in row:\n",
    "            return 'операции с недвижимостью'\n",
    "        elif 'свад' in row:\n",
    "            return 'проведение свадьбы'\n",
    "        elif 'образов' in row:\n",
    "            return 'получение образования'\n",
    "    except:\n",
    "        return 'нет категории'"
   ]
  },
  {
   "cell_type": "code",
   "execution_count": 21,
   "id": "94c4a19a",
   "metadata": {
    "deletable": false,
    "id": "94c4a19a"
   },
   "outputs": [],
   "source": [
    "data['purpose_category'] = data['purpose'].apply(categorize_purpose)"
   ]
  },
  {
   "cell_type": "markdown",
   "id": "3d596c34",
   "metadata": {
    "deletable": false,
    "editable": false,
    "id": "3d596c34"
   },
   "source": [
    "### Шаг 3. Исследуйте данные и ответьте на вопросы"
   ]
  },
  {
   "cell_type": "markdown",
   "id": "648db036",
   "metadata": {
    "deletable": false,
    "editable": false,
    "id": "648db036"
   },
   "source": [
    "#### 3.1 Есть ли зависимость между количеством детей и возвратом кредита в срок?"
   ]
  },
  {
   "cell_type": "code",
   "execution_count": 22,
   "id": "7fcff25e",
   "metadata": {
    "deletable": false,
    "id": "7fcff25e"
   },
   "outputs": [
    {
     "data": {
      "text/html": [
       "<div>\n",
       "<style scoped>\n",
       "    .dataframe tbody tr th:only-of-type {\n",
       "        vertical-align: middle;\n",
       "    }\n",
       "\n",
       "    .dataframe tbody tr th {\n",
       "        vertical-align: top;\n",
       "    }\n",
       "\n",
       "    .dataframe thead th {\n",
       "        text-align: right;\n",
       "    }\n",
       "</style>\n",
       "<table border=\"1\" class=\"dataframe\">\n",
       "  <thead>\n",
       "    <tr style=\"text-align: right;\">\n",
       "      <th></th>\n",
       "      <th>count</th>\n",
       "      <th>sum</th>\n",
       "      <th>ratio</th>\n",
       "    </tr>\n",
       "    <tr>\n",
       "      <th>children</th>\n",
       "      <th></th>\n",
       "      <th></th>\n",
       "      <th></th>\n",
       "    </tr>\n",
       "  </thead>\n",
       "  <tbody>\n",
       "    <tr>\n",
       "      <th>5</th>\n",
       "      <td>9</td>\n",
       "      <td>0</td>\n",
       "      <td>0.000000</td>\n",
       "    </tr>\n",
       "    <tr>\n",
       "      <th>0</th>\n",
       "      <td>14091</td>\n",
       "      <td>1063</td>\n",
       "      <td>7.543822</td>\n",
       "    </tr>\n",
       "    <tr>\n",
       "      <th>3</th>\n",
       "      <td>330</td>\n",
       "      <td>27</td>\n",
       "      <td>8.181818</td>\n",
       "    </tr>\n",
       "    <tr>\n",
       "      <th>1</th>\n",
       "      <td>4808</td>\n",
       "      <td>444</td>\n",
       "      <td>9.234609</td>\n",
       "    </tr>\n",
       "    <tr>\n",
       "      <th>2</th>\n",
       "      <td>2052</td>\n",
       "      <td>194</td>\n",
       "      <td>9.454191</td>\n",
       "    </tr>\n",
       "    <tr>\n",
       "      <th>4</th>\n",
       "      <td>41</td>\n",
       "      <td>4</td>\n",
       "      <td>9.756098</td>\n",
       "    </tr>\n",
       "  </tbody>\n",
       "</table>\n",
       "</div>"
      ],
      "text/plain": [
       "          count   sum     ratio\n",
       "children                       \n",
       "5             9     0  0.000000\n",
       "0         14091  1063  7.543822\n",
       "3           330    27  8.181818\n",
       "1          4808   444  9.234609\n",
       "2          2052   194  9.454191\n",
       "4            41     4  9.756098"
      ]
     },
     "metadata": {},
     "output_type": "display_data"
    }
   ],
   "source": [
    "data_pivot = data.pivot_table(index=['children'], values='debt', aggfunc={'count', 'sum'})\n",
    "data_pivot['ratio'] = ((data_pivot['sum']) / (data_pivot['count'])) * 100\n",
    "data_pivot = data_pivot.sort_values(by='ratio', ascending=True)\n",
    "display(data_pivot)"
   ]
  },
  {
   "cell_type": "markdown",
   "id": "2eb9088e",
   "metadata": {
    "deletable": false,
    "id": "2eb9088e"
   },
   "source": [
    "**Вывод:** Исходя из полученных данных, можно сделать вывод, что корреляция между количеством детей и возвратом кредита в срок довольна низка. Заемщики, у которых 5 детей исполняют обязательства вовремя. Это происходит из малого процента закредитованности данной категории: скорее всего из-за больших семейных расходов и невозможности взять кредит. По остальным категориям заемщиков можно сказать, что процент невозвратности практически одинаковый: на этот показатель влияют такие факторы, как ответственность и платежеспобность, чаще всего к просрочкам приводят либо финансовые трудности, либо форс-мажорные ситуации, которые ни клиент, на этапе подачи заявки, ни банк, на этапе андеррайтинга предсказать не могут. Однако, категорией, с наибольшим процентом невозвратности являются семьи с 4 детьми, в частности, к таким событиям приводит большая финансовая нагрузка.\n",
    "Если сравнивать самые многочисленные группы, то семьи без детей качественней исполняют свои кредитные обязательства, нежели семьи с 1 или 2 ребенком, в виду повышенной финансовой нагрузки из-за лиц, находящихся на иждивении."
   ]
  },
  {
   "cell_type": "markdown",
   "id": "74c9b3a7",
   "metadata": {
    "deletable": false,
    "editable": false,
    "id": "74c9b3a7"
   },
   "source": [
    "#### 3.2 Есть ли зависимость между семейным положением и возвратом кредита в срок?"
   ]
  },
  {
   "cell_type": "code",
   "execution_count": 23,
   "id": "8098ab3b",
   "metadata": {
    "deletable": false,
    "id": "8098ab3b"
   },
   "outputs": [
    {
     "name": "stdout",
     "output_type": "stream",
     "text": [
      "                       count  sum     ratio\n",
      "family_status                              \n",
      "вдовец / вдова           951   63  6.624606\n",
      "в разводе               1189   84  7.064760\n",
      "женат / замужем        12261  927  7.560558\n",
      "гражданский брак        4134  385  9.313014\n",
      "Не женат / не замужем   2796  273  9.763948\n"
     ]
    }
   ],
   "source": [
    "data_pivot_family = data.pivot_table(index='family_status', values='debt', aggfunc={'count', 'sum'})\n",
    "data_pivot_family['ratio'] = ((data_pivot_family['sum']) / (data_pivot_family['count'])) * 100\n",
    "data_pivot_family = data_pivot_family.sort_values(by='ratio', ascending=True)\n",
    "display(data_pivot_family)\n",
    "# Ваш код будет здесь. Вы можете создавать новые ячейки."
   ]
  },
  {
   "cell_type": "markdown",
   "id": "c389ca63",
   "metadata": {
    "deletable": false,
    "id": "c389ca63"
   },
   "source": [
    "**Вывод:** Зависимость есть. В данной ситуации можно сказать, что люди не состоящие в браке, либо состоящие в неофициальном браке имеют самый высокий процент невозвратности, скорее всего, из-за молодого возраста, финансовой нестабильности. Категории лиц, находящихся в браке, либо ранее состоявшие в нем, все-таки лучше демострируют свою способность вовремя вернуть кредит, но на просрочку могут также влиять форс-мажоры, которые были описаны ранее. Вдовы и вдовцы для банка являются наименьшей группа риска, в виду финансовой стабильности, чаще всего пожилого возраста, который демонстрирует большую ответственность. "
   ]
  },
  {
   "cell_type": "markdown",
   "id": "9529de68",
   "metadata": {
    "deletable": false,
    "editable": false,
    "id": "9529de68"
   },
   "source": [
    "#### 3.3 Есть ли зависимость между уровнем дохода и возвратом кредита в срок?"
   ]
  },
  {
   "cell_type": "code",
   "execution_count": 24,
   "id": "8787f44a",
   "metadata": {
    "deletable": false,
    "id": "8787f44a"
   },
   "outputs": [
    {
     "data": {
      "text/html": [
       "<div>\n",
       "<style scoped>\n",
       "    .dataframe tbody tr th:only-of-type {\n",
       "        vertical-align: middle;\n",
       "    }\n",
       "\n",
       "    .dataframe tbody tr th {\n",
       "        vertical-align: top;\n",
       "    }\n",
       "\n",
       "    .dataframe thead th {\n",
       "        text-align: right;\n",
       "    }\n",
       "</style>\n",
       "<table border=\"1\" class=\"dataframe\">\n",
       "  <thead>\n",
       "    <tr style=\"text-align: right;\">\n",
       "      <th></th>\n",
       "      <th>count</th>\n",
       "      <th>sum</th>\n",
       "      <th>ratio</th>\n",
       "    </tr>\n",
       "    <tr>\n",
       "      <th>total_income_category</th>\n",
       "      <th></th>\n",
       "      <th></th>\n",
       "      <th></th>\n",
       "    </tr>\n",
       "  </thead>\n",
       "  <tbody>\n",
       "    <tr>\n",
       "      <th>D</th>\n",
       "      <td>349</td>\n",
       "      <td>21</td>\n",
       "      <td>6.017192</td>\n",
       "    </tr>\n",
       "    <tr>\n",
       "      <th>B</th>\n",
       "      <td>5014</td>\n",
       "      <td>354</td>\n",
       "      <td>7.060231</td>\n",
       "    </tr>\n",
       "    <tr>\n",
       "      <th>A</th>\n",
       "      <td>25</td>\n",
       "      <td>2</td>\n",
       "      <td>8.000000</td>\n",
       "    </tr>\n",
       "    <tr>\n",
       "      <th>C</th>\n",
       "      <td>15921</td>\n",
       "      <td>1353</td>\n",
       "      <td>8.498210</td>\n",
       "    </tr>\n",
       "    <tr>\n",
       "      <th>E</th>\n",
       "      <td>22</td>\n",
       "      <td>2</td>\n",
       "      <td>9.090909</td>\n",
       "    </tr>\n",
       "  </tbody>\n",
       "</table>\n",
       "</div>"
      ],
      "text/plain": [
       "                       count   sum     ratio\n",
       "total_income_category                       \n",
       "D                        349    21  6.017192\n",
       "B                       5014   354  7.060231\n",
       "A                         25     2  8.000000\n",
       "C                      15921  1353  8.498210\n",
       "E                         22     2  9.090909"
      ]
     },
     "metadata": {},
     "output_type": "display_data"
    }
   ],
   "source": [
    "data_pivot_income = data.pivot_table(index='total_income_category', values='debt', aggfunc={'count', 'sum'})\n",
    "data_pivot_income['ratio'] = ((data_pivot_income['sum']) / (data_pivot_income['count'])) * 100\n",
    "data_pivot_income = data_pivot_income.sort_values(by='ratio', ascending=True)\n",
    "display(data_pivot_income)\n",
    "# Ваш код будет здесь. Вы можете создавать новые ячейки."
   ]
  },
  {
   "cell_type": "markdown",
   "id": "6dd14b57",
   "metadata": {
    "deletable": false,
    "id": "6dd14b57"
   },
   "source": [
    "**Вывод:** Самый высокий процент возвратности кредита у категории лиц с доходом от 30 т.р. до 50 т.р. Чаще всего это простые работающие люди, которые довольно ответственны по отношению к своим обязательствам, а также в виду низкого дохода, не допускают просрочек по причине возникновения в последствии трудностей в оплате штрафов и пени, которые начиляются на просроченную задолженность. Лица, у которых доход варьируется от 200 т.р. до 1 млн. руб., а также выше 1 млн. руб. имеют чуть больший процент, так как чаще всего при таких доходах кредит берется на ведение предпринимательской деятельности, например, на пополнение оборотных средств. Здесь огромную роль играют риски, связанные со стабильностью бизнеса. Лица, имеющие доход от 50 т.р до 200 т.р. имеют процент невозвратности выше, чем предыдущие, чаще всего, такие люди имеют несколько кредитных обязательств и высокую финансовую нагрузку, что приводит к просроченной задолженности. Самая неплатежеспособная категория6 где доход не превышает 30 т.р. Здесь все просто: клиент не имеет стабильного финансового положения, имеет либо очень маленький доход, либо он отсутствует. Исходя из этого, зависимость между уровнем дохода и возвратом кредита в срок есть!\n",
    "Учитывая данные самых многочисленных групп - с доходом от 200 т.р. до 1 млн руб и от 50 т.р. до 200 т.р. можно сказать, что вторые имеют больший риск из-за финансового положения. Также, как ранее было сказано, они могут иметь большую финансовую нагрузку, поэтому есть возможность невозврата кредита в срок."
   ]
  },
  {
   "cell_type": "markdown",
   "id": "1dcc9b12",
   "metadata": {
    "deletable": false,
    "editable": false,
    "id": "1dcc9b12"
   },
   "source": [
    "#### 3.4 Как разные цели кредита влияют на его возврат в срок?"
   ]
  },
  {
   "cell_type": "code",
   "execution_count": 25,
   "id": "c602bc8b",
   "metadata": {
    "deletable": false,
    "id": "c602bc8b"
   },
   "outputs": [
    {
     "name": "stdout",
     "output_type": "stream",
     "text": [
      "                          count  sum     ratio\n",
      "purpose_category                              \n",
      "операции с недвижимостью  10751  780  7.255139\n",
      "проведение свадьбы         2313  183  7.911803\n",
      "получение образования      3988  369  9.252758\n",
      "операции с автомобилем     4279  400  9.347978\n"
     ]
    }
   ],
   "source": [
    "data_pivot_purpose = data.pivot_table(index='purpose_category', values='debt', aggfunc={'count', 'sum'})\n",
    "data_pivot_purpose['ratio'] = ((data_pivot_purpose['sum']) / (data_pivot_purpose['count'])) * 100\n",
    "data_pivot_purpose = data_pivot_purpose.sort_values(by='ratio', ascending=True)\n",
    "display(data_pivot_purpose)\n",
    "# Ваш код будет здесь. Вы можете создавать новые ячейки."
   ]
  },
  {
   "cell_type": "markdown",
   "id": "cf05ed63",
   "metadata": {
    "deletable": false,
    "id": "cf05ed63"
   },
   "source": [
    "**Вывод:** Зависимость присутствует. Чаще всего кредит под залог недвижимости выдается крупным чеком и имеет существенное дорогостоящее обеспечение, поэтому заемщики стараются в срок исполнить обязательство, так как есть вероятность реализации имущества в случае длительной просрочки. Кредит на свадьбу берут молодые семьи, либо родители молодоженов. Здесь играет роль большая ответственность как родителей, так и молодой семьи, поэтому процент возвратности выше. Больший процент невозвратности имеют потребительские кредиты, в большинстве случаев они не обеспечены и могут появиться при большой финансовой нагрузке, когда финансовое положение оставляет желать лучшего."
   ]
  },
  {
   "cell_type": "markdown",
   "id": "46c1f10b",
   "metadata": {
    "deletable": false,
    "editable": false,
    "id": "46c1f10b"
   },
   "source": [
    "#### 3.5 Приведите возможные причины появления пропусков в исходных данных."
   ]
  },
  {
   "cell_type": "markdown",
   "id": "3697d2a9",
   "metadata": {
    "deletable": false,
    "id": "3697d2a9"
   },
   "source": [
    "*Ответ:* Чаще всего это человеческий фактор. В изначальных данных были допущены пропуски в категориях, отражающие доходы и опыт работы, кто-то, например, мог скрыть эти данные. Также играют немаловажную роль неверный ввод данных, сокрытие информации, повреждение файла данных при сохранении, технические проблемы."
   ]
  },
  {
   "cell_type": "markdown",
   "id": "3137d257",
   "metadata": {
    "deletable": false,
    "editable": false,
    "id": "3137d257"
   },
   "source": [
    "#### 3.6 Объясните, почему заполнить пропуски медианным значением — лучшее решение для количественных переменных."
   ]
  },
  {
   "cell_type": "markdown",
   "id": "cf40012a",
   "metadata": {
    "deletable": false,
    "id": "cf40012a"
   },
   "source": [
    "*Ответ:* Для количественных переменных медиана является хорошим решением для заполнения пропусков, поскольку она отражает значение, которое делит набор данных на две равные части, что существенно влияет на точность результата, по сравнению с методом, в котором ищется среднее арифметическое значение."
   ]
  },
  {
   "cell_type": "markdown",
   "id": "57bc304e",
   "metadata": {
    "deletable": false,
    "editable": false,
    "id": "57bc304e"
   },
   "source": [
    "### Шаг 4: общий вывод."
   ]
  },
  {
   "cell_type": "markdown",
   "id": "1ab75d1c",
   "metadata": {
    "deletable": false,
    "id": "1ab75d1c"
   },
   "source": [
    "    В результате работы были обработаны данные о клиентах: доход, семейное положение, цели кредита, кредитная история, трудовой стаж, количество детей в семье. Исходя из этого были выдвинуты гипотезы - некоторые подтвердились, а некоторые, наоборот, были опровергнуты. \n",
    "    Корреляция по выдвинутым гипотезам прослеживается не сильно. Однако, основные влияющие факторы, на возратность кредита - доход, финансовая нагрузка, семейное положение, а также наличие обеспечения. По текущим данным можно составить портреты благонадежных и неблагонадежных заемщиков. Благонадежный заемщик чаще всего либо находится в браке, либо разведен, имеет доход от 30 до 50 тыс. руб. Самые неблагонадежная категория - люди с низким заработком: 30000>.\n",
    "    Рекомендую обратить внимание на качество сбора данных: необходимо собрать данные по всем категориям у каждого клиента, чтобы повысить точность исследования. В данном примере пропущенные значения были устранены медианными."
   ]
  }
 ],
 "metadata": {
  "ExecuteTimeLog": [
   {
    "duration": 663,
    "start_time": "2024-03-03T16:35:39.850Z"
   },
   {
    "duration": 19,
    "start_time": "2024-03-03T16:35:40.514Z"
   },
   {
    "duration": 21,
    "start_time": "2024-03-03T16:35:40.534Z"
   },
   {
    "duration": 10,
    "start_time": "2024-03-03T16:35:40.556Z"
   },
   {
    "duration": 38,
    "start_time": "2024-03-03T16:35:40.568Z"
   },
   {
    "duration": 2,
    "start_time": "2024-03-03T16:35:40.608Z"
   },
   {
    "duration": 7,
    "start_time": "2024-03-03T16:35:40.611Z"
   },
   {
    "duration": 3,
    "start_time": "2024-03-03T16:35:40.620Z"
   },
   {
    "duration": 17,
    "start_time": "2024-03-03T16:35:40.624Z"
   },
   {
    "duration": 10,
    "start_time": "2024-03-03T16:35:40.642Z"
   },
   {
    "duration": 26,
    "start_time": "2024-03-03T16:35:40.653Z"
   },
   {
    "duration": 8,
    "start_time": "2024-03-03T16:35:40.680Z"
   },
   {
    "duration": 4,
    "start_time": "2024-03-03T16:35:40.689Z"
   },
   {
    "duration": 23,
    "start_time": "2024-03-03T16:35:40.695Z"
   },
   {
    "duration": 22,
    "start_time": "2024-03-03T16:35:40.719Z"
   },
   {
    "duration": 14,
    "start_time": "2024-03-03T16:35:40.742Z"
   },
   {
    "duration": 4,
    "start_time": "2024-03-03T16:35:40.757Z"
   },
   {
    "duration": 13,
    "start_time": "2024-03-03T16:35:40.762Z"
   },
   {
    "duration": 9,
    "start_time": "2024-03-03T16:35:40.776Z"
   },
   {
    "duration": 2,
    "start_time": "2024-03-03T16:35:40.787Z"
   },
   {
    "duration": 11,
    "start_time": "2024-03-03T16:35:40.790Z"
   },
   {
    "duration": 15,
    "start_time": "2024-03-03T16:35:40.802Z"
   },
   {
    "duration": 2,
    "start_time": "2024-03-03T16:35:40.818Z"
   },
   {
    "duration": 23,
    "start_time": "2024-03-03T16:35:40.822Z"
   },
   {
    "duration": 10,
    "start_time": "2024-03-03T16:35:40.847Z"
   },
   {
    "duration": 61,
    "start_time": "2024-03-03T16:41:57.344Z"
   },
   {
    "duration": 12,
    "start_time": "2024-03-03T16:41:57.406Z"
   },
   {
    "duration": 24,
    "start_time": "2024-03-03T16:41:57.419Z"
   },
   {
    "duration": 7,
    "start_time": "2024-03-03T16:41:57.444Z"
   },
   {
    "duration": 31,
    "start_time": "2024-03-03T16:41:57.452Z"
   },
   {
    "duration": 3,
    "start_time": "2024-03-03T16:41:57.483Z"
   },
   {
    "duration": 8,
    "start_time": "2024-03-03T16:41:57.487Z"
   },
   {
    "duration": 18,
    "start_time": "2024-03-03T16:41:57.496Z"
   },
   {
    "duration": 5,
    "start_time": "2024-03-03T16:41:57.515Z"
   },
   {
    "duration": 6,
    "start_time": "2024-03-03T16:41:57.521Z"
   },
   {
    "duration": 27,
    "start_time": "2024-03-03T16:41:57.528Z"
   },
   {
    "duration": 7,
    "start_time": "2024-03-03T16:41:57.556Z"
   },
   {
    "duration": 5,
    "start_time": "2024-03-03T16:41:57.564Z"
   },
   {
    "duration": 9,
    "start_time": "2024-03-03T16:41:57.571Z"
   },
   {
    "duration": 14,
    "start_time": "2024-03-03T16:41:57.581Z"
   },
   {
    "duration": 12,
    "start_time": "2024-03-03T16:41:57.596Z"
   },
   {
    "duration": 3,
    "start_time": "2024-03-03T16:41:57.609Z"
   },
   {
    "duration": 23,
    "start_time": "2024-03-03T16:41:57.613Z"
   },
   {
    "duration": 4,
    "start_time": "2024-03-03T16:41:57.638Z"
   },
   {
    "duration": 4,
    "start_time": "2024-03-03T16:41:57.643Z"
   },
   {
    "duration": 14,
    "start_time": "2024-03-03T16:41:57.648Z"
   },
   {
    "duration": 22,
    "start_time": "2024-03-03T16:41:57.663Z"
   },
   {
    "duration": 2,
    "start_time": "2024-03-03T16:41:57.686Z"
   },
   {
    "duration": 4,
    "start_time": "2024-03-03T16:41:57.689Z"
   },
   {
    "duration": 4,
    "start_time": "2024-03-03T16:41:57.694Z"
   },
   {
    "duration": 63,
    "start_time": "2024-03-03T16:42:39.671Z"
   },
   {
    "duration": 13,
    "start_time": "2024-03-03T16:42:39.736Z"
   },
   {
    "duration": 17,
    "start_time": "2024-03-03T16:42:39.750Z"
   },
   {
    "duration": 10,
    "start_time": "2024-03-03T16:42:39.768Z"
   },
   {
    "duration": 29,
    "start_time": "2024-03-03T16:42:39.780Z"
   },
   {
    "duration": 2,
    "start_time": "2024-03-03T16:42:39.810Z"
   },
   {
    "duration": 11,
    "start_time": "2024-03-03T16:42:39.814Z"
   },
   {
    "duration": 4,
    "start_time": "2024-03-03T16:42:39.826Z"
   },
   {
    "duration": 4,
    "start_time": "2024-03-03T16:42:39.832Z"
   },
   {
    "duration": 3,
    "start_time": "2024-03-03T16:42:39.857Z"
   },
   {
    "duration": 28,
    "start_time": "2024-03-03T16:42:39.861Z"
   },
   {
    "duration": 7,
    "start_time": "2024-03-03T16:42:39.891Z"
   },
   {
    "duration": 13,
    "start_time": "2024-03-03T16:42:39.899Z"
   },
   {
    "duration": 10,
    "start_time": "2024-03-03T16:42:39.915Z"
   },
   {
    "duration": 15,
    "start_time": "2024-03-03T16:42:39.927Z"
   },
   {
    "duration": 26,
    "start_time": "2024-03-03T16:42:39.943Z"
   },
   {
    "duration": 3,
    "start_time": "2024-03-03T16:42:39.970Z"
   },
   {
    "duration": 11,
    "start_time": "2024-03-03T16:42:39.974Z"
   },
   {
    "duration": 5,
    "start_time": "2024-03-03T16:42:39.986Z"
   },
   {
    "duration": 3,
    "start_time": "2024-03-03T16:42:39.992Z"
   },
   {
    "duration": 9,
    "start_time": "2024-03-03T16:42:39.996Z"
   },
   {
    "duration": 34,
    "start_time": "2024-03-03T16:42:40.006Z"
   },
   {
    "duration": 3,
    "start_time": "2024-03-03T16:42:40.041Z"
   },
   {
    "duration": 10,
    "start_time": "2024-03-03T16:42:40.045Z"
   },
   {
    "duration": 15,
    "start_time": "2024-03-03T16:42:40.057Z"
   },
   {
    "duration": 65,
    "start_time": "2024-03-03T18:30:58.858Z"
   },
   {
    "duration": 13,
    "start_time": "2024-03-03T18:30:58.925Z"
   },
   {
    "duration": 13,
    "start_time": "2024-03-03T18:30:58.939Z"
   },
   {
    "duration": 9,
    "start_time": "2024-03-03T18:30:58.954Z"
   },
   {
    "duration": 35,
    "start_time": "2024-03-03T18:30:58.965Z"
   },
   {
    "duration": 3,
    "start_time": "2024-03-03T18:30:59.001Z"
   },
   {
    "duration": 15,
    "start_time": "2024-03-03T18:30:59.005Z"
   },
   {
    "duration": 4,
    "start_time": "2024-03-03T18:30:59.021Z"
   },
   {
    "duration": 6,
    "start_time": "2024-03-03T18:30:59.026Z"
   },
   {
    "duration": 4,
    "start_time": "2024-03-03T18:30:59.034Z"
   },
   {
    "duration": 46,
    "start_time": "2024-03-03T18:30:59.039Z"
   },
   {
    "duration": 7,
    "start_time": "2024-03-03T18:30:59.087Z"
   },
   {
    "duration": 5,
    "start_time": "2024-03-03T18:30:59.095Z"
   },
   {
    "duration": 14,
    "start_time": "2024-03-03T18:30:59.101Z"
   },
   {
    "duration": 18,
    "start_time": "2024-03-03T18:30:59.116Z"
   },
   {
    "duration": 25,
    "start_time": "2024-03-03T18:30:59.135Z"
   },
   {
    "duration": 5,
    "start_time": "2024-03-03T18:30:59.161Z"
   },
   {
    "duration": 16,
    "start_time": "2024-03-03T18:30:59.167Z"
   },
   {
    "duration": 5,
    "start_time": "2024-03-03T18:30:59.185Z"
   },
   {
    "duration": 14,
    "start_time": "2024-03-03T18:30:59.191Z"
   },
   {
    "duration": 17,
    "start_time": "2024-03-03T18:30:59.206Z"
   },
   {
    "duration": 20,
    "start_time": "2024-03-03T18:30:59.224Z"
   },
   {
    "duration": 4,
    "start_time": "2024-03-03T18:30:59.246Z"
   },
   {
    "duration": 4,
    "start_time": "2024-03-03T18:30:59.251Z"
   },
   {
    "duration": 7,
    "start_time": "2024-03-03T18:30:59.256Z"
   },
   {
    "duration": 61,
    "start_time": "2024-03-03T18:31:21.273Z"
   },
   {
    "duration": 12,
    "start_time": "2024-03-03T18:31:21.336Z"
   },
   {
    "duration": 19,
    "start_time": "2024-03-03T18:31:21.349Z"
   },
   {
    "duration": 11,
    "start_time": "2024-03-03T18:31:21.371Z"
   },
   {
    "duration": 30,
    "start_time": "2024-03-03T18:31:21.384Z"
   },
   {
    "duration": 2,
    "start_time": "2024-03-03T18:31:21.416Z"
   },
   {
    "duration": 8,
    "start_time": "2024-03-03T18:31:21.420Z"
   },
   {
    "duration": 3,
    "start_time": "2024-03-03T18:31:21.429Z"
   },
   {
    "duration": 26,
    "start_time": "2024-03-03T18:31:21.433Z"
   },
   {
    "duration": 4,
    "start_time": "2024-03-03T18:31:21.461Z"
   },
   {
    "duration": 40,
    "start_time": "2024-03-03T18:31:21.466Z"
   },
   {
    "duration": 8,
    "start_time": "2024-03-03T18:31:21.507Z"
   },
   {
    "duration": 6,
    "start_time": "2024-03-03T18:31:21.516Z"
   },
   {
    "duration": 9,
    "start_time": "2024-03-03T18:31:21.524Z"
   },
   {
    "duration": 29,
    "start_time": "2024-03-03T18:31:21.534Z"
   },
   {
    "duration": 17,
    "start_time": "2024-03-03T18:31:21.564Z"
   },
   {
    "duration": 3,
    "start_time": "2024-03-03T18:31:21.583Z"
   },
   {
    "duration": 18,
    "start_time": "2024-03-03T18:31:21.587Z"
   },
   {
    "duration": 8,
    "start_time": "2024-03-03T18:31:21.606Z"
   },
   {
    "duration": 4,
    "start_time": "2024-03-03T18:31:21.615Z"
   },
   {
    "duration": 8,
    "start_time": "2024-03-03T18:31:21.620Z"
   },
   {
    "duration": 30,
    "start_time": "2024-03-03T18:31:21.629Z"
   },
   {
    "duration": 3,
    "start_time": "2024-03-03T18:31:21.660Z"
   },
   {
    "duration": 4,
    "start_time": "2024-03-03T18:31:21.664Z"
   },
   {
    "duration": 6,
    "start_time": "2024-03-03T18:31:21.669Z"
   },
   {
    "duration": 69,
    "start_time": "2024-03-03T18:33:07.411Z"
   },
   {
    "duration": 12,
    "start_time": "2024-03-03T18:33:07.481Z"
   },
   {
    "duration": 12,
    "start_time": "2024-03-03T18:33:07.495Z"
   },
   {
    "duration": 7,
    "start_time": "2024-03-03T18:33:07.508Z"
   },
   {
    "duration": 40,
    "start_time": "2024-03-03T18:33:07.517Z"
   },
   {
    "duration": 3,
    "start_time": "2024-03-03T18:33:07.559Z"
   },
   {
    "duration": 10,
    "start_time": "2024-03-03T18:33:07.563Z"
   },
   {
    "duration": 3,
    "start_time": "2024-03-03T18:33:07.574Z"
   },
   {
    "duration": 12,
    "start_time": "2024-03-03T18:33:07.578Z"
   },
   {
    "duration": 3,
    "start_time": "2024-03-03T18:33:07.591Z"
   },
   {
    "duration": 27,
    "start_time": "2024-03-03T18:33:07.595Z"
   },
   {
    "duration": 8,
    "start_time": "2024-03-03T18:33:07.623Z"
   },
   {
    "duration": 26,
    "start_time": "2024-03-03T18:33:07.632Z"
   },
   {
    "duration": 13,
    "start_time": "2024-03-03T18:33:07.660Z"
   },
   {
    "duration": 17,
    "start_time": "2024-03-03T18:33:07.674Z"
   },
   {
    "duration": 15,
    "start_time": "2024-03-03T18:33:07.692Z"
   },
   {
    "duration": 3,
    "start_time": "2024-03-03T18:33:07.708Z"
   },
   {
    "duration": 11,
    "start_time": "2024-03-03T18:33:07.712Z"
   },
   {
    "duration": 10,
    "start_time": "2024-03-03T18:33:07.724Z"
   },
   {
    "duration": 12,
    "start_time": "2024-03-03T18:33:07.735Z"
   },
   {
    "duration": 15,
    "start_time": "2024-03-03T18:33:07.748Z"
   },
   {
    "duration": 19,
    "start_time": "2024-03-03T18:33:07.764Z"
   },
   {
    "duration": 2,
    "start_time": "2024-03-03T18:33:07.784Z"
   },
   {
    "duration": 4,
    "start_time": "2024-03-03T18:33:07.787Z"
   },
   {
    "duration": 5,
    "start_time": "2024-03-03T18:33:07.792Z"
   },
   {
    "duration": 63,
    "start_time": "2024-03-03T18:33:22.767Z"
   },
   {
    "duration": 13,
    "start_time": "2024-03-03T18:33:22.832Z"
   },
   {
    "duration": 14,
    "start_time": "2024-03-03T18:33:22.846Z"
   },
   {
    "duration": 14,
    "start_time": "2024-03-03T18:33:22.862Z"
   },
   {
    "duration": 27,
    "start_time": "2024-03-03T18:33:22.877Z"
   },
   {
    "duration": 3,
    "start_time": "2024-03-03T18:33:22.905Z"
   },
   {
    "duration": 8,
    "start_time": "2024-03-03T18:33:22.909Z"
   },
   {
    "duration": 7,
    "start_time": "2024-03-03T18:33:22.918Z"
   },
   {
    "duration": 13,
    "start_time": "2024-03-03T18:33:22.926Z"
   },
   {
    "duration": 4,
    "start_time": "2024-03-03T18:33:22.941Z"
   },
   {
    "duration": 32,
    "start_time": "2024-03-03T18:33:22.959Z"
   },
   {
    "duration": 9,
    "start_time": "2024-03-03T18:33:22.992Z"
   },
   {
    "duration": 4,
    "start_time": "2024-03-03T18:33:23.002Z"
   },
   {
    "duration": 17,
    "start_time": "2024-03-03T18:33:23.007Z"
   },
   {
    "duration": 35,
    "start_time": "2024-03-03T18:33:23.026Z"
   },
   {
    "duration": 17,
    "start_time": "2024-03-03T18:33:23.063Z"
   },
   {
    "duration": 6,
    "start_time": "2024-03-03T18:33:23.081Z"
   },
   {
    "duration": 17,
    "start_time": "2024-03-03T18:33:23.089Z"
   },
   {
    "duration": 6,
    "start_time": "2024-03-03T18:33:23.107Z"
   },
   {
    "duration": 2,
    "start_time": "2024-03-03T18:33:23.114Z"
   },
   {
    "duration": 13,
    "start_time": "2024-03-03T18:33:23.118Z"
   },
   {
    "duration": 16,
    "start_time": "2024-03-03T18:33:23.132Z"
   },
   {
    "duration": 9,
    "start_time": "2024-03-03T18:33:23.149Z"
   },
   {
    "duration": 4,
    "start_time": "2024-03-03T18:33:23.159Z"
   },
   {
    "duration": 6,
    "start_time": "2024-03-03T18:33:23.164Z"
   },
   {
    "duration": 62,
    "start_time": "2024-03-03T18:50:42.620Z"
   },
   {
    "duration": 12,
    "start_time": "2024-03-03T18:50:42.683Z"
   },
   {
    "duration": 33,
    "start_time": "2024-03-03T18:50:42.696Z"
   },
   {
    "duration": 13,
    "start_time": "2024-03-03T18:50:42.730Z"
   },
   {
    "duration": 37,
    "start_time": "2024-03-03T18:50:42.744Z"
   },
   {
    "duration": 3,
    "start_time": "2024-03-03T18:50:42.782Z"
   },
   {
    "duration": 32,
    "start_time": "2024-03-03T18:50:42.786Z"
   },
   {
    "duration": 14,
    "start_time": "2024-03-03T18:50:42.819Z"
   },
   {
    "duration": 30,
    "start_time": "2024-03-03T18:50:42.834Z"
   },
   {
    "duration": 13,
    "start_time": "2024-03-03T18:50:42.865Z"
   },
   {
    "duration": 27,
    "start_time": "2024-03-03T18:50:42.879Z"
   },
   {
    "duration": 7,
    "start_time": "2024-03-03T18:50:42.907Z"
   },
   {
    "duration": 9,
    "start_time": "2024-03-03T18:50:42.915Z"
   },
   {
    "duration": 11,
    "start_time": "2024-03-03T18:50:42.926Z"
   },
   {
    "duration": 20,
    "start_time": "2024-03-03T18:50:42.938Z"
   },
   {
    "duration": 14,
    "start_time": "2024-03-03T18:50:42.959Z"
   },
   {
    "duration": 3,
    "start_time": "2024-03-03T18:50:42.974Z"
   },
   {
    "duration": 31,
    "start_time": "2024-03-03T18:50:42.978Z"
   },
   {
    "duration": 6,
    "start_time": "2024-03-03T18:50:43.010Z"
   },
   {
    "duration": 3,
    "start_time": "2024-03-03T18:50:43.017Z"
   },
   {
    "duration": 12,
    "start_time": "2024-03-03T18:50:43.021Z"
   },
   {
    "duration": 21,
    "start_time": "2024-03-03T18:50:43.034Z"
   },
   {
    "duration": 13,
    "start_time": "2024-03-03T18:50:43.056Z"
   },
   {
    "duration": 15,
    "start_time": "2024-03-03T18:50:43.070Z"
   },
   {
    "duration": 9,
    "start_time": "2024-03-03T18:50:43.086Z"
   },
   {
    "duration": 61,
    "start_time": "2024-03-03T18:51:04.446Z"
   },
   {
    "duration": 13,
    "start_time": "2024-03-03T18:51:04.508Z"
   },
   {
    "duration": 12,
    "start_time": "2024-03-03T18:51:04.522Z"
   },
   {
    "duration": 19,
    "start_time": "2024-03-03T18:51:04.535Z"
   },
   {
    "duration": 32,
    "start_time": "2024-03-03T18:51:04.555Z"
   },
   {
    "duration": 3,
    "start_time": "2024-03-03T18:51:04.588Z"
   },
   {
    "duration": 10,
    "start_time": "2024-03-03T18:51:04.592Z"
   },
   {
    "duration": 4,
    "start_time": "2024-03-03T18:51:04.603Z"
   },
   {
    "duration": 19,
    "start_time": "2024-03-03T18:51:04.608Z"
   },
   {
    "duration": 5,
    "start_time": "2024-03-03T18:51:04.630Z"
   },
   {
    "duration": 29,
    "start_time": "2024-03-03T18:51:04.637Z"
   },
   {
    "duration": 8,
    "start_time": "2024-03-03T18:51:04.668Z"
   },
   {
    "duration": 14,
    "start_time": "2024-03-03T18:51:04.678Z"
   },
   {
    "duration": 10,
    "start_time": "2024-03-03T18:51:04.694Z"
   },
   {
    "duration": 20,
    "start_time": "2024-03-03T18:51:04.705Z"
   },
   {
    "duration": 16,
    "start_time": "2024-03-03T18:51:04.726Z"
   },
   {
    "duration": 3,
    "start_time": "2024-03-03T18:51:04.743Z"
   },
   {
    "duration": 8,
    "start_time": "2024-03-03T18:51:04.757Z"
   },
   {
    "duration": 8,
    "start_time": "2024-03-03T18:51:04.766Z"
   },
   {
    "duration": 21,
    "start_time": "2024-03-03T18:51:04.775Z"
   },
   {
    "duration": 19,
    "start_time": "2024-03-03T18:51:04.797Z"
   },
   {
    "duration": 17,
    "start_time": "2024-03-03T18:51:04.818Z"
   },
   {
    "duration": 14,
    "start_time": "2024-03-03T18:51:04.837Z"
   },
   {
    "duration": 3,
    "start_time": "2024-03-03T18:51:04.853Z"
   },
   {
    "duration": 6,
    "start_time": "2024-03-03T18:51:04.857Z"
   },
   {
    "duration": 60,
    "start_time": "2024-03-03T18:59:27.244Z"
   },
   {
    "duration": 12,
    "start_time": "2024-03-03T18:59:27.306Z"
   },
   {
    "duration": 13,
    "start_time": "2024-03-03T18:59:27.319Z"
   },
   {
    "duration": 8,
    "start_time": "2024-03-03T18:59:27.333Z"
   },
   {
    "duration": 38,
    "start_time": "2024-03-03T18:59:27.343Z"
   },
   {
    "duration": 3,
    "start_time": "2024-03-03T18:59:27.382Z"
   },
   {
    "duration": 10,
    "start_time": "2024-03-03T18:59:27.387Z"
   },
   {
    "duration": 4,
    "start_time": "2024-03-03T18:59:27.398Z"
   },
   {
    "duration": 7,
    "start_time": "2024-03-03T18:59:27.404Z"
   },
   {
    "duration": 3,
    "start_time": "2024-03-03T18:59:27.412Z"
   },
   {
    "duration": 51,
    "start_time": "2024-03-03T18:59:27.416Z"
   },
   {
    "duration": 8,
    "start_time": "2024-03-03T18:59:27.469Z"
   },
   {
    "duration": 4,
    "start_time": "2024-03-03T18:59:27.479Z"
   },
   {
    "duration": 8,
    "start_time": "2024-03-03T18:59:27.486Z"
   },
   {
    "duration": 16,
    "start_time": "2024-03-03T18:59:27.496Z"
   },
   {
    "duration": 47,
    "start_time": "2024-03-03T18:59:27.514Z"
   },
   {
    "duration": 4,
    "start_time": "2024-03-03T18:59:27.562Z"
   },
   {
    "duration": 11,
    "start_time": "2024-03-03T18:59:27.567Z"
   },
   {
    "duration": 5,
    "start_time": "2024-03-03T18:59:27.580Z"
   },
   {
    "duration": 5,
    "start_time": "2024-03-03T18:59:27.587Z"
   },
   {
    "duration": 9,
    "start_time": "2024-03-03T18:59:27.593Z"
   },
   {
    "duration": 24,
    "start_time": "2024-03-03T18:59:27.603Z"
   },
   {
    "duration": 32,
    "start_time": "2024-03-03T18:59:27.628Z"
   },
   {
    "duration": 14,
    "start_time": "2024-03-03T18:59:27.661Z"
   },
   {
    "duration": 2,
    "start_time": "2024-03-03T18:59:27.677Z"
   },
   {
    "duration": 62,
    "start_time": "2024-03-03T18:59:41.399Z"
   },
   {
    "duration": 13,
    "start_time": "2024-03-03T18:59:41.462Z"
   },
   {
    "duration": 18,
    "start_time": "2024-03-03T18:59:41.477Z"
   },
   {
    "duration": 7,
    "start_time": "2024-03-03T18:59:41.497Z"
   },
   {
    "duration": 27,
    "start_time": "2024-03-03T18:59:41.506Z"
   },
   {
    "duration": 3,
    "start_time": "2024-03-03T18:59:41.535Z"
   },
   {
    "duration": 9,
    "start_time": "2024-03-03T18:59:41.558Z"
   },
   {
    "duration": 4,
    "start_time": "2024-03-03T18:59:41.568Z"
   },
   {
    "duration": 11,
    "start_time": "2024-03-03T18:59:41.574Z"
   },
   {
    "duration": 6,
    "start_time": "2024-03-03T18:59:41.586Z"
   },
   {
    "duration": 36,
    "start_time": "2024-03-03T18:59:41.594Z"
   },
   {
    "duration": 27,
    "start_time": "2024-03-03T18:59:41.631Z"
   },
   {
    "duration": 4,
    "start_time": "2024-03-03T18:59:41.659Z"
   },
   {
    "duration": 10,
    "start_time": "2024-03-03T18:59:41.665Z"
   },
   {
    "duration": 15,
    "start_time": "2024-03-03T18:59:41.676Z"
   },
   {
    "duration": 14,
    "start_time": "2024-03-03T18:59:41.693Z"
   },
   {
    "duration": 3,
    "start_time": "2024-03-03T18:59:41.708Z"
   },
   {
    "duration": 10,
    "start_time": "2024-03-03T18:59:41.712Z"
   },
   {
    "duration": 35,
    "start_time": "2024-03-03T18:59:41.723Z"
   },
   {
    "duration": 3,
    "start_time": "2024-03-03T18:59:41.759Z"
   },
   {
    "duration": 9,
    "start_time": "2024-03-03T18:59:41.763Z"
   },
   {
    "duration": 15,
    "start_time": "2024-03-03T18:59:41.773Z"
   },
   {
    "duration": 14,
    "start_time": "2024-03-03T18:59:41.789Z"
   },
   {
    "duration": 16,
    "start_time": "2024-03-03T18:59:41.804Z"
   },
   {
    "duration": 2,
    "start_time": "2024-03-03T18:59:41.821Z"
   },
   {
    "duration": 66,
    "start_time": "2024-03-03T19:01:36.253Z"
   },
   {
    "duration": 13,
    "start_time": "2024-03-03T19:01:36.321Z"
   },
   {
    "duration": 15,
    "start_time": "2024-03-03T19:01:36.335Z"
   },
   {
    "duration": 18,
    "start_time": "2024-03-03T19:01:36.351Z"
   },
   {
    "duration": 27,
    "start_time": "2024-03-03T19:01:36.371Z"
   },
   {
    "duration": 3,
    "start_time": "2024-03-03T19:01:36.399Z"
   },
   {
    "duration": 11,
    "start_time": "2024-03-03T19:01:36.403Z"
   },
   {
    "duration": 7,
    "start_time": "2024-03-03T19:01:36.416Z"
   },
   {
    "duration": 19,
    "start_time": "2024-03-03T19:01:36.424Z"
   },
   {
    "duration": 4,
    "start_time": "2024-03-03T19:01:36.445Z"
   },
   {
    "duration": 47,
    "start_time": "2024-03-03T19:01:36.450Z"
   },
   {
    "duration": 11,
    "start_time": "2024-03-03T19:01:36.499Z"
   },
   {
    "duration": 18,
    "start_time": "2024-03-03T19:01:36.511Z"
   },
   {
    "duration": 15,
    "start_time": "2024-03-03T19:01:36.531Z"
   },
   {
    "duration": 19,
    "start_time": "2024-03-03T19:01:36.547Z"
   },
   {
    "duration": 15,
    "start_time": "2024-03-03T19:01:36.567Z"
   },
   {
    "duration": 3,
    "start_time": "2024-03-03T19:01:36.583Z"
   },
   {
    "duration": 17,
    "start_time": "2024-03-03T19:01:36.587Z"
   },
   {
    "duration": 10,
    "start_time": "2024-03-03T19:01:36.605Z"
   },
   {
    "duration": 5,
    "start_time": "2024-03-03T19:01:36.616Z"
   },
   {
    "duration": 11,
    "start_time": "2024-03-03T19:01:36.622Z"
   },
   {
    "duration": 16,
    "start_time": "2024-03-03T19:01:36.634Z"
   },
   {
    "duration": 13,
    "start_time": "2024-03-03T19:01:36.651Z"
   },
   {
    "duration": 24,
    "start_time": "2024-03-03T19:01:36.665Z"
   },
   {
    "duration": 5,
    "start_time": "2024-03-03T19:01:36.690Z"
   },
   {
    "duration": 60,
    "start_time": "2024-03-03T19:19:15.315Z"
   },
   {
    "duration": 12,
    "start_time": "2024-03-03T19:19:15.376Z"
   },
   {
    "duration": 33,
    "start_time": "2024-03-03T19:19:15.389Z"
   },
   {
    "duration": 9,
    "start_time": "2024-03-03T19:19:15.424Z"
   },
   {
    "duration": 61,
    "start_time": "2024-03-03T19:19:15.434Z"
   },
   {
    "duration": 8,
    "start_time": "2024-03-03T19:19:15.496Z"
   },
   {
    "duration": 10,
    "start_time": "2024-03-03T19:19:15.505Z"
   },
   {
    "duration": 6,
    "start_time": "2024-03-03T19:19:15.516Z"
   },
   {
    "duration": 16,
    "start_time": "2024-03-03T19:19:15.523Z"
   },
   {
    "duration": 29,
    "start_time": "2024-03-03T19:19:15.541Z"
   },
   {
    "duration": 35,
    "start_time": "2024-03-03T19:19:15.572Z"
   },
   {
    "duration": 6,
    "start_time": "2024-03-03T19:19:15.608Z"
   },
   {
    "duration": 7,
    "start_time": "2024-03-03T19:19:15.615Z"
   },
   {
    "duration": 13,
    "start_time": "2024-03-03T19:19:15.623Z"
   },
   {
    "duration": 60,
    "start_time": "2024-03-03T19:19:15.637Z"
   },
   {
    "duration": 15,
    "start_time": "2024-03-03T19:19:15.699Z"
   },
   {
    "duration": 16,
    "start_time": "2024-03-03T19:19:15.715Z"
   },
   {
    "duration": 20,
    "start_time": "2024-03-03T19:19:15.733Z"
   },
   {
    "duration": 5,
    "start_time": "2024-03-03T19:19:15.755Z"
   },
   {
    "duration": 4,
    "start_time": "2024-03-03T19:19:15.761Z"
   },
   {
    "duration": 9,
    "start_time": "2024-03-03T19:19:15.766Z"
   },
   {
    "duration": 14,
    "start_time": "2024-03-03T19:19:15.776Z"
   },
   {
    "duration": 13,
    "start_time": "2024-03-03T19:19:15.791Z"
   },
   {
    "duration": 12,
    "start_time": "2024-03-03T19:19:15.805Z"
   },
   {
    "duration": 40,
    "start_time": "2024-03-03T19:19:15.818Z"
   },
   {
    "duration": 61,
    "start_time": "2024-03-03T19:19:35.670Z"
   },
   {
    "duration": 12,
    "start_time": "2024-03-03T19:19:35.733Z"
   },
   {
    "duration": 12,
    "start_time": "2024-03-03T19:19:35.746Z"
   },
   {
    "duration": 8,
    "start_time": "2024-03-03T19:19:35.759Z"
   },
   {
    "duration": 27,
    "start_time": "2024-03-03T19:19:35.769Z"
   },
   {
    "duration": 3,
    "start_time": "2024-03-03T19:19:35.797Z"
   },
   {
    "duration": 7,
    "start_time": "2024-03-03T19:19:35.801Z"
   },
   {
    "duration": 4,
    "start_time": "2024-03-03T19:19:35.810Z"
   },
   {
    "duration": 5,
    "start_time": "2024-03-03T19:19:35.815Z"
   },
   {
    "duration": 34,
    "start_time": "2024-03-03T19:19:35.823Z"
   },
   {
    "duration": 27,
    "start_time": "2024-03-03T19:19:35.858Z"
   },
   {
    "duration": 7,
    "start_time": "2024-03-03T19:19:35.886Z"
   },
   {
    "duration": 3,
    "start_time": "2024-03-03T19:19:35.894Z"
   },
   {
    "duration": 10,
    "start_time": "2024-03-03T19:19:35.898Z"
   },
   {
    "duration": 14,
    "start_time": "2024-03-03T19:19:35.909Z"
   },
   {
    "duration": 33,
    "start_time": "2024-03-03T19:19:35.924Z"
   },
   {
    "duration": 3,
    "start_time": "2024-03-03T19:19:35.958Z"
   },
   {
    "duration": 14,
    "start_time": "2024-03-03T19:19:35.962Z"
   },
   {
    "duration": 7,
    "start_time": "2024-03-03T19:19:35.977Z"
   },
   {
    "duration": 3,
    "start_time": "2024-03-03T19:19:35.986Z"
   },
   {
    "duration": 10,
    "start_time": "2024-03-03T19:19:35.991Z"
   },
   {
    "duration": 15,
    "start_time": "2024-03-03T19:19:36.003Z"
   },
   {
    "duration": 13,
    "start_time": "2024-03-03T19:19:36.019Z"
   },
   {
    "duration": 13,
    "start_time": "2024-03-03T19:19:36.058Z"
   },
   {
    "duration": 17,
    "start_time": "2024-03-03T19:19:36.072Z"
   },
   {
    "duration": 59,
    "start_time": "2024-03-03T19:38:36.172Z"
   },
   {
    "duration": 12,
    "start_time": "2024-03-03T19:38:36.232Z"
   },
   {
    "duration": 13,
    "start_time": "2024-03-03T19:38:36.245Z"
   },
   {
    "duration": 7,
    "start_time": "2024-03-03T19:38:36.260Z"
   },
   {
    "duration": 26,
    "start_time": "2024-03-03T19:38:36.268Z"
   },
   {
    "duration": 3,
    "start_time": "2024-03-03T19:38:36.295Z"
   },
   {
    "duration": 9,
    "start_time": "2024-03-03T19:38:36.299Z"
   },
   {
    "duration": 3,
    "start_time": "2024-03-03T19:38:36.309Z"
   },
   {
    "duration": 5,
    "start_time": "2024-03-03T19:38:36.313Z"
   },
   {
    "duration": 3,
    "start_time": "2024-03-03T19:38:36.320Z"
   },
   {
    "duration": 49,
    "start_time": "2024-03-03T19:38:36.324Z"
   },
   {
    "duration": 7,
    "start_time": "2024-03-03T19:38:36.375Z"
   },
   {
    "duration": 5,
    "start_time": "2024-03-03T19:38:36.383Z"
   },
   {
    "duration": 10,
    "start_time": "2024-03-03T19:38:36.389Z"
   },
   {
    "duration": 17,
    "start_time": "2024-03-03T19:38:36.400Z"
   },
   {
    "duration": 14,
    "start_time": "2024-03-03T19:38:36.418Z"
   },
   {
    "duration": 3,
    "start_time": "2024-03-03T19:38:36.433Z"
   },
   {
    "duration": 21,
    "start_time": "2024-03-03T19:38:36.437Z"
   },
   {
    "duration": 4,
    "start_time": "2024-03-03T19:38:36.460Z"
   },
   {
    "duration": 11,
    "start_time": "2024-03-03T19:38:36.465Z"
   },
   {
    "duration": 9,
    "start_time": "2024-03-03T19:38:36.477Z"
   },
   {
    "duration": 15,
    "start_time": "2024-03-03T19:38:36.487Z"
   },
   {
    "duration": 14,
    "start_time": "2024-03-03T19:38:36.503Z"
   },
   {
    "duration": 17,
    "start_time": "2024-03-03T19:38:36.519Z"
   },
   {
    "duration": 31,
    "start_time": "2024-03-03T19:38:36.537Z"
   },
   {
    "duration": 702,
    "start_time": "2024-03-05T07:32:00.015Z"
   },
   {
    "duration": 21,
    "start_time": "2024-03-05T07:32:00.719Z"
   },
   {
    "duration": 35,
    "start_time": "2024-03-05T07:32:00.741Z"
   },
   {
    "duration": 29,
    "start_time": "2024-03-05T07:32:00.778Z"
   },
   {
    "duration": 67,
    "start_time": "2024-03-05T07:32:00.808Z"
   },
   {
    "duration": 3,
    "start_time": "2024-03-05T07:32:00.877Z"
   },
   {
    "duration": 28,
    "start_time": "2024-03-05T07:32:00.881Z"
   },
   {
    "duration": 30,
    "start_time": "2024-03-05T07:32:00.911Z"
   },
   {
    "duration": 59,
    "start_time": "2024-03-05T07:32:00.943Z"
   },
   {
    "duration": 24,
    "start_time": "2024-03-05T07:32:01.004Z"
   },
   {
    "duration": 42,
    "start_time": "2024-03-05T07:32:01.030Z"
   },
   {
    "duration": 9,
    "start_time": "2024-03-05T07:32:01.074Z"
   },
   {
    "duration": 5,
    "start_time": "2024-03-05T07:32:01.085Z"
   },
   {
    "duration": 19,
    "start_time": "2024-03-05T07:32:01.091Z"
   },
   {
    "duration": 21,
    "start_time": "2024-03-05T07:32:01.112Z"
   },
   {
    "duration": 17,
    "start_time": "2024-03-05T07:32:01.135Z"
   },
   {
    "duration": 17,
    "start_time": "2024-03-05T07:32:01.153Z"
   },
   {
    "duration": 21,
    "start_time": "2024-03-05T07:32:01.171Z"
   },
   {
    "duration": 9,
    "start_time": "2024-03-05T07:32:01.194Z"
   },
   {
    "duration": 9,
    "start_time": "2024-03-05T07:32:01.205Z"
   },
   {
    "duration": 31,
    "start_time": "2024-03-05T07:32:01.215Z"
   },
   {
    "duration": 79,
    "start_time": "2024-03-05T07:32:01.247Z"
   },
   {
    "duration": 19,
    "start_time": "2024-03-05T07:32:01.328Z"
   },
   {
    "duration": 41,
    "start_time": "2024-03-05T07:32:01.348Z"
   },
   {
    "duration": 38,
    "start_time": "2024-03-05T07:32:01.390Z"
   }
  ],
  "colab": {
   "provenance": []
  },
  "kernelspec": {
   "display_name": "Python 3 (ipykernel)",
   "language": "python",
   "name": "python3"
  },
  "language_info": {
   "codemirror_mode": {
    "name": "ipython",
    "version": 3
   },
   "file_extension": ".py",
   "mimetype": "text/x-python",
   "name": "python",
   "nbconvert_exporter": "python",
   "pygments_lexer": "ipython3",
   "version": "3.11.5"
  },
  "toc": {
   "base_numbering": 1,
   "nav_menu": {},
   "number_sections": true,
   "sideBar": true,
   "skip_h1_title": true,
   "title_cell": "Table of Contents",
   "title_sidebar": "Contents",
   "toc_cell": false,
   "toc_position": {},
   "toc_section_display": true,
   "toc_window_display": false
  }
 },
 "nbformat": 4,
 "nbformat_minor": 5
}
