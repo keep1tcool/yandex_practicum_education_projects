{
 "cells": [
  {
   "cell_type": "markdown",
   "metadata": {
    "deletable": false,
    "editable": false,
    "id": "E0vqbgi9ay0H"
   },
   "source": [
    "# Яндекс Музыка"
   ]
  },
  {
   "cell_type": "markdown",
   "metadata": {
    "deletable": false,
    "editable": false,
    "id": "VUC88oWjTJw2"
   },
   "source": [
    "Сравнение Москвы и Петербурга окружено мифами. Например:\n",
    " * Москва — мегаполис, подчинённый жёсткому ритму рабочей недели;\n",
    " * Петербург — культурная столица, со своими вкусами.\n",
    "\n",
    "На данных Яндекс Музыки вы сравните поведение пользователей двух столиц.\n",
    "\n",
    "**Цель исследования** — проверьте три гипотезы:\n",
    "1. Активность пользователей зависит от дня недели. Причём в Москве и Петербурге это проявляется по-разному.\n",
    "2. В понедельник утром в Москве преобладают одни жанры, а в Петербурге — другие. Так же и вечером пятницы преобладают разные жанры — в зависимости от города.\n",
    "3. Москва и Петербург предпочитают разные жанры музыки. В Москве чаще слушают поп-музыку, в Петербурге — русский рэп.\n",
    "\n",
    "**Ход исследования**\n",
    "\n",
    "Данные о поведении пользователей вы получите из файла `yandex_music_project.csv`. О качестве данных ничего не известно. Поэтому перед проверкой гипотез понадобится обзор данных.\n",
    "\n",
    "Вы проверите данные на ошибки и оцените их влияние на исследование. Затем, на этапе предобработки вы поищете возможность исправить самые критичные ошибки данных.\n",
    "\n",
    "Таким образом, исследование пройдёт в три этапа:\n",
    " 1. Обзор данных.\n",
    " 2. Предобработка данных.\n",
    " 3. Проверка гипотез.\n",
    "\n"
   ]
  },
  {
   "cell_type": "markdown",
   "metadata": {
    "deletable": false,
    "editable": false,
    "id": "Ml1hmfXC_Zcs"
   },
   "source": [
    "## Обзор данных\n",
    "\n",
    "Составьте первое представление о данных Яндекс Музыки.\n",
    "\n",
    "\n"
   ]
  },
  {
   "cell_type": "markdown",
   "metadata": {
    "deletable": false,
    "editable": false,
    "id": "57eAOGIz_Zcs",
    "tags": [
     "start_task"
    ]
   },
   "source": [
    "**Задание 1**"
   ]
  },
  {
   "cell_type": "code",
   "execution_count": 361,
   "metadata": {
    "deletable": false,
    "id": "AXN7PHPN_Zcs"
   },
   "outputs": [],
   "source": [
    "import pandas as pd"
   ]
  },
  {
   "cell_type": "markdown",
   "metadata": {
    "deletable": false,
    "editable": false,
    "id": "SG23P8tt_Zcs",
    "tags": [
     "start_task"
    ]
   },
   "source": [
    "**Задание 2**"
   ]
  },
  {
   "cell_type": "code",
   "execution_count": 362,
   "metadata": {
    "deletable": false,
    "id": "fFVu7vqh_Zct"
   },
   "outputs": [],
   "source": [
    "df = pd.read_csv('/datasets/yandex_music_project.csv')"
   ]
  },
  {
   "cell_type": "markdown",
   "metadata": {
    "deletable": false,
    "editable": false,
    "id": "rDoOMd3uTqnZ",
    "tags": [
     "start_task"
    ]
   },
   "source": [
    "**Задание 3**"
   ]
  },
  {
   "cell_type": "code",
   "execution_count": 363,
   "metadata": {
    "deletable": false,
    "id": "oWTVX3gW_Zct"
   },
   "outputs": [
    {
     "data": {
      "text/html": [
       "<div>\n",
       "<style scoped>\n",
       "    .dataframe tbody tr th:only-of-type {\n",
       "        vertical-align: middle;\n",
       "    }\n",
       "\n",
       "    .dataframe tbody tr th {\n",
       "        vertical-align: top;\n",
       "    }\n",
       "\n",
       "    .dataframe thead th {\n",
       "        text-align: right;\n",
       "    }\n",
       "</style>\n",
       "<table border=\"1\" class=\"dataframe\">\n",
       "  <thead>\n",
       "    <tr style=\"text-align: right;\">\n",
       "      <th></th>\n",
       "      <th>userID</th>\n",
       "      <th>Track</th>\n",
       "      <th>artist</th>\n",
       "      <th>genre</th>\n",
       "      <th>City</th>\n",
       "      <th>time</th>\n",
       "      <th>Day</th>\n",
       "    </tr>\n",
       "  </thead>\n",
       "  <tbody>\n",
       "    <tr>\n",
       "      <th>0</th>\n",
       "      <td>FFB692EC</td>\n",
       "      <td>Kamigata To Boots</td>\n",
       "      <td>The Mass Missile</td>\n",
       "      <td>rock</td>\n",
       "      <td>Saint-Petersburg</td>\n",
       "      <td>20:28:33</td>\n",
       "      <td>Wednesday</td>\n",
       "    </tr>\n",
       "    <tr>\n",
       "      <th>1</th>\n",
       "      <td>55204538</td>\n",
       "      <td>Delayed Because of Accident</td>\n",
       "      <td>Andreas Rönnberg</td>\n",
       "      <td>rock</td>\n",
       "      <td>Moscow</td>\n",
       "      <td>14:07:09</td>\n",
       "      <td>Friday</td>\n",
       "    </tr>\n",
       "    <tr>\n",
       "      <th>2</th>\n",
       "      <td>20EC38</td>\n",
       "      <td>Funiculì funiculà</td>\n",
       "      <td>Mario Lanza</td>\n",
       "      <td>pop</td>\n",
       "      <td>Saint-Petersburg</td>\n",
       "      <td>20:58:07</td>\n",
       "      <td>Wednesday</td>\n",
       "    </tr>\n",
       "    <tr>\n",
       "      <th>3</th>\n",
       "      <td>A3DD03C9</td>\n",
       "      <td>Dragons in the Sunset</td>\n",
       "      <td>Fire + Ice</td>\n",
       "      <td>folk</td>\n",
       "      <td>Saint-Petersburg</td>\n",
       "      <td>08:37:09</td>\n",
       "      <td>Monday</td>\n",
       "    </tr>\n",
       "    <tr>\n",
       "      <th>4</th>\n",
       "      <td>E2DC1FAE</td>\n",
       "      <td>Soul People</td>\n",
       "      <td>Space Echo</td>\n",
       "      <td>dance</td>\n",
       "      <td>Moscow</td>\n",
       "      <td>08:34:34</td>\n",
       "      <td>Monday</td>\n",
       "    </tr>\n",
       "    <tr>\n",
       "      <th>5</th>\n",
       "      <td>842029A1</td>\n",
       "      <td>Преданная</td>\n",
       "      <td>IMPERVTOR</td>\n",
       "      <td>rusrap</td>\n",
       "      <td>Saint-Petersburg</td>\n",
       "      <td>13:09:41</td>\n",
       "      <td>Friday</td>\n",
       "    </tr>\n",
       "    <tr>\n",
       "      <th>6</th>\n",
       "      <td>4CB90AA5</td>\n",
       "      <td>True</td>\n",
       "      <td>Roman Messer</td>\n",
       "      <td>dance</td>\n",
       "      <td>Moscow</td>\n",
       "      <td>13:00:07</td>\n",
       "      <td>Wednesday</td>\n",
       "    </tr>\n",
       "    <tr>\n",
       "      <th>7</th>\n",
       "      <td>F03E1C1F</td>\n",
       "      <td>Feeling This Way</td>\n",
       "      <td>Polina Griffith</td>\n",
       "      <td>dance</td>\n",
       "      <td>Moscow</td>\n",
       "      <td>20:47:49</td>\n",
       "      <td>Wednesday</td>\n",
       "    </tr>\n",
       "    <tr>\n",
       "      <th>8</th>\n",
       "      <td>8FA1D3BE</td>\n",
       "      <td>И вновь продолжается бой</td>\n",
       "      <td>NaN</td>\n",
       "      <td>ruspop</td>\n",
       "      <td>Moscow</td>\n",
       "      <td>09:17:40</td>\n",
       "      <td>Friday</td>\n",
       "    </tr>\n",
       "    <tr>\n",
       "      <th>9</th>\n",
       "      <td>E772D5C0</td>\n",
       "      <td>Pessimist</td>\n",
       "      <td>NaN</td>\n",
       "      <td>dance</td>\n",
       "      <td>Saint-Petersburg</td>\n",
       "      <td>21:20:49</td>\n",
       "      <td>Wednesday</td>\n",
       "    </tr>\n",
       "  </tbody>\n",
       "</table>\n",
       "</div>"
      ],
      "text/plain": [
       "     userID                        Track            artist   genre  \\\n",
       "0  FFB692EC            Kamigata To Boots  The Mass Missile    rock   \n",
       "1  55204538  Delayed Because of Accident  Andreas Rönnberg    rock   \n",
       "2    20EC38            Funiculì funiculà       Mario Lanza     pop   \n",
       "3  A3DD03C9        Dragons in the Sunset        Fire + Ice    folk   \n",
       "4  E2DC1FAE                  Soul People        Space Echo   dance   \n",
       "5  842029A1                    Преданная         IMPERVTOR  rusrap   \n",
       "6  4CB90AA5                         True      Roman Messer   dance   \n",
       "7  F03E1C1F             Feeling This Way   Polina Griffith   dance   \n",
       "8  8FA1D3BE     И вновь продолжается бой               NaN  ruspop   \n",
       "9  E772D5C0                    Pessimist               NaN   dance   \n",
       "\n",
       "             City        time        Day  \n",
       "0  Saint-Petersburg  20:28:33  Wednesday  \n",
       "1            Moscow  14:07:09     Friday  \n",
       "2  Saint-Petersburg  20:58:07  Wednesday  \n",
       "3  Saint-Petersburg  08:37:09     Monday  \n",
       "4            Moscow  08:34:34     Monday  \n",
       "5  Saint-Petersburg  13:09:41     Friday  \n",
       "6            Moscow  13:00:07  Wednesday  \n",
       "7            Moscow  20:47:49  Wednesday  \n",
       "8            Moscow  09:17:40     Friday  \n",
       "9  Saint-Petersburg  21:20:49  Wednesday  "
      ]
     },
     "execution_count": 363,
     "metadata": {},
     "output_type": "execute_result"
    }
   ],
   "source": [
    "df.head(10)"
   ]
  },
  {
   "cell_type": "markdown",
   "metadata": {
    "deletable": false,
    "editable": false,
    "id": "EO73Kwic_Zct",
    "tags": [
     "start_task"
    ]
   },
   "source": [
    "**Задание 4**"
   ]
  },
  {
   "cell_type": "code",
   "execution_count": 364,
   "metadata": {
    "deletable": false,
    "id": "DSf2kIb-_Zct"
   },
   "outputs": [
    {
     "name": "stdout",
     "output_type": "stream",
     "text": [
      "<class 'pandas.core.frame.DataFrame'>\n",
      "RangeIndex: 65079 entries, 0 to 65078\n",
      "Data columns (total 7 columns):\n",
      " #   Column    Non-Null Count  Dtype \n",
      "---  ------    --------------  ----- \n",
      " 0     userID  65079 non-null  object\n",
      " 1   Track     63848 non-null  object\n",
      " 2   artist    57876 non-null  object\n",
      " 3   genre     63881 non-null  object\n",
      " 4     City    65079 non-null  object\n",
      " 5   time      65079 non-null  object\n",
      " 6   Day       65079 non-null  object\n",
      "dtypes: object(7)\n",
      "memory usage: 3.5+ MB\n"
     ]
    }
   ],
   "source": [
    "df.info()"
   ]
  },
  {
   "cell_type": "markdown",
   "metadata": {
    "deletable": false,
    "editable": false,
    "id": "TaQ2Iwbr_Zct"
   },
   "source": [
    "Количество значений в столбцах различается. Значит, в данных есть пропущенные значения."
   ]
  },
  {
   "cell_type": "markdown",
   "metadata": {
    "deletable": false,
    "editable": false,
    "id": "4P0UCWzswgEm",
    "tags": [
     "start_task"
    ]
   },
   "source": [
    "**Задание 5**"
   ]
  },
  {
   "cell_type": "code",
   "execution_count": 365,
   "metadata": {
    "id": "c137-ZstwgEm"
   },
   "outputs": [],
   "source": [
    "# Напишите ваш ответ здесь комментарием. Не удаляйте символ #. Не меняйте тип этой ячейки на Markdown."
   ]
  },
  {
   "cell_type": "markdown",
   "metadata": {
    "deletable": false,
    "editable": false,
    "id": "MCB6-dXG_Zct"
   },
   "source": [
    "**Выводы**\n",
    "\n",
    "В каждой строке таблицы — данные о прослушанном треке. Часть колонок описывает саму композицию: название, исполнителя и жанр. Остальные данные рассказывают о пользователе: из какого он города, когда он слушал музыку.\n",
    "\n",
    "Предварительно можно утверждать, что данных достаточно для проверки гипотез. Но встречаются пропуски в данных, а в названиях колонок — расхождения с хорошим стилем.\n",
    "\n",
    "Чтобы двигаться дальше, нужно устранить проблемы в данных."
   ]
  },
  {
   "cell_type": "markdown",
   "metadata": {
    "deletable": false,
    "editable": false,
    "id": "SjYF6Ub9_Zct"
   },
   "source": [
    "## Предобработка данных"
   ]
  },
  {
   "cell_type": "markdown",
   "metadata": {
    "deletable": false,
    "editable": false,
    "id": "dIaKXr29_Zct",
    "tags": [
     "start_task"
    ]
   },
   "source": [
    "### Переименование столбцов\n",
    "\n",
    "**Задание 6**"
   ]
  },
  {
   "cell_type": "code",
   "execution_count": 366,
   "metadata": {
    "deletable": false,
    "id": "oKOTdF_Q_Zct"
   },
   "outputs": [
    {
     "data": {
      "text/plain": [
       "Index(['  userID', 'Track', 'artist', 'genre', '  City  ', 'time', 'Day'], dtype='object')"
      ]
     },
     "execution_count": 366,
     "metadata": {},
     "output_type": "execute_result"
    }
   ],
   "source": [
    "df.columns"
   ]
  },
  {
   "cell_type": "markdown",
   "metadata": {
    "deletable": false,
    "editable": false,
    "id": "zj5534cv_Zct",
    "tags": [
     "start_task"
    ]
   },
   "source": [
    "**Задание 7**"
   ]
  },
  {
   "cell_type": "code",
   "execution_count": 367,
   "metadata": {
    "deletable": false,
    "id": "ISlFqs5y_Zct"
   },
   "outputs": [],
   "source": [
    "df = df.rename(\n",
    "columns={\n",
    "    '  userID': 'user_id',\n",
    "    'Track' : 'track',\n",
    "    '  City  ': 'city',\n",
    "    'Day': 'day'\n",
    "}    \n",
    ")"
   ]
  },
  {
   "cell_type": "markdown",
   "metadata": {
    "deletable": false,
    "editable": false,
    "id": "1dqbh00J_Zct",
    "tags": [
     "start_task"
    ]
   },
   "source": [
    "**Задание 8**"
   ]
  },
  {
   "cell_type": "code",
   "execution_count": 368,
   "metadata": {
    "deletable": false,
    "id": "d4NOAmTW_Zct"
   },
   "outputs": [
    {
     "data": {
      "text/plain": [
       "Index(['user_id', 'track', 'artist', 'genre', 'city', 'time', 'day'], dtype='object')"
      ]
     },
     "execution_count": 368,
     "metadata": {},
     "output_type": "execute_result"
    }
   ],
   "source": [
    "df.columns"
   ]
  },
  {
   "cell_type": "markdown",
   "metadata": {
    "deletable": false,
    "editable": false,
    "id": "5ISfbcfY_Zct",
    "tags": [
     "start_task"
    ]
   },
   "source": [
    "### Обработка пропущенных значений\n",
    "\n",
    "**Задание 9**"
   ]
  },
  {
   "cell_type": "code",
   "execution_count": 369,
   "metadata": {
    "deletable": false,
    "id": "RskX29qr_Zct"
   },
   "outputs": [
    {
     "data": {
      "text/plain": [
       "user_id       0\n",
       "track      1231\n",
       "artist     7203\n",
       "genre      1198\n",
       "city          0\n",
       "time          0\n",
       "day           0\n",
       "dtype: int64"
      ]
     },
     "execution_count": 369,
     "metadata": {},
     "output_type": "execute_result"
    }
   ],
   "source": [
    "df.isna().sum()"
   ]
  },
  {
   "cell_type": "markdown",
   "metadata": {
    "deletable": false,
    "editable": false,
    "id": "fSv2laPA_Zct",
    "tags": [
     "start_task"
    ]
   },
   "source": [
    "**Задание 10**"
   ]
  },
  {
   "cell_type": "code",
   "execution_count": 370,
   "metadata": {
    "deletable": false,
    "id": "KplB5qWs_Zct"
   },
   "outputs": [],
   "source": [
    "df = df.fillna('unknown')\n",
    "df['track'] = df['track'].fillna('unknown')\n"
   ]
  },
  {
   "cell_type": "markdown",
   "metadata": {
    "deletable": false,
    "editable": false,
    "id": "Ilsm-MZo_Zct",
    "tags": [
     "start_task"
    ]
   },
   "source": [
    "**Задание 11**"
   ]
  },
  {
   "cell_type": "code",
   "execution_count": 371,
   "metadata": {
    "deletable": false,
    "id": "Tq4nYRX4_Zct"
   },
   "outputs": [
    {
     "data": {
      "text/plain": [
       "user_id    0\n",
       "track      0\n",
       "artist     0\n",
       "genre      0\n",
       "city       0\n",
       "time       0\n",
       "day        0\n",
       "dtype: int64"
      ]
     },
     "execution_count": 371,
     "metadata": {},
     "output_type": "execute_result"
    }
   ],
   "source": [
    "df.isna().sum()"
   ]
  },
  {
   "cell_type": "markdown",
   "metadata": {
    "deletable": false,
    "editable": false,
    "id": "BWKRtBJ3_Zct",
    "tags": [
     "start_task"
    ]
   },
   "source": [
    "### Обработка дубликатов\n",
    "\n",
    "**Задание 12**"
   ]
  },
  {
   "cell_type": "code",
   "execution_count": 372,
   "metadata": {
    "deletable": false,
    "id": "36eES_S0_Zct"
   },
   "outputs": [
    {
     "data": {
      "text/plain": [
       "3826"
      ]
     },
     "execution_count": 372,
     "metadata": {},
     "output_type": "execute_result"
    }
   ],
   "source": [
    "df.duplicated().sum()"
   ]
  },
  {
   "cell_type": "markdown",
   "metadata": {
    "deletable": false,
    "editable": false,
    "id": "Ot25h6XR_Zct",
    "tags": [
     "start_task"
    ]
   },
   "source": [
    "**Задание 13**"
   ]
  },
  {
   "cell_type": "code",
   "execution_count": 373,
   "metadata": {
    "deletable": false,
    "id": "exFHq6tt_Zct"
   },
   "outputs": [],
   "source": [
    "df = df.drop_duplicates().reset_index(drop=True)"
   ]
  },
  {
   "cell_type": "markdown",
   "metadata": {
    "deletable": false,
    "editable": false,
    "id": "Im2YwBEG_Zct",
    "tags": [
     "start_task"
    ]
   },
   "source": [
    "**Задание 14**"
   ]
  },
  {
   "cell_type": "code",
   "execution_count": 374,
   "metadata": {
    "deletable": false,
    "id": "-8PuNWQ0_Zct"
   },
   "outputs": [
    {
     "data": {
      "text/plain": [
       "0"
      ]
     },
     "execution_count": 374,
     "metadata": {},
     "output_type": "execute_result"
    }
   ],
   "source": [
    "df.duplicated().sum()"
   ]
  },
  {
   "cell_type": "markdown",
   "metadata": {
    "deletable": false,
    "editable": false,
    "id": "eSjWwsOh_Zct",
    "tags": [
     "start_task"
    ]
   },
   "source": [
    "**Задание 15**"
   ]
  },
  {
   "cell_type": "code",
   "execution_count": 375,
   "metadata": {
    "deletable": false,
    "id": "JIUcqzZN_Zct"
   },
   "outputs": [
    {
     "data": {
      "text/plain": [
       "array(['acid', 'acoustic', 'action', 'adult', 'africa', 'afrikaans',\n",
       "       'alternative', 'alternativepunk', 'ambient', 'americana',\n",
       "       'animated', 'anime', 'arabesk', 'arabic', 'arena',\n",
       "       'argentinetango', 'art', 'audiobook', 'author', 'avantgarde',\n",
       "       'axé', 'baile', 'balkan', 'beats', 'bigroom', 'black', 'bluegrass',\n",
       "       'blues', 'bollywood', 'bossa', 'brazilian', 'breakbeat', 'breaks',\n",
       "       'broadway', 'cantautori', 'cantopop', 'canzone', 'caribbean',\n",
       "       'caucasian', 'celtic', 'chamber', 'chanson', 'children', 'chill',\n",
       "       'chinese', 'choral', 'christian', 'christmas', 'classical',\n",
       "       'classicmetal', 'club', 'colombian', 'comedy', 'conjazz',\n",
       "       'contemporary', 'country', 'cuban', 'dance', 'dancehall',\n",
       "       'dancepop', 'dark', 'death', 'deep', 'deutschrock', 'deutschspr',\n",
       "       'dirty', 'disco', 'dnb', 'documentary', 'downbeat', 'downtempo',\n",
       "       'drum', 'dub', 'dubstep', 'eastern', 'easy', 'electronic',\n",
       "       'electropop', 'emo', 'entehno', 'epicmetal', 'estrada', 'ethnic',\n",
       "       'eurofolk', 'european', 'experimental', 'extrememetal', 'fado',\n",
       "       'fairytail', 'film', 'fitness', 'flamenco', 'folk', 'folklore',\n",
       "       'folkmetal', 'folkrock', 'folktronica', 'forró', 'frankreich',\n",
       "       'französisch', 'french', 'funk', 'future', 'gangsta', 'garage',\n",
       "       'german', 'ghazal', 'gitarre', 'glitch', 'gospel', 'gothic',\n",
       "       'grime', 'grunge', 'gypsy', 'handsup', \"hard'n'heavy\", 'hardcore',\n",
       "       'hardstyle', 'hardtechno', 'hip', 'hip-hop', 'hiphop',\n",
       "       'historisch', 'holiday', 'hop', 'horror', 'house', 'hymn', 'idm',\n",
       "       'independent', 'indian', 'indie', 'indipop', 'industrial',\n",
       "       'inspirational', 'instrumental', 'international', 'irish', 'jam',\n",
       "       'japanese', 'jazz', 'jewish', 'jpop', 'jungle', 'k-pop',\n",
       "       'karadeniz', 'karaoke', 'kayokyoku', 'korean', 'laiko', 'latin',\n",
       "       'latino', 'leftfield', 'local', 'lounge', 'loungeelectronic',\n",
       "       'lovers', 'malaysian', 'mandopop', 'marschmusik', 'meditative',\n",
       "       'mediterranean', 'melodic', 'metal', 'metalcore', 'mexican',\n",
       "       'middle', 'minimal', 'miscellaneous', 'modern', 'mood', 'mpb',\n",
       "       'muslim', 'native', 'neoklassik', 'neue', 'new', 'newage',\n",
       "       'newwave', 'nu', 'nujazz', 'numetal', 'oceania', 'old', 'opera',\n",
       "       'orchestral', 'other', 'piano', 'podcasts', 'pop', 'popdance',\n",
       "       'popelectronic', 'popeurodance', 'poprussian', 'post',\n",
       "       'posthardcore', 'postrock', 'power', 'progmetal', 'progressive',\n",
       "       'psychedelic', 'punjabi', 'punk', 'quebecois', 'ragga', 'ram',\n",
       "       'rancheras', 'rap', 'rave', 'reggae', 'reggaeton', 'regional',\n",
       "       'relax', 'religious', 'retro', 'rhythm', 'rnb', 'rnr', 'rock',\n",
       "       'rockabilly', 'rockalternative', 'rockindie', 'rockother',\n",
       "       'romance', 'roots', 'ruspop', 'rusrap', 'rusrock', 'russian',\n",
       "       'salsa', 'samba', 'scenic', 'schlager', 'self', 'sertanejo',\n",
       "       'shanson', 'shoegazing', 'showtunes', 'singer', 'ska', 'skarock',\n",
       "       'slow', 'smooth', 'soft', 'soul', 'soulful', 'sound', 'soundtrack',\n",
       "       'southern', 'specialty', 'speech', 'spiritual', 'sport',\n",
       "       'stonerrock', 'surf', 'swing', 'synthpop', 'synthrock',\n",
       "       'sängerportrait', 'tango', 'tanzorchester', 'taraftar', 'tatar',\n",
       "       'tech', 'techno', 'teen', 'thrash', 'top', 'traditional',\n",
       "       'tradjazz', 'trance', 'tribal', 'trip', 'triphop', 'tropical',\n",
       "       'türk', 'türkçe', 'ukrrock', 'unknown', 'urban', 'uzbek',\n",
       "       'variété', 'vi', 'videogame', 'vocal', 'western', 'world',\n",
       "       'worldbeat', 'ïîï', 'электроника'], dtype=object)"
      ]
     },
     "execution_count": 375,
     "metadata": {},
     "output_type": "execute_result"
    }
   ],
   "source": [
    "df['genre'].sort_values().unique()"
   ]
  },
  {
   "cell_type": "markdown",
   "metadata": {
    "deletable": false,
    "editable": false,
    "id": "qej-Qmuo_Zct",
    "tags": [
     "start_task"
    ]
   },
   "source": [
    "**Задание 16**"
   ]
  },
  {
   "cell_type": "code",
   "execution_count": 376,
   "metadata": {
    "deletable": false,
    "id": "ErNDkmns_Zct"
   },
   "outputs": [
    {
     "name": "stdout",
     "output_type": "stream",
     "text": [
      "0              rock\n",
      "1              rock\n",
      "2               pop\n",
      "3              folk\n",
      "4             dance\n",
      "            ...    \n",
      "61248           rnb\n",
      "61249        hiphop\n",
      "61250    industrial\n",
      "61251          rock\n",
      "61252       country\n",
      "Name: genre, Length: 61253, dtype: object\n"
     ]
    }
   ],
   "source": [
    "df['genre'] = df['genre'].replace('hip', 'hiphop')\n",
    "df['genre'] = df['genre'].replace('hop', 'hiphop')\n",
    "df['genre'] = df['genre'].replace('hip-hop', 'hiphop')\n",
    "print(df['genre'])"
   ]
  },
  {
   "cell_type": "markdown",
   "metadata": {
    "deletable": false,
    "editable": false,
    "id": "zQKF16_RG15m",
    "tags": [
     "start_task"
    ]
   },
   "source": [
    "**Задание 17**"
   ]
  },
  {
   "cell_type": "code",
   "execution_count": 377,
   "metadata": {
    "deletable": false,
    "id": "wvixALnFG15m"
   },
   "outputs": [
    {
     "name": "stdout",
     "output_type": "stream",
     "text": [
      "['acid' 'acoustic' 'action' 'adult' 'africa' 'afrikaans' 'alternative'\n",
      " 'alternativepunk' 'ambient' 'americana' 'animated' 'anime' 'arabesk'\n",
      " 'arabic' 'arena' 'argentinetango' 'art' 'audiobook' 'author' 'avantgarde'\n",
      " 'axé' 'baile' 'balkan' 'beats' 'bigroom' 'black' 'bluegrass' 'blues'\n",
      " 'bollywood' 'bossa' 'brazilian' 'breakbeat' 'breaks' 'broadway'\n",
      " 'cantautori' 'cantopop' 'canzone' 'caribbean' 'caucasian' 'celtic'\n",
      " 'chamber' 'chanson' 'children' 'chill' 'chinese' 'choral' 'christian'\n",
      " 'christmas' 'classical' 'classicmetal' 'club' 'colombian' 'comedy'\n",
      " 'conjazz' 'contemporary' 'country' 'cuban' 'dance' 'dancehall' 'dancepop'\n",
      " 'dark' 'death' 'deep' 'deutschrock' 'deutschspr' 'dirty' 'disco' 'dnb'\n",
      " 'documentary' 'downbeat' 'downtempo' 'drum' 'dub' 'dubstep' 'eastern'\n",
      " 'easy' 'electronic' 'electropop' 'emo' 'entehno' 'epicmetal' 'estrada'\n",
      " 'ethnic' 'eurofolk' 'european' 'experimental' 'extrememetal' 'fado'\n",
      " 'fairytail' 'film' 'fitness' 'flamenco' 'folk' 'folklore' 'folkmetal'\n",
      " 'folkrock' 'folktronica' 'forró' 'frankreich' 'französisch' 'french'\n",
      " 'funk' 'future' 'gangsta' 'garage' 'german' 'ghazal' 'gitarre' 'glitch'\n",
      " 'gospel' 'gothic' 'grime' 'grunge' 'gypsy' 'handsup' \"hard'n'heavy\"\n",
      " 'hardcore' 'hardstyle' 'hardtechno' 'hiphop' 'historisch' 'holiday'\n",
      " 'horror' 'house' 'hymn' 'idm' 'independent' 'indian' 'indie' 'indipop'\n",
      " 'industrial' 'inspirational' 'instrumental' 'international' 'irish' 'jam'\n",
      " 'japanese' 'jazz' 'jewish' 'jpop' 'jungle' 'k-pop' 'karadeniz' 'karaoke'\n",
      " 'kayokyoku' 'korean' 'laiko' 'latin' 'latino' 'leftfield' 'local'\n",
      " 'lounge' 'loungeelectronic' 'lovers' 'malaysian' 'mandopop' 'marschmusik'\n",
      " 'meditative' 'mediterranean' 'melodic' 'metal' 'metalcore' 'mexican'\n",
      " 'middle' 'minimal' 'miscellaneous' 'modern' 'mood' 'mpb' 'muslim'\n",
      " 'native' 'neoklassik' 'neue' 'new' 'newage' 'newwave' 'nu' 'nujazz'\n",
      " 'numetal' 'oceania' 'old' 'opera' 'orchestral' 'other' 'piano' 'podcasts'\n",
      " 'pop' 'popdance' 'popelectronic' 'popeurodance' 'poprussian' 'post'\n",
      " 'posthardcore' 'postrock' 'power' 'progmetal' 'progressive' 'psychedelic'\n",
      " 'punjabi' 'punk' 'quebecois' 'ragga' 'ram' 'rancheras' 'rap' 'rave'\n",
      " 'reggae' 'reggaeton' 'regional' 'relax' 'religious' 'retro' 'rhythm'\n",
      " 'rnb' 'rnr' 'rock' 'rockabilly' 'rockalternative' 'rockindie' 'rockother'\n",
      " 'romance' 'roots' 'ruspop' 'rusrap' 'rusrock' 'russian' 'salsa' 'samba'\n",
      " 'scenic' 'schlager' 'self' 'sertanejo' 'shanson' 'shoegazing' 'showtunes'\n",
      " 'singer' 'ska' 'skarock' 'slow' 'smooth' 'soft' 'soul' 'soulful' 'sound'\n",
      " 'soundtrack' 'southern' 'specialty' 'speech' 'spiritual' 'sport'\n",
      " 'stonerrock' 'surf' 'swing' 'synthpop' 'synthrock' 'sängerportrait'\n",
      " 'tango' 'tanzorchester' 'taraftar' 'tatar' 'tech' 'techno' 'teen'\n",
      " 'thrash' 'top' 'traditional' 'tradjazz' 'trance' 'tribal' 'trip'\n",
      " 'triphop' 'tropical' 'türk' 'türkçe' 'ukrrock' 'unknown' 'urban' 'uzbek'\n",
      " 'variété' 'vi' 'videogame' 'vocal' 'western' 'world' 'worldbeat' 'ïîï'\n",
      " 'электроника']\n"
     ]
    }
   ],
   "source": [
    "print(df['genre'].sort_values().unique())"
   ]
  },
  {
   "cell_type": "markdown",
   "metadata": {
    "deletable": false,
    "editable": false,
    "id": "jz6a9-7HQUDd"
   },
   "source": [
    "**Выводы**\n",
    "\n",
    "Предобработка обнаружила три проблемы в данных:\n",
    "\n",
    "- нарушения в стиле заголовков,\n",
    "- пропущенные значения,\n",
    "- дубликаты — явные и неявные.\n",
    "\n",
    "Вы исправили заголовки, чтобы упростить работу с таблицей. Без дубликатов исследование станет более точным.\n",
    "\n",
    "Пропущенные значения вы заменили на `'unknown'`. Ещё предстоит увидеть, не повредят ли исследованию пропуски в колонке `genre`.\n",
    "\n",
    "Теперь можно перейти к проверке гипотез."
   ]
  },
  {
   "cell_type": "markdown",
   "metadata": {
    "deletable": false,
    "editable": false,
    "id": "WttZHXH0SqKk"
   },
   "source": [
    "## Проверка гипотез"
   ]
  },
  {
   "cell_type": "markdown",
   "metadata": {
    "deletable": false,
    "editable": false,
    "id": "Im936VVi_Zcu"
   },
   "source": [
    "### Сравнение поведения пользователей двух столиц"
   ]
  },
  {
   "cell_type": "markdown",
   "metadata": {
    "deletable": false,
    "editable": false,
    "id": "nwt_MuaL_Zcu"
   },
   "source": [
    "Первая гипотеза утверждает, что пользователи по-разному слушают музыку в Москве и Санкт-Петербурге. Проверим это предположение по данным о трёх днях недели — понедельнике, среде и пятнице. Для этого:\n",
    "\n",
    "* Разделим пользователей Москвы и Санкт-Петербурга.\n",
    "* Сравним, сколько треков послушала каждая группа пользователей в понедельник, среду и пятницу.\n"
   ]
  },
  {
   "cell_type": "markdown",
   "metadata": {
    "deletable": false,
    "id": "8Dw_YMmT_Zcu",
    "tags": [
     "start_task"
    ]
   },
   "source": [
    "**Задание 18**\n",
    "\n"
   ]
  },
  {
   "cell_type": "code",
   "execution_count": 378,
   "metadata": {
    "deletable": false,
    "id": "0_Qs96oh_Zcu"
   },
   "outputs": [
    {
     "data": {
      "text/plain": [
       "city\n",
       "Moscow              42741\n",
       "Saint-Petersburg    18512\n",
       "Name: time, dtype: int64"
      ]
     },
     "execution_count": 378,
     "metadata": {},
     "output_type": "execute_result"
    }
   ],
   "source": [
    "df_time = df.groupby('city')['time'].count()\n",
    "df_time"
   ]
  },
  {
   "cell_type": "markdown",
   "metadata": {
    "id": "dzli3w8o_Zcu",
    "tags": [
     "start_task"
    ]
   },
   "source": [
    "**Задание 19**\n"
   ]
  },
  {
   "cell_type": "code",
   "execution_count": 379,
   "metadata": {
    "deletable": false,
    "id": "uZMKjiJz_Zcu"
   },
   "outputs": [
    {
     "data": {
      "text/plain": [
       "day\n",
       "Friday       21840\n",
       "Monday       21354\n",
       "Wednesday    18059\n",
       "Name: time, dtype: int64"
      ]
     },
     "execution_count": 379,
     "metadata": {},
     "output_type": "execute_result"
    }
   ],
   "source": [
    "# подсчёт прослушиваний в каждый из трёх дней\n",
    "df_day = df.groupby('day')['time'].count()\n",
    "df_day"
   ]
  },
  {
   "cell_type": "markdown",
   "metadata": {
    "deletable": false,
    "editable": false,
    "id": "POzs8bGa_Zcu",
    "tags": [
     "start_task"
    ]
   },
   "source": [
    "**Задание 20**"
   ]
  },
  {
   "cell_type": "code",
   "execution_count": 380,
   "metadata": {
    "deletable": false,
    "id": "Nz3GdQB1_Zcu"
   },
   "outputs": [],
   "source": [
    "def number_tracks(day, city):\n",
    "    track_list = df[df['day'] == day]\n",
    "    track_list = track_list[track_list['city'] == city]\n",
    "    track_list_count = track_list['user_id'].count()\n",
    "    return track_list_count"
   ]
  },
  {
   "cell_type": "markdown",
   "metadata": {
    "deletable": false,
    "editable": false,
    "id": "ytf7xFrFJQ2r",
    "tags": [
     "start_task"
    ]
   },
   "source": [
    "**Задание 21**"
   ]
  },
  {
   "cell_type": "code",
   "execution_count": 381,
   "metadata": {
    "deletable": false,
    "id": "rJcRATNQ_Zcu",
    "scrolled": true
   },
   "outputs": [
    {
     "data": {
      "text/plain": [
       "15740"
      ]
     },
     "execution_count": 381,
     "metadata": {},
     "output_type": "execute_result"
    }
   ],
   "source": [
    "number_tracks('Monday', 'Moscow')"
   ]
  },
  {
   "cell_type": "code",
   "execution_count": 382,
   "metadata": {
    "deletable": false,
    "id": "hq_ncZ5T_Zcu",
    "scrolled": true
   },
   "outputs": [
    {
     "data": {
      "text/plain": [
       "5614"
      ]
     },
     "execution_count": 382,
     "metadata": {},
     "output_type": "execute_result"
    }
   ],
   "source": [
    "# количество прослушиваний в Санкт-Петербурге по понедельникам\n",
    "number_tracks('Monday', 'Saint-Petersburg')"
   ]
  },
  {
   "cell_type": "code",
   "execution_count": 383,
   "metadata": {
    "deletable": false,
    "id": "_NTy2VPU_Zcu"
   },
   "outputs": [
    {
     "data": {
      "text/plain": [
       "11056"
      ]
     },
     "execution_count": 383,
     "metadata": {},
     "output_type": "execute_result"
    }
   ],
   "source": [
    "number_tracks('Wednesday', 'Moscow')"
   ]
  },
  {
   "cell_type": "code",
   "execution_count": 384,
   "metadata": {
    "deletable": false,
    "id": "j2y3TAwo_Zcu"
   },
   "outputs": [
    {
     "data": {
      "text/plain": [
       "7003"
      ]
     },
     "execution_count": 384,
     "metadata": {},
     "output_type": "execute_result"
    }
   ],
   "source": [
    "# количество прослушиваний в Санкт-Петербурге по средам\n",
    "number_tracks('Wednesday', 'Saint-Petersburg')"
   ]
  },
  {
   "cell_type": "code",
   "execution_count": 385,
   "metadata": {
    "deletable": false,
    "id": "vYDw5u_K_Zcu"
   },
   "outputs": [
    {
     "data": {
      "text/plain": [
       "15945"
      ]
     },
     "execution_count": 385,
     "metadata": {},
     "output_type": "execute_result"
    }
   ],
   "source": [
    "# количество прослушиваний в Москве по пятницам\n",
    "number_tracks('Friday', 'Moscow')"
   ]
  },
  {
   "cell_type": "code",
   "execution_count": 386,
   "metadata": {
    "deletable": false,
    "id": "8_yzFtW3_Zcu"
   },
   "outputs": [
    {
     "data": {
      "text/plain": [
       "5895"
      ]
     },
     "execution_count": 386,
     "metadata": {},
     "output_type": "execute_result"
    }
   ],
   "source": [
    "# количество прослушиваний в Санкт-Петербурге по пятницам\n",
    "number_tracks('Friday', 'Saint-Petersburg')"
   ]
  },
  {
   "cell_type": "markdown",
   "metadata": {
    "deletable": false,
    "editable": false,
    "id": "7QXffbO-_Zcu",
    "tags": [
     "start_task"
    ]
   },
   "source": [
    "**Задание 22**"
   ]
  },
  {
   "cell_type": "code",
   "execution_count": 387,
   "metadata": {
    "deletable": false,
    "id": "APAcLpOr_Zcu"
   },
   "outputs": [
    {
     "data": {
      "text/html": [
       "<div>\n",
       "<style scoped>\n",
       "    .dataframe tbody tr th:only-of-type {\n",
       "        vertical-align: middle;\n",
       "    }\n",
       "\n",
       "    .dataframe tbody tr th {\n",
       "        vertical-align: top;\n",
       "    }\n",
       "\n",
       "    .dataframe thead th {\n",
       "        text-align: right;\n",
       "    }\n",
       "</style>\n",
       "<table border=\"1\" class=\"dataframe\">\n",
       "  <thead>\n",
       "    <tr style=\"text-align: right;\">\n",
       "      <th></th>\n",
       "      <th>city</th>\n",
       "      <th>monday</th>\n",
       "      <th>wednesday</th>\n",
       "      <th>friday</th>\n",
       "    </tr>\n",
       "  </thead>\n",
       "  <tbody>\n",
       "    <tr>\n",
       "      <th>0</th>\n",
       "      <td>Москва</td>\n",
       "      <td>15740</td>\n",
       "      <td>11056</td>\n",
       "      <td>15945</td>\n",
       "    </tr>\n",
       "    <tr>\n",
       "      <th>1</th>\n",
       "      <td>Санкт-Петербург</td>\n",
       "      <td>5614</td>\n",
       "      <td>7003</td>\n",
       "      <td>5895</td>\n",
       "    </tr>\n",
       "  </tbody>\n",
       "</table>\n",
       "</div>"
      ],
      "text/plain": [
       "              city  monday  wednesday  friday\n",
       "0           Москва   15740      11056   15945\n",
       "1  Санкт-Петербург    5614       7003    5895"
      ]
     },
     "execution_count": 387,
     "metadata": {},
     "output_type": "execute_result"
    }
   ],
   "source": [
    "# создание таблицы с результатами\n",
    "info = pd.DataFrame(data=[['Москва', 15740, 11056, 15945], ['Санкт-Петербург', 5614, 7003, 5895]], columns=['city', 'monday', 'wednesday', 'friday'])\n",
    "info"
   ]
  },
  {
   "cell_type": "markdown",
   "metadata": {
    "deletable": false,
    "editable": false,
    "id": "-EgPIHYu_Zcu"
   },
   "source": [
    "**Выводы**\n",
    "\n",
    "Данные показывают разницу поведения пользователей:\n",
    "\n",
    "- В Москве пик прослушиваний приходится на понедельник и пятницу, а в среду заметен спад.\n",
    "- В Петербурге, наоборот, больше слушают музыку по средам. Активность в понедельник и пятницу здесь почти в равной мере уступает среде.\n",
    "\n",
    "Значит, данные говорят в пользу первой гипотезы."
   ]
  },
  {
   "cell_type": "markdown",
   "metadata": {
    "deletable": false,
    "editable": false,
    "id": "atZAxtq4_Zcu"
   },
   "source": [
    "### Музыка в начале и в конце недели"
   ]
  },
  {
   "cell_type": "markdown",
   "metadata": {
    "deletable": false,
    "editable": false,
    "id": "eXrQqXFH_Zcu"
   },
   "source": [
    "Согласно второй гипотезе, утром в понедельник в Москве преобладают одни жанры, а в Петербурге — другие. Так же и вечером пятницы преобладают разные жанры — в зависимости от города."
   ]
  },
  {
   "cell_type": "markdown",
   "metadata": {
    "deletable": false,
    "editable": false,
    "id": "S8UcW6Hw_Zcu",
    "tags": [
     "start_task"
    ]
   },
   "source": [
    "**Задание 23**"
   ]
  },
  {
   "cell_type": "code",
   "execution_count": 388,
   "metadata": {
    "deletable": false,
    "id": "qeaFfM_P_Zcu"
   },
   "outputs": [],
   "source": [
    "# получение таблицы moscow_general из тех строк таблицы df, для которых значение в столбце 'city' равно 'Moscow'\n",
    "moscow_general = df[df['city'] == 'Moscow']"
   ]
  },
  {
   "cell_type": "code",
   "execution_count": 389,
   "metadata": {
    "deletable": false,
    "id": "ORaVRKto_Zcu"
   },
   "outputs": [],
   "source": [
    "# получение таблицы spb_general из тех строк таблицы df, для которых значение в столбце 'city' равно 'Saint-Petersburg'\n",
    "spb_general = df[df['city'] == 'Saint-Petersburg']"
   ]
  },
  {
   "cell_type": "markdown",
   "metadata": {
    "deletable": false,
    "editable": false,
    "id": "MEJV-CX2_Zcu",
    "tags": [
     "start_task"
    ]
   },
   "source": [
    "**Задание 24**"
   ]
  },
  {
   "cell_type": "code",
   "execution_count": 390,
   "metadata": {
    "deletable": false,
    "id": "laJT9BYl_Zcu"
   },
   "outputs": [],
   "source": [
    "def genre_weekday(df, day, time1, time2):\n",
    "    # последовательная фильтрация\n",
    "    # оставляем в genre_df только те строки df, у которых день равен day\n",
    "    genre_df = df[df['day'] == day]\n",
    "    # оставляем в genre_df только те строки genre_df, у которых время меньше time2\n",
    "    genre_df = genre_df[genre_df['time'] < time2]\n",
    "    # оставляем в genre_df только те строки genre_df, у которых время больше time1\n",
    "    genre_df = genre_df[genre_df['time'] > time1]\n",
    "    # сгруппируем отфильтрованный датафрейм по столбцу с названиями жанров, возьмём столбец genre и посчитаем кол-во строк для каждого жанра методом count()\n",
    "    genre_df_grouped = genre_df.groupby('genre')['genre'].count()\n",
    "    # отсортируем результат по убыванию (чтобы в начале Series оказались самые популярные жанры)\n",
    "    genre_df_sorted = genre_df_grouped.sort_values(ascending=False)\n",
    "    # вернём Series с 10 самыми популярными жанрами в указанный отрезок времени заданного дня\n",
    "    return genre_df_sorted[:10]"
   ]
  },
  {
   "cell_type": "markdown",
   "metadata": {
    "deletable": false,
    "editable": false,
    "id": "la2s2_PF_Zcu",
    "tags": [
     "start_task"
    ]
   },
   "source": [
    "**Задание 25**"
   ]
  },
  {
   "cell_type": "code",
   "execution_count": 391,
   "metadata": {
    "deletable": false,
    "id": "yz7itPUQ_Zcu"
   },
   "outputs": [
    {
     "data": {
      "text/plain": [
       "genre\n",
       "pop            781\n",
       "dance          549\n",
       "electronic     480\n",
       "rock           474\n",
       "hiphop         286\n",
       "ruspop         186\n",
       "world          181\n",
       "rusrap         175\n",
       "alternative    164\n",
       "unknown        161\n",
       "Name: genre, dtype: int64"
      ]
     },
     "execution_count": 391,
     "metadata": {},
     "output_type": "execute_result"
    }
   ],
   "source": [
    "# вызов функции для утра понедельника в Москве (вместо df — таблица moscow_general)\n",
    "genre_weekday(moscow_general, 'Monday', '07:00', '11:00')"
   ]
  },
  {
   "cell_type": "code",
   "execution_count": 392,
   "metadata": {
    "deletable": false,
    "id": "kwUcHPdy_Zcu"
   },
   "outputs": [
    {
     "data": {
      "text/plain": [
       "genre\n",
       "pop            218\n",
       "dance          182\n",
       "rock           162\n",
       "electronic     147\n",
       "hiphop          80\n",
       "ruspop          64\n",
       "alternative     58\n",
       "rusrap          55\n",
       "jazz            44\n",
       "classical       40\n",
       "Name: genre, dtype: int64"
      ]
     },
     "execution_count": 392,
     "metadata": {},
     "output_type": "execute_result"
    }
   ],
   "source": [
    "# вызов функции для утра понедельника в Петербурге (вместо df — таблица spb_general)\n",
    "genre_weekday(spb_general, 'Monday', '07:00', '11:00')"
   ]
  },
  {
   "cell_type": "code",
   "execution_count": 393,
   "metadata": {
    "deletable": false,
    "id": "EzXVRE1o_Zcu"
   },
   "outputs": [
    {
     "data": {
      "text/plain": [
       "genre\n",
       "pop            713\n",
       "rock           517\n",
       "dance          495\n",
       "electronic     482\n",
       "hiphop         273\n",
       "world          208\n",
       "ruspop         170\n",
       "alternative    163\n",
       "classical      163\n",
       "rusrap         142\n",
       "Name: genre, dtype: int64"
      ]
     },
     "execution_count": 393,
     "metadata": {},
     "output_type": "execute_result"
    }
   ],
   "source": [
    "# вызов функции для вечера пятницы в Москве\n",
    "genre_weekday(moscow_general, 'Friday', '17:00', '23:00')"
   ]
  },
  {
   "cell_type": "code",
   "execution_count": 394,
   "metadata": {
    "deletable": false,
    "id": "JZaEKu5v_Zcu"
   },
   "outputs": [
    {
     "data": {
      "text/plain": [
       "genre\n",
       "pop            256\n",
       "electronic     216\n",
       "rock           216\n",
       "dance          210\n",
       "hiphop          97\n",
       "alternative     63\n",
       "jazz            61\n",
       "classical       60\n",
       "rusrap          59\n",
       "world           54\n",
       "Name: genre, dtype: int64"
      ]
     },
     "execution_count": 394,
     "metadata": {},
     "output_type": "execute_result"
    }
   ],
   "source": [
    "# вызов функции для вечера пятницы в Петербурге\n",
    "genre_weekday(spb_general, 'Friday', '17:00', '23:00')"
   ]
  },
  {
   "cell_type": "markdown",
   "metadata": {
    "deletable": false,
    "editable": false,
    "id": "wrCe4MNX_Zcu"
   },
   "source": [
    "**Выводы**\n",
    "\n",
    "Если сравнить топ-10 жанров в понедельник утром, можно сделать такие выводы:\n",
    "\n",
    "1. В Москве и Петербурге слушают похожую музыку. Единственное различие — в московский рейтинг вошёл жанр “world”, а в петербургский — джаз и классика.\n",
    "\n",
    "2. В Москве пропущенных значений оказалось так много, что значение `'unknown'` заняло десятое место среди самых популярных жанров. Значит, пропущенные значения занимают существенную долю в данных и угрожают достоверности исследования.\n",
    "\n",
    "Вечер пятницы не меняет эту картину. Некоторые жанры поднимаются немного выше, другие спускаются, но в целом топ-10 остаётся тем же самым.\n",
    "\n",
    "Таким образом, вторая гипотеза подтвердилась лишь частично:\n",
    "* Пользователи слушают похожую музыку в начале недели и в конце.\n",
    "* Разница между Москвой и Петербургом не слишком выражена. В Москве чаще слушают русскую популярную музыку, в Петербурге — джаз.\n",
    "\n",
    "Однако пропуски в данных ставят под сомнение этот результат. В Москве их так много, что рейтинг топ-10 мог бы выглядеть иначе, если бы не утерянные  данные о жанрах."
   ]
  },
  {
   "cell_type": "markdown",
   "metadata": {
    "deletable": false,
    "editable": false,
    "id": "JolODAqr_Zcu"
   },
   "source": [
    "### Жанровые предпочтения в Москве и Петербурге\n",
    "\n",
    "Гипотеза: Петербург — столица рэпа, музыку этого жанра там слушают чаще, чем в Москве.  А Москва — город контрастов, в котором, тем не менее, преобладает поп-музыка."
   ]
  },
  {
   "cell_type": "markdown",
   "metadata": {
    "deletable": false,
    "editable": false,
    "id": "DlegSvaT_Zcu",
    "tags": [
     "start_task"
    ]
   },
   "source": [
    "**Задание 26**"
   ]
  },
  {
   "cell_type": "code",
   "execution_count": 395,
   "metadata": {
    "deletable": false,
    "id": "r19lIPke_Zcu"
   },
   "outputs": [],
   "source": [
    "# одной строкой: группировка таблицы moscow_general по столбцу 'genre', выбор столбца `genre`, подсчёт числа значений 'genre' методом count(), сохранение в moscow_genres\n",
    "moscow_genres = moscow_general.groupby('genre')['genre'].count()\n",
    "# сортировка получившегося Series в порядке убывания и сохранение обратно в moscow_genres\n",
    "moscow_genres = moscow_genres.sort_values(ascending=False)"
   ]
  },
  {
   "cell_type": "markdown",
   "metadata": {
    "deletable": false,
    "editable": false,
    "id": "6kMuomxTiIr8",
    "tags": [
     "start_task"
    ]
   },
   "source": [
    "**Задание 27**"
   ]
  },
  {
   "cell_type": "code",
   "execution_count": 396,
   "metadata": {
    "deletable": false,
    "id": "WhCSooF8_Zcv"
   },
   "outputs": [
    {
     "data": {
      "text/plain": [
       "genre\n",
       "pop            5892\n",
       "dance          4435\n",
       "rock           3965\n",
       "electronic     3786\n",
       "hiphop         2096\n",
       "classical      1616\n",
       "world          1432\n",
       "alternative    1379\n",
       "ruspop         1372\n",
       "rusrap         1161\n",
       "Name: genre, dtype: int64"
      ]
     },
     "execution_count": 396,
     "metadata": {},
     "output_type": "execute_result"
    }
   ],
   "source": [
    "# просмотр первых 10 строк moscow_genres\n",
    "moscow_genres.head(10)"
   ]
  },
  {
   "cell_type": "markdown",
   "metadata": {
    "deletable": false,
    "editable": false,
    "id": "cnPG2vnN_Zcv",
    "tags": [
     "start_task"
    ]
   },
   "source": [
    "**Задание 28**"
   ]
  },
  {
   "cell_type": "code",
   "execution_count": 397,
   "metadata": {
    "deletable": false,
    "id": "gluLIpE7_Zcv"
   },
   "outputs": [],
   "source": [
    "# одной строкой: группировка таблицы spb_general по столбцу 'genre', выбор столбца `genre`, подсчёт числа значений 'genre' методом count(), сохранение в spb_genres\n",
    "spb_genres = spb_general.groupby('genre')['genre'].count()\n",
    "# сортировка получившегося Series в порядке убывания и сохранение обратно в spb_genres\n",
    "spb_genres = spb_genres.sort_values(ascending=False)"
   ]
  },
  {
   "cell_type": "markdown",
   "metadata": {
    "deletable": false,
    "editable": false,
    "id": "5Doha_ODgyQ8",
    "tags": [
     "start_task"
    ]
   },
   "source": [
    "**Задание 29**"
   ]
  },
  {
   "cell_type": "code",
   "execution_count": 398,
   "metadata": {
    "deletable": false,
    "id": "uaGJHjVU_Zcv"
   },
   "outputs": [
    {
     "data": {
      "text/plain": [
       "genre\n",
       "pop            2431\n",
       "dance          1932\n",
       "rock           1879\n",
       "electronic     1736\n",
       "hiphop          960\n",
       "alternative     649\n",
       "classical       646\n",
       "rusrap          564\n",
       "ruspop          538\n",
       "world           515\n",
       "Name: genre, dtype: int64"
      ]
     },
     "execution_count": 398,
     "metadata": {},
     "output_type": "execute_result"
    }
   ],
   "source": [
    "# просмотр первых 10 строк spb_genres\n",
    "spb_genres.head(10)"
   ]
  },
  {
   "cell_type": "markdown",
   "metadata": {
    "deletable": false,
    "editable": false,
    "id": "RY51YJYu_Zcv"
   },
   "source": [
    "**Выводы**"
   ]
  },
  {
   "cell_type": "markdown",
   "metadata": {
    "deletable": false,
    "editable": false,
    "id": "nVhnJEm__Zcv"
   },
   "source": [
    "Гипотеза частично подтвердилась:\n",
    "* Поп-музыка — самый популярный жанр в Москве, как и предполагала гипотеза. Более того, в топ-10 жанров встречается близкий жанр — русская популярная музыка.\n",
    "* Вопреки ожиданиям, рэп одинаково популярен в Москве и Петербурге.\n"
   ]
  },
  {
   "cell_type": "markdown",
   "metadata": {
    "deletable": false,
    "editable": false,
    "id": "ykKQ0N65_Zcv"
   },
   "source": [
    "## Итоги исследования"
   ]
  },
  {
   "cell_type": "markdown",
   "metadata": {
    "deletable": false,
    "editable": false,
    "id": "tjUwbHb3_Zcv"
   },
   "source": [
    "Вы проверили три гипотезы и установили:\n",
    "\n",
    "1. День недели по-разному влияет на активность пользователей в Москве и Петербурге.\n",
    "\n",
    "Первая гипотеза полностью подтвердилась.\n",
    "\n",
    "2. Музыкальные предпочтения не сильно меняются в течение недели — будь то Москва или Петербург. Небольшие различия заметны в начале недели, по понедельникам:\n",
    "* в Москве слушают музыку жанра “world”,\n",
    "* в Петербурге — джаз и классику.\n",
    "\n",
    "Таким образом, вторая гипотеза подтвердилась лишь отчасти. Этот результат мог оказаться иным, если бы не пропуски в данных.\n",
    "\n",
    "3. Во вкусах пользователей Москвы и Петербурга больше общего, чем различий. Вопреки ожиданиям, предпочтения жанров в Петербурге напоминают московские.\n",
    "\n",
    "Третья гипотеза не подтвердилась. Если различия в предпочтениях и существуют, на основной массе пользователей они незаметны.\n",
    "\n",
    "**На практике исследования содержат проверки статистических гипотез.**\n",
    "Из части данных одного сервиса невозможно сделать какие-то выводы о всех пользователях сервиса без методов статистики.\n",
    "Проверки статистических гипотез покажут, насколько они достоверны, исходя из имеющихся данных.\n",
    "С методами проверок гипотез вы ещё познакомитесь в следующих темах."
   ]
  }
 ],
 "metadata": {
  "ExecuteTimeLog": [
   {
    "duration": 49,
    "start_time": "2024-02-11T10:37:07.004Z"
   },
   {
    "duration": 8,
    "start_time": "2024-02-11T10:37:18.775Z"
   },
   {
    "duration": 6,
    "start_time": "2024-02-11T10:37:36.591Z"
   },
   {
    "duration": 4,
    "start_time": "2024-02-11T10:37:54.856Z"
   },
   {
    "duration": 3,
    "start_time": "2024-02-11T10:40:53.980Z"
   },
   {
    "duration": 8,
    "start_time": "2024-02-11T10:41:05.986Z"
   },
   {
    "duration": 3,
    "start_time": "2024-02-11T10:41:18.846Z"
   },
   {
    "duration": 464,
    "start_time": "2024-02-11T10:41:31.115Z"
   },
   {
    "duration": 245,
    "start_time": "2024-02-11T10:41:31.581Z"
   },
   {
    "duration": 19,
    "start_time": "2024-02-11T10:41:31.828Z"
   },
   {
    "duration": 69,
    "start_time": "2024-02-11T10:41:31.848Z"
   },
   {
    "duration": 13,
    "start_time": "2024-02-11T10:41:31.919Z"
   },
   {
    "duration": 7,
    "start_time": "2024-02-11T10:41:31.934Z"
   },
   {
    "duration": 29,
    "start_time": "2024-02-11T10:41:31.942Z"
   },
   {
    "duration": 14,
    "start_time": "2024-02-11T10:41:31.972Z"
   },
   {
    "duration": 91,
    "start_time": "2024-02-11T10:41:31.988Z"
   },
   {
    "duration": 56,
    "start_time": "2024-02-11T10:41:32.081Z"
   },
   {
    "duration": 47,
    "start_time": "2024-02-11T10:41:32.139Z"
   },
   {
    "duration": 84,
    "start_time": "2024-02-11T10:41:32.187Z"
   },
   {
    "duration": 101,
    "start_time": "2024-02-11T10:41:32.273Z"
   },
   {
    "duration": 73,
    "start_time": "2024-02-11T10:41:32.378Z"
   },
   {
    "duration": 44,
    "start_time": "2024-02-11T10:41:32.453Z"
   },
   {
    "duration": 18,
    "start_time": "2024-02-11T10:41:32.499Z"
   },
   {
    "duration": 45,
    "start_time": "2024-02-11T10:41:32.523Z"
   },
   {
    "duration": 14,
    "start_time": "2024-02-11T10:41:32.569Z"
   },
   {
    "duration": 29,
    "start_time": "2024-02-11T10:41:32.584Z"
   },
   {
    "duration": 10,
    "start_time": "2024-02-11T10:41:32.615Z"
   },
   {
    "duration": 70,
    "start_time": "2024-02-11T10:41:32.627Z"
   },
   {
    "duration": 18,
    "start_time": "2024-02-11T10:41:32.700Z"
   },
   {
    "duration": 17,
    "start_time": "2024-02-11T10:41:32.720Z"
   },
   {
    "duration": 25,
    "start_time": "2024-02-11T10:41:32.739Z"
   },
   {
    "duration": 33,
    "start_time": "2024-02-11T10:41:32.766Z"
   },
   {
    "duration": 41,
    "start_time": "2024-02-11T10:41:32.801Z"
   },
   {
    "duration": 7,
    "start_time": "2024-02-11T10:41:32.845Z"
   },
   {
    "duration": 8,
    "start_time": "2024-02-11T10:41:32.854Z"
   },
   {
    "duration": 17,
    "start_time": "2024-02-11T10:41:32.864Z"
   },
   {
    "duration": 78,
    "start_time": "2024-02-11T10:41:32.883Z"
   },
   {
    "duration": 0,
    "start_time": "2024-02-11T10:41:32.963Z"
   },
   {
    "duration": 0,
    "start_time": "2024-02-11T10:41:32.965Z"
   },
   {
    "duration": 0,
    "start_time": "2024-02-11T10:41:32.966Z"
   },
   {
    "duration": 1,
    "start_time": "2024-02-11T10:41:32.967Z"
   },
   {
    "duration": 0,
    "start_time": "2024-02-11T10:41:32.969Z"
   },
   {
    "duration": 0,
    "start_time": "2024-02-11T10:41:32.970Z"
   },
   {
    "duration": 0,
    "start_time": "2024-02-11T10:41:32.972Z"
   },
   {
    "duration": 0,
    "start_time": "2024-02-11T10:41:32.973Z"
   },
   {
    "duration": 8,
    "start_time": "2024-02-11T10:46:45.580Z"
   },
   {
    "duration": 3,
    "start_time": "2024-02-11T10:51:52.735Z"
   },
   {
    "duration": 189,
    "start_time": "2024-02-11T10:51:52.740Z"
   },
   {
    "duration": 10,
    "start_time": "2024-02-11T10:51:52.931Z"
   },
   {
    "duration": 50,
    "start_time": "2024-02-11T10:51:52.943Z"
   },
   {
    "duration": 26,
    "start_time": "2024-02-11T10:51:52.995Z"
   },
   {
    "duration": 44,
    "start_time": "2024-02-11T10:51:53.023Z"
   },
   {
    "duration": 7,
    "start_time": "2024-02-11T10:51:53.069Z"
   },
   {
    "duration": 4,
    "start_time": "2024-02-11T10:51:53.077Z"
   },
   {
    "duration": 35,
    "start_time": "2024-02-11T10:51:53.083Z"
   },
   {
    "duration": 37,
    "start_time": "2024-02-11T10:51:53.120Z"
   },
   {
    "duration": 30,
    "start_time": "2024-02-11T10:51:53.160Z"
   },
   {
    "duration": 81,
    "start_time": "2024-02-11T10:51:53.192Z"
   },
   {
    "duration": 88,
    "start_time": "2024-02-11T10:51:53.275Z"
   },
   {
    "duration": 63,
    "start_time": "2024-02-11T10:51:53.365Z"
   },
   {
    "duration": 46,
    "start_time": "2024-02-11T10:51:53.430Z"
   },
   {
    "duration": 13,
    "start_time": "2024-02-11T10:51:53.478Z"
   },
   {
    "duration": 67,
    "start_time": "2024-02-11T10:51:53.493Z"
   },
   {
    "duration": 14,
    "start_time": "2024-02-11T10:51:53.562Z"
   },
   {
    "duration": 14,
    "start_time": "2024-02-11T10:51:53.577Z"
   },
   {
    "duration": 30,
    "start_time": "2024-02-11T10:51:53.593Z"
   },
   {
    "duration": 26,
    "start_time": "2024-02-11T10:51:53.625Z"
   },
   {
    "duration": 20,
    "start_time": "2024-02-11T10:51:53.653Z"
   },
   {
    "duration": 15,
    "start_time": "2024-02-11T10:51:53.674Z"
   },
   {
    "duration": 36,
    "start_time": "2024-02-11T10:51:53.691Z"
   },
   {
    "duration": 18,
    "start_time": "2024-02-11T10:51:53.728Z"
   },
   {
    "duration": 16,
    "start_time": "2024-02-11T10:51:53.747Z"
   },
   {
    "duration": 10,
    "start_time": "2024-02-11T10:51:53.765Z"
   },
   {
    "duration": 12,
    "start_time": "2024-02-11T10:51:53.777Z"
   },
   {
    "duration": 10,
    "start_time": "2024-02-11T10:51:53.823Z"
   },
   {
    "duration": 77,
    "start_time": "2024-02-11T10:51:53.834Z"
   },
   {
    "duration": 0,
    "start_time": "2024-02-11T10:51:53.912Z"
   },
   {
    "duration": 0,
    "start_time": "2024-02-11T10:51:53.914Z"
   },
   {
    "duration": 0,
    "start_time": "2024-02-11T10:51:53.915Z"
   },
   {
    "duration": 0,
    "start_time": "2024-02-11T10:51:53.916Z"
   },
   {
    "duration": 0,
    "start_time": "2024-02-11T10:51:53.918Z"
   },
   {
    "duration": 0,
    "start_time": "2024-02-11T10:51:53.919Z"
   },
   {
    "duration": 0,
    "start_time": "2024-02-11T10:51:53.920Z"
   },
   {
    "duration": 0,
    "start_time": "2024-02-11T10:51:53.921Z"
   },
   {
    "duration": 12,
    "start_time": "2024-02-11T10:52:07.899Z"
   },
   {
    "duration": 3,
    "start_time": "2024-02-11T10:52:31.288Z"
   },
   {
    "duration": 304,
    "start_time": "2024-02-11T10:52:31.293Z"
   },
   {
    "duration": 11,
    "start_time": "2024-02-11T10:52:31.599Z"
   },
   {
    "duration": 106,
    "start_time": "2024-02-11T10:52:31.612Z"
   },
   {
    "duration": 44,
    "start_time": "2024-02-11T10:52:31.721Z"
   },
   {
    "duration": 31,
    "start_time": "2024-02-11T10:52:31.766Z"
   },
   {
    "duration": 33,
    "start_time": "2024-02-11T10:52:31.799Z"
   },
   {
    "duration": 33,
    "start_time": "2024-02-11T10:52:31.834Z"
   },
   {
    "duration": 55,
    "start_time": "2024-02-11T10:52:31.869Z"
   },
   {
    "duration": 99,
    "start_time": "2024-02-11T10:52:31.925Z"
   },
   {
    "duration": 48,
    "start_time": "2024-02-11T10:52:32.026Z"
   },
   {
    "duration": 110,
    "start_time": "2024-02-11T10:52:32.077Z"
   },
   {
    "duration": 117,
    "start_time": "2024-02-11T10:52:32.192Z"
   },
   {
    "duration": 82,
    "start_time": "2024-02-11T10:52:32.310Z"
   },
   {
    "duration": 55,
    "start_time": "2024-02-11T10:52:32.394Z"
   },
   {
    "duration": 12,
    "start_time": "2024-02-11T10:52:32.451Z"
   },
   {
    "duration": 58,
    "start_time": "2024-02-11T10:52:32.465Z"
   },
   {
    "duration": 13,
    "start_time": "2024-02-11T10:52:32.525Z"
   },
   {
    "duration": 36,
    "start_time": "2024-02-11T10:52:32.539Z"
   },
   {
    "duration": 3,
    "start_time": "2024-02-11T10:52:32.577Z"
   },
   {
    "duration": 37,
    "start_time": "2024-02-11T10:52:32.582Z"
   },
   {
    "duration": 36,
    "start_time": "2024-02-11T10:52:32.621Z"
   },
   {
    "duration": 29,
    "start_time": "2024-02-11T10:52:32.659Z"
   },
   {
    "duration": 26,
    "start_time": "2024-02-11T10:52:32.690Z"
   },
   {
    "duration": 24,
    "start_time": "2024-02-11T10:52:32.717Z"
   },
   {
    "duration": 34,
    "start_time": "2024-02-11T10:52:32.742Z"
   },
   {
    "duration": 12,
    "start_time": "2024-02-11T10:52:32.778Z"
   },
   {
    "duration": 42,
    "start_time": "2024-02-11T10:52:32.791Z"
   },
   {
    "duration": 34,
    "start_time": "2024-02-11T10:52:32.835Z"
   },
   {
    "duration": 77,
    "start_time": "2024-02-11T10:52:32.871Z"
   },
   {
    "duration": 0,
    "start_time": "2024-02-11T10:52:32.949Z"
   },
   {
    "duration": 0,
    "start_time": "2024-02-11T10:52:32.951Z"
   },
   {
    "duration": 0,
    "start_time": "2024-02-11T10:52:32.951Z"
   },
   {
    "duration": 0,
    "start_time": "2024-02-11T10:52:32.952Z"
   },
   {
    "duration": 0,
    "start_time": "2024-02-11T10:52:32.953Z"
   },
   {
    "duration": 0,
    "start_time": "2024-02-11T10:52:32.954Z"
   },
   {
    "duration": 0,
    "start_time": "2024-02-11T10:52:32.955Z"
   },
   {
    "duration": 0,
    "start_time": "2024-02-11T10:52:32.956Z"
   },
   {
    "duration": 3,
    "start_time": "2024-02-11T10:58:16.475Z"
   },
   {
    "duration": 182,
    "start_time": "2024-02-11T10:58:16.480Z"
   },
   {
    "duration": 11,
    "start_time": "2024-02-11T10:58:16.663Z"
   },
   {
    "duration": 47,
    "start_time": "2024-02-11T10:58:16.676Z"
   },
   {
    "duration": 2,
    "start_time": "2024-02-11T10:58:16.725Z"
   },
   {
    "duration": 6,
    "start_time": "2024-02-11T10:58:16.729Z"
   },
   {
    "duration": 11,
    "start_time": "2024-02-11T10:58:16.737Z"
   },
   {
    "duration": 4,
    "start_time": "2024-02-11T10:58:16.750Z"
   },
   {
    "duration": 29,
    "start_time": "2024-02-11T10:58:16.756Z"
   },
   {
    "duration": 69,
    "start_time": "2024-02-11T10:58:16.786Z"
   },
   {
    "duration": 29,
    "start_time": "2024-02-11T10:58:16.856Z"
   },
   {
    "duration": 79,
    "start_time": "2024-02-11T10:58:16.887Z"
   },
   {
    "duration": 93,
    "start_time": "2024-02-11T10:58:16.967Z"
   },
   {
    "duration": 63,
    "start_time": "2024-02-11T10:58:17.062Z"
   },
   {
    "duration": 45,
    "start_time": "2024-02-11T10:58:17.126Z"
   },
   {
    "duration": 15,
    "start_time": "2024-02-11T10:58:17.172Z"
   },
   {
    "duration": 62,
    "start_time": "2024-02-11T10:58:17.188Z"
   },
   {
    "duration": 13,
    "start_time": "2024-02-11T10:58:17.252Z"
   },
   {
    "duration": 13,
    "start_time": "2024-02-11T10:58:17.266Z"
   },
   {
    "duration": 2,
    "start_time": "2024-02-11T10:58:17.281Z"
   },
   {
    "duration": 44,
    "start_time": "2024-02-11T10:58:17.285Z"
   },
   {
    "duration": 15,
    "start_time": "2024-02-11T10:58:17.331Z"
   },
   {
    "duration": 16,
    "start_time": "2024-02-11T10:58:17.348Z"
   },
   {
    "duration": 15,
    "start_time": "2024-02-11T10:58:17.369Z"
   },
   {
    "duration": 45,
    "start_time": "2024-02-11T10:58:17.386Z"
   },
   {
    "duration": 22,
    "start_time": "2024-02-11T10:58:17.432Z"
   },
   {
    "duration": 11,
    "start_time": "2024-02-11T10:58:17.456Z"
   },
   {
    "duration": 30,
    "start_time": "2024-02-11T10:58:17.469Z"
   },
   {
    "duration": 32,
    "start_time": "2024-02-11T10:58:17.501Z"
   },
   {
    "duration": 6,
    "start_time": "2024-02-11T10:58:17.536Z"
   },
   {
    "duration": 8,
    "start_time": "2024-02-11T10:58:17.545Z"
   },
   {
    "duration": 22,
    "start_time": "2024-02-11T10:58:17.555Z"
   },
   {
    "duration": 19,
    "start_time": "2024-02-11T10:58:17.579Z"
   },
   {
    "duration": 12,
    "start_time": "2024-02-11T10:58:17.600Z"
   },
   {
    "duration": 8,
    "start_time": "2024-02-11T10:58:17.614Z"
   },
   {
    "duration": 10,
    "start_time": "2024-02-11T10:58:17.624Z"
   },
   {
    "duration": 7,
    "start_time": "2024-02-11T10:58:17.636Z"
   },
   {
    "duration": 9,
    "start_time": "2024-02-11T10:58:17.645Z"
   },
   {
    "duration": 2,
    "start_time": "2024-02-11T10:59:48.419Z"
   },
   {
    "duration": 180,
    "start_time": "2024-02-11T10:59:48.423Z"
   },
   {
    "duration": 11,
    "start_time": "2024-02-11T10:59:48.605Z"
   },
   {
    "duration": 35,
    "start_time": "2024-02-11T10:59:48.624Z"
   },
   {
    "duration": 8,
    "start_time": "2024-02-11T10:59:48.660Z"
   },
   {
    "duration": 6,
    "start_time": "2024-02-11T10:59:48.670Z"
   },
   {
    "duration": 9,
    "start_time": "2024-02-11T10:59:48.678Z"
   },
   {
    "duration": 3,
    "start_time": "2024-02-11T10:59:48.689Z"
   },
   {
    "duration": 50,
    "start_time": "2024-02-11T10:59:48.695Z"
   },
   {
    "duration": 43,
    "start_time": "2024-02-11T10:59:48.746Z"
   },
   {
    "duration": 45,
    "start_time": "2024-02-11T10:59:48.791Z"
   },
   {
    "duration": 65,
    "start_time": "2024-02-11T10:59:48.837Z"
   },
   {
    "duration": 96,
    "start_time": "2024-02-11T10:59:48.903Z"
   },
   {
    "duration": 70,
    "start_time": "2024-02-11T10:59:49.000Z"
   },
   {
    "duration": 55,
    "start_time": "2024-02-11T10:59:49.071Z"
   },
   {
    "duration": 12,
    "start_time": "2024-02-11T10:59:49.127Z"
   },
   {
    "duration": 45,
    "start_time": "2024-02-11T10:59:49.141Z"
   },
   {
    "duration": 13,
    "start_time": "2024-02-11T10:59:49.188Z"
   },
   {
    "duration": 13,
    "start_time": "2024-02-11T10:59:49.223Z"
   },
   {
    "duration": 15,
    "start_time": "2024-02-11T10:59:49.237Z"
   },
   {
    "duration": 19,
    "start_time": "2024-02-11T10:59:49.254Z"
   },
   {
    "duration": 16,
    "start_time": "2024-02-11T10:59:49.275Z"
   },
   {
    "duration": 35,
    "start_time": "2024-02-11T10:59:49.292Z"
   },
   {
    "duration": 15,
    "start_time": "2024-02-11T10:59:49.330Z"
   },
   {
    "duration": 19,
    "start_time": "2024-02-11T10:59:49.347Z"
   },
   {
    "duration": 15,
    "start_time": "2024-02-11T10:59:49.368Z"
   },
   {
    "duration": 8,
    "start_time": "2024-02-11T10:59:49.384Z"
   },
   {
    "duration": 14,
    "start_time": "2024-02-11T10:59:49.424Z"
   },
   {
    "duration": 14,
    "start_time": "2024-02-11T10:59:49.439Z"
   },
   {
    "duration": 22,
    "start_time": "2024-02-11T10:59:49.455Z"
   },
   {
    "duration": 20,
    "start_time": "2024-02-11T10:59:49.479Z"
   },
   {
    "duration": 2,
    "start_time": "2024-02-11T10:59:49.501Z"
   },
   {
    "duration": 18,
    "start_time": "2024-02-11T10:59:49.505Z"
   },
   {
    "duration": 3,
    "start_time": "2024-02-11T10:59:49.525Z"
   },
   {
    "duration": 5,
    "start_time": "2024-02-11T10:59:49.530Z"
   },
   {
    "duration": 6,
    "start_time": "2024-02-11T10:59:49.537Z"
   },
   {
    "duration": 5,
    "start_time": "2024-02-11T10:59:49.545Z"
   },
   {
    "duration": 4,
    "start_time": "2024-02-11T10:59:49.551Z"
   },
   {
    "duration": 2,
    "start_time": "2024-02-11T11:00:45.512Z"
   },
   {
    "duration": 210,
    "start_time": "2024-02-11T11:00:45.516Z"
   },
   {
    "duration": 11,
    "start_time": "2024-02-11T11:00:45.728Z"
   },
   {
    "duration": 37,
    "start_time": "2024-02-11T11:00:45.740Z"
   },
   {
    "duration": 7,
    "start_time": "2024-02-11T11:00:45.779Z"
   },
   {
    "duration": 7,
    "start_time": "2024-02-11T11:00:45.787Z"
   },
   {
    "duration": 28,
    "start_time": "2024-02-11T11:00:45.795Z"
   },
   {
    "duration": 6,
    "start_time": "2024-02-11T11:00:45.825Z"
   },
   {
    "duration": 51,
    "start_time": "2024-02-11T11:00:45.833Z"
   },
   {
    "duration": 52,
    "start_time": "2024-02-11T11:00:45.886Z"
   },
   {
    "duration": 79,
    "start_time": "2024-02-11T11:00:45.939Z"
   },
   {
    "duration": 66,
    "start_time": "2024-02-11T11:00:46.020Z"
   },
   {
    "duration": 96,
    "start_time": "2024-02-11T11:00:46.088Z"
   },
   {
    "duration": 73,
    "start_time": "2024-02-11T11:00:46.188Z"
   },
   {
    "duration": 73,
    "start_time": "2024-02-11T11:00:46.262Z"
   },
   {
    "duration": 13,
    "start_time": "2024-02-11T11:00:46.338Z"
   },
   {
    "duration": 46,
    "start_time": "2024-02-11T11:00:46.353Z"
   },
   {
    "duration": 31,
    "start_time": "2024-02-11T11:00:46.401Z"
   },
   {
    "duration": 14,
    "start_time": "2024-02-11T11:00:46.434Z"
   },
   {
    "duration": 4,
    "start_time": "2024-02-11T11:00:46.449Z"
   },
   {
    "duration": 25,
    "start_time": "2024-02-11T11:00:46.454Z"
   },
   {
    "duration": 44,
    "start_time": "2024-02-11T11:00:46.480Z"
   },
   {
    "duration": 17,
    "start_time": "2024-02-11T11:00:46.525Z"
   },
   {
    "duration": 16,
    "start_time": "2024-02-11T11:00:46.544Z"
   },
   {
    "duration": 18,
    "start_time": "2024-02-11T11:00:46.562Z"
   },
   {
    "duration": 46,
    "start_time": "2024-02-11T11:00:46.582Z"
   },
   {
    "duration": 9,
    "start_time": "2024-02-11T11:00:46.630Z"
   },
   {
    "duration": 20,
    "start_time": "2024-02-11T11:00:46.641Z"
   },
   {
    "duration": 29,
    "start_time": "2024-02-11T11:00:46.663Z"
   },
   {
    "duration": 5,
    "start_time": "2024-02-11T11:00:46.694Z"
   },
   {
    "duration": 30,
    "start_time": "2024-02-11T11:00:46.700Z"
   },
   {
    "duration": 13,
    "start_time": "2024-02-11T11:00:46.731Z"
   },
   {
    "duration": 3,
    "start_time": "2024-02-11T11:00:46.746Z"
   },
   {
    "duration": 5,
    "start_time": "2024-02-11T11:00:46.751Z"
   },
   {
    "duration": 6,
    "start_time": "2024-02-11T11:00:46.757Z"
   },
   {
    "duration": 10,
    "start_time": "2024-02-11T11:00:46.764Z"
   },
   {
    "duration": 10,
    "start_time": "2024-02-11T11:00:46.775Z"
   },
   {
    "duration": 17,
    "start_time": "2024-02-11T11:00:46.787Z"
   },
   {
    "duration": 3,
    "start_time": "2024-02-11T11:01:54.171Z"
   },
   {
    "duration": 194,
    "start_time": "2024-02-11T11:01:54.176Z"
   },
   {
    "duration": 10,
    "start_time": "2024-02-11T11:01:54.372Z"
   },
   {
    "duration": 41,
    "start_time": "2024-02-11T11:01:54.384Z"
   },
   {
    "duration": 3,
    "start_time": "2024-02-11T11:01:54.427Z"
   },
   {
    "duration": 20,
    "start_time": "2024-02-11T11:01:54.432Z"
   },
   {
    "duration": 30,
    "start_time": "2024-02-11T11:01:54.454Z"
   },
   {
    "duration": 6,
    "start_time": "2024-02-11T11:01:54.486Z"
   },
   {
    "duration": 30,
    "start_time": "2024-02-11T11:01:54.494Z"
   },
   {
    "duration": 50,
    "start_time": "2024-02-11T11:01:54.526Z"
   },
   {
    "duration": 35,
    "start_time": "2024-02-11T11:01:54.578Z"
   },
   {
    "duration": 71,
    "start_time": "2024-02-11T11:01:54.623Z"
   },
   {
    "duration": 105,
    "start_time": "2024-02-11T11:01:54.696Z"
   },
   {
    "duration": 88,
    "start_time": "2024-02-11T11:01:54.806Z"
   },
   {
    "duration": 56,
    "start_time": "2024-02-11T11:01:54.896Z"
   },
   {
    "duration": 13,
    "start_time": "2024-02-11T11:01:54.953Z"
   },
   {
    "duration": 64,
    "start_time": "2024-02-11T11:01:54.968Z"
   },
   {
    "duration": 13,
    "start_time": "2024-02-11T11:01:55.034Z"
   },
   {
    "duration": 30,
    "start_time": "2024-02-11T11:01:55.049Z"
   },
   {
    "duration": 13,
    "start_time": "2024-02-11T11:01:55.080Z"
   },
   {
    "duration": 28,
    "start_time": "2024-02-11T11:01:55.095Z"
   },
   {
    "duration": 30,
    "start_time": "2024-02-11T11:01:55.125Z"
   },
   {
    "duration": 41,
    "start_time": "2024-02-11T11:01:55.156Z"
   },
   {
    "duration": 22,
    "start_time": "2024-02-11T11:01:55.198Z"
   },
   {
    "duration": 19,
    "start_time": "2024-02-11T11:01:55.222Z"
   },
   {
    "duration": 16,
    "start_time": "2024-02-11T11:01:55.242Z"
   },
   {
    "duration": 12,
    "start_time": "2024-02-11T11:01:55.260Z"
   },
   {
    "duration": 20,
    "start_time": "2024-02-11T11:01:55.274Z"
   },
   {
    "duration": 29,
    "start_time": "2024-02-11T11:01:55.296Z"
   },
   {
    "duration": 22,
    "start_time": "2024-02-11T11:01:55.327Z"
   },
   {
    "duration": 27,
    "start_time": "2024-02-11T11:01:55.350Z"
   },
   {
    "duration": 16,
    "start_time": "2024-02-11T11:01:55.379Z"
   },
   {
    "duration": 40,
    "start_time": "2024-02-11T11:01:55.397Z"
   },
   {
    "duration": 0,
    "start_time": "2024-02-11T11:01:55.439Z"
   },
   {
    "duration": 0,
    "start_time": "2024-02-11T11:01:55.440Z"
   },
   {
    "duration": 0,
    "start_time": "2024-02-11T11:01:55.442Z"
   },
   {
    "duration": 0,
    "start_time": "2024-02-11T11:01:55.442Z"
   },
   {
    "duration": 0,
    "start_time": "2024-02-11T11:01:55.443Z"
   },
   {
    "duration": 3,
    "start_time": "2024-02-11T11:02:20.483Z"
   },
   {
    "duration": 211,
    "start_time": "2024-02-11T11:02:20.488Z"
   },
   {
    "duration": 15,
    "start_time": "2024-02-11T11:02:20.700Z"
   },
   {
    "duration": 52,
    "start_time": "2024-02-11T11:02:20.725Z"
   },
   {
    "duration": 9,
    "start_time": "2024-02-11T11:02:20.780Z"
   },
   {
    "duration": 5,
    "start_time": "2024-02-11T11:02:20.791Z"
   },
   {
    "duration": 16,
    "start_time": "2024-02-11T11:02:20.798Z"
   },
   {
    "duration": 23,
    "start_time": "2024-02-11T11:02:20.816Z"
   },
   {
    "duration": 35,
    "start_time": "2024-02-11T11:02:20.842Z"
   },
   {
    "duration": 62,
    "start_time": "2024-02-11T11:02:20.878Z"
   },
   {
    "duration": 31,
    "start_time": "2024-02-11T11:02:20.942Z"
   },
   {
    "duration": 96,
    "start_time": "2024-02-11T11:02:20.974Z"
   },
   {
    "duration": 96,
    "start_time": "2024-02-11T11:02:21.072Z"
   },
   {
    "duration": 74,
    "start_time": "2024-02-11T11:02:21.170Z"
   },
   {
    "duration": 46,
    "start_time": "2024-02-11T11:02:21.246Z"
   },
   {
    "duration": 39,
    "start_time": "2024-02-11T11:02:21.294Z"
   },
   {
    "duration": 63,
    "start_time": "2024-02-11T11:02:21.334Z"
   },
   {
    "duration": 13,
    "start_time": "2024-02-11T11:02:21.398Z"
   },
   {
    "duration": 36,
    "start_time": "2024-02-11T11:02:21.413Z"
   },
   {
    "duration": 5,
    "start_time": "2024-02-11T11:02:21.451Z"
   },
   {
    "duration": 28,
    "start_time": "2024-02-11T11:02:21.457Z"
   },
   {
    "duration": 28,
    "start_time": "2024-02-11T11:02:21.487Z"
   },
   {
    "duration": 39,
    "start_time": "2024-02-11T11:02:21.517Z"
   },
   {
    "duration": 17,
    "start_time": "2024-02-11T11:02:21.559Z"
   },
   {
    "duration": 19,
    "start_time": "2024-02-11T11:02:21.578Z"
   },
   {
    "duration": 32,
    "start_time": "2024-02-11T11:02:21.600Z"
   },
   {
    "duration": 13,
    "start_time": "2024-02-11T11:02:21.634Z"
   },
   {
    "duration": 33,
    "start_time": "2024-02-11T11:02:21.650Z"
   },
   {
    "duration": 10,
    "start_time": "2024-02-11T11:02:21.685Z"
   },
   {
    "duration": 4,
    "start_time": "2024-02-11T11:02:21.697Z"
   },
   {
    "duration": 46,
    "start_time": "2024-02-11T11:02:21.703Z"
   },
   {
    "duration": 12,
    "start_time": "2024-02-11T11:02:21.751Z"
   },
   {
    "duration": 49,
    "start_time": "2024-02-11T11:02:21.765Z"
   },
   {
    "duration": 23,
    "start_time": "2024-02-11T11:02:21.816Z"
   },
   {
    "duration": 12,
    "start_time": "2024-02-11T11:02:21.841Z"
   },
   {
    "duration": 5,
    "start_time": "2024-02-11T11:02:21.855Z"
   },
   {
    "duration": 13,
    "start_time": "2024-02-11T11:02:21.862Z"
   },
   {
    "duration": 27,
    "start_time": "2024-02-11T11:02:21.876Z"
   },
   {
    "duration": 3,
    "start_time": "2024-02-11T11:05:17.559Z"
   },
   {
    "duration": 215,
    "start_time": "2024-02-11T11:05:17.564Z"
   },
   {
    "duration": 10,
    "start_time": "2024-02-11T11:05:17.781Z"
   },
   {
    "duration": 43,
    "start_time": "2024-02-11T11:05:17.793Z"
   },
   {
    "duration": 8,
    "start_time": "2024-02-11T11:05:17.838Z"
   },
   {
    "duration": 7,
    "start_time": "2024-02-11T11:05:17.848Z"
   },
   {
    "duration": 14,
    "start_time": "2024-02-11T11:05:17.856Z"
   },
   {
    "duration": 5,
    "start_time": "2024-02-11T11:05:17.872Z"
   },
   {
    "duration": 45,
    "start_time": "2024-02-11T11:05:17.879Z"
   },
   {
    "duration": 42,
    "start_time": "2024-02-11T11:05:17.926Z"
   },
   {
    "duration": 29,
    "start_time": "2024-02-11T11:05:17.970Z"
   },
   {
    "duration": 68,
    "start_time": "2024-02-11T11:05:18.022Z"
   },
   {
    "duration": 111,
    "start_time": "2024-02-11T11:05:18.092Z"
   },
   {
    "duration": 67,
    "start_time": "2024-02-11T11:05:18.207Z"
   },
   {
    "duration": 55,
    "start_time": "2024-02-11T11:05:18.276Z"
   },
   {
    "duration": 13,
    "start_time": "2024-02-11T11:05:18.332Z"
   },
   {
    "duration": 53,
    "start_time": "2024-02-11T11:05:18.347Z"
   },
   {
    "duration": 31,
    "start_time": "2024-02-11T11:05:18.401Z"
   },
   {
    "duration": 17,
    "start_time": "2024-02-11T11:05:18.433Z"
   },
   {
    "duration": 13,
    "start_time": "2024-02-11T11:05:18.451Z"
   },
   {
    "duration": 21,
    "start_time": "2024-02-11T11:05:18.466Z"
   },
   {
    "duration": 15,
    "start_time": "2024-02-11T11:05:18.489Z"
   },
   {
    "duration": 30,
    "start_time": "2024-02-11T11:05:18.506Z"
   },
   {
    "duration": 33,
    "start_time": "2024-02-11T11:05:18.537Z"
   },
   {
    "duration": 17,
    "start_time": "2024-02-11T11:05:18.572Z"
   },
   {
    "duration": 15,
    "start_time": "2024-02-11T11:05:18.590Z"
   },
   {
    "duration": 23,
    "start_time": "2024-02-11T11:05:18.606Z"
   },
   {
    "duration": 15,
    "start_time": "2024-02-11T11:05:18.630Z"
   },
   {
    "duration": 11,
    "start_time": "2024-02-11T11:05:18.646Z"
   },
   {
    "duration": 4,
    "start_time": "2024-02-11T11:05:18.658Z"
   },
   {
    "duration": 21,
    "start_time": "2024-02-11T11:05:18.663Z"
   },
   {
    "duration": 76,
    "start_time": "2024-02-11T11:05:18.685Z"
   },
   {
    "duration": 18,
    "start_time": "2024-02-11T11:05:18.763Z"
   },
   {
    "duration": 12,
    "start_time": "2024-02-11T11:05:18.782Z"
   },
   {
    "duration": 31,
    "start_time": "2024-02-11T11:05:18.796Z"
   },
   {
    "duration": 2,
    "start_time": "2024-02-11T11:05:18.829Z"
   },
   {
    "duration": 11,
    "start_time": "2024-02-11T11:05:18.832Z"
   },
   {
    "duration": 13,
    "start_time": "2024-02-11T11:05:18.844Z"
   },
   {
    "duration": 3,
    "start_time": "2024-02-11T11:06:12.998Z"
   },
   {
    "duration": 187,
    "start_time": "2024-02-11T11:06:13.003Z"
   },
   {
    "duration": 12,
    "start_time": "2024-02-11T11:06:13.191Z"
   },
   {
    "duration": 43,
    "start_time": "2024-02-11T11:06:13.204Z"
   },
   {
    "duration": 2,
    "start_time": "2024-02-11T11:06:13.249Z"
   },
   {
    "duration": 15,
    "start_time": "2024-02-11T11:06:13.253Z"
   },
   {
    "duration": 15,
    "start_time": "2024-02-11T11:06:13.270Z"
   },
   {
    "duration": 8,
    "start_time": "2024-02-11T11:06:13.286Z"
   },
   {
    "duration": 45,
    "start_time": "2024-02-11T11:06:13.296Z"
   },
   {
    "duration": 45,
    "start_time": "2024-02-11T11:06:13.344Z"
   },
   {
    "duration": 44,
    "start_time": "2024-02-11T11:06:13.391Z"
   },
   {
    "duration": 88,
    "start_time": "2024-02-11T11:06:13.436Z"
   },
   {
    "duration": 113,
    "start_time": "2024-02-11T11:06:13.528Z"
   },
   {
    "duration": 61,
    "start_time": "2024-02-11T11:06:13.642Z"
   },
   {
    "duration": 59,
    "start_time": "2024-02-11T11:06:13.705Z"
   },
   {
    "duration": 12,
    "start_time": "2024-02-11T11:06:13.766Z"
   },
   {
    "duration": 61,
    "start_time": "2024-02-11T11:06:13.780Z"
   },
   {
    "duration": 13,
    "start_time": "2024-02-11T11:06:13.842Z"
   },
   {
    "duration": 16,
    "start_time": "2024-02-11T11:06:13.856Z"
   },
   {
    "duration": 4,
    "start_time": "2024-02-11T11:06:13.873Z"
   },
   {
    "duration": 46,
    "start_time": "2024-02-11T11:06:13.878Z"
   },
   {
    "duration": 17,
    "start_time": "2024-02-11T11:06:13.926Z"
   },
   {
    "duration": 17,
    "start_time": "2024-02-11T11:06:13.945Z"
   },
   {
    "duration": 17,
    "start_time": "2024-02-11T11:06:13.964Z"
   },
   {
    "duration": 49,
    "start_time": "2024-02-11T11:06:13.983Z"
   },
   {
    "duration": 17,
    "start_time": "2024-02-11T11:06:14.034Z"
   },
   {
    "duration": 10,
    "start_time": "2024-02-11T11:06:14.053Z"
   },
   {
    "duration": 14,
    "start_time": "2024-02-11T11:06:14.064Z"
   },
   {
    "duration": 10,
    "start_time": "2024-02-11T11:06:14.080Z"
   },
   {
    "duration": 33,
    "start_time": "2024-02-11T11:06:14.091Z"
   },
   {
    "duration": 23,
    "start_time": "2024-02-11T11:06:14.125Z"
   },
   {
    "duration": 11,
    "start_time": "2024-02-11T11:06:14.150Z"
   },
   {
    "duration": 19,
    "start_time": "2024-02-11T11:06:14.162Z"
   },
   {
    "duration": 12,
    "start_time": "2024-02-11T11:06:14.183Z"
   },
   {
    "duration": 10,
    "start_time": "2024-02-11T11:06:14.223Z"
   },
   {
    "duration": 6,
    "start_time": "2024-02-11T11:06:14.235Z"
   },
   {
    "duration": 2,
    "start_time": "2024-02-11T11:06:14.245Z"
   },
   {
    "duration": 3,
    "start_time": "2024-02-11T11:06:14.249Z"
   },
   {
    "duration": 3,
    "start_time": "2024-02-11T11:08:50.077Z"
   },
   {
    "duration": 193,
    "start_time": "2024-02-11T11:08:50.082Z"
   },
   {
    "duration": 12,
    "start_time": "2024-02-11T11:08:50.277Z"
   },
   {
    "duration": 43,
    "start_time": "2024-02-11T11:08:50.290Z"
   },
   {
    "duration": 3,
    "start_time": "2024-02-11T11:08:50.334Z"
   },
   {
    "duration": 6,
    "start_time": "2024-02-11T11:08:50.338Z"
   },
   {
    "duration": 15,
    "start_time": "2024-02-11T11:08:50.346Z"
   },
   {
    "duration": 5,
    "start_time": "2024-02-11T11:08:50.363Z"
   },
   {
    "duration": 29,
    "start_time": "2024-02-11T11:08:50.369Z"
   },
   {
    "duration": 43,
    "start_time": "2024-02-11T11:08:50.425Z"
   },
   {
    "duration": 30,
    "start_time": "2024-02-11T11:08:50.470Z"
   },
   {
    "duration": 84,
    "start_time": "2024-02-11T11:08:50.502Z"
   },
   {
    "duration": 100,
    "start_time": "2024-02-11T11:08:50.588Z"
   },
   {
    "duration": 96,
    "start_time": "2024-02-11T11:08:50.689Z"
   },
   {
    "duration": 58,
    "start_time": "2024-02-11T11:08:50.787Z"
   },
   {
    "duration": 12,
    "start_time": "2024-02-11T11:08:50.847Z"
   },
   {
    "duration": 46,
    "start_time": "2024-02-11T11:08:50.860Z"
   },
   {
    "duration": 13,
    "start_time": "2024-02-11T11:08:50.924Z"
   },
   {
    "duration": 13,
    "start_time": "2024-02-11T11:08:50.939Z"
   },
   {
    "duration": 12,
    "start_time": "2024-02-11T11:08:50.953Z"
   },
   {
    "duration": 22,
    "start_time": "2024-02-11T11:08:50.967Z"
   },
   {
    "duration": 39,
    "start_time": "2024-02-11T11:08:50.991Z"
   },
   {
    "duration": 18,
    "start_time": "2024-02-11T11:08:51.031Z"
   },
   {
    "duration": 18,
    "start_time": "2024-02-11T11:08:51.051Z"
   },
   {
    "duration": 20,
    "start_time": "2024-02-11T11:08:51.071Z"
   },
   {
    "duration": 41,
    "start_time": "2024-02-11T11:08:51.093Z"
   },
   {
    "duration": 12,
    "start_time": "2024-02-11T11:08:51.135Z"
   },
   {
    "duration": 16,
    "start_time": "2024-02-11T11:08:51.150Z"
   },
   {
    "duration": 12,
    "start_time": "2024-02-11T11:08:51.168Z"
   },
   {
    "duration": 5,
    "start_time": "2024-02-11T11:08:51.181Z"
   },
   {
    "duration": 44,
    "start_time": "2024-02-11T11:08:51.187Z"
   },
   {
    "duration": 21,
    "start_time": "2024-02-11T11:08:51.233Z"
   },
   {
    "duration": 20,
    "start_time": "2024-02-11T11:08:51.255Z"
   },
   {
    "duration": 16,
    "start_time": "2024-02-11T11:08:51.277Z"
   },
   {
    "duration": 12,
    "start_time": "2024-02-11T11:08:51.295Z"
   },
   {
    "duration": 5,
    "start_time": "2024-02-11T11:08:51.323Z"
   },
   {
    "duration": 19,
    "start_time": "2024-02-11T11:08:51.329Z"
   },
   {
    "duration": 6,
    "start_time": "2024-02-11T11:08:51.350Z"
   }
  ],
  "celltoolbar": "Отсутствует",
  "colab": {
   "collapsed_sections": [
    "E0vqbgi9ay0H",
    "VUC88oWjTJw2"
   ],
   "provenance": []
  },
  "kernelspec": {
   "display_name": "Python 3 (ipykernel)",
   "language": "python",
   "name": "python3"
  },
  "language_info": {
   "codemirror_mode": {
    "name": "ipython",
    "version": 3
   },
   "file_extension": ".py",
   "mimetype": "text/x-python",
   "name": "python",
   "nbconvert_exporter": "python",
   "pygments_lexer": "ipython3",
   "version": "3.11.5"
  },
  "toc": {
   "base_numbering": 1,
   "nav_menu": {
    "height": "215px",
    "width": "403px"
   },
   "number_sections": true,
   "sideBar": true,
   "skip_h1_title": true,
   "title_cell": "Table of Contents",
   "title_sidebar": "Contents",
   "toc_cell": false,
   "toc_position": {
    "height": "calc(100% - 180px)",
    "left": "10px",
    "top": "150px",
    "width": "285.825px"
   },
   "toc_section_display": true,
   "toc_window_display": false
  }
 },
 "nbformat": 4,
 "nbformat_minor": 1
}
